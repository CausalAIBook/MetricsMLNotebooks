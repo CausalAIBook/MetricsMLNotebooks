find . -type f -name "*.Rmd" -exec jupytext --to ipynb '{}' \;
