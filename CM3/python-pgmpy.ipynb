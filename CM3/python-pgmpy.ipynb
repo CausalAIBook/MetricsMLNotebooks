{
  "nbformat": 4,
  "nbformat_minor": 0,
  "metadata": {
    "colab": {
      "provenance": []
    },
    "kernelspec": {
      "name": "python3",
      "display_name": "Python 3"
    },
    "language_info": {
      "name": "python"
    }
  },
  "cells": [
    {
      "cell_type": "markdown",
      "source": [
        "# DAGs: D-Separation and Conditonal Independencies, Adjustment via Backdoor and Swigs, Equivalence Classes, Falsifiability Tests.\n"
      ],
      "metadata": {
        "id": "Z5HNN6aB4DKS"
      }
    },
    {
      "cell_type": "code",
      "execution_count": null,
      "metadata": {
        "id": "BGpBoIOplvuj"
      },
      "outputs": [],
      "source": [
        "!pip install pgmpy"
      ]
    },
    {
      "cell_type": "code",
      "source": [
        "import warnings\n",
        "warnings.simplefilter('ignore')"
      ],
      "metadata": {
        "id": "WzEAUJ-N3zTR"
      },
      "execution_count": null,
      "outputs": []
    },
    {
      "cell_type": "markdown",
      "source": [
        "# Graph Generation and Plotting\n",
        "\n",
        "The following DAG is due to Judea Pearl"
      ],
      "metadata": {
        "id": "FkByBeke4Gli"
      }
    },
    {
      "cell_type": "code",
      "source": [
        "import networkx as nx\n",
        "\n",
        "digraph = nx.DiGraph([('Z1','X1'),\n",
        "                    ('X1','D'),\n",
        "                    ('Z1','X2'),\n",
        "                    ('Z2','X3'),\n",
        "                    ('X3','Y'),\n",
        "                    ('Z2','X2'),\n",
        "                    ('X2', 'Y'),\n",
        "                    ('X2', 'D'),\n",
        "                    ('M', 'Y'),\n",
        "                    ('D', 'M')])"
      ],
      "metadata": {
        "id": "pEuMutfK02cN"
      },
      "execution_count": null,
      "outputs": []
    },
    {
      "cell_type": "code",
      "source": [
        "from pgmpy.base.DAG import DAG\n",
        "\n",
        "G = DAG(digraph)"
      ],
      "metadata": {
        "id": "DkCqH_N0pXH5"
      },
      "execution_count": null,
      "outputs": []
    },
    {
      "cell_type": "code",
      "source": [
        "import pylab as plt\n",
        "\n",
        "nx.draw_planar(G, with_labels=True)\n",
        "plt.show()"
      ],
      "metadata": {
        "id": "Yc5wOsquyqCt"
      },
      "execution_count": null,
      "outputs": []
    },
    {
      "cell_type": "code",
      "source": [
        "print(list(G.predecessors(\"X2\")))\n",
        "print(list(G.successors(\"X2\")))\n",
        "print(list(nx.ancestors(G, \"X2\")))\n",
        "print(list(nx.descendants(G, \"X2\")))"
      ],
      "metadata": {
        "id": "VXrVwLlp2B8x"
      },
      "execution_count": null,
      "outputs": []
    },
    {
      "cell_type": "markdown",
      "source": [
        "# Find Paths Between D and Y\n",
        "\n",
        "\n"
      ],
      "metadata": {
        "id": "OT0PUzu31uwc"
      }
    },
    {
      "cell_type": "code",
      "source": [
        "list(nx.all_simple_paths(G.to_undirected(), \"D\", \"Y\"))"
      ],
      "metadata": {
        "id": "21feRbRtQj-3"
      },
      "execution_count": null,
      "outputs": []
    },
    {
      "cell_type": "markdown",
      "source": [
        "# List All Testable Implications of the Model\n",
        "\n",
        "Here we use D-separation to list all the conditional independence relations deduced from the DAG."
      ],
      "metadata": {
        "id": "RuRQKNRX1zod"
      }
    },
    {
      "cell_type": "code",
      "source": [
        "# these returns all conditional independencies even among two sets of variables\n",
        "# conditional on a third set\n",
        "dseps = G.get_independencies()"
      ],
      "metadata": {
        "id": "pKtc2-Z411uB"
      },
      "execution_count": null,
      "outputs": []
    },
    {
      "cell_type": "code",
      "source": [
        "# we display only the ones that correpond to pairs of singletons\n",
        "for dsep in dseps.get_assertions():\n",
        "    if len(dsep.get_assertion()[1])==1:\n",
        "        print(dsep)"
      ],
      "metadata": {
        "id": "W6npM1sB13yU"
      },
      "execution_count": null,
      "outputs": []
    },
    {
      "cell_type": "markdown",
      "source": [
        "# Backdoor and frontdoor adjustments between D and Y"
      ],
      "metadata": {
        "id": "1kdiPPXSGI3C"
      }
    },
    {
      "cell_type": "code",
      "source": [
        "from pgmpy.models.BayesianModel import BayesianNetwork\n",
        "from pgmpy.inference.CausalInference import CausalInference\n",
        "\n",
        "inference = CausalInference(BayesianNetwork(G))"
      ],
      "metadata": {
        "id": "qH4IZynbBrLP"
      },
      "execution_count": null,
      "outputs": []
    },
    {
      "cell_type": "code",
      "source": [
        "inference.get_all_backdoor_adjustment_sets('D', 'Y')"
      ],
      "metadata": {
        "id": "eZwZnnUHF7__"
      },
      "execution_count": null,
      "outputs": []
    },
    {
      "cell_type": "code",
      "source": [
        "inference.get_all_frontdoor_adjustment_sets('D', 'Y')"
      ],
      "metadata": {
        "id": "tIwu7UapGUSD"
      },
      "execution_count": null,
      "outputs": []
    },
    {
      "cell_type": "code",
      "source": [
        "inference.get_minimal_adjustment_set('D', 'Y')"
      ],
      "metadata": {
        "id": "nf-Gu_7wGaME"
      },
      "execution_count": null,
      "outputs": []
    },
    {
      "cell_type": "code",
      "source": [
        "inference.is_valid_backdoor_adjustment_set('D', 'Y', 'X2')"
      ],
      "metadata": {
        "id": "D0lSm4M0Gg6d"
      },
      "execution_count": null,
      "outputs": []
    },
    {
      "cell_type": "markdown",
      "source": [
        "# Testing DAG Validity by Checking Implied Conditional Independencies with DoWhy-GCM\n",
        "\n",
        "We found all the implied conditional independence relations above. Can we test them?  The answer is yes, and is particularly simple if the DAG is associated with a linear SEM.\n",
        "\n",
        "To illustrate, we simulate the data from a Linear SEM associated to DAG G, and perform a test of conditional independence restrictions, using a kernel based test."
      ],
      "metadata": {
        "id": "vpMg1hkF2Fee"
      }
    },
    {
      "cell_type": "code",
      "source": [
        "!apt install libgraphviz-dev\n",
        "!pip install pygraphviz\n",
        "!pip install dowhy"
      ],
      "metadata": {
        "id": "ukPS9xRXG2ZN"
      },
      "execution_count": null,
      "outputs": []
    },
    {
      "cell_type": "code",
      "source": [
        "# generate data from the SCM\n",
        "import numpy as np\n",
        "import pandas as pd\n",
        "\n",
        "def gen_data(n):\n",
        "    Z1 = np.random.normal(0, 1, size=n)\n",
        "    Z2 = np.random.normal(0, 1, size=n)\n",
        "    X1 = Z1 + np.random.normal(0, 1, size=n)\n",
        "    X2 = Z1 + Z2 + np.random.normal(0, 1, size=n)\n",
        "    X3 = Z2 + np.random.normal(0, 1, size=n)\n",
        "    D = X1 + X2 + np.random.normal(0, 1, size=n)\n",
        "    M = D + np.random.normal(0, 1, size=n)\n",
        "    Y = M + X2 + X3 + np.random.normal(0, 1, size=n)\n",
        "    return pd.DataFrame({'Z1': Z1, 'Z2': Z2, 'X1': X1, 'X2': X2, 'X3': X3, 'D': D, 'M': M, 'Y': Y})"
      ],
      "metadata": {
        "id": "WoxEhW_8iKVQ"
      },
      "execution_count": null,
      "outputs": []
    },
    {
      "cell_type": "code",
      "source": [
        "data = gen_data(5000)"
      ],
      "metadata": {
        "id": "AcQcetSJnJIE"
      },
      "execution_count": null,
      "outputs": []
    },
    {
      "cell_type": "code",
      "source": [
        "import dowhy.gcm as gcm\n",
        "from dowhy.gcm.independence_test import kernel_based, regression_based\n",
        "\n",
        "causal_model = gcm.StructuralCausalModel(digraph)\n",
        "rej = gcm.refute_causal_structure(causal_model.graph, data, conditional_independence_test=kernel_based)"
      ],
      "metadata": {
        "id": "y6pK_7AFng0u"
      },
      "execution_count": null,
      "outputs": []
    },
    {
      "cell_type": "markdown",
      "source": [
        "The rejection result contains two types of tests:\n",
        "- local markov tests: that test whether any node is independent of its non-descendants conditional on its parents (these also imply global markov conditions)\n",
        "- edge dependence tests: these test that the edges that were included in the graph carry sufficient amount of correlation.\n",
        "\n",
        "In our case, we will only be focusing on the local markov tests. We will reject the graph if any of the local markov tests fails, but we will ignore the other tests."
      ],
      "metadata": {
        "id": "9wnneuDwHLCF"
      }
    },
    {
      "cell_type": "code",
      "source": [
        "rej"
      ],
      "metadata": {
        "id": "Tf581RGReSHM"
      },
      "execution_count": null,
      "outputs": []
    },
    {
      "cell_type": "markdown",
      "source": [
        "Next we replace $D$ by $\\bar D$ generated differently:\n",
        "$$\n",
        "\\bar D= (D + Y)/2\n",
        "$$\n",
        "Basically $\\bar D$ is an average of $D$ and $Y$ generated by $D$.  We then test if the resulting collection of random variables satisifes conditional indepdendence restrictions, exploiting linearity.  We end up rejecting these restrictions and therefore the validity of this model for the data generated in this way.  This makes sense, because the new data no longer obeys the previous DAG structure.\n",
        "\n"
      ],
      "metadata": {
        "id": "7Ynmp1uW3nw1"
      }
    },
    {
      "cell_type": "code",
      "source": [
        "data['D'] = (data['D'] + data['Y'])/2"
      ],
      "metadata": {
        "id": "dHXvxWJyq52H"
      },
      "execution_count": null,
      "outputs": []
    },
    {
      "cell_type": "code",
      "source": [
        "rej = gcm.refute_causal_structure(causal_model.graph, data, conditional_independence_test=kernel_based)"
      ],
      "metadata": {
        "id": "RFLYfcHQ3vWH"
      },
      "execution_count": null,
      "outputs": []
    },
    {
      "cell_type": "code",
      "source": [
        "rej"
      ],
      "metadata": {
        "id": "5qv6du3t3vyX"
      },
      "execution_count": null,
      "outputs": []
    },
    {
      "cell_type": "markdown",
      "source": [
        "# Identification with Front-Door and DoWhy"
      ],
      "metadata": {
        "id": "1VEi5vhKk3aM"
      }
    },
    {
      "cell_type": "code",
      "source": [
        "data = gen_data(5000)"
      ],
      "metadata": {
        "id": "1I78DtXJP-2z"
      },
      "execution_count": null,
      "outputs": []
    },
    {
      "cell_type": "code",
      "source": [
        "import dowhy\n",
        "\n",
        "causal_graph = \"\"\"digraph {\n",
        "Z1; Z2; X1; X2; X3; D; M; Y;\n",
        "Z1 -> X1;\n",
        "X1 -> D;\n",
        "Z1 -> X2;\n",
        "Z2 -> X3;\n",
        "X3 -> Y;\n",
        "Z2 -> X2;\n",
        "X2 -> Y;\n",
        "X2 -> D;\n",
        "M -> Y;\n",
        "D -> M;\n",
        "}\"\"\""
      ],
      "metadata": {
        "id": "sQeyB38w3xgS"
      },
      "execution_count": null,
      "outputs": []
    },
    {
      "cell_type": "code",
      "source": [
        "cm = dowhy.CausalModel(data = data,\n",
        "        treatment='D',\n",
        "        outcome='Y',\n",
        "        graph=causal_graph)"
      ],
      "metadata": {
        "id": "hxdpclFAkybR"
      },
      "execution_count": null,
      "outputs": []
    },
    {
      "cell_type": "code",
      "source": [
        "from PIL import Image\n",
        "\n",
        "cm.view_model(file_name='dag')\n",
        "Image.open('dag.png')"
      ],
      "metadata": {
        "id": "yAAzz51slT-z"
      },
      "execution_count": null,
      "outputs": []
    },
    {
      "cell_type": "code",
      "source": [
        "# method seems not to be doing false discovery rate (multiple testing/joint inference) control\n",
        "# some tests might fail because of that when k is large (k=size of conditioning set)\n",
        "print(cm.refute_graph(k=2))"
      ],
      "metadata": {
        "id": "Kb0tdv2JPWBW"
      },
      "execution_count": null,
      "outputs": []
    },
    {
      "cell_type": "code",
      "source": [
        "identified_estimand = cm.identify_effect(proceed_when_unidentifiable=True)\n",
        "print(identified_estimand)"
      ],
      "metadata": {
        "id": "6Ytk5z5KlVB5"
      },
      "execution_count": null,
      "outputs": []
    },
    {
      "cell_type": "code",
      "source": [
        "estimate = cm.estimate_effect(identified_estimand, method_name='frontdoor.two_stage_regression')"
      ],
      "metadata": {
        "id": "rZJIMkgrsd1A"
      },
      "execution_count": null,
      "outputs": []
    },
    {
      "cell_type": "code",
      "source": [
        "print(estimate)"
      ],
      "metadata": {
        "id": "MdpARgZSs5Ms"
      },
      "execution_count": null,
      "outputs": []
    },
    {
      "cell_type": "code",
      "source": [],
      "metadata": {
        "id": "NgGRQ5cas94t"
      },
      "execution_count": null,
      "outputs": []
    }
  ]
}