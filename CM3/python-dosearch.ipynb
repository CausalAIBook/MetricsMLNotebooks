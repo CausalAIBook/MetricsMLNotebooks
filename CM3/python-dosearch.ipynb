{
  "cells": [
    {
      "cell_type": "markdown",
      "metadata": {
        "papermill": {
          "duration": 0.012399,
          "end_time": "2021-04-05T17:55:52.635137",
          "exception": false,
          "start_time": "2021-04-05T17:55:52.622738",
          "status": "completed"
        },
        "tags": [],
        "id": "lnXme3b4ks6v"
      },
      "source": [
        "# Dosearch for Causal Identification in DAGs.\n",
        "\n",
        "\n",
        "This a simple notebook for teaching that illustrates capabilites of the \"dosearch\" package, which is a great tool.\n",
        "\n",
        "NB. In my experience, the commands are sensitive to syntax ( e.g. spacing when -> are used), so be careful when changing to other examples."
      ]
    },
    {
      "cell_type": "code",
      "execution_count": 1,
      "metadata": {
        "id": "vYsOte6Aks6z",
        "outputId": "fe46224e-cf6c-45e2-f2d4-592fd6a0d99a",
        "colab": {
          "base_uri": "https://localhost:8080/"
        }
      },
      "outputs": [
        {
          "output_type": "stream",
          "name": "stdout",
          "text": [
            "Requirement already satisfied: rpy2 in /usr/local/lib/python3.10/dist-packages (3.4.2)\n",
            "Requirement already satisfied: cffi>=1.10.0 in /usr/local/lib/python3.10/dist-packages (from rpy2) (1.16.0)\n",
            "Requirement already satisfied: jinja2 in /usr/local/lib/python3.10/dist-packages (from rpy2) (3.1.3)\n",
            "Requirement already satisfied: pytz in /usr/local/lib/python3.10/dist-packages (from rpy2) (2023.4)\n",
            "Requirement already satisfied: tzlocal in /usr/local/lib/python3.10/dist-packages (from rpy2) (5.2)\n",
            "Requirement already satisfied: pycparser in /usr/local/lib/python3.10/dist-packages (from cffi>=1.10.0->rpy2) (2.21)\n",
            "Requirement already satisfied: MarkupSafe>=2.0 in /usr/local/lib/python3.10/dist-packages (from jinja2->rpy2) (2.1.5)\n"
          ]
        }
      ],
      "source": [
        "%pip install rpy2\n",
        "%load_ext rpy2.ipython\n",
        "# import subprocess\n",
        "# subprocess.run('conda install -c conda-forge r-base', shell=True)\n",
        "# !pip install rpy2\n",
        "import numpy as np\n",
        "import statsmodels.formula.api as smf\n",
        "import rpy2\n",
        "from rpy2.robjects import r, pandas2ri\n",
        "pandas2ri.activate()"
      ]
    },
    {
      "cell_type": "code",
      "execution_count": 2,
      "metadata": {
        "_cell_guid": "b1076dfc-b9ad-4769-8c92-a6c4dae69d19",
        "_uuid": "8f2839f25d086af736a60e9eeb907d3b93b6e0e5",
        "papermill": {
          "duration": 61.517411,
          "end_time": "2021-04-05T17:56:54.163802",
          "exception": false,
          "start_time": "2021-04-05T17:55:52.646391",
          "status": "completed"
        },
        "tags": [],
        "id": "8QMOJZrpks62",
        "outputId": "65cdb82c-1a42-4261-b29c-42abf5c1f4b5",
        "colab": {
          "base_uri": "https://localhost:8080/"
        }
      },
      "outputs": [
        {
          "output_type": "stream",
          "name": "stderr",
          "text": [
            "WARNING:rpy2.rinterface_lib.callbacks:R[write to console]: Installing package into ‘/usr/local/lib/R/site-library’\n",
            "(as ‘lib’ is unspecified)\n",
            "\n",
            "WARNING:rpy2.rinterface_lib.callbacks:R[write to console]: also installing the dependency ‘Rcpp’\n",
            "\n",
            "\n",
            "WARNING:rpy2.rinterface_lib.callbacks:R[write to console]: trying URL 'https://cran.rstudio.com/src/contrib/Rcpp_1.0.12.tar.gz'\n",
            "\n",
            "WARNING:rpy2.rinterface_lib.callbacks:R[write to console]: Content type 'application/x-gzip'\n",
            "WARNING:rpy2.rinterface_lib.callbacks:R[write to console]:  length 3430494 bytes (3.3 MB)\n",
            "\n",
            "WARNING:rpy2.rinterface_lib.callbacks:R[write to console]: =\n",
            "WARNING:rpy2.rinterface_lib.callbacks:R[write to console]: =\n",
            "WARNING:rpy2.rinterface_lib.callbacks:R[write to console]: =\n",
            "WARNING:rpy2.rinterface_lib.callbacks:R[write to console]: =\n",
            "WARNING:rpy2.rinterface_lib.callbacks:R[write to console]: =\n",
            "WARNING:rpy2.rinterface_lib.callbacks:R[write to console]: =\n",
            "WARNING:rpy2.rinterface_lib.callbacks:R[write to console]: =\n",
            "WARNING:rpy2.rinterface_lib.callbacks:R[write to console]: =\n",
            "WARNING:rpy2.rinterface_lib.callbacks:R[write to console]: =\n",
            "WARNING:rpy2.rinterface_lib.callbacks:R[write to console]: =\n",
            "WARNING:rpy2.rinterface_lib.callbacks:R[write to console]: =\n",
            "WARNING:rpy2.rinterface_lib.callbacks:R[write to console]: =\n",
            "WARNING:rpy2.rinterface_lib.callbacks:R[write to console]: =\n",
            "WARNING:rpy2.rinterface_lib.callbacks:R[write to console]: =\n",
            "WARNING:rpy2.rinterface_lib.callbacks:R[write to console]: =\n",
            "WARNING:rpy2.rinterface_lib.callbacks:R[write to console]: =\n",
            "WARNING:rpy2.rinterface_lib.callbacks:R[write to console]: =\n",
            "WARNING:rpy2.rinterface_lib.callbacks:R[write to console]: =\n",
            "WARNING:rpy2.rinterface_lib.callbacks:R[write to console]: =\n",
            "WARNING:rpy2.rinterface_lib.callbacks:R[write to console]: =\n",
            "WARNING:rpy2.rinterface_lib.callbacks:R[write to console]: =\n",
            "WARNING:rpy2.rinterface_lib.callbacks:R[write to console]: =\n",
            "WARNING:rpy2.rinterface_lib.callbacks:R[write to console]: =\n",
            "WARNING:rpy2.rinterface_lib.callbacks:R[write to console]: =\n",
            "WARNING:rpy2.rinterface_lib.callbacks:R[write to console]: =\n",
            "WARNING:rpy2.rinterface_lib.callbacks:R[write to console]: =\n",
            "WARNING:rpy2.rinterface_lib.callbacks:R[write to console]: =\n",
            "WARNING:rpy2.rinterface_lib.callbacks:R[write to console]: =\n",
            "WARNING:rpy2.rinterface_lib.callbacks:R[write to console]: =\n",
            "WARNING:rpy2.rinterface_lib.callbacks:R[write to console]: =\n",
            "WARNING:rpy2.rinterface_lib.callbacks:R[write to console]: =\n",
            "WARNING:rpy2.rinterface_lib.callbacks:R[write to console]: =\n",
            "WARNING:rpy2.rinterface_lib.callbacks:R[write to console]: =\n",
            "WARNING:rpy2.rinterface_lib.callbacks:R[write to console]: =\n",
            "WARNING:rpy2.rinterface_lib.callbacks:R[write to console]: =\n",
            "WARNING:rpy2.rinterface_lib.callbacks:R[write to console]: =\n",
            "WARNING:rpy2.rinterface_lib.callbacks:R[write to console]: =\n",
            "WARNING:rpy2.rinterface_lib.callbacks:R[write to console]: =\n",
            "WARNING:rpy2.rinterface_lib.callbacks:R[write to console]: =\n",
            "WARNING:rpy2.rinterface_lib.callbacks:R[write to console]: =\n",
            "WARNING:rpy2.rinterface_lib.callbacks:R[write to console]: =\n",
            "WARNING:rpy2.rinterface_lib.callbacks:R[write to console]: =\n",
            "WARNING:rpy2.rinterface_lib.callbacks:R[write to console]: =\n",
            "WARNING:rpy2.rinterface_lib.callbacks:R[write to console]: =\n",
            "WARNING:rpy2.rinterface_lib.callbacks:R[write to console]: =\n",
            "WARNING:rpy2.rinterface_lib.callbacks:R[write to console]: =\n",
            "WARNING:rpy2.rinterface_lib.callbacks:R[write to console]: =\n",
            "WARNING:rpy2.rinterface_lib.callbacks:R[write to console]: =\n",
            "WARNING:rpy2.rinterface_lib.callbacks:R[write to console]: =\n",
            "WARNING:rpy2.rinterface_lib.callbacks:R[write to console]: =\n",
            "WARNING:rpy2.rinterface_lib.callbacks:R[write to console]: \n",
            "\n",
            "WARNING:rpy2.rinterface_lib.callbacks:R[write to console]: downloaded 3.3 MB\n",
            "\n",
            "\n",
            "WARNING:rpy2.rinterface_lib.callbacks:R[write to console]: trying URL 'https://cran.rstudio.com/src/contrib/dosearch_1.0.8.tar.gz'\n",
            "\n",
            "WARNING:rpy2.rinterface_lib.callbacks:R[write to console]: Content type 'application/x-gzip'\n",
            "WARNING:rpy2.rinterface_lib.callbacks:R[write to console]:  length 70393 bytes (68 KB)\n",
            "\n",
            "WARNING:rpy2.rinterface_lib.callbacks:R[write to console]: =\n",
            "WARNING:rpy2.rinterface_lib.callbacks:R[write to console]: =\n",
            "WARNING:rpy2.rinterface_lib.callbacks:R[write to console]: =\n",
            "WARNING:rpy2.rinterface_lib.callbacks:R[write to console]: =\n",
            "WARNING:rpy2.rinterface_lib.callbacks:R[write to console]: =\n",
            "WARNING:rpy2.rinterface_lib.callbacks:R[write to console]: =\n",
            "WARNING:rpy2.rinterface_lib.callbacks:R[write to console]: =\n",
            "WARNING:rpy2.rinterface_lib.callbacks:R[write to console]: =\n",
            "WARNING:rpy2.rinterface_lib.callbacks:R[write to console]: =\n",
            "WARNING:rpy2.rinterface_lib.callbacks:R[write to console]: =\n",
            "WARNING:rpy2.rinterface_lib.callbacks:R[write to console]: =\n",
            "WARNING:rpy2.rinterface_lib.callbacks:R[write to console]: =\n",
            "WARNING:rpy2.rinterface_lib.callbacks:R[write to console]: =\n",
            "WARNING:rpy2.rinterface_lib.callbacks:R[write to console]: =\n",
            "WARNING:rpy2.rinterface_lib.callbacks:R[write to console]: =\n",
            "WARNING:rpy2.rinterface_lib.callbacks:R[write to console]: =\n",
            "WARNING:rpy2.rinterface_lib.callbacks:R[write to console]: =\n",
            "WARNING:rpy2.rinterface_lib.callbacks:R[write to console]: =\n",
            "WARNING:rpy2.rinterface_lib.callbacks:R[write to console]: =\n",
            "WARNING:rpy2.rinterface_lib.callbacks:R[write to console]: =\n",
            "WARNING:rpy2.rinterface_lib.callbacks:R[write to console]: =\n",
            "WARNING:rpy2.rinterface_lib.callbacks:R[write to console]: =\n",
            "WARNING:rpy2.rinterface_lib.callbacks:R[write to console]: =\n",
            "WARNING:rpy2.rinterface_lib.callbacks:R[write to console]: =\n",
            "WARNING:rpy2.rinterface_lib.callbacks:R[write to console]: =\n",
            "WARNING:rpy2.rinterface_lib.callbacks:R[write to console]: =\n",
            "WARNING:rpy2.rinterface_lib.callbacks:R[write to console]: =\n",
            "WARNING:rpy2.rinterface_lib.callbacks:R[write to console]: =\n",
            "WARNING:rpy2.rinterface_lib.callbacks:R[write to console]: =\n",
            "WARNING:rpy2.rinterface_lib.callbacks:R[write to console]: =\n",
            "WARNING:rpy2.rinterface_lib.callbacks:R[write to console]: =\n",
            "WARNING:rpy2.rinterface_lib.callbacks:R[write to console]: =\n",
            "WARNING:rpy2.rinterface_lib.callbacks:R[write to console]: =\n",
            "WARNING:rpy2.rinterface_lib.callbacks:R[write to console]: =\n",
            "WARNING:rpy2.rinterface_lib.callbacks:R[write to console]: =\n",
            "WARNING:rpy2.rinterface_lib.callbacks:R[write to console]: =\n",
            "WARNING:rpy2.rinterface_lib.callbacks:R[write to console]: =\n",
            "WARNING:rpy2.rinterface_lib.callbacks:R[write to console]: =\n",
            "WARNING:rpy2.rinterface_lib.callbacks:R[write to console]: =\n",
            "WARNING:rpy2.rinterface_lib.callbacks:R[write to console]: =\n",
            "WARNING:rpy2.rinterface_lib.callbacks:R[write to console]: =\n",
            "WARNING:rpy2.rinterface_lib.callbacks:R[write to console]: =\n",
            "WARNING:rpy2.rinterface_lib.callbacks:R[write to console]: =\n",
            "WARNING:rpy2.rinterface_lib.callbacks:R[write to console]: =\n",
            "WARNING:rpy2.rinterface_lib.callbacks:R[write to console]: =\n",
            "WARNING:rpy2.rinterface_lib.callbacks:R[write to console]: =\n",
            "WARNING:rpy2.rinterface_lib.callbacks:R[write to console]: =\n",
            "WARNING:rpy2.rinterface_lib.callbacks:R[write to console]: =\n",
            "WARNING:rpy2.rinterface_lib.callbacks:R[write to console]: =\n",
            "WARNING:rpy2.rinterface_lib.callbacks:R[write to console]: =\n",
            "WARNING:rpy2.rinterface_lib.callbacks:R[write to console]: \n",
            "\n",
            "WARNING:rpy2.rinterface_lib.callbacks:R[write to console]: downloaded 68 KB\n",
            "\n",
            "\n",
            "WARNING:rpy2.rinterface_lib.callbacks:R[write to console]: \n",
            "\n",
            "WARNING:rpy2.rinterface_lib.callbacks:R[write to console]: \n",
            "WARNING:rpy2.rinterface_lib.callbacks:R[write to console]: The downloaded source packages are in\n",
            "\t‘/tmp/RtmpAvAXOJ/downloaded_packages’\n",
            "WARNING:rpy2.rinterface_lib.callbacks:R[write to console]: \n",
            "WARNING:rpy2.rinterface_lib.callbacks:R[write to console]: \n",
            "\n"
          ]
        }
      ],
      "source": [
        "%%R\n",
        "install.packages(\"dosearch\")\n",
        "library(\"dosearch\")"
      ]
    },
    {
      "cell_type": "markdown",
      "metadata": {
        "papermill": {
          "duration": 0.012155,
          "end_time": "2021-04-05T17:56:54.189437",
          "exception": false,
          "start_time": "2021-04-05T17:56:54.177282",
          "status": "completed"
        },
        "tags": [],
        "id": "XSX2CIz-ks62"
      },
      "source": [
        "We start with the simplest graph, with the simplest example\n",
        "where $D$ is policy, $Y$ is outcomes, $X$ is a confounder:\n",
        "$$\n",
        "D\\to Y, \\quad X \\to (D,Y)\n",
        "$$\n"
      ]
    },
    {
      "cell_type": "markdown",
      "metadata": {
        "papermill": {
          "duration": 0.013694,
          "end_time": "2021-04-05T17:56:54.215310",
          "exception": false,
          "start_time": "2021-04-05T17:56:54.201616",
          "status": "completed"
        },
        "tags": [],
        "id": "6bzYI4kAks63"
      },
      "source": [
        "Now suppose we want conditional average policy effect."
      ]
    },
    {
      "cell_type": "code",
      "execution_count": 3,
      "metadata": {
        "papermill": {
          "duration": 0.202016,
          "end_time": "2021-04-05T17:56:54.429124",
          "exception": false,
          "start_time": "2021-04-05T17:56:54.227108",
          "status": "completed"
        },
        "tags": [],
        "id": "cWDRUdSSks63",
        "outputId": "18c017c5-9c0f-4cf1-b900-95dd444a2d60",
        "colab": {
          "base_uri": "https://localhost:8080/"
        }
      },
      "outputs": [
        {
          "output_type": "stream",
          "name": "stdout",
          "text": [
            "p(y|d,x) \n"
          ]
        }
      ],
      "source": [
        "%%R\n",
        "graph <- \"x -> y\n",
        "  x -> d\n",
        "  d -> y\"\n",
        "dosearch(\"p(y,d,x)\", \"p(y | do(d),x)\", graph)"
      ]
    },
    {
      "cell_type": "markdown",
      "metadata": {
        "papermill": {
          "duration": 0.012715,
          "end_time": "2021-04-05T17:56:54.454351",
          "exception": false,
          "start_time": "2021-04-05T17:56:54.441636",
          "status": "completed"
        },
        "tags": [],
        "id": "hgBVCQ1lks63"
      },
      "source": [
        "This recovers the correct identification formula for law of the counterfactual $Y(d)$ induced by $do(D=d)$:\n",
        "$$\n",
        "p_{Y(d)|X}(y|x) := p(y|do(d),x) = p(y|d,x).\n",
        "$$"
      ]
    },
    {
      "cell_type": "code",
      "execution_count": 4,
      "metadata": {
        "papermill": {
          "duration": 0.043133,
          "end_time": "2021-04-05T17:56:54.510274",
          "exception": false,
          "start_time": "2021-04-05T17:56:54.467141",
          "status": "completed"
        },
        "tags": [],
        "id": "c1vRLjKYks63",
        "outputId": "ac3f4bb5-79a2-4f35-9e01-980db04863bc",
        "colab": {
          "base_uri": "https://localhost:8080/"
        }
      },
      "outputs": [
        {
          "output_type": "stream",
          "name": "stdout",
          "text": [
            "\\sum_{x}\\left(p(x)p(y|d,x)\\right) \n"
          ]
        }
      ],
      "source": [
        "%%R\n",
        "dosearch(\"p(y,d,x)\", \"p(y | do(d))\", graph)"
      ]
    },
    {
      "cell_type": "markdown",
      "metadata": {
        "papermill": {
          "duration": 0.01273,
          "end_time": "2021-04-05T17:56:54.535701",
          "exception": false,
          "start_time": "2021-04-05T17:56:54.522971",
          "status": "completed"
        },
        "tags": [],
        "id": "zgUxN4drks64"
      },
      "source": [
        "This recovers the correct identification formula:\n",
        "$$\n",
        "p_{Y(d)}(y) := p(y: do(d)) = \\sum_{x}\\left(p(x)p(y|d,x)\\right)\n",
        "$$\n",
        "We integrate out $x$ in the previous formula.\n"
      ]
    },
    {
      "cell_type": "markdown",
      "metadata": {
        "papermill": {
          "duration": 0.013627,
          "end_time": "2021-04-05T17:56:54.562271",
          "exception": false,
          "start_time": "2021-04-05T17:56:54.548644",
          "status": "completed"
        },
        "tags": [],
        "id": "OQV-FVU7ks64"
      },
      "source": [
        "Suppose we don't observe the confounder. The effect is generally not identified.\n"
      ]
    },
    {
      "cell_type": "code",
      "execution_count": 5,
      "metadata": {
        "papermill": {
          "duration": 0.046266,
          "end_time": "2021-04-05T17:56:54.621562",
          "exception": false,
          "start_time": "2021-04-05T17:56:54.575296",
          "status": "completed"
        },
        "tags": [],
        "id": "tnZRBXegks64",
        "outputId": "5715de4c-c0c2-490b-e195-10396c89eeb4",
        "colab": {
          "base_uri": "https://localhost:8080/"
        }
      },
      "outputs": [
        {
          "output_type": "stream",
          "name": "stdout",
          "text": [
            "The query p(y | do(d)) is non-identifiable. \n"
          ]
        }
      ],
      "source": [
        "%%R\n",
        "data <- \"p(y,d)\"\n",
        "query <- \"p(y | do(d))\"\n",
        "graph <- \"x -> y\n",
        "  x -> d\n",
        "  d -> y\"\n",
        "dosearch(data, query, graph)"
      ]
    },
    {
      "cell_type": "markdown",
      "metadata": {
        "papermill": {
          "duration": 0.013931,
          "end_time": "2021-04-05T17:56:54.649609",
          "exception": false,
          "start_time": "2021-04-05T17:56:54.635678",
          "status": "completed"
        },
        "tags": [],
        "id": "9wWIX032ks65"
      },
      "source": [
        "The next graph is an example of J. Pearl (different notation), where the graph is considerably more complicated. See Pearl's Example in the text - e.g. Figure 7.14. We are interested in $D \\to Y$.\n",
        "\n",
        "Here we try conditioning on $X_2$. This would block one backdoor path from $D$ to $Y$, but would open another path on which $X_2$ is a collider, so this shouldn't work. The application below gave a correct answer (after I put the spacings carefully).\n"
      ]
    },
    {
      "cell_type": "code",
      "execution_count": 6,
      "metadata": {
        "papermill": {
          "duration": 0.136442,
          "end_time": "2021-04-05T17:56:54.800269",
          "exception": false,
          "start_time": "2021-04-05T17:56:54.663827",
          "status": "completed"
        },
        "tags": [],
        "id": "Cs2Y8jtdks65",
        "outputId": "96126887-4eef-47e5-ed1d-aa8e3bf04166",
        "colab": {
          "base_uri": "https://localhost:8080/"
        }
      },
      "outputs": [
        {
          "output_type": "stream",
          "name": "stdout",
          "text": [
            "The query p(y|do(d)) is non-identifiable. \n"
          ]
        }
      ],
      "source": [
        "%%R\n",
        "graph<- \"z1 -> x1\n",
        "z1 -> x2\n",
        "z2 -> x2\n",
        "z2 -> x3\n",
        "x2 -> d\n",
        "x2 -> y\n",
        "x3 -> y\n",
        "x1 -> d\n",
        "d -> m\n",
        "m -> y\n",
        "\"\n",
        "dosearch(\"p(y,d,x2)\", \"p(y|do(d))\", graph) #observed only (Y, D, X_2)"
      ]
    },
    {
      "cell_type": "markdown",
      "metadata": {
        "papermill": {
          "duration": 0.013831,
          "end_time": "2021-04-05T17:56:54.828405",
          "exception": false,
          "start_time": "2021-04-05T17:56:54.814574",
          "status": "completed"
        },
        "tags": [],
        "id": "QStKCsfLks65"
      },
      "source": [
        "Intuitively, we should add more common causes. For example, adding $X_3$ and using $S = (X_2, X_3)$ should work."
      ]
    },
    {
      "cell_type": "code",
      "execution_count": 7,
      "metadata": {
        "papermill": {
          "duration": 0.239136,
          "end_time": "2021-04-05T17:56:55.081723",
          "exception": false,
          "start_time": "2021-04-05T17:56:54.842587",
          "status": "completed"
        },
        "tags": [],
        "id": "RBUM1lglks65",
        "outputId": "aae85beb-ad30-4a91-cf78-f23f9d840db9",
        "colab": {
          "base_uri": "https://localhost:8080/"
        }
      },
      "outputs": [
        {
          "output_type": "stream",
          "name": "stdout",
          "text": [
            "p(y|x2,x3,d) \n",
            "\\sum_{x2,x3}\\left(p(x2,x3)p(y|x2,x3,d)\\right) \n"
          ]
        }
      ],
      "source": [
        "%%R\n",
        "print(dosearch(\"p(y,d,x2,x3)\", \"p(y|do(d),x2, x3)\", graph)) #can ID conditional average effect?\n",
        "print(dosearch(\"p(y,d,x2,x3)\", \"p(y|do(d))\", graph)) #can ID unconditional effect?"
      ]
    },
    {
      "cell_type": "markdown",
      "metadata": {
        "papermill": {
          "duration": 0.014749,
          "end_time": "2021-04-05T17:56:55.112369",
          "exception": false,
          "start_time": "2021-04-05T17:56:55.097620",
          "status": "completed"
        },
        "tags": [],
        "id": "4hDBOrfMks65"
      },
      "source": [
        "This retrieves the correct formulas for counterfactual distributions of $Y(d)$ induced by $Do(D=d)$:\n",
        "\n",
        "The conditional distribution is identified by\n",
        "$$\n",
        "p_{Y(d) \\mid X_2, X_3}(y) := p(y |x_2, x_3: do(d)) = p(y|x_2,x_3,d).\n",
        "$$\n",
        "\n",
        "The unconditional distribution is obtained by integrating out $x_2$ and $x_3$:\n",
        "\n",
        "$$\n",
        "p_{Y(d) }(y) :=  p(y do(d)) = \\sum_{x2,x3}\\left(p(x_2,x_3)p(y|x_2,x_3,d)\\right).\n",
        "$$\n",
        "\n",
        "\n"
      ]
    },
    {
      "cell_type": "markdown",
      "metadata": {
        "papermill": {
          "duration": 0.014567,
          "end_time": "2021-04-05T17:56:55.141601",
          "exception": false,
          "start_time": "2021-04-05T17:56:55.127034",
          "status": "completed"
        },
        "tags": [],
        "id": "HwtImk2mks66"
      },
      "source": [
        "Next we suppose that we observe only $(Y,D, M)$. Can we identify the effect $D \\to Y$?  Can we use back-door-criterion twice to get $D \\to M$ and $M \\to Y$ affect? Yes, that's called front-door criterion -- so we just need to remember only the back-door and the fact that we can use it iteratively."
      ]
    },
    {
      "cell_type": "code",
      "execution_count": 8,
      "metadata": {
        "papermill": {
          "duration": 0.281619,
          "end_time": "2021-04-05T17:56:55.438852",
          "exception": false,
          "start_time": "2021-04-05T17:56:55.157233",
          "status": "completed"
        },
        "tags": [],
        "id": "NoDq-tmMks66",
        "outputId": "06118c63-004b-4aa8-e3d2-01f28255ea53",
        "colab": {
          "base_uri": "https://localhost:8080/"
        }
      },
      "outputs": [
        {
          "output_type": "stream",
          "name": "stdout",
          "text": [
            "p(m|d) \n",
            "\\sum_{d}\\left(p(d)p(y|d,m)\\right) \n",
            "\\sum_{m}\\left(p(m|d)\\sum_{d}\\left(p(d)p(y|d,m)\\right)\\right) \n"
          ]
        }
      ],
      "source": [
        "%%R\n",
        "print(dosearch(\"p(y, d, m)\" , \"p(m|do(d))\", graph))\n",
        "print(dosearch(\"p(y, d, m)\" , \"p(y|do(m))\", graph))\n",
        "print(dosearch(\"p(y, d, m)\" , \"p(y|do(d))\", graph))"
      ]
    },
    {
      "cell_type": "markdown",
      "metadata": {
        "papermill": {
          "duration": 0.016414,
          "end_time": "2021-04-05T17:56:55.472018",
          "exception": false,
          "start_time": "2021-04-05T17:56:55.455604",
          "status": "completed"
        },
        "tags": [],
        "id": "ml5ei_Ftks66"
      },
      "source": [
        "So we get identification results:\n",
        "First,\n",
        "$$\n",
        "p_{M(d)}(m)  := p(m|do(d)) = p(m|d).\n",
        "$$\n",
        "Second,\n",
        "$$\n",
        "p_{Y(m)}(y) := p(y|do(m)) = \\sum_{d}\\left(p(d)p(y|d,m)\\right),\n",
        "$$\n",
        "and the last by integrating the product of these two formulas:\n",
        "$$\n",
        "p_{Y(d)}(y) := p(y|do(d)) = \\sum_{m}\\left(p(m|d)\\sum_{d}\\left(p(d)p(y|d,m)\\right)\\right)\n",
        "$$\n"
      ]
    },
    {
      "cell_type": "markdown",
      "metadata": {
        "papermill": {
          "duration": 0.015846,
          "end_time": "2021-04-05T17:56:55.503891",
          "exception": false,
          "start_time": "2021-04-05T17:56:55.488045",
          "status": "completed"
        },
        "tags": [],
        "id": "W5woWqUfks66"
      },
      "source": [
        "The package is very rich and allows identification analysis, when the data comes from multiple sources. Suppose we observe marginal distributions $(Y,D)$  and $(D,M)$ only. Can we identify the effect of $D \\to Y$. The answer is (guess) and the package correctly recovers it."
      ]
    },
    {
      "cell_type": "code",
      "execution_count": 9,
      "metadata": {
        "papermill": {
          "duration": 0.592959,
          "end_time": "2021-04-05T17:56:56.112631",
          "exception": false,
          "start_time": "2021-04-05T17:56:55.519672",
          "status": "completed"
        },
        "tags": [],
        "id": "RtyCW6pmks66",
        "outputId": "4e8d65d6-fe87-418b-c5ac-1fba5650b4c4",
        "colab": {
          "base_uri": "https://localhost:8080/"
        }
      },
      "outputs": [
        {
          "output_type": "stream",
          "name": "stdout",
          "text": [
            "p(m|d) \n",
            "The query p(y|do(m)) is non-identifiable. \n",
            "The query p(y|do(d)) is non-identifiable. \n"
          ]
        }
      ],
      "source": [
        "%%R\n",
        "graph<- \"z1 -> x1\n",
        "z1 -> x2\n",
        "z2 -> x2\n",
        "z2 -> x3\n",
        "x2 -> d\n",
        "x2 -> y\n",
        "x3 -> y\n",
        "x1 -> d\n",
        "d -> m\n",
        "m -> y\n",
        "\"\n",
        "print(dosearch(\"p(y,m)\\np(m,d)\", \"p(m|do(d))\" , graph))\n",
        "print(dosearch(\"p(y,m)\\np(m,d)\", \"p(y|do(m))\", graph))\n",
        "print(dosearch(\"p(y,m)\\np(m,d)\", \"p(y|do(d))\", graph))"
      ]
    },
    {
      "cell_type": "code",
      "execution_count": null,
      "metadata": {
        "id": "65hu5mmBks67"
      },
      "outputs": [],
      "source": []
    }
  ],
  "metadata": {
    "kernelspec": {
      "display_name": "Python 3",
      "language": "python",
      "name": "python3"
    },
    "language_info": {
      "codemirror_mode": {
        "name": "ipython",
        "version": 3
      },
      "file_extension": ".py",
      "mimetype": "text/x-python",
      "name": "python",
      "nbconvert_exporter": "python",
      "pygments_lexer": "ipython3",
      "version": "3.8.7"
    },
    "papermill": {
      "default_parameters": {},
      "duration": 68.035072,
      "end_time": "2021-04-05T17:56:57.154022",
      "environment_variables": {},
      "exception": null,
      "input_path": "__notebook__.ipynb",
      "output_path": "__notebook__.ipynb",
      "parameters": {},
      "start_time": "2021-04-05T17:55:49.118950",
      "version": "2.2.2"
    },
    "colab": {
      "provenance": []
    }
  },
  "nbformat": 4,
  "nbformat_minor": 0
}