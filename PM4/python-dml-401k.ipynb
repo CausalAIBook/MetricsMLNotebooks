{
  "cells": [
    {
      "cell_type": "markdown",
      "metadata": {
        "id": "narrative-sailing"
      },
      "source": [
        "# Inference on Predictive and Causal Effects in High-Dimensional Nonlinear Models"
      ],
      "id": "narrative-sailing"
    },
    {
      "cell_type": "markdown",
      "metadata": {
        "id": "ready-appearance"
      },
      "source": [
        "## Impact of 401(k) on  Financial Wealth\n",
        "\n",
        "As a practical illustration of the DML method, we consider estimation of the effect of 401(k) eligibility and participation\n",
        "on accumulated assets. 401(k) plans are pension accounts sponsored by employers. The key problem in determining the effect of participation in 401(k) plans on accumulated assets is saver heterogeneity coupled with the fact that the decision to enroll in a 401(k) is non-random. It is generally recognized that some people have a higher preference for saving than others. It also seems likely that those individuals with high unobserved preference for saving would be most likely to choose to participate in tax-advantaged retirement savings plans and would tend to have otherwise high amounts of accumulated assets. The presence of unobserved savings preferences with these properties then implies that conventional estimates that do not account for saver heterogeneity and endogeneity of participation will be biased upward, tending to overstate the savings effects of 401(k) participation.\n",
        "\n",
        "One can argue that eligibility for enrolling in a 401(k) plan in this data can be taken as exogenous after conditioning on a few observables of which the most important for their argument is income. The basic idea is that, at least around the time 401(k)’s initially became available, people were unlikely to be basing their employment decisions on whether an employer offered a 401(k) but would instead focus on income and other aspects of the job."
      ],
      "id": "ready-appearance"
    },
    {
      "cell_type": "markdown",
      "metadata": {
        "id": "divine-phoenix"
      },
      "source": [
        "### Data\n",
        "\n",
        "The data set can be downloaded from the github repo\n"
      ],
      "id": "divine-phoenix"
    },
    {
      "cell_type": "code",
      "execution_count": null,
      "metadata": {
        "id": "lj0WLB1_EwxI"
      },
      "outputs": [],
      "source": [
        "!pip install wget"
      ],
      "id": "lj0WLB1_EwxI"
    },
    {
      "cell_type": "code",
      "execution_count": null,
      "metadata": {
        "id": "75662e18"
      },
      "outputs": [],
      "source": [
        "# Import relevant packages\n",
        "import pandas as pd\n",
        "import numpy as np\n",
        "import matplotlib.pyplot as plt\n",
        "from sklearn.model_selection import train_test_split\n",
        "from sklearn.model_selection import cross_val_score, cross_val_predict, KFold\n",
        "from sklearn.pipeline import make_pipeline\n",
        "from sklearn.linear_model import LassoCV, RidgeCV, ElasticNetCV, LinearRegression, Ridge, Lasso, LogisticRegressionCV\n",
        "from sklearn.preprocessing import StandardScaler\n",
        "from sklearn.ensemble import GradientBoostingRegressor, GradientBoostingClassifier\n",
        "from sklearn.ensemble import RandomForestRegressor, RandomForestClassifier\n",
        "from sklearn.tree import DecisionTreeRegressor, DecisionTreeClassifier\n",
        "import patsy\n",
        "import warnings\n",
        "from sklearn.base import BaseEstimator, clone\n",
        "import statsmodels.api as sm\n",
        "import statsmodels.formula.api as smf\n",
        "from IPython.display import Markdown\n",
        "import wget\n",
        "import os\n",
        "import seaborn as sns\n",
        "warnings.simplefilter('ignore')\n",
        "np.random.seed(1234)"
      ],
      "id": "75662e18"
    },
    {
      "cell_type": "code",
      "execution_count": null,
      "metadata": {
        "id": "6e66e77f"
      },
      "outputs": [],
      "source": [
        "file = \"https://raw.githubusercontent.com/CausalAIBook/MetricsMLNotebooks/main/data/401k.csv\"\n",
        "data = pd.read_csv(file)"
      ],
      "id": "6e66e77f"
    },
    {
      "cell_type": "code",
      "execution_count": null,
      "metadata": {
        "id": "65a2d086"
      },
      "outputs": [],
      "source": [
        "data.describe()"
      ],
      "id": "65a2d086"
    },
    {
      "cell_type": "code",
      "execution_count": null,
      "metadata": {
        "id": "00884061"
      },
      "outputs": [],
      "source": [
        "data.head()"
      ],
      "id": "00884061"
    },
    {
      "cell_type": "code",
      "execution_count": null,
      "metadata": {
        "id": "1d3dc85c"
      },
      "outputs": [],
      "source": [
        "readme = \"https://raw.githubusercontent.com/CausalAIBook/MetricsMLNotebooks/main/data/401k.md\"\n",
        "filename = wget.download(readme)\n",
        "display(Markdown(open(filename, 'r').read()))"
      ],
      "id": "1d3dc85c"
    },
    {
      "cell_type": "markdown",
      "metadata": {
        "id": "looking-invention"
      },
      "source": [
        "The data consist of 9,915 observations at the household level drawn from the 1991 Survey of Income and Program Participation (SIPP). We use net financial assets (*net\\_tfa*) as the outcome variable, $Y$,  in our analysis. The net financial assets are computed as the sum of IRA balances, 401(k) balances, checking accounts, saving bonds, other interest-earning accounts, other interest-earning assets, stocks, and mutual funds less non mortgage debts."
      ],
      "id": "looking-invention"
    },
    {
      "cell_type": "markdown",
      "metadata": {
        "id": "received-nutrition"
      },
      "source": [
        "Among the $9915$ individuals, $3682$ are eligible to participate in the program. The variable *e401* indicates eligibility and *p401* indicates participation, respectively."
      ],
      "id": "received-nutrition"
    },
    {
      "cell_type": "code",
      "source": [
        "sns.countplot(data, x='e401')\n",
        "plt.show()"
      ],
      "metadata": {
        "id": "MaLLqrNdcK09"
      },
      "id": "MaLLqrNdcK09",
      "execution_count": null,
      "outputs": []
    },
    {
      "cell_type": "markdown",
      "metadata": {
        "id": "material-sending"
      },
      "source": [
        "Eligibility is highly associated with financial wealth:"
      ],
      "id": "material-sending"
    },
    {
      "cell_type": "code",
      "execution_count": null,
      "metadata": {
        "id": "a7741bb6"
      },
      "outputs": [],
      "source": [
        "sns.displot(data=data, x='net_tfa', kind='kde', col='e401', hue='e401', fill=True)\n",
        "plt.show()"
      ],
      "id": "a7741bb6"
    },
    {
      "cell_type": "markdown",
      "metadata": {
        "id": "awful-antigua"
      },
      "source": [
        "The unconditional APE of e401 is about $19559$:"
      ],
      "id": "awful-antigua"
    },
    {
      "cell_type": "code",
      "execution_count": null,
      "metadata": {
        "id": "ef070d79"
      },
      "outputs": [],
      "source": [
        "e1 = data[data['e401'] == 1]['net_tfa']\n",
        "e0 = data[data['e401'] == 0]['net_tfa']\n",
        "print(f'{np.mean(e1) - np.mean(e0):.0f}')"
      ],
      "id": "ef070d79"
    },
    {
      "cell_type": "markdown",
      "metadata": {
        "id": "cross-priority"
      },
      "source": [
        "Among the $3682$ individuals that  are eligible, $2594$ decided to participate in the program. The unconditional APE of p401 is about $27372$:"
      ],
      "id": "cross-priority"
    },
    {
      "cell_type": "code",
      "execution_count": null,
      "metadata": {
        "id": "33cd014e"
      },
      "outputs": [],
      "source": [
        "e1 = data[data['p401'] == 1]['net_tfa']\n",
        "e0 = data[data['p401'] == 0]['net_tfa']\n",
        "print(f'{np.mean(e1) - np.mean(e0):.0f}')"
      ],
      "id": "33cd014e"
    },
    {
      "cell_type": "markdown",
      "metadata": {
        "id": "suitable-vulnerability"
      },
      "source": [
        "As discussed, these estimates are biased since they do not account for saver heterogeneity and endogeneity of participation."
      ],
      "id": "suitable-vulnerability"
    },
    {
      "cell_type": "code",
      "execution_count": null,
      "metadata": {
        "id": "a9354414"
      },
      "outputs": [],
      "source": [
        "y = data['net_tfa'].values\n",
        "D = data['e401'].values\n",
        "D2 = data['p401'].values\n",
        "D3 = data['a401'].values\n",
        "X = data.drop(['e401', 'p401', 'a401', 'tw', 'tfa', 'net_tfa', 'tfa_he',\n",
        "               'hval', 'hmort', 'hequity',\n",
        "               'nifa', 'net_nifa', 'net_n401', 'ira',\n",
        "               'dum91', 'icat', 'ecat', 'zhat',\n",
        "               'i1', 'i2', 'i3', 'i4', 'i5', 'i6', 'i7',\n",
        "               'a1', 'a2', 'a3', 'a4', 'a5'], axis=1)\n",
        "X.columns"
      ],
      "id": "a9354414"
    },
    {
      "cell_type": "markdown",
      "metadata": {
        "id": "c4c3e489"
      },
      "source": [
        "### We define a transformer that constructs the engineered features for controls"
      ],
      "id": "c4c3e489"
    },
    {
      "cell_type": "code",
      "execution_count": null,
      "metadata": {
        "id": "a2cfdf4c"
      },
      "outputs": [],
      "source": [
        "!pip install formulaic"
      ],
      "id": "a2cfdf4c"
    },
    {
      "cell_type": "code",
      "execution_count": null,
      "metadata": {
        "id": "53b1283d"
      },
      "outputs": [],
      "source": [
        "from sklearn.base import TransformerMixin, BaseEstimator\n",
        "from formulaic import Formula\n",
        "\n",
        "class FormulaTransformer(TransformerMixin, BaseEstimator):\n",
        "\n",
        "    def __init__(self, formula, array=False):\n",
        "        self.formula = formula\n",
        "        self.array = array\n",
        "\n",
        "    def fit(self, X, y=None):\n",
        "        return self\n",
        "\n",
        "    def transform(self, X, y=None):\n",
        "        df = Formula(self.formula).get_model_matrix(X)\n",
        "        if self.array:\n",
        "            return df.values\n",
        "        return df"
      ],
      "id": "53b1283d"
    },
    {
      "cell_type": "code",
      "execution_count": null,
      "metadata": {
        "id": "824ee320"
      },
      "outputs": [],
      "source": [
        "transformer = FormulaTransformer(\"0 + poly(age, degree=6, raw=True) + poly(inc, degree=8, raw=True) \"\n",
        "                                 \"+ poly(educ, degree=4, raw=True) + poly(fsize, degree=2, raw=True) \"\n",
        "                                 \"+ male + marr + twoearn + db + pira + hown\")"
      ],
      "id": "824ee320"
    },
    {
      "cell_type": "code",
      "execution_count": null,
      "metadata": {
        "id": "b35bbd34"
      },
      "outputs": [],
      "source": [
        "transformer.fit_transform(X).describe()"
      ],
      "id": "b35bbd34"
    },
    {
      "cell_type": "code",
      "execution_count": null,
      "metadata": {
        "id": "8c5e20e7"
      },
      "outputs": [],
      "source": [
        "transformer = FormulaTransformer(\"0 + poly(age, degree=6, raw=True) + poly(inc, degree=8, raw=True) \"\n",
        "                                 \"+ poly(educ, degree=4, raw=True) + poly(fsize, degree=2, raw=True) \"\n",
        "                                 \"+ male + marr + twoearn + db + pira + hown\", array=True)"
      ],
      "id": "8c5e20e7"
    },
    {
      "cell_type": "markdown",
      "metadata": {
        "id": "a745a6f2"
      },
      "source": [
        "## Estimating the ATE of 401(k) Eligibility on Net Financial Assets"
      ],
      "id": "a745a6f2"
    },
    {
      "cell_type": "markdown",
      "metadata": {
        "id": "10538ad3"
      },
      "source": [
        "We are interested in valid estimators of the average treatment effect of `e401` and `p401` on `net_tfa`. We start using ML approaches to estimate the function $g_0$ and $m_0$ in the following PLR model:"
      ],
      "id": "10538ad3"
    },
    {
      "cell_type": "markdown",
      "metadata": {
        "id": "6fcf3165"
      },
      "source": [
        "\\begin{eqnarray}\n",
        " &  Y = D\\theta_0 + g_0(X) + \\zeta,  &  E[\\zeta \\mid D,X]= 0,\\\\\n",
        " & D = m_0(X) +  V,   &  E[V \\mid X] = 0.\n",
        "\\end{eqnarray}"
      ],
      "id": "6fcf3165"
    },
    {
      "cell_type": "markdown",
      "metadata": {
        "id": "d198da92"
      },
      "source": [
        "### Double ML in PLR with Cross-Fitting"
      ],
      "id": "d198da92"
    },
    {
      "cell_type": "markdown",
      "metadata": {
        "id": "045487a5"
      },
      "source": [
        "We define a simple dml function that is parameterized by arbitrary ML models and returns the treatment effect and other useful quantities of the analysis"
      ],
      "id": "045487a5"
    },
    {
      "cell_type": "code",
      "execution_count": null,
      "metadata": {
        "id": "1ee13ea8"
      },
      "outputs": [],
      "source": [
        "def dml(X, D, y, modely, modeld, *, nfolds, classifier=False):\n",
        "    '''\n",
        "    DML for the Partially Linear Model setting with cross-fitting\n",
        "\n",
        "    Input\n",
        "    -----\n",
        "    X: the controls\n",
        "    D: the treatment\n",
        "    y: the outcome\n",
        "    modely: the ML model for predicting the outcome y\n",
        "    modeld: the ML model for predicting the treatment D\n",
        "    nfolds: the number of folds in cross-fitting\n",
        "    classifier: bool, whether the modeld is a classifier or a regressor\n",
        "\n",
        "    Output\n",
        "    ------\n",
        "    point: the point estimate of the treatment effect of D on y\n",
        "    stderr: the standard error of the treatment effect\n",
        "    yhat: the cross-fitted predictions for the outcome y\n",
        "    Dhat: the cross-fitted predictions for the treatment D\n",
        "    resy: the outcome residuals\n",
        "    resD: the treatment residuals\n",
        "    epsilon: the final residual-on-residual OLS regression residual\n",
        "    '''\n",
        "    cv = KFold(n_splits=nfolds, shuffle=True, random_state=123) # shuffled k-folds\n",
        "    yhat = cross_val_predict(modely, X, y, cv=cv, n_jobs=-1) # out-of-fold predictions for y\n",
        "    # out-of-fold predictions for D\n",
        "    # use predict or predict_proba dependent on classifier or regressor for D\n",
        "    if classifier:\n",
        "        Dhat = cross_val_predict(modeld, X, D, cv=cv, method='predict_proba', n_jobs=-1)[:, 1]\n",
        "    else:\n",
        "        Dhat = cross_val_predict(modeld, X, D, cv=cv, n_jobs=-1)\n",
        "    # calculate outcome and treatment residuals\n",
        "    resy = y - yhat\n",
        "    resD = D - Dhat\n",
        "\n",
        "    # final stage ols based point estimate and standard error\n",
        "    point = np.mean(resy * resD) / np.mean(resD**2)\n",
        "    epsilon = resy - point * resD\n",
        "    var = np.mean(epsilon**2 * resD**2) / np.mean(resD**2)**2\n",
        "    stderr = np.sqrt(var / X.shape[0])\n",
        "\n",
        "    return point, stderr, yhat, Dhat, resy, resD, epsilon"
      ],
      "id": "1ee13ea8"
    },
    {
      "cell_type": "code",
      "execution_count": null,
      "metadata": {
        "id": "35c70f74"
      },
      "outputs": [],
      "source": [
        "def summary(point, stderr, yhat, Dhat, resy, resD, epsilon, X, D, y, *, name):\n",
        "    '''\n",
        "    Convenience summary function that takes the results of the DML function\n",
        "    and summarizes several estimation quantities and performance metrics.\n",
        "    '''\n",
        "    return pd.DataFrame({'estimate': point, # point estimate\n",
        "                         'stderr': stderr, # standard error\n",
        "                         'lower': point - 1.96*stderr, # lower end of 95% confidence interval\n",
        "                         'upper': point + 1.96*stderr, # upper end of 95% confidence interval\n",
        "                         'rmse y': np.sqrt(np.mean(resy**2)), # RMSE of model that predicts outcome y\n",
        "                         'rmse D': np.sqrt(np.mean(resD**2)), # RMSE of model that predicts treatment D\n",
        "                         'accuracy D': np.mean(np.abs(resD) < .5), # binary classification accuracy of model for D\n",
        "                         }, index=[name])"
      ],
      "id": "35c70f74"
    },
    {
      "cell_type": "markdown",
      "metadata": {
        "id": "b0e6276a"
      },
      "source": [
        "#### Double Lasso with Cross-Fitting"
      ],
      "id": "b0e6276a"
    },
    {
      "cell_type": "code",
      "execution_count": null,
      "metadata": {
        "id": "21f57b4e"
      },
      "outputs": [],
      "source": [
        "cv = KFold(n_splits=5, shuffle=True, random_state=123)\n",
        "lassoy = make_pipeline(transformer, StandardScaler(), LassoCV(cv=cv))\n",
        "lassod = make_pipeline(transformer, StandardScaler(), LassoCV(cv=cv))\n",
        "result = dml(X, D, y, lassoy, lassod, nfolds=5)"
      ],
      "id": "21f57b4e"
    },
    {
      "cell_type": "code",
      "execution_count": null,
      "metadata": {
        "id": "265fb305"
      },
      "outputs": [],
      "source": [
        "table = summary(*result, X, D, y, name='double lasso')\n",
        "table"
      ],
      "id": "265fb305"
    },
    {
      "cell_type": "markdown",
      "metadata": {
        "id": "30cb77e8"
      },
      "source": [
        "#### Using a Penalized Logistic Regression for D\n",
        "\n",
        "Note the default logistic regression uses an $\\ell_2$ penalty. You can use the $\\ell_1$ penalty as well, but computation will take longer."
      ],
      "id": "30cb77e8"
    },
    {
      "cell_type": "code",
      "execution_count": null,
      "metadata": {
        "id": "ba3ba66e"
      },
      "outputs": [],
      "source": [
        "cv = KFold(n_splits=5, shuffle=True, random_state=123)\n",
        "lassoy = make_pipeline(transformer, StandardScaler(), LassoCV(cv=cv))\n",
        "lgrd = make_pipeline(transformer, StandardScaler(), LogisticRegressionCV(cv=cv))\n",
        "result = dml(X, D, y, lassoy, lgrd, nfolds=5, classifier=True)"
      ],
      "id": "ba3ba66e"
    },
    {
      "cell_type": "code",
      "source": [
        "summary(*result,  X, D, y, name='lasso/logistic')"
      ],
      "metadata": {
        "id": "WFODGyZX4io9"
      },
      "id": "WFODGyZX4io9",
      "execution_count": null,
      "outputs": []
    },
    {
      "cell_type": "code",
      "execution_count": null,
      "metadata": {
        "id": "cbbaa344"
      },
      "outputs": [],
      "source": [
        "table = pd.concat([table , summary(*result,  X, D, y, name='lasso/logistic')])\n",
        "table"
      ],
      "id": "cbbaa344"
    },
    {
      "cell_type": "markdown",
      "metadata": {
        "id": "fluid-gregory"
      },
      "source": [
        "Then, we repeat this procedure for various machine learning methods."
      ],
      "id": "fluid-gregory"
    },
    {
      "cell_type": "markdown",
      "metadata": {
        "id": "c4791084"
      },
      "source": [
        "### Random Forests"
      ],
      "id": "c4791084"
    },
    {
      "cell_type": "code",
      "execution_count": null,
      "metadata": {
        "id": "de0d4030"
      },
      "outputs": [],
      "source": [
        "rfy = make_pipeline(transformer, RandomForestRegressor(n_estimators=100, min_samples_leaf=10, ccp_alpha=.001))\n",
        "rfd = make_pipeline(transformer, RandomForestClassifier(n_estimators=100, min_samples_leaf=10, ccp_alpha=.001))\n",
        "result = dml(X, D, y, rfy, rfd, nfolds=5, classifier=True)"
      ],
      "id": "de0d4030"
    },
    {
      "cell_type": "code",
      "execution_count": null,
      "metadata": {
        "id": "e5073e3a"
      },
      "outputs": [],
      "source": [
        "table = pd.concat([table , summary(*result,  X, D, y, name='random forest')])\n",
        "table"
      ],
      "id": "e5073e3a"
    },
    {
      "cell_type": "markdown",
      "metadata": {
        "id": "1adab609"
      },
      "source": [
        "### Decision Trees"
      ],
      "id": "1adab609"
    },
    {
      "cell_type": "code",
      "execution_count": null,
      "metadata": {
        "id": "e3a3266c"
      },
      "outputs": [],
      "source": [
        "dtry = make_pipeline(transformer, DecisionTreeRegressor(min_samples_leaf=10, ccp_alpha=.001))\n",
        "dtrd = make_pipeline(transformer, DecisionTreeClassifier(min_samples_leaf=10, ccp_alpha=.001))\n",
        "result = dml(X, D, y, dtry, dtrd, nfolds=5, classifier=True)"
      ],
      "id": "e3a3266c"
    },
    {
      "cell_type": "code",
      "execution_count": null,
      "metadata": {
        "id": "e82ddc9f"
      },
      "outputs": [],
      "source": [
        "table = pd.concat([table , summary(*result,  X, D, y, name='decision tree')])\n",
        "table"
      ],
      "id": "e82ddc9f"
    },
    {
      "cell_type": "markdown",
      "metadata": {
        "id": "415d5b98"
      },
      "source": [
        "### Boosted Trees"
      ],
      "id": "415d5b98"
    },
    {
      "cell_type": "code",
      "execution_count": null,
      "metadata": {
        "id": "9016b1a8"
      },
      "outputs": [],
      "source": [
        "gbfy = make_pipeline(transformer, GradientBoostingRegressor(max_depth=2, n_iter_no_change=5))\n",
        "gbfd = make_pipeline(transformer, GradientBoostingClassifier(max_depth=2, n_iter_no_change=5))\n",
        "result = dml(X, D, y, gbfy, gbfd, nfolds=5, classifier=True)"
      ],
      "id": "9016b1a8"
    },
    {
      "cell_type": "code",
      "execution_count": null,
      "metadata": {
        "id": "10f4e992"
      },
      "outputs": [],
      "source": [
        "table = pd.concat([table , summary(*result,  X, D, y, name='boosted forest')])\n",
        "table"
      ],
      "id": "10f4e992"
    },
    {
      "cell_type": "markdown",
      "metadata": {
        "id": "identical-smith"
      },
      "source": [
        "The best model with lowest RMSE in both equation is the PLR model estimated via lasso."
      ],
      "id": "identical-smith"
    },
    {
      "cell_type": "markdown",
      "metadata": {
        "id": "9c8dc0c4"
      },
      "source": [
        "### AutoML"
      ],
      "id": "9c8dc0c4"
    },
    {
      "cell_type": "code",
      "execution_count": null,
      "metadata": {
        "id": "r_kFRdEyFjQc"
      },
      "outputs": [],
      "source": [
        "!pip install flaml"
      ],
      "id": "r_kFRdEyFjQc"
    },
    {
      "cell_type": "code",
      "execution_count": null,
      "metadata": {
        "id": "2d0d2b4e"
      },
      "outputs": [],
      "source": [
        "from flaml import AutoML\n",
        "flamly = make_pipeline(transformer, AutoML(time_budget=100, task='regression', early_stop=True,\n",
        "                                    eval_method='cv', n_splits=3, metric='r2', verbose=3))\n",
        "flamld = make_pipeline(transformer, AutoML(time_budget=100, task='classification', early_stop=True,\n",
        "                                           eval_method='cv', n_splits=3, metric='r2', verbose=3))\n",
        "result = dml(X, D, y, flamly, flamld, nfolds=5, classifier=True)"
      ],
      "id": "2d0d2b4e"
    },
    {
      "cell_type": "code",
      "execution_count": null,
      "metadata": {
        "id": "6e2ba772"
      },
      "outputs": [],
      "source": [
        "table = pd.concat([table , summary(*result,  X, D, y, name='automl')])\n",
        "table"
      ],
      "id": "6e2ba772"
    },
    {
      "cell_type": "markdown",
      "metadata": {
        "id": "9bc171ce"
      },
      "source": [
        "# Semi-Cross-Fitting"
      ],
      "id": "9bc171ce"
    },
    {
      "cell_type": "markdown",
      "metadata": {
        "id": "fe9d4e9e"
      },
      "source": [
        "To avoid the computational cost of performing model selection within each fold (assuming that we don't select among an exponential set of hyperparameters/models in the number of samples), it is ok to perform model selection using all the data and then perform cross-fitting with the selected model."
      ],
      "id": "fe9d4e9e"
    },
    {
      "cell_type": "code",
      "execution_count": null,
      "metadata": {
        "id": "b6f64eba"
      },
      "outputs": [],
      "source": [
        "flamly = make_pipeline(transformer, AutoML(time_budget=100, task='regression', early_stop=True,\n",
        "                                    eval_method='cv', n_splits=3, metric='r2', verbose=0))\n",
        "flamld = make_pipeline(transformer, AutoML(time_budget=100, task='classification', early_stop=True,\n",
        "                                           eval_method='cv', n_splits=3, metric='r2', verbose=0))"
      ],
      "id": "b6f64eba"
    },
    {
      "cell_type": "code",
      "execution_count": null,
      "metadata": {
        "id": "2cffa502"
      },
      "outputs": [],
      "source": [
        "flamly.fit(X, y)\n",
        "besty = make_pipeline(transformer, clone(flamly[-1].best_model_for_estimator(flamly[-1].best_estimator)))"
      ],
      "id": "2cffa502"
    },
    {
      "cell_type": "code",
      "execution_count": null,
      "metadata": {
        "id": "21c2a08a"
      },
      "outputs": [],
      "source": [
        "flamld.fit(X, D)\n",
        "bestd = make_pipeline(transformer, clone(flamld[-1].best_model_for_estimator(flamld[-1].best_estimator)))"
      ],
      "id": "21c2a08a"
    },
    {
      "cell_type": "code",
      "execution_count": null,
      "metadata": {
        "id": "6b5a1b0b"
      },
      "outputs": [],
      "source": [
        "result = dml(X, D, y, besty, bestd, nfolds=5, classifier=True)"
      ],
      "id": "6b5a1b0b"
    },
    {
      "cell_type": "code",
      "execution_count": null,
      "metadata": {
        "id": "9855e83e"
      },
      "outputs": [],
      "source": [
        "table = pd.concat([table , summary(*result,  X, D, y, name='automl (semi-cfit)')])\n",
        "table"
      ],
      "id": "9855e83e"
    },
    {
      "cell_type": "markdown",
      "metadata": {
        "id": "b97cb96c"
      },
      "source": [
        "### Semi-Crossfitting with Stacking"
      ],
      "id": "b97cb96c"
    },
    {
      "cell_type": "code",
      "execution_count": null,
      "metadata": {
        "id": "f5214c9d"
      },
      "outputs": [],
      "source": [
        "def dml_dirty(X, D, y, modely_list, modeld_list, *,\n",
        "              stacker=LinearRegression(), nfolds, classifier=False):\n",
        "    '''\n",
        "    DML for the Partially Linear Model setting with semi-cross-fitting\n",
        "\n",
        "    Input\n",
        "    -----\n",
        "    X: the controls\n",
        "    D: the treatment\n",
        "    y: the outcome\n",
        "    modely: the ML model for predicting the outcome y\n",
        "    modeld: the ML model for predicting the treatment D\n",
        "    stacker: model used to aggregate predictions of each of the base models\n",
        "    nfolds: the number of folds in cross-fitting\n",
        "    classifier: bool, whether the modeld is a classifier or a regressor\n",
        "\n",
        "    Output\n",
        "    ------\n",
        "    point: the point estimate of the treatment effect of D on y\n",
        "    stderr: the standard error of the treatment effect\n",
        "    yhat: the cross-fitted predictions for the outcome y\n",
        "    Dhat: the cross-fitted predictions for the treatment D\n",
        "    resy: the outcome residuals\n",
        "    resD: the treatment residuals\n",
        "    epsilon: the final residual-on-residual OLS regression residual\n",
        "    '''\n",
        "    # construct out-of-fold predictions for each model\n",
        "    cv = KFold(n_splits=nfolds, shuffle=True, random_state=123)\n",
        "    yhats = np.array([cross_val_predict(modely, X, y, cv=cv, n_jobs=-1) for modely in modely_list]).T\n",
        "    if classifier:\n",
        "        Dhats = np.array([cross_val_predict(modeld, X, D, cv=cv, method='predict_proba', n_jobs=-1)[:, 1]\n",
        "                         for modeld in modeld_list]).T\n",
        "    else:\n",
        "        Dhats = np.array([cross_val_predict(modeld, X, D, cv=cv, n_jobs=-1) for modeld in modeld_list]).T\n",
        "    # calculate stacked residuals by finding optimal coefficients\n",
        "    # and weigthing out-of-sample predictions by these coefficients\n",
        "    yhat = stacker.fit(yhats, y).predict(yhats)\n",
        "    Dhat = stacker.fit(Dhats, D).predict(Dhats)\n",
        "    resy = y - yhat\n",
        "    resD = D - Dhat\n",
        "    # go with the stacked residuals\n",
        "    point = np.mean(resy * resD) / np.mean(resD**2)\n",
        "    epsilon = resy - point * resD\n",
        "    var = np.mean(epsilon**2 * resD**2) / np.mean(resD**2)**2\n",
        "    stderr = np.sqrt(var / X.shape[0])\n",
        "    return point, stderr, yhat, Dhat, resy, resD, epsilon"
      ],
      "id": "f5214c9d"
    },
    {
      "cell_type": "code",
      "execution_count": null,
      "metadata": {
        "id": "6a671f5e"
      },
      "outputs": [],
      "source": [
        "result = dml_dirty(X, D, y, [lassoy, rfy, dtry, gbfy], [lgrd, rfd, dtrd, gbfd],\n",
        "                   nfolds=5, classifier=True)"
      ],
      "id": "6a671f5e"
    },
    {
      "cell_type": "code",
      "execution_count": null,
      "metadata": {
        "id": "f6bfa361"
      },
      "outputs": [],
      "source": [
        "table = pd.concat([table , summary(*result, X, D, y, name='stacked (semi-cfit)')])\n",
        "table"
      ],
      "id": "f6bfa361"
    },
    {
      "cell_type": "markdown",
      "metadata": {
        "id": "comprehensive-graphics"
      },
      "source": [
        "## Interactive Regression Model (IRM)"
      ],
      "id": "comprehensive-graphics"
    },
    {
      "cell_type": "markdown",
      "metadata": {
        "id": "square-craps"
      },
      "source": [
        "Next, we consider estimation of average treatment effects when treatment effects are fully heterogeneous:"
      ],
      "id": "square-craps"
    },
    {
      "cell_type": "markdown",
      "metadata": {
        "id": "large-welcome"
      },
      "source": [
        " \\begin{eqnarray}\\label{eq: HetPL1}\n",
        " & Y  = g_0(D, X) + U,  &  \\quad E[U \\mid X, D]= 0,\\\\\n",
        "  & D  = m_0(X) + V,  & \\quad  E[V\\mid X] = 0.\n",
        "\\end{eqnarray}"
      ],
      "id": "large-welcome"
    },
    {
      "cell_type": "markdown",
      "metadata": {
        "id": "perfect-reliance"
      },
      "source": [
        "To reduce the disproportionate impact of extreme propensity score weights in the interactive model\n",
        "we trim the propensity scores which are below .01 or above .99."
      ],
      "id": "perfect-reliance"
    },
    {
      "cell_type": "code",
      "execution_count": null,
      "metadata": {
        "id": "5a0b5d47"
      },
      "outputs": [],
      "source": [
        "def dr(X, D, y, modely0, modely1, modeld, *, trimming=0.01, nfolds):\n",
        "    '''\n",
        "    DML for the Interactive Regression Model setting (Doubly Robust Learning)\n",
        "    with cross-fitting\n",
        "\n",
        "    Input\n",
        "    -----\n",
        "    X: the controls\n",
        "    D: the treatment\n",
        "    y: the outcome\n",
        "    modely0: the ML model for predicting the outcome y in the control population\n",
        "    modely1: the ML model for predicting the outcome y in the treated population\n",
        "    modeld: the ML model for predicting the treatment D\n",
        "    trimming: threshold below which to trim propensities\n",
        "    nfolds: the number of folds in cross-fitting\n",
        "\n",
        "    Output\n",
        "    ------\n",
        "    point: the point estimate of the treatment effect of D on y\n",
        "    stderr: the standard error of the treatment effect\n",
        "    yhat: the cross-fitted predictions for the outcome y\n",
        "    Dhat: the cross-fitted predictions for the outcome D\n",
        "    resy: the outcome residuals\n",
        "    resD: the treatment residuals\n",
        "    drhat: the doubly robust quantity for each sample\n",
        "    '''\n",
        "    cv = KFold(n_splits=nfolds, shuffle=True, random_state=123)\n",
        "    yhat0, yhat1 = np.zeros(y.shape), np.zeros(y.shape)\n",
        "    # we will fit a model E[Y| D, X] by fitting a separate model for D==0\n",
        "    # and a separate model for D==1.\n",
        "    for train, test in cv.split(X, y):\n",
        "        # train a model on training data that received treatment zero and predict on all data in test set\n",
        "        yhat0[test] = clone(modely0).fit(X.iloc[train][D[train]==0], y[train][D[train]==0]).predict(X.iloc[test])\n",
        "        # train a model on training data that received treatment one and predict on all data in test set\n",
        "        yhat1[test] = clone(modely1).fit(X.iloc[train][D[train]==1], y[train][D[train]==1]).predict(X.iloc[test])\n",
        "    # prediction for observed treatment\n",
        "    yhat = yhat0 * (1 - D) + yhat1 * D\n",
        "    # propensity scores\n",
        "    Dhat = cross_val_predict(modeld, X, D, cv=cv, method='predict_proba', n_jobs=-1)[:, 1]\n",
        "    Dhat = np.clip(Dhat, trimming, 1 - trimming)\n",
        "    # doubly robust quantity for every sample\n",
        "    drhat = yhat1 - yhat0 + (y - yhat) * (D/Dhat - (1 - D)/(1 - Dhat))\n",
        "    point = np.mean(drhat)\n",
        "    var = np.var(drhat)\n",
        "    stderr = np.sqrt(var / X.shape[0])\n",
        "    return point, stderr, yhat, Dhat, y - yhat, D - Dhat, drhat"
      ],
      "id": "5a0b5d47"
    },
    {
      "cell_type": "markdown",
      "source": [
        "**NB**: There is randomness across the random seed that potentially causes instability in our estimates. In particular, we find that the lasso/logistic specification for the IRM model exhibits great instability across different seeds. To mitigate these differences, we can take an average across seeds. In principle we would do this for all estimates, but for computation and simplicity, we cheat a little bit and do it only for the model specification we know varies significantly."
      ],
      "metadata": {
        "id": "MRgN7S5TXlfF"
      },
      "id": "MRgN7S5TXlfF"
    },
    {
      "cell_type": "code",
      "source": [
        "cv = KFold(n_splits=5, shuffle=True, random_state=123)\n",
        "lassoytest = make_pipeline(transformer, StandardScaler(), LassoCV(cv=cv))\n",
        "lgrdtest = make_pipeline(transformer, StandardScaler(), LogisticRegressionCV(cv=cv))\n",
        "result = dr(X, D, y, lassoytest, lassoytest, lgrdtest, nfolds=5)\n",
        "seed_estimates = summary(*result,  X, D, y, name='lasso/logistic')\n",
        "\n",
        "for i in range(9):\n",
        "  cv = KFold(n_splits=5, shuffle=True, random_state=i)\n",
        "  lassoytest = make_pipeline(transformer, StandardScaler(), LassoCV(cv=cv))\n",
        "  lgrdtest = make_pipeline(transformer, StandardScaler(), LogisticRegressionCV(cv=cv))\n",
        "  result = dr(X, D, y, lassoytest, lassoytest, lgrdtest, nfolds=5)\n",
        "  seed_estimates = pd.concat([seed_estimates , summary(*result,  X, D, y, name='lasso/logistic')])\n",
        "\n",
        "seed_estimates"
      ],
      "metadata": {
        "id": "ZpHWxbk7L7Sl"
      },
      "id": "ZpHWxbk7L7Sl",
      "execution_count": null,
      "outputs": []
    },
    {
      "cell_type": "markdown",
      "source": [
        "As we can see, using lasso and logistic regression for $Y$ and $D$ respectively leads to estimates that vary across different seeds. Letting $\\hat{\\theta}_s$ denote the vector of $s=10$ estimates across the seeds, we take $$\\hat{\\theta} := \\text{median}(\\hat{\\theta}_s)$$ and $$SE(\\hat{\\theta}) := \\sqrt{\\text{median}\\left(SE(\\hat{\\theta}_s)^2 + (\\hat{\\theta}_s - \\hat{\\theta})^2\\right)}$$ (Note in the standard error calculation, the operation of de-medianing $\\hat{\\theta}_s - \\hat{\\theta}$ is broadcasted.)"
      ],
      "metadata": {
        "id": "2szrjAObipxP"
      },
      "id": "2szrjAObipxP"
    },
    {
      "cell_type": "code",
      "source": [
        "med_theta = np.median(seed_estimates.values[:,0])\n",
        "se_med = np.sqrt(np.median((seed_estimates.values[:,1])**2 + (seed_estimates.values[:,0] - med_theta)**2))\n",
        "tabledr = pd.DataFrame({'estimate': med_theta,\n",
        "                        'stderr': se_med,\n",
        "                        'lower': med_theta - 1.96*se_med,\n",
        "                        'upper': med_theta + 1.96*se_med,\n",
        "                        'rmse y': np.median(seed_estimates.values[:,4]),\n",
        "                        'rmse D': np.median(seed_estimates.values[:,5]),\n",
        "                        'accuracy D': np.median(seed_estimates.values[:,6]),\n",
        "                        }, index=['lasso/logistic'])"
      ],
      "metadata": {
        "id": "zQnSP-hDlVPw"
      },
      "id": "zQnSP-hDlVPw",
      "execution_count": null,
      "outputs": []
    },
    {
      "cell_type": "code",
      "execution_count": null,
      "metadata": {
        "id": "1b0fe147"
      },
      "outputs": [],
      "source": [
        "rfy = make_pipeline(transformer, RandomForestRegressor(n_estimators=100, min_samples_leaf=10, ccp_alpha=.001))\n",
        "rfd = make_pipeline(transformer, RandomForestClassifier(n_estimators=100, min_samples_leaf=10, ccp_alpha=.001))\n",
        "result = dr(X, D, y, rfy, rfy, rfd, nfolds=5)"
      ],
      "id": "1b0fe147"
    },
    {
      "cell_type": "code",
      "execution_count": null,
      "metadata": {
        "id": "259efb1c"
      },
      "outputs": [],
      "source": [
        "tabledr = pd.concat([tabledr , summary(*result,  X, D, y, name='random forest')])\n",
        "tabledr"
      ],
      "id": "259efb1c"
    },
    {
      "cell_type": "code",
      "execution_count": null,
      "metadata": {
        "id": "5335633c"
      },
      "outputs": [],
      "source": [
        "dtry = make_pipeline(transformer, DecisionTreeRegressor(min_samples_leaf=10, ccp_alpha=.001))\n",
        "dtrd = make_pipeline(transformer, DecisionTreeClassifier(min_samples_leaf=10, ccp_alpha=.001))\n",
        "result = dr(X, D, y, dtry, dtry, dtrd, nfolds=5)"
      ],
      "id": "5335633c"
    },
    {
      "cell_type": "code",
      "execution_count": null,
      "metadata": {
        "id": "3c5d5a12"
      },
      "outputs": [],
      "source": [
        "tabledr = pd.concat([tabledr , summary(*result,  X, D, y, name='decision tree')])\n",
        "tabledr"
      ],
      "id": "3c5d5a12"
    },
    {
      "cell_type": "code",
      "execution_count": null,
      "metadata": {
        "id": "69f9338c"
      },
      "outputs": [],
      "source": [
        "gbfy = make_pipeline(transformer, GradientBoostingRegressor(max_depth=2, n_iter_no_change=5))\n",
        "gbfd = make_pipeline(transformer, GradientBoostingClassifier(max_depth=2, n_iter_no_change=5))\n",
        "result = dr(X, D, y, gbfy, gbfy, gbfd, nfolds=5)"
      ],
      "id": "69f9338c"
    },
    {
      "cell_type": "code",
      "execution_count": null,
      "metadata": {
        "id": "8d275ed3"
      },
      "outputs": [],
      "source": [
        "tabledr = pd.concat([tabledr , summary(*result, X, D, y, name='boosted forest')])\n",
        "tabledr"
      ],
      "id": "8d275ed3"
    },
    {
      "cell_type": "markdown",
      "metadata": {
        "id": "9a6e0994"
      },
      "source": [
        "These estimates that flexibly account for confounding are substantially attenuated relative to the baseline estimate (19559) that does not account for confounding. They suggest much smaller causal effects of 401(k) eligiblity on financial asset holdings."
      ],
      "id": "9a6e0994"
    },
    {
      "cell_type": "markdown",
      "metadata": {
        "id": "a8eadf06"
      },
      "source": [
        "# Semi-Cross-Fitting"
      ],
      "id": "a8eadf06"
    },
    {
      "cell_type": "code",
      "execution_count": null,
      "metadata": {
        "id": "fee26e18"
      },
      "outputs": [],
      "source": [
        "from flaml import AutoML\n",
        "flamly0 = make_pipeline(transformer, AutoML(time_budget=60, task='regression', early_stop=True,\n",
        "                                     eval_method='cv', n_splits=3, metric='r2', verbose=0))\n",
        "flamly1 = make_pipeline(transformer, AutoML(time_budget=60, task='regression', early_stop=True,\n",
        "                                     eval_method='cv', n_splits=3, metric='r2', verbose=0))\n",
        "flamld = make_pipeline(transformer, AutoML(time_budget=60, task='classification', early_stop=True,\n",
        "                                           eval_method='cv', n_splits=3, metric='r2', verbose=0))"
      ],
      "id": "fee26e18"
    },
    {
      "cell_type": "code",
      "execution_count": null,
      "metadata": {
        "id": "22518880"
      },
      "outputs": [],
      "source": [
        "flamly0.fit(X[D==0], y[D==0])\n",
        "besty0 = make_pipeline(transformer, clone(flamly0[-1].best_model_for_estimator(flamly0[-1].best_estimator)))"
      ],
      "id": "22518880"
    },
    {
      "cell_type": "code",
      "execution_count": null,
      "metadata": {
        "id": "dd04a3cd"
      },
      "outputs": [],
      "source": [
        "flamly1.fit(X[D==1], y[D==1])\n",
        "besty1 = make_pipeline(transformer, clone(flamly1[-1].best_model_for_estimator(flamly1[-1].best_estimator)))"
      ],
      "id": "dd04a3cd"
    },
    {
      "cell_type": "code",
      "execution_count": null,
      "metadata": {
        "id": "5088756e"
      },
      "outputs": [],
      "source": [
        "flamld.fit(X, D)\n",
        "bestd = make_pipeline(transformer, clone(flamld[-1].best_model_for_estimator(flamld[-1].best_estimator)))"
      ],
      "id": "5088756e"
    },
    {
      "cell_type": "code",
      "execution_count": null,
      "metadata": {
        "id": "9a415bd9"
      },
      "outputs": [],
      "source": [
        "result = dr(X, D, y, besty0, besty1, bestd, nfolds=5)"
      ],
      "id": "9a415bd9"
    },
    {
      "cell_type": "code",
      "execution_count": null,
      "metadata": {
        "id": "30800bbc"
      },
      "outputs": [],
      "source": [
        "tabledr = pd.concat([tabledr , summary(*result,  X, D, y, name='automl (semi-cfit)')])\n",
        "tabledr"
      ],
      "id": "30800bbc"
    },
    {
      "cell_type": "code",
      "execution_count": null,
      "metadata": {
        "id": "9325941a"
      },
      "outputs": [],
      "source": [
        "def dr_dirty(X, D, y, modely0_list, modely1_list, modeld_list, *,\n",
        "             stacker=LinearRegression(), trimming=0.01, nfolds):\n",
        "    '''\n",
        "    DML for the Interactive Regression Model setting (Doubly Robust Learning)\n",
        "    with cross-fitting\n",
        "\n",
        "    Input\n",
        "    -----\n",
        "    X: the controls\n",
        "    D: the treatment\n",
        "    y: the outcome\n",
        "    modely_list: list of ML models for predicting the outcome y\n",
        "    modeld_list: list of ML models for predicting the treatment D\n",
        "    stacker: model used to aggregate predictions of each of the base models\n",
        "    trimming: threshold below which to trim propensities\n",
        "    nfolds: the number of folds in cross-fitting\n",
        "\n",
        "    Output\n",
        "    ------\n",
        "    point: the point estimate of the treatment effect of D on y\n",
        "    stderr: the standard error of the treatment effect\n",
        "    yhat: the cross-fitted predictions for the outcome y\n",
        "    Dhat: the cross-fitted predictions for the outcome D\n",
        "    resy: the outcome residuals\n",
        "    resD: the treatment residuals\n",
        "    drhat: the doubly robust quantity for each sample\n",
        "    '''\n",
        "    cv = KFold(n_splits=nfolds, shuffle=True, random_state=123)\n",
        "\n",
        "    # we will fit a model E[Y| D, X] by fitting a separate model for D==0\n",
        "    # and a separate model for D==1. We do that for each model type in modely_list\n",
        "    yhats0, yhats1 = np.zeros((y.shape[0], len(modely0_list))), np.zeros((y.shape[0], len(modely1_list)))\n",
        "    for train, test in cv.split(X, y):\n",
        "        for it, modely0 in enumerate(modely0_list):\n",
        "            yhats0[test, it] = clone(modely0).fit(X.iloc[train][D[train]==0], y[train][D[train]==0]).predict(X.iloc[test])\n",
        "        for it, modely1 in enumerate(modely1_list):\n",
        "            yhats1[test, it] = clone(modely1).fit(X.iloc[train][D[train]==1], y[train][D[train]==1]).predict(X.iloc[test])\n",
        "\n",
        "    # calculate stacking weights for the outcome model for each population\n",
        "    # and combine the outcome model predictions\n",
        "    yhat0 = clone(stacker).fit(yhats0[D==0], y[D==0]).predict(yhats0)\n",
        "    yhat1 = clone(stacker).fit(yhats1[D==1], y[D==1]).predict(yhats1)\n",
        "\n",
        "    # prediction for observed treatment using the stacked model\n",
        "    yhat = yhat0 * (1 - D) + yhat1 * D\n",
        "\n",
        "    # propensity scores\n",
        "    Dhats = np.array([cross_val_predict(modeld, X, D, cv=cv, method='predict_proba', n_jobs=-1)[:, 1]\n",
        "                     for modeld in modeld_list]).T\n",
        "    # construct coefficients on each model based on stacker\n",
        "    Dhat = clone(stacker).fit(Dhats, D).predict(Dhats)\n",
        "    # trim propensities\n",
        "    Dhat = np.clip(Dhat, trimming, 1 - trimming)\n",
        "\n",
        "    # doubly robust quantity for every sample\n",
        "    drhat = yhat1 - yhat0 + (y - yhat) * (D/Dhat - (1 - D)/(1 - Dhat))\n",
        "    point = np.mean(drhat)\n",
        "    var = np.var(drhat)\n",
        "    stderr = np.sqrt(var / X.shape[0])\n",
        "    return point, stderr, yhat, Dhat, y - yhat, D - Dhat, drhat"
      ],
      "id": "9325941a"
    },
    {
      "cell_type": "code",
      "execution_count": null,
      "metadata": {
        "id": "5401f09d"
      },
      "outputs": [],
      "source": [
        "result = dr_dirty(X, D, y, [lassoy, rfy, dtry, gbfy], [lassoy, rfy, dtry, gbfy], [lgrd, rfd, dtrd, gbfd], nfolds=5)"
      ],
      "id": "5401f09d"
    },
    {
      "cell_type": "code",
      "execution_count": null,
      "metadata": {
        "id": "1606f1bb"
      },
      "outputs": [],
      "source": [
        "tabledr = pd.concat([tabledr , summary(*result,  X, D, y, name='stacked (semi-cfit)')])\n",
        "tabledr"
      ],
      "id": "1606f1bb"
    },
    {
      "cell_type": "markdown",
      "metadata": {
        "id": "743cde38"
      },
      "source": [
        "We can compare the results between the PLR model and IRM model. We find that the effect under the IRM model is typically of lower value."
      ],
      "id": "743cde38"
    },
    {
      "cell_type": "code",
      "execution_count": null,
      "metadata": {
        "id": "0ce30440"
      },
      "outputs": [],
      "source": [
        "table"
      ],
      "id": "0ce30440"
    },
    {
      "cell_type": "code",
      "execution_count": null,
      "metadata": {
        "id": "93fcee1c"
      },
      "outputs": [],
      "source": [
        "tabledr"
      ],
      "id": "93fcee1c"
    },
    {
      "cell_type": "markdown",
      "metadata": {
        "id": "af5867dc"
      },
      "source": [
        "# Using the EconML Library\n",
        "\n"
      ],
      "id": "af5867dc"
    },
    {
      "cell_type": "markdown",
      "source": [
        "We are interested in valid estimators of the average treatment effect of `e401` on `net_tfa`. There exist nice packages out there that can help us do our estimation with the simple call of a function. Such packages include `EconML` (Python), `DoubleML` (Python and R), and `ddml` (Stata and R).\n",
        "\n",
        "We run through PLR and IRM using `EconML` below to illustrate."
      ],
      "metadata": {
        "id": "MCC8KTmCoLOZ"
      },
      "id": "MCC8KTmCoLOZ"
    },
    {
      "cell_type": "code",
      "execution_count": null,
      "metadata": {
        "id": "401bc6b6"
      },
      "outputs": [],
      "source": [
        "# code verified with this version of econml\n",
        "# If you want to try out the latest econml version remove the version number;\n",
        "# albeit mistakes could potentially be raised due to library updates”\n",
        "!pip install econml==0.14.1 #"
      ],
      "id": "401bc6b6"
    },
    {
      "cell_type": "code",
      "execution_count": null,
      "metadata": {
        "id": "ebd88f6b"
      },
      "outputs": [],
      "source": [
        "# for these libraries we will just pre-featurize the controls\n",
        "W = StandardScaler().fit_transform(transformer.fit_transform(X))"
      ],
      "id": "ebd88f6b"
    },
    {
      "cell_type": "code",
      "execution_count": null,
      "metadata": {
        "id": "fe3ba9f4"
      },
      "outputs": [],
      "source": [
        "from econml.dml import LinearDML\n",
        "cv = KFold(n_splits=5, shuffle=True, random_state=123)\n",
        "ldml = LinearDML(model_y=LassoCV(cv=cv), model_t=LogisticRegressionCV(cv=cv),\n",
        "                 cv=3, discrete_treatment=True, random_state=123).fit(y, D, W=W)"
      ],
      "id": "fe3ba9f4"
    },
    {
      "cell_type": "code",
      "execution_count": null,
      "metadata": {
        "id": "a52d86c5"
      },
      "outputs": [],
      "source": [
        "ldml.summary()"
      ],
      "id": "a52d86c5"
    },
    {
      "cell_type": "code",
      "execution_count": null,
      "metadata": {
        "id": "4d6c5b24"
      },
      "outputs": [],
      "source": [
        "# r2scores\n",
        "r2scorey = np.mean(ldml.nuisance_scores_y)\n",
        "r2scored = np.mean(ldml.nuisance_scores_t)\n",
        "r2scorey, r2scored"
      ],
      "id": "4d6c5b24"
    },
    {
      "cell_type": "code",
      "execution_count": null,
      "metadata": {
        "id": "473f350b"
      },
      "outputs": [],
      "source": [
        "from econml.dr import LinearDRLearner\n",
        "\n",
        "# dr learner in econml fits a single regression function of Y from X, D\n",
        "# using all the data\n",
        "dr = LinearDRLearner(model_regression=LassoCV(cv=cv),\n",
        "                     model_propensity=LogisticRegressionCV(cv=cv),\n",
        "                     cv=3, min_propensity=0.01, random_state=123).fit(y, D, W=W)"
      ],
      "id": "473f350b"
    },
    {
      "cell_type": "code",
      "execution_count": null,
      "metadata": {
        "id": "ea53e99a"
      },
      "outputs": [],
      "source": [
        "dr.summary(T=1)"
      ],
      "id": "ea53e99a"
    },
    {
      "cell_type": "code",
      "execution_count": null,
      "metadata": {
        "id": "519426af"
      },
      "outputs": [],
      "source": [
        "from econml.dr import LinearDRLearner\n",
        "from econml.utilities import SeparateModel\n",
        "\n",
        "# to implement the separate regression models we need use the separate model wrapper\n",
        "# that splits the data based on the last covariate (in this case D) and fits a separate\n",
        "# model for each group. The input to the wrapper is the model to use for each value\n",
        "# of the last covariate.\n",
        "dr = LinearDRLearner(model_regression=SeparateModel(LassoCV(cv=cv), LassoCV(cv=cv)),\n",
        "                     model_propensity=LogisticRegressionCV(cv=cv),\n",
        "                     cv=3, min_propensity=0.01, random_state=123).fit(y, D, W=W)"
      ],
      "id": "519426af"
    },
    {
      "cell_type": "code",
      "execution_count": null,
      "metadata": {
        "id": "e3794606"
      },
      "outputs": [],
      "source": [
        "dr.summary(T=1)"
      ],
      "id": "e3794606"
    },
    {
      "cell_type": "markdown",
      "metadata": {
        "id": "3ca94a11"
      },
      "source": [
        "# Using the DoubleML library"
      ],
      "id": "3ca94a11"
    },
    {
      "cell_type": "markdown",
      "source": [
        "We now play with `DoubleML` to illustrate its use."
      ],
      "metadata": {
        "id": "qj9BrMhWpk70"
      },
      "id": "qj9BrMhWpk70"
    },
    {
      "cell_type": "code",
      "execution_count": null,
      "metadata": {
        "id": "ea90e4e1"
      },
      "outputs": [],
      "source": [
        "!pip install doubleml"
      ],
      "id": "ea90e4e1"
    },
    {
      "cell_type": "code",
      "execution_count": null,
      "metadata": {
        "id": "9930faf2"
      },
      "outputs": [],
      "source": [
        "from doubleml import DoubleMLData\n",
        "dml_data = DoubleMLData.from_arrays(W, y, D)\n",
        "print(dml_data)"
      ],
      "id": "9930faf2"
    },
    {
      "cell_type": "code",
      "execution_count": null,
      "metadata": {
        "id": "c146dd15"
      },
      "outputs": [],
      "source": [
        "import doubleml as dml\n",
        "\n",
        "dml_plr_obj = dml.DoubleMLPLR(dml_data, LassoCV(cv=cv), LogisticRegressionCV(cv=cv), n_folds=3)\n",
        "print(dml_plr_obj.fit())"
      ],
      "id": "c146dd15"
    },
    {
      "cell_type": "code",
      "execution_count": null,
      "metadata": {
        "id": "9e7b7b7c"
      },
      "outputs": [],
      "source": [
        "dml_irm_obj = dml.DoubleMLIRM(dml_data, LassoCV(cv=cv), LogisticRegressionCV(cv=cv), n_folds=3)\n",
        "\n",
        "print(dml_irm_obj.fit())"
      ],
      "id": "9e7b7b7c"
    }
  ],
  "metadata": {
    "colab": {
      "provenance": []
    },
    "kernelspec": {
      "display_name": "Python 3 (ipykernel)",
      "language": "python",
      "name": "python3"
    },
    "language_info": {
      "codemirror_mode": {
        "name": "ipython",
        "version": 3
      },
      "file_extension": ".py",
      "mimetype": "text/x-python",
      "name": "python",
      "nbconvert_exporter": "python",
      "pygments_lexer": "ipython3",
      "version": "3.9.13"
    },
    "papermill": {
      "default_parameters": {},
      "duration": 537.547458,
      "end_time": "2021-03-24T14:22:44.931595",
      "environment_variables": {},
      "exception": null,
      "input_path": "__notebook__.ipynb",
      "output_path": "__notebook__.ipynb",
      "parameters": {},
      "start_time": "2021-03-24T14:13:47.384137",
      "version": "2.3.2"
    }
  },
  "nbformat": 4,
  "nbformat_minor": 5
}