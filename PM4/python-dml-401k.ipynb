{
 "cells": [
  {
   "cell_type": "markdown",
   "id": "narrative-sailing",
   "metadata": {
    "id": "narrative-sailing"
   },
   "source": [
    "# Inference on Predictive and Causal Effects in High-Dimensional Nonlinear Models"
   ]
  },
  {
   "cell_type": "markdown",
   "id": "ready-appearance",
   "metadata": {
    "id": "ready-appearance"
   },
   "source": [
    "## Impact of 401(k) on  Financial Wealth\n",
    "\n",
    "As a practical illustration of the DML method, we consider estimation of the effect of 401(k) eligibility and participation\n",
    "on accumulated assets. 401(k) plans are pension accounts sponsored by employers. The key problem in determining the effect of participation in 401(k) plans on accumulated assets is saver heterogeneity coupled with the fact that the decision to enroll in a 401(k) is non-random. It is generally recognized that some people have a higher preference for saving than others. It also seems likely that those individuals with high unobserved preference for saving would be most likely to choose to participate in tax-advantaged retirement savings plans and would tend to have otherwise high amounts of accumulated assets. The presence of unobserved savings preferences with these properties then implies that conventional estimates that do not account for saver heterogeneity and endogeneity of participation will be biased upward, tending to overstate the savings effects of 401(k) participation.\n",
    "\n",
    "One can argue that eligibility for enrolling in a 401(k) plan in this data can be taken as exogenous after conditioning on a few observables of which the most important for their argument is income. The basic idea is that, at least around the time 401(k)’s initially became available, people were unlikely to be basing their employment decisions on whether an employer offered a 401(k) but would instead focus on income and other aspects of the job."
   ]
  },
  {
   "cell_type": "markdown",
   "id": "divine-phoenix",
   "metadata": {
    "id": "divine-phoenix"
   },
   "source": [
    "### Data\n",
    "\n",
    "The data set can be downloaded from the github repo\n"
   ]
  },
  {
   "cell_type": "code",
   "execution_count": 1,
   "id": "lj0WLB1_EwxI",
   "metadata": {
    "id": "lj0WLB1_EwxI"
   },
   "outputs": [
    {
     "name": "stdout",
     "output_type": "stream",
     "text": [
      "Defaulting to user installation because normal site-packages is not writeable\n",
      "Requirement already satisfied: wget in c:\\programdata\\anaconda3\\lib\\site-packages (3.2)\n"
     ]
    }
   ],
   "source": [
    "!pip install wget"
   ]
  },
  {
   "cell_type": "code",
   "execution_count": 2,
   "id": "75662e18",
   "metadata": {
    "id": "75662e18"
   },
   "outputs": [],
   "source": [
    "# Import relevant packages\n",
    "import pandas as pd\n",
    "import numpy as np\n",
    "import matplotlib.pyplot as plt\n",
    "from sklearn.model_selection import cross_val_predict, KFold\n",
    "from sklearn.pipeline import make_pipeline\n",
    "from sklearn.linear_model import LassoCV, LinearRegression, LogisticRegressionCV\n",
    "from sklearn.preprocessing import StandardScaler\n",
    "from sklearn.ensemble import GradientBoostingRegressor, GradientBoostingClassifier\n",
    "from sklearn.ensemble import RandomForestRegressor, RandomForestClassifier\n",
    "from sklearn.tree import DecisionTreeRegressor, DecisionTreeClassifier\n",
    "import warnings\n",
    "from sklearn.base import BaseEstimator, clone\n",
    "from IPython.display import Markdown\n",
    "import wget\n",
    "import seaborn as sns\n",
    "warnings.simplefilter('ignore')\n",
    "np.random.seed(1234)"
   ]
  },
  {
   "cell_type": "code",
   "execution_count": 3,
   "id": "6e66e77f",
   "metadata": {
    "id": "6e66e77f"
   },
   "outputs": [],
   "source": [
    "file = \"https://raw.githubusercontent.com/CausalAIBook/MetricsMLNotebooks/main/data/401k.csv\"\n",
    "data = pd.read_csv(file)"
   ]
  },
  {
   "cell_type": "code",
   "execution_count": 4,
   "id": "65a2d086",
   "metadata": {
    "id": "65a2d086"
   },
   "outputs": [
    {
     "data": {
      "text/html": [
       "<div>\n",
       "<style scoped>\n",
       "    .dataframe tbody tr th:only-of-type {\n",
       "        vertical-align: middle;\n",
       "    }\n",
       "\n",
       "    .dataframe tbody tr th {\n",
       "        vertical-align: top;\n",
       "    }\n",
       "\n",
       "    .dataframe thead th {\n",
       "        text-align: right;\n",
       "    }\n",
       "</style>\n",
       "<table border=\"1\" class=\"dataframe\">\n",
       "  <thead>\n",
       "    <tr style=\"text-align: right;\">\n",
       "      <th></th>\n",
       "      <th>ira</th>\n",
       "      <th>a401</th>\n",
       "      <th>hval</th>\n",
       "      <th>hmort</th>\n",
       "      <th>hequity</th>\n",
       "      <th>nifa</th>\n",
       "      <th>net_nifa</th>\n",
       "      <th>tfa</th>\n",
       "      <th>net_tfa</th>\n",
       "      <th>tfa_he</th>\n",
       "      <th>...</th>\n",
       "      <th>i3</th>\n",
       "      <th>i4</th>\n",
       "      <th>i5</th>\n",
       "      <th>i6</th>\n",
       "      <th>i7</th>\n",
       "      <th>a1</th>\n",
       "      <th>a2</th>\n",
       "      <th>a3</th>\n",
       "      <th>a4</th>\n",
       "      <th>a5</th>\n",
       "    </tr>\n",
       "  </thead>\n",
       "  <tbody>\n",
       "    <tr>\n",
       "      <th>count</th>\n",
       "      <td>9915.000000</td>\n",
       "      <td>9915.000000</td>\n",
       "      <td>9915.000000</td>\n",
       "      <td>9915.000000</td>\n",
       "      <td>9915.000000</td>\n",
       "      <td>9.915000e+03</td>\n",
       "      <td>9.915000e+03</td>\n",
       "      <td>9.915000e+03</td>\n",
       "      <td>9.915000e+03</td>\n",
       "      <td>9.915000e+03</td>\n",
       "      <td>...</td>\n",
       "      <td>9915.000000</td>\n",
       "      <td>9915.000000</td>\n",
       "      <td>9915.000000</td>\n",
       "      <td>9915.000000</td>\n",
       "      <td>9915.000000</td>\n",
       "      <td>9915.000000</td>\n",
       "      <td>9915.000000</td>\n",
       "      <td>9915.000000</td>\n",
       "      <td>9915.000000</td>\n",
       "      <td>9915.000000</td>\n",
       "    </tr>\n",
       "    <tr>\n",
       "      <th>mean</th>\n",
       "      <td>3462.871609</td>\n",
       "      <td>3990.459304</td>\n",
       "      <td>63595.865759</td>\n",
       "      <td>30022.505093</td>\n",
       "      <td>33573.360666</td>\n",
       "      <td>1.392864e+04</td>\n",
       "      <td>1.041415e+04</td>\n",
       "      <td>2.156603e+04</td>\n",
       "      <td>1.805153e+04</td>\n",
       "      <td>5.162490e+04</td>\n",
       "      <td>...</td>\n",
       "      <td>0.209178</td>\n",
       "      <td>0.172668</td>\n",
       "      <td>0.121432</td>\n",
       "      <td>0.158548</td>\n",
       "      <td>0.077358</td>\n",
       "      <td>0.144024</td>\n",
       "      <td>0.209682</td>\n",
       "      <td>0.297428</td>\n",
       "      <td>0.215431</td>\n",
       "      <td>0.133434</td>\n",
       "    </tr>\n",
       "    <tr>\n",
       "      <th>std</th>\n",
       "      <td>9648.027853</td>\n",
       "      <td>12825.840676</td>\n",
       "      <td>73679.374267</td>\n",
       "      <td>40056.879558</td>\n",
       "      <td>51830.770524</td>\n",
       "      <td>5.490488e+04</td>\n",
       "      <td>5.602886e+04</td>\n",
       "      <td>6.256504e+04</td>\n",
       "      <td>6.352250e+04</td>\n",
       "      <td>9.325339e+04</td>\n",
       "      <td>...</td>\n",
       "      <td>0.406742</td>\n",
       "      <td>0.377979</td>\n",
       "      <td>0.326645</td>\n",
       "      <td>0.365272</td>\n",
       "      <td>0.267171</td>\n",
       "      <td>0.351132</td>\n",
       "      <td>0.407102</td>\n",
       "      <td>0.457150</td>\n",
       "      <td>0.411142</td>\n",
       "      <td>0.340061</td>\n",
       "    </tr>\n",
       "    <tr>\n",
       "      <th>min</th>\n",
       "      <td>0.000000</td>\n",
       "      <td>0.000000</td>\n",
       "      <td>0.000000</td>\n",
       "      <td>0.000000</td>\n",
       "      <td>-40000.000000</td>\n",
       "      <td>0.000000e+00</td>\n",
       "      <td>-5.023020e+05</td>\n",
       "      <td>0.000000e+00</td>\n",
       "      <td>-5.023020e+05</td>\n",
       "      <td>-5.023020e+05</td>\n",
       "      <td>...</td>\n",
       "      <td>0.000000</td>\n",
       "      <td>0.000000</td>\n",
       "      <td>0.000000</td>\n",
       "      <td>0.000000</td>\n",
       "      <td>0.000000</td>\n",
       "      <td>0.000000</td>\n",
       "      <td>0.000000</td>\n",
       "      <td>0.000000</td>\n",
       "      <td>0.000000</td>\n",
       "      <td>0.000000</td>\n",
       "    </tr>\n",
       "    <tr>\n",
       "      <th>25%</th>\n",
       "      <td>0.000000</td>\n",
       "      <td>0.000000</td>\n",
       "      <td>0.000000</td>\n",
       "      <td>0.000000</td>\n",
       "      <td>0.000000</td>\n",
       "      <td>2.000000e+02</td>\n",
       "      <td>-1.350000e+03</td>\n",
       "      <td>3.750000e+02</td>\n",
       "      <td>-5.000000e+02</td>\n",
       "      <td>2.000000e+02</td>\n",
       "      <td>...</td>\n",
       "      <td>0.000000</td>\n",
       "      <td>0.000000</td>\n",
       "      <td>0.000000</td>\n",
       "      <td>0.000000</td>\n",
       "      <td>0.000000</td>\n",
       "      <td>0.000000</td>\n",
       "      <td>0.000000</td>\n",
       "      <td>0.000000</td>\n",
       "      <td>0.000000</td>\n",
       "      <td>0.000000</td>\n",
       "    </tr>\n",
       "    <tr>\n",
       "      <th>50%</th>\n",
       "      <td>0.000000</td>\n",
       "      <td>0.000000</td>\n",
       "      <td>48000.000000</td>\n",
       "      <td>7000.000000</td>\n",
       "      <td>10000.000000</td>\n",
       "      <td>1.635000e+03</td>\n",
       "      <td>2.700000e+02</td>\n",
       "      <td>3.325000e+03</td>\n",
       "      <td>1.499000e+03</td>\n",
       "      <td>1.850000e+04</td>\n",
       "      <td>...</td>\n",
       "      <td>0.000000</td>\n",
       "      <td>0.000000</td>\n",
       "      <td>0.000000</td>\n",
       "      <td>0.000000</td>\n",
       "      <td>0.000000</td>\n",
       "      <td>0.000000</td>\n",
       "      <td>0.000000</td>\n",
       "      <td>0.000000</td>\n",
       "      <td>0.000000</td>\n",
       "      <td>0.000000</td>\n",
       "    </tr>\n",
       "    <tr>\n",
       "      <th>75%</th>\n",
       "      <td>0.000000</td>\n",
       "      <td>200.000000</td>\n",
       "      <td>95000.000000</td>\n",
       "      <td>50000.000000</td>\n",
       "      <td>46650.000000</td>\n",
       "      <td>8.765500e+03</td>\n",
       "      <td>6.543500e+03</td>\n",
       "      <td>1.908450e+04</td>\n",
       "      <td>1.652450e+04</td>\n",
       "      <td>6.920000e+04</td>\n",
       "      <td>...</td>\n",
       "      <td>0.000000</td>\n",
       "      <td>0.000000</td>\n",
       "      <td>0.000000</td>\n",
       "      <td>0.000000</td>\n",
       "      <td>0.000000</td>\n",
       "      <td>0.000000</td>\n",
       "      <td>0.000000</td>\n",
       "      <td>1.000000</td>\n",
       "      <td>0.000000</td>\n",
       "      <td>0.000000</td>\n",
       "    </tr>\n",
       "    <tr>\n",
       "      <th>max</th>\n",
       "      <td>100000.000000</td>\n",
       "      <td>153000.000000</td>\n",
       "      <td>300000.000000</td>\n",
       "      <td>150000.000000</td>\n",
       "      <td>300000.000000</td>\n",
       "      <td>1.430298e+06</td>\n",
       "      <td>1.430298e+06</td>\n",
       "      <td>1.536798e+06</td>\n",
       "      <td>1.536798e+06</td>\n",
       "      <td>1.687115e+06</td>\n",
       "      <td>...</td>\n",
       "      <td>1.000000</td>\n",
       "      <td>1.000000</td>\n",
       "      <td>1.000000</td>\n",
       "      <td>1.000000</td>\n",
       "      <td>1.000000</td>\n",
       "      <td>1.000000</td>\n",
       "      <td>1.000000</td>\n",
       "      <td>1.000000</td>\n",
       "      <td>1.000000</td>\n",
       "      <td>1.000000</td>\n",
       "    </tr>\n",
       "  </tbody>\n",
       "</table>\n",
       "<p>8 rows × 44 columns</p>\n",
       "</div>"
      ],
      "text/plain": [
       "                 ira           a401           hval          hmort  \\\n",
       "count    9915.000000    9915.000000    9915.000000    9915.000000   \n",
       "mean     3462.871609    3990.459304   63595.865759   30022.505093   \n",
       "std      9648.027853   12825.840676   73679.374267   40056.879558   \n",
       "min         0.000000       0.000000       0.000000       0.000000   \n",
       "25%         0.000000       0.000000       0.000000       0.000000   \n",
       "50%         0.000000       0.000000   48000.000000    7000.000000   \n",
       "75%         0.000000     200.000000   95000.000000   50000.000000   \n",
       "max    100000.000000  153000.000000  300000.000000  150000.000000   \n",
       "\n",
       "             hequity          nifa      net_nifa           tfa       net_tfa  \\\n",
       "count    9915.000000  9.915000e+03  9.915000e+03  9.915000e+03  9.915000e+03   \n",
       "mean    33573.360666  1.392864e+04  1.041415e+04  2.156603e+04  1.805153e+04   \n",
       "std     51830.770524  5.490488e+04  5.602886e+04  6.256504e+04  6.352250e+04   \n",
       "min    -40000.000000  0.000000e+00 -5.023020e+05  0.000000e+00 -5.023020e+05   \n",
       "25%         0.000000  2.000000e+02 -1.350000e+03  3.750000e+02 -5.000000e+02   \n",
       "50%     10000.000000  1.635000e+03  2.700000e+02  3.325000e+03  1.499000e+03   \n",
       "75%     46650.000000  8.765500e+03  6.543500e+03  1.908450e+04  1.652450e+04   \n",
       "max    300000.000000  1.430298e+06  1.430298e+06  1.536798e+06  1.536798e+06   \n",
       "\n",
       "             tfa_he  ...           i3           i4           i5           i6  \\\n",
       "count  9.915000e+03  ...  9915.000000  9915.000000  9915.000000  9915.000000   \n",
       "mean   5.162490e+04  ...     0.209178     0.172668     0.121432     0.158548   \n",
       "std    9.325339e+04  ...     0.406742     0.377979     0.326645     0.365272   \n",
       "min   -5.023020e+05  ...     0.000000     0.000000     0.000000     0.000000   \n",
       "25%    2.000000e+02  ...     0.000000     0.000000     0.000000     0.000000   \n",
       "50%    1.850000e+04  ...     0.000000     0.000000     0.000000     0.000000   \n",
       "75%    6.920000e+04  ...     0.000000     0.000000     0.000000     0.000000   \n",
       "max    1.687115e+06  ...     1.000000     1.000000     1.000000     1.000000   \n",
       "\n",
       "                i7           a1           a2           a3           a4  \\\n",
       "count  9915.000000  9915.000000  9915.000000  9915.000000  9915.000000   \n",
       "mean      0.077358     0.144024     0.209682     0.297428     0.215431   \n",
       "std       0.267171     0.351132     0.407102     0.457150     0.411142   \n",
       "min       0.000000     0.000000     0.000000     0.000000     0.000000   \n",
       "25%       0.000000     0.000000     0.000000     0.000000     0.000000   \n",
       "50%       0.000000     0.000000     0.000000     0.000000     0.000000   \n",
       "75%       0.000000     0.000000     0.000000     1.000000     0.000000   \n",
       "max       1.000000     1.000000     1.000000     1.000000     1.000000   \n",
       "\n",
       "                a5  \n",
       "count  9915.000000  \n",
       "mean      0.133434  \n",
       "std       0.340061  \n",
       "min       0.000000  \n",
       "25%       0.000000  \n",
       "50%       0.000000  \n",
       "75%       0.000000  \n",
       "max       1.000000  \n",
       "\n",
       "[8 rows x 44 columns]"
      ]
     },
     "execution_count": 4,
     "metadata": {},
     "output_type": "execute_result"
    }
   ],
   "source": [
    "data.describe()"
   ]
  },
  {
   "cell_type": "code",
   "execution_count": 5,
   "id": "00884061",
   "metadata": {
    "id": "00884061"
   },
   "outputs": [
    {
     "data": {
      "text/html": [
       "<div>\n",
       "<style scoped>\n",
       "    .dataframe tbody tr th:only-of-type {\n",
       "        vertical-align: middle;\n",
       "    }\n",
       "\n",
       "    .dataframe tbody tr th {\n",
       "        vertical-align: top;\n",
       "    }\n",
       "\n",
       "    .dataframe thead th {\n",
       "        text-align: right;\n",
       "    }\n",
       "</style>\n",
       "<table border=\"1\" class=\"dataframe\">\n",
       "  <thead>\n",
       "    <tr style=\"text-align: right;\">\n",
       "      <th></th>\n",
       "      <th>ira</th>\n",
       "      <th>a401</th>\n",
       "      <th>hval</th>\n",
       "      <th>hmort</th>\n",
       "      <th>hequity</th>\n",
       "      <th>nifa</th>\n",
       "      <th>net_nifa</th>\n",
       "      <th>tfa</th>\n",
       "      <th>net_tfa</th>\n",
       "      <th>tfa_he</th>\n",
       "      <th>...</th>\n",
       "      <th>i3</th>\n",
       "      <th>i4</th>\n",
       "      <th>i5</th>\n",
       "      <th>i6</th>\n",
       "      <th>i7</th>\n",
       "      <th>a1</th>\n",
       "      <th>a2</th>\n",
       "      <th>a3</th>\n",
       "      <th>a4</th>\n",
       "      <th>a5</th>\n",
       "    </tr>\n",
       "  </thead>\n",
       "  <tbody>\n",
       "    <tr>\n",
       "      <th>0</th>\n",
       "      <td>0</td>\n",
       "      <td>0</td>\n",
       "      <td>69000</td>\n",
       "      <td>60150</td>\n",
       "      <td>8850</td>\n",
       "      <td>100</td>\n",
       "      <td>-3300</td>\n",
       "      <td>100</td>\n",
       "      <td>-3300</td>\n",
       "      <td>5550</td>\n",
       "      <td>...</td>\n",
       "      <td>1</td>\n",
       "      <td>0</td>\n",
       "      <td>0</td>\n",
       "      <td>0</td>\n",
       "      <td>0</td>\n",
       "      <td>0</td>\n",
       "      <td>1</td>\n",
       "      <td>0</td>\n",
       "      <td>0</td>\n",
       "      <td>0</td>\n",
       "    </tr>\n",
       "    <tr>\n",
       "      <th>1</th>\n",
       "      <td>0</td>\n",
       "      <td>0</td>\n",
       "      <td>78000</td>\n",
       "      <td>20000</td>\n",
       "      <td>58000</td>\n",
       "      <td>61010</td>\n",
       "      <td>61010</td>\n",
       "      <td>61010</td>\n",
       "      <td>61010</td>\n",
       "      <td>119010</td>\n",
       "      <td>...</td>\n",
       "      <td>0</td>\n",
       "      <td>1</td>\n",
       "      <td>0</td>\n",
       "      <td>0</td>\n",
       "      <td>0</td>\n",
       "      <td>0</td>\n",
       "      <td>0</td>\n",
       "      <td>0</td>\n",
       "      <td>1</td>\n",
       "      <td>0</td>\n",
       "    </tr>\n",
       "    <tr>\n",
       "      <th>2</th>\n",
       "      <td>1800</td>\n",
       "      <td>0</td>\n",
       "      <td>200000</td>\n",
       "      <td>15900</td>\n",
       "      <td>184100</td>\n",
       "      <td>7549</td>\n",
       "      <td>7049</td>\n",
       "      <td>9349</td>\n",
       "      <td>8849</td>\n",
       "      <td>192949</td>\n",
       "      <td>...</td>\n",
       "      <td>0</td>\n",
       "      <td>0</td>\n",
       "      <td>0</td>\n",
       "      <td>1</td>\n",
       "      <td>0</td>\n",
       "      <td>0</td>\n",
       "      <td>0</td>\n",
       "      <td>0</td>\n",
       "      <td>1</td>\n",
       "      <td>0</td>\n",
       "    </tr>\n",
       "    <tr>\n",
       "      <th>3</th>\n",
       "      <td>0</td>\n",
       "      <td>0</td>\n",
       "      <td>0</td>\n",
       "      <td>0</td>\n",
       "      <td>0</td>\n",
       "      <td>2487</td>\n",
       "      <td>-6013</td>\n",
       "      <td>2487</td>\n",
       "      <td>-6013</td>\n",
       "      <td>-6013</td>\n",
       "      <td>...</td>\n",
       "      <td>0</td>\n",
       "      <td>0</td>\n",
       "      <td>1</td>\n",
       "      <td>0</td>\n",
       "      <td>0</td>\n",
       "      <td>1</td>\n",
       "      <td>0</td>\n",
       "      <td>0</td>\n",
       "      <td>0</td>\n",
       "      <td>0</td>\n",
       "    </tr>\n",
       "    <tr>\n",
       "      <th>4</th>\n",
       "      <td>0</td>\n",
       "      <td>0</td>\n",
       "      <td>300000</td>\n",
       "      <td>90000</td>\n",
       "      <td>210000</td>\n",
       "      <td>10625</td>\n",
       "      <td>-2375</td>\n",
       "      <td>10625</td>\n",
       "      <td>-2375</td>\n",
       "      <td>207625</td>\n",
       "      <td>...</td>\n",
       "      <td>0</td>\n",
       "      <td>1</td>\n",
       "      <td>0</td>\n",
       "      <td>0</td>\n",
       "      <td>0</td>\n",
       "      <td>0</td>\n",
       "      <td>0</td>\n",
       "      <td>1</td>\n",
       "      <td>0</td>\n",
       "      <td>0</td>\n",
       "    </tr>\n",
       "  </tbody>\n",
       "</table>\n",
       "<p>5 rows × 44 columns</p>\n",
       "</div>"
      ],
      "text/plain": [
       "    ira  a401    hval  hmort  hequity   nifa  net_nifa    tfa  net_tfa  \\\n",
       "0     0     0   69000  60150     8850    100     -3300    100    -3300   \n",
       "1     0     0   78000  20000    58000  61010     61010  61010    61010   \n",
       "2  1800     0  200000  15900   184100   7549      7049   9349     8849   \n",
       "3     0     0       0      0        0   2487     -6013   2487    -6013   \n",
       "4     0     0  300000  90000   210000  10625     -2375  10625    -2375   \n",
       "\n",
       "   tfa_he  ...  i3  i4  i5  i6  i7  a1  a2  a3  a4  a5  \n",
       "0    5550  ...   1   0   0   0   0   0   1   0   0   0  \n",
       "1  119010  ...   0   1   0   0   0   0   0   0   1   0  \n",
       "2  192949  ...   0   0   0   1   0   0   0   0   1   0  \n",
       "3   -6013  ...   0   0   1   0   0   1   0   0   0   0  \n",
       "4  207625  ...   0   1   0   0   0   0   0   1   0   0  \n",
       "\n",
       "[5 rows x 44 columns]"
      ]
     },
     "execution_count": 5,
     "metadata": {},
     "output_type": "execute_result"
    }
   ],
   "source": [
    "data.head()"
   ]
  },
  {
   "cell_type": "code",
   "execution_count": 7,
   "id": "1d3dc85c",
   "metadata": {
    "id": "1d3dc85c",
    "scrolled": true
   },
   "outputs": [
    {
     "name": "stdout",
     "output_type": "stream",
     "text": [
      "\r",
      "  0% [                                                                                ]    0 / 2901\r",
      "100% [................................................................................] 2901 / 2901"
     ]
    },
    {
     "data": {
      "text/markdown": [
       "# Pension 401(k) data set\n",
       "\n",
       "## Description\n",
       "Data set on financial wealth and 401(k) plan participation. The source of this data set is the `hdm` package in `R`. It was created on 2/20/2023, by calling the `data(pension)` command in `R` after loading the `hdm` package and then writing the created dataframe to a csv file.\n",
       "\n",
       "## Format\n",
       "Dataframe with the following variables (amongst others):\n",
       "\n",
       "**p401**\n",
       "\n",
       "participation in 401(k)\n",
       "\n",
       "**e401**\n",
       "\n",
       "eligibility for 401(k)\n",
       "\n",
       "**a401**\n",
       "\n",
       "401(k) assets\n",
       "\n",
       "**tw**\n",
       "\n",
       "total wealth (in US $)\n",
       "\n",
       "**tfa**\n",
       "\n",
       "financial assets (in US $)\n",
       "\n",
       "**net_tfa**\n",
       "\n",
       "net financial assets (in US $)\n",
       "\n",
       "**nifa**\n",
       "\n",
       "non-401k financial assets (in US $)\n",
       "\n",
       "**net_nifa**\n",
       "\n",
       "net non-401k financial assets\n",
       "\n",
       "**net_n401**\n",
       "\n",
       "net non-401(k) assets (in US $)\n",
       "\n",
       "**ira**\n",
       "\n",
       "individual retirement account (IRA)\n",
       "\n",
       "**inc**\n",
       "\n",
       "income (in US $)\n",
       "\n",
       "**age**\n",
       "\n",
       "age\n",
       "\n",
       "**fsize**\n",
       "\n",
       "family size\n",
       "\n",
       "**marr**\n",
       "\n",
       "married\n",
       "\n",
       "**pira**\n",
       "\n",
       "participation in IRA\n",
       "\n",
       "**db**\n",
       "\n",
       "defined benefit pension\n",
       "\n",
       "**hown**\n",
       "\n",
       "home owner\n",
       "\n",
       "**educ**\n",
       "\n",
       "education (in years)\n",
       "\n",
       "**male**\n",
       "\n",
       "male\n",
       "\n",
       "**twoearn**\n",
       "\n",
       "two earners\n",
       "\n",
       "**nohs, hs, smcol, col**\n",
       "\n",
       "dummies for education: no high-school, high-school, some college, college\n",
       "\n",
       "**hmort**\n",
       "\n",
       "home mortage (in US $)\n",
       "\n",
       "**hequity**\n",
       "\n",
       "home equity (in US $)\n",
       "\n",
       "**hval**\n",
       "\n",
       "home value (in US $)\n",
       "\n",
       "**i1-i7**\n",
       "\n",
       "are income category indicators, \n",
       "\n",
       "**a1-a5**\n",
       "\n",
       "are age category indicators\n",
       "\n",
       "**icat** \n",
       "\n",
       "is the categorical variable that produces i1-i7. \n",
       "\n",
       "**ecat** \n",
       "\n",
       "is the categorical variable that generates education dummies (no high school, high school, some college, college). \n",
       "\n",
       "**Dum91**\n",
       "\n",
       "is a dummy for 1991 which is equal to 1 for all observations because we are only use the 1991 SIPP. \n",
       "\n",
       "**tfa_he**\n",
       "\n",
       "is net_tfa + home equity.\n",
       "\n",
       "**zhat**\n",
       "\n",
       "outcome of first stage prediction in instrumental variable analysis, from the academic paper that introduced this data\n",
       "\n",
       "\n",
       "## Details\n",
       "The sample is drawn from the 1991 Survey of Income and Program Participation (SIPP) and consists of 9,915 observations. The observational units are household reference persons aged 25-64 and spouse if present. Households are included in the sample if at least one person is employed and no one is self-employed. The data set was analysed in Chernozhukov and Hansen (2004) and Belloni et al. (2014) where further details can be found. They examine the effects of 401(k) plans on wealth using data from the Survey of Income and Program Participation using 401(k) eligibility as an instrument for 401(k) participation.\n",
       "\n",
       "## References\n",
       "V. Chernohukov, C. Hansen (2004). The impact of 401(k) participation on the wealth distribution: An instrumental quantile regression analysis. The Review of Economic and Statistics 86 (3), 735â€“751.\n",
       "\n",
       "A. Belloni, V. Chernozhukov, I. Fernandez-Val, and C. Hansen (2014). Program evaluation with high-dimensional data. Working Paper."
      ],
      "text/plain": [
       "<IPython.core.display.Markdown object>"
      ]
     },
     "execution_count": 7,
     "metadata": {},
     "output_type": "execute_result"
    }
   ],
   "source": [
    "readme = \"https://raw.githubusercontent.com/CausalAIBook/MetricsMLNotebooks/main/data/401k.md\"\n",
    "filename = wget.download(readme)\n",
    "Markdown(open(filename, 'r').read())"
   ]
  },
  {
   "cell_type": "markdown",
   "id": "looking-invention",
   "metadata": {
    "id": "looking-invention"
   },
   "source": [
    "The data consist of 9,915 observations at the household level drawn from the 1991 Survey of Income and Program Participation (SIPP). We use net financial assets (*net\\_tfa*) as the outcome variable, $Y$,  in our analysis. The net financial assets are computed as the sum of IRA balances, 401(k) balances, checking accounts, saving bonds, other interest-earning accounts, other interest-earning assets, stocks, and mutual funds less non mortgage debts."
   ]
  },
  {
   "cell_type": "markdown",
   "id": "received-nutrition",
   "metadata": {
    "id": "received-nutrition"
   },
   "source": [
    "Among the $9915$ individuals, $3682$ are eligible to participate in the program. The variable *e401* indicates eligibility and *p401* indicates participation, respectively."
   ]
  },
  {
   "cell_type": "code",
   "execution_count": 8,
   "id": "MaLLqrNdcK09",
   "metadata": {
    "id": "MaLLqrNdcK09"
   },
   "outputs": [
    {
     "data": {
      "image/png": "[encoded data removed]",
      "text/plain": [
       "<Figure size 640x480 with 1 Axes>"
      ]
     },
     "metadata": {},
     "output_type": "display_data"
    }
   ],
   "source": [
    "sns.countplot(data, x='e401')\n",
    "plt.show()"
   ]
  },
  {
   "cell_type": "markdown",
   "id": "material-sending",
   "metadata": {
    "id": "material-sending"
   },
   "source": [
    "Eligibility is highly associated with financial wealth:"
   ]
  },
  {
   "cell_type": "code",
   "execution_count": 9,
   "id": "a7741bb6",
   "metadata": {
    "id": "a7741bb6"
   },
   "outputs": [
    {
     "data": {
      "image/png": "[encoded data removed]",
      "text/plain": [
       "<Figure size 1058.88x500 with 2 Axes>"
      ]
     },
     "metadata": {},
     "output_type": "display_data"
    }
   ],
   "source": [
    "sns.displot(data=data, x='net_tfa', kind='kde', col='e401', hue='e401', fill=True)\n",
    "plt.show()"
   ]
  },
  {
   "cell_type": "markdown",
   "id": "awful-antigua",
   "metadata": {
    "id": "awful-antigua"
   },
   "source": [
    "The unconditional APE of e401 is about $19559$:"
   ]
  },
  {
   "cell_type": "code",
   "execution_count": 10,
   "id": "ef070d79",
   "metadata": {
    "id": "ef070d79"
   },
   "outputs": [
    {
     "name": "stdout",
     "output_type": "stream",
     "text": [
      "19559\n"
     ]
    }
   ],
   "source": [
    "e1 = data[data['e401'] == 1]['net_tfa']\n",
    "e0 = data[data['e401'] == 0]['net_tfa']\n",
    "print(f'{np.mean(e1) - np.mean(e0):.0f}')"
   ]
  },
  {
   "cell_type": "markdown",
   "id": "cross-priority",
   "metadata": {
    "id": "cross-priority"
   },
   "source": [
    "Among the $3682$ individuals that  are eligible, $2594$ decided to participate in the program. The unconditional APE of p401 is about $27372$:"
   ]
  },
  {
   "cell_type": "code",
   "execution_count": 11,
   "id": "33cd014e",
   "metadata": {
    "id": "33cd014e"
   },
   "outputs": [
    {
     "name": "stdout",
     "output_type": "stream",
     "text": [
      "27372\n"
     ]
    }
   ],
   "source": [
    "e1 = data[data['p401'] == 1]['net_tfa']\n",
    "e0 = data[data['p401'] == 0]['net_tfa']\n",
    "print(f'{np.mean(e1) - np.mean(e0):.0f}')"
   ]
  },
  {
   "cell_type": "markdown",
   "id": "suitable-vulnerability",
   "metadata": {
    "id": "suitable-vulnerability"
   },
   "source": [
    "As discussed, these estimates are biased since they do not account for saver heterogeneity and endogeneity of participation."
   ]
  },
  {
   "cell_type": "code",
   "execution_count": 12,
   "id": "a9354414",
   "metadata": {
    "id": "a9354414"
   },
   "outputs": [
    {
     "data": {
      "text/plain": [
       "Index(['age', 'inc', 'fsize', 'educ', 'db', 'marr', 'male', 'twoearn', 'pira',\n",
       "       'nohs', 'hs', 'smcol', 'col', 'hown'],\n",
       "      dtype='object')"
      ]
     },
     "execution_count": 12,
     "metadata": {},
     "output_type": "execute_result"
    }
   ],
   "source": [
    "y = data['net_tfa'].values\n",
    "D = data['e401'].values\n",
    "D2 = data['p401'].values\n",
    "D3 = data['a401'].values\n",
    "X = data.drop(['e401', 'p401', 'a401', 'tw', 'tfa', 'net_tfa', 'tfa_he',\n",
    "               'hval', 'hmort', 'hequity',\n",
    "               'nifa', 'net_nifa', 'net_n401', 'ira',\n",
    "               'dum91', 'icat', 'ecat', 'zhat',\n",
    "               'i1', 'i2', 'i3', 'i4', 'i5', 'i6', 'i7',\n",
    "               'a1', 'a2', 'a3', 'a4', 'a5'], axis=1)\n",
    "X.columns"
   ]
  },
  {
   "cell_type": "markdown",
   "id": "c4c3e489",
   "metadata": {
    "id": "c4c3e489"
   },
   "source": [
    "### We define a transformer that constructs the engineered features for controls"
   ]
  },
  {
   "cell_type": "code",
   "execution_count": 13,
   "id": "a2cfdf4c",
   "metadata": {
    "id": "a2cfdf4c"
   },
   "outputs": [
    {
     "name": "stdout",
     "output_type": "stream",
     "text": [
      "Defaulting to user installation because normal site-packages is not writeable\n",
      "Collecting formulaic\n",
      "  Obtaining dependency information for formulaic from https://files.pythonhosted.org/packages/2c/09/7a9f95d35106d882f79ddabc2d33d8f2a262863f1f5d6fd00f46c5fc90aa/formulaic-1.0.1-py3-none-any.whl.metadata\n",
      "  Downloading formulaic-1.0.1-py3-none-any.whl.metadata (6.1 kB)\n",
      "Collecting interface-meta>=1.2.0 (from formulaic)\n",
      "  Obtaining dependency information for interface-meta>=1.2.0 from https://files.pythonhosted.org/packages/02/3f/a6ec28c88e2d8e54d32598a1e0b5208a4baa72a8e7f6e241beab5731eb9d/interface_meta-1.3.0-py3-none-any.whl.metadata\n",
      "  Downloading interface_meta-1.3.0-py3-none-any.whl.metadata (6.7 kB)\n",
      "Requirement already satisfied: numpy>=1.16.5 in c:\\programdata\\anaconda3\\lib\\site-packages (from formulaic) (1.24.4)\n",
      "Requirement already satisfied: pandas>=1.0 in c:\\programdata\\anaconda3\\lib\\site-packages (from formulaic) (2.0.3)\n",
      "Requirement already satisfied: scipy>=1.6 in c:\\programdata\\anaconda3\\lib\\site-packages (from formulaic) (1.11.1)\n",
      "Requirement already satisfied: typing-extensions>=4.2.0 in c:\\programdata\\anaconda3\\lib\\site-packages (from formulaic) (4.7.1)\n",
      "Requirement already satisfied: wrapt>=1.0 in c:\\programdata\\anaconda3\\lib\\site-packages (from formulaic) (1.14.1)\n",
      "Requirement already satisfied: python-dateutil>=2.8.2 in c:\\programdata\\anaconda3\\lib\\site-packages (from pandas>=1.0->formulaic) (2.8.2)\n",
      "Requirement already satisfied: pytz>=2020.1 in c:\\programdata\\anaconda3\\lib\\site-packages (from pandas>=1.0->formulaic) (2023.3.post1)\n",
      "Requirement already satisfied: tzdata>=2022.1 in c:\\programdata\\anaconda3\\lib\\site-packages (from pandas>=1.0->formulaic) (2023.3)\n",
      "Requirement already satisfied: six>=1.5 in c:\\programdata\\anaconda3\\lib\\site-packages (from python-dateutil>=2.8.2->pandas>=1.0->formulaic) (1.16.0)\n",
      "Downloading formulaic-1.0.1-py3-none-any.whl (94 kB)\n",
      "   ---------------------------------------- 0.0/94.2 kB ? eta -:--:--\n",
      "   ---- ----------------------------------- 10.2/94.2 kB ? eta -:--:--\n",
      "   ----------------- ---------------------- 41.0/94.2 kB 495.5 kB/s eta 0:00:01\n",
      "   ---------------------------------------  92.2/94.2 kB 871.5 kB/s eta 0:00:01\n",
      "   ---------------------------------------- 94.2/94.2 kB 671.7 kB/s eta 0:00:00\n",
      "Downloading interface_meta-1.3.0-py3-none-any.whl (14 kB)\n",
      "Installing collected packages: interface-meta, formulaic\n",
      "Successfully installed formulaic-1.0.1 interface-meta-1.3.0\n"
     ]
    }
   ],
   "source": [
    "!pip install formulaic"
   ]
  },
  {
   "cell_type": "code",
   "execution_count": 14,
   "id": "53b1283d",
   "metadata": {
    "id": "53b1283d"
   },
   "outputs": [],
   "source": [
    "from sklearn.base import TransformerMixin\n",
    "from formulaic import Formula\n",
    "\n",
    "\n",
    "class FormulaTransformer(TransformerMixin, BaseEstimator):\n",
    "\n",
    "    def __init__(self, formula, array=False):\n",
    "        self.formula = formula\n",
    "        self.array = array\n",
    "\n",
    "    def fit(self, X, y=None):\n",
    "        return self\n",
    "\n",
    "    def transform(self, X, y=None):\n",
    "        df = Formula(self.formula).get_model_matrix(X)\n",
    "        if self.array:\n",
    "            return df.values\n",
    "        return df"
   ]
  },
  {
   "cell_type": "code",
   "execution_count": 15,
   "id": "824ee320",
   "metadata": {
    "id": "824ee320"
   },
   "outputs": [],
   "source": [
    "transformer = FormulaTransformer(\"0 + poly(age, degree=6, raw=True) + poly(inc, degree=8, raw=True) \"\n",
    "                                 \"+ poly(educ, degree=4, raw=True) + poly(fsize, degree=2, raw=True) \"\n",
    "                                 \"+ male + marr + twoearn + db + pira + hown\")"
   ]
  },
  {
   "cell_type": "code",
   "execution_count": 16,
   "id": "b35bbd34",
   "metadata": {
    "id": "b35bbd34"
   },
   "outputs": [
    {
     "data": {
      "text/html": [
       "<div>\n",
       "<style scoped>\n",
       "    .dataframe tbody tr th:only-of-type {\n",
       "        vertical-align: middle;\n",
       "    }\n",
       "\n",
       "    .dataframe tbody tr th {\n",
       "        vertical-align: top;\n",
       "    }\n",
       "\n",
       "    .dataframe thead th {\n",
       "        text-align: right;\n",
       "    }\n",
       "</style>\n",
       "<table border=\"1\" class=\"dataframe\">\n",
       "  <thead>\n",
       "    <tr style=\"text-align: right;\">\n",
       "      <th></th>\n",
       "      <th>poly(age, degree=6, raw=True)[0]</th>\n",
       "      <th>poly(age, degree=6, raw=True)[1]</th>\n",
       "      <th>poly(age, degree=6, raw=True)[2]</th>\n",
       "      <th>poly(age, degree=6, raw=True)[3]</th>\n",
       "      <th>poly(age, degree=6, raw=True)[4]</th>\n",
       "      <th>poly(age, degree=6, raw=True)[5]</th>\n",
       "      <th>poly(inc, degree=8, raw=True)[0]</th>\n",
       "      <th>poly(inc, degree=8, raw=True)[1]</th>\n",
       "      <th>poly(inc, degree=8, raw=True)[2]</th>\n",
       "      <th>poly(inc, degree=8, raw=True)[3]</th>\n",
       "      <th>...</th>\n",
       "      <th>poly(educ, degree=4, raw=True)[2]</th>\n",
       "      <th>poly(educ, degree=4, raw=True)[3]</th>\n",
       "      <th>poly(fsize, degree=2, raw=True)[0]</th>\n",
       "      <th>poly(fsize, degree=2, raw=True)[1]</th>\n",
       "      <th>male</th>\n",
       "      <th>marr</th>\n",
       "      <th>twoearn</th>\n",
       "      <th>db</th>\n",
       "      <th>pira</th>\n",
       "      <th>hown</th>\n",
       "    </tr>\n",
       "  </thead>\n",
       "  <tbody>\n",
       "    <tr>\n",
       "      <th>count</th>\n",
       "      <td>9915.000000</td>\n",
       "      <td>9915.000000</td>\n",
       "      <td>9915.000000</td>\n",
       "      <td>9.915000e+03</td>\n",
       "      <td>9.915000e+03</td>\n",
       "      <td>9.915000e+03</td>\n",
       "      <td>9915.000000</td>\n",
       "      <td>9.915000e+03</td>\n",
       "      <td>9.915000e+03</td>\n",
       "      <td>9.915000e+03</td>\n",
       "      <td>...</td>\n",
       "      <td>9915.000000</td>\n",
       "      <td>9915.000000</td>\n",
       "      <td>9915.000000</td>\n",
       "      <td>9915.000000</td>\n",
       "      <td>9915.000000</td>\n",
       "      <td>9915.000000</td>\n",
       "      <td>9915.000000</td>\n",
       "      <td>9915.000000</td>\n",
       "      <td>9915.000000</td>\n",
       "      <td>9915.000000</td>\n",
       "    </tr>\n",
       "    <tr>\n",
       "      <th>mean</th>\n",
       "      <td>41.060212</td>\n",
       "      <td>1792.938981</td>\n",
       "      <td>82850.255371</td>\n",
       "      <td>4.022991e+06</td>\n",
       "      <td>2.036867e+08</td>\n",
       "      <td>1.067384e+10</td>\n",
       "      <td>37200.623197</td>\n",
       "      <td>1.997590e+09</td>\n",
       "      <td>1.437534e+14</td>\n",
       "      <td>9.104568e+17</td>\n",
       "      <td>...</td>\n",
       "      <td>2601.853757</td>\n",
       "      <td>38237.377912</td>\n",
       "      <td>2.865860</td>\n",
       "      <td>10.581241</td>\n",
       "      <td>0.205951</td>\n",
       "      <td>0.604841</td>\n",
       "      <td>0.380837</td>\n",
       "      <td>0.271004</td>\n",
       "      <td>0.242158</td>\n",
       "      <td>0.635199</td>\n",
       "    </tr>\n",
       "    <tr>\n",
       "      <th>std</th>\n",
       "      <td>10.344505</td>\n",
       "      <td>899.134499</td>\n",
       "      <td>61725.701911</td>\n",
       "      <td>3.939869e+06</td>\n",
       "      <td>2.448502e+08</td>\n",
       "      <td>1.507229e+10</td>\n",
       "      <td>24774.288006</td>\n",
       "      <td>3.026128e+09</td>\n",
       "      <td>4.129207e+14</td>\n",
       "      <td>3.249753e+18</td>\n",
       "      <td>...</td>\n",
       "      <td>1464.892397</td>\n",
       "      <td>28259.732691</td>\n",
       "      <td>1.538937</td>\n",
       "      <td>11.391608</td>\n",
       "      <td>0.404415</td>\n",
       "      <td>0.488909</td>\n",
       "      <td>0.485617</td>\n",
       "      <td>0.444500</td>\n",
       "      <td>0.428411</td>\n",
       "      <td>0.481399</td>\n",
       "    </tr>\n",
       "    <tr>\n",
       "      <th>min</th>\n",
       "      <td>25.000000</td>\n",
       "      <td>625.000000</td>\n",
       "      <td>15625.000000</td>\n",
       "      <td>3.906250e+05</td>\n",
       "      <td>9.765625e+06</td>\n",
       "      <td>2.441406e+08</td>\n",
       "      <td>-2652.000000</td>\n",
       "      <td>0.000000e+00</td>\n",
       "      <td>-1.865179e+10</td>\n",
       "      <td>-9.222694e+18</td>\n",
       "      <td>...</td>\n",
       "      <td>1.000000</td>\n",
       "      <td>1.000000</td>\n",
       "      <td>1.000000</td>\n",
       "      <td>1.000000</td>\n",
       "      <td>0.000000</td>\n",
       "      <td>0.000000</td>\n",
       "      <td>0.000000</td>\n",
       "      <td>0.000000</td>\n",
       "      <td>0.000000</td>\n",
       "      <td>0.000000</td>\n",
       "    </tr>\n",
       "    <tr>\n",
       "      <th>25%</th>\n",
       "      <td>32.000000</td>\n",
       "      <td>1024.000000</td>\n",
       "      <td>32768.000000</td>\n",
       "      <td>1.048576e+06</td>\n",
       "      <td>3.355443e+07</td>\n",
       "      <td>1.073742e+09</td>\n",
       "      <td>19413.000000</td>\n",
       "      <td>3.768646e+08</td>\n",
       "      <td>7.316072e+12</td>\n",
       "      <td>3.677463e+16</td>\n",
       "      <td>...</td>\n",
       "      <td>1728.000000</td>\n",
       "      <td>20736.000000</td>\n",
       "      <td>2.000000</td>\n",
       "      <td>4.000000</td>\n",
       "      <td>0.000000</td>\n",
       "      <td>0.000000</td>\n",
       "      <td>0.000000</td>\n",
       "      <td>0.000000</td>\n",
       "      <td>0.000000</td>\n",
       "      <td>0.000000</td>\n",
       "    </tr>\n",
       "    <tr>\n",
       "      <th>50%</th>\n",
       "      <td>40.000000</td>\n",
       "      <td>1600.000000</td>\n",
       "      <td>64000.000000</td>\n",
       "      <td>2.560000e+06</td>\n",
       "      <td>1.024000e+08</td>\n",
       "      <td>4.096000e+09</td>\n",
       "      <td>31476.000000</td>\n",
       "      <td>9.907386e+08</td>\n",
       "      <td>3.118449e+13</td>\n",
       "      <td>4.226261e+17</td>\n",
       "      <td>...</td>\n",
       "      <td>1728.000000</td>\n",
       "      <td>20736.000000</td>\n",
       "      <td>3.000000</td>\n",
       "      <td>9.000000</td>\n",
       "      <td>0.000000</td>\n",
       "      <td>1.000000</td>\n",
       "      <td>0.000000</td>\n",
       "      <td>0.000000</td>\n",
       "      <td>0.000000</td>\n",
       "      <td>1.000000</td>\n",
       "    </tr>\n",
       "    <tr>\n",
       "      <th>75%</th>\n",
       "      <td>48.000000</td>\n",
       "      <td>2304.000000</td>\n",
       "      <td>110592.000000</td>\n",
       "      <td>5.308416e+06</td>\n",
       "      <td>2.548040e+08</td>\n",
       "      <td>1.223059e+10</td>\n",
       "      <td>48583.500000</td>\n",
       "      <td>2.360356e+09</td>\n",
       "      <td>1.146744e+14</td>\n",
       "      <td>2.117477e+18</td>\n",
       "      <td>...</td>\n",
       "      <td>4096.000000</td>\n",
       "      <td>65536.000000</td>\n",
       "      <td>4.000000</td>\n",
       "      <td>16.000000</td>\n",
       "      <td>0.000000</td>\n",
       "      <td>1.000000</td>\n",
       "      <td>1.000000</td>\n",
       "      <td>1.000000</td>\n",
       "      <td>0.000000</td>\n",
       "      <td>1.000000</td>\n",
       "    </tr>\n",
       "    <tr>\n",
       "      <th>max</th>\n",
       "      <td>64.000000</td>\n",
       "      <td>4096.000000</td>\n",
       "      <td>262144.000000</td>\n",
       "      <td>1.677722e+07</td>\n",
       "      <td>1.073742e+09</td>\n",
       "      <td>6.871948e+10</td>\n",
       "      <td>242124.000000</td>\n",
       "      <td>5.862403e+10</td>\n",
       "      <td>1.419428e+16</td>\n",
       "      <td>9.222042e+18</td>\n",
       "      <td>...</td>\n",
       "      <td>5832.000000</td>\n",
       "      <td>104976.000000</td>\n",
       "      <td>13.000000</td>\n",
       "      <td>169.000000</td>\n",
       "      <td>1.000000</td>\n",
       "      <td>1.000000</td>\n",
       "      <td>1.000000</td>\n",
       "      <td>1.000000</td>\n",
       "      <td>1.000000</td>\n",
       "      <td>1.000000</td>\n",
       "    </tr>\n",
       "  </tbody>\n",
       "</table>\n",
       "<p>8 rows × 26 columns</p>\n",
       "</div>"
      ],
      "text/plain": [
       "       poly(age, degree=6, raw=True)[0]  poly(age, degree=6, raw=True)[1]  \\\n",
       "count                       9915.000000                       9915.000000   \n",
       "mean                          41.060212                       1792.938981   \n",
       "std                           10.344505                        899.134499   \n",
       "min                           25.000000                        625.000000   \n",
       "25%                           32.000000                       1024.000000   \n",
       "50%                           40.000000                       1600.000000   \n",
       "75%                           48.000000                       2304.000000   \n",
       "max                           64.000000                       4096.000000   \n",
       "\n",
       "       poly(age, degree=6, raw=True)[2]  poly(age, degree=6, raw=True)[3]  \\\n",
       "count                       9915.000000                      9.915000e+03   \n",
       "mean                       82850.255371                      4.022991e+06   \n",
       "std                        61725.701911                      3.939869e+06   \n",
       "min                        15625.000000                      3.906250e+05   \n",
       "25%                        32768.000000                      1.048576e+06   \n",
       "50%                        64000.000000                      2.560000e+06   \n",
       "75%                       110592.000000                      5.308416e+06   \n",
       "max                       262144.000000                      1.677722e+07   \n",
       "\n",
       "       poly(age, degree=6, raw=True)[4]  poly(age, degree=6, raw=True)[5]  \\\n",
       "count                      9.915000e+03                      9.915000e+03   \n",
       "mean                       2.036867e+08                      1.067384e+10   \n",
       "std                        2.448502e+08                      1.507229e+10   \n",
       "min                        9.765625e+06                      2.441406e+08   \n",
       "25%                        3.355443e+07                      1.073742e+09   \n",
       "50%                        1.024000e+08                      4.096000e+09   \n",
       "75%                        2.548040e+08                      1.223059e+10   \n",
       "max                        1.073742e+09                      6.871948e+10   \n",
       "\n",
       "       poly(inc, degree=8, raw=True)[0]  poly(inc, degree=8, raw=True)[1]  \\\n",
       "count                       9915.000000                      9.915000e+03   \n",
       "mean                       37200.623197                      1.997590e+09   \n",
       "std                        24774.288006                      3.026128e+09   \n",
       "min                        -2652.000000                      0.000000e+00   \n",
       "25%                        19413.000000                      3.768646e+08   \n",
       "50%                        31476.000000                      9.907386e+08   \n",
       "75%                        48583.500000                      2.360356e+09   \n",
       "max                       242124.000000                      5.862403e+10   \n",
       "\n",
       "       poly(inc, degree=8, raw=True)[2]  poly(inc, degree=8, raw=True)[3]  \\\n",
       "count                      9.915000e+03                      9.915000e+03   \n",
       "mean                       1.437534e+14                      9.104568e+17   \n",
       "std                        4.129207e+14                      3.249753e+18   \n",
       "min                       -1.865179e+10                     -9.222694e+18   \n",
       "25%                        7.316072e+12                      3.677463e+16   \n",
       "50%                        3.118449e+13                      4.226261e+17   \n",
       "75%                        1.146744e+14                      2.117477e+18   \n",
       "max                        1.419428e+16                      9.222042e+18   \n",
       "\n",
       "       ...  poly(educ, degree=4, raw=True)[2]  \\\n",
       "count  ...                        9915.000000   \n",
       "mean   ...                        2601.853757   \n",
       "std    ...                        1464.892397   \n",
       "min    ...                           1.000000   \n",
       "25%    ...                        1728.000000   \n",
       "50%    ...                        1728.000000   \n",
       "75%    ...                        4096.000000   \n",
       "max    ...                        5832.000000   \n",
       "\n",
       "       poly(educ, degree=4, raw=True)[3]  poly(fsize, degree=2, raw=True)[0]  \\\n",
       "count                        9915.000000                         9915.000000   \n",
       "mean                        38237.377912                            2.865860   \n",
       "std                         28259.732691                            1.538937   \n",
       "min                             1.000000                            1.000000   \n",
       "25%                         20736.000000                            2.000000   \n",
       "50%                         20736.000000                            3.000000   \n",
       "75%                         65536.000000                            4.000000   \n",
       "max                        104976.000000                           13.000000   \n",
       "\n",
       "       poly(fsize, degree=2, raw=True)[1]         male         marr  \\\n",
       "count                         9915.000000  9915.000000  9915.000000   \n",
       "mean                            10.581241     0.205951     0.604841   \n",
       "std                             11.391608     0.404415     0.488909   \n",
       "min                              1.000000     0.000000     0.000000   \n",
       "25%                              4.000000     0.000000     0.000000   \n",
       "50%                              9.000000     0.000000     1.000000   \n",
       "75%                             16.000000     0.000000     1.000000   \n",
       "max                            169.000000     1.000000     1.000000   \n",
       "\n",
       "           twoearn           db         pira         hown  \n",
       "count  9915.000000  9915.000000  9915.000000  9915.000000  \n",
       "mean      0.380837     0.271004     0.242158     0.635199  \n",
       "std       0.485617     0.444500     0.428411     0.481399  \n",
       "min       0.000000     0.000000     0.000000     0.000000  \n",
       "25%       0.000000     0.000000     0.000000     0.000000  \n",
       "50%       0.000000     0.000000     0.000000     1.000000  \n",
       "75%       1.000000     1.000000     0.000000     1.000000  \n",
       "max       1.000000     1.000000     1.000000     1.000000  \n",
       "\n",
       "[8 rows x 26 columns]"
      ]
     },
     "execution_count": 16,
     "metadata": {},
     "output_type": "execute_result"
    }
   ],
   "source": [
    "transformer.fit_transform(X).describe()"
   ]
  },
  {
   "cell_type": "code",
   "execution_count": 17,
   "id": "8c5e20e7",
   "metadata": {
    "id": "8c5e20e7"
   },
   "outputs": [],
   "source": [
    "transformer = FormulaTransformer(\"0 + poly(age, degree=6, raw=True) + poly(inc, degree=8, raw=True) \"\n",
    "                                 \"+ poly(educ, degree=4, raw=True) + poly(fsize, degree=2, raw=True) \"\n",
    "                                 \"+ male + marr + twoearn + db + pira + hown\", array=True)"
   ]
  },
  {
   "cell_type": "markdown",
   "id": "a745a6f2",
   "metadata": {
    "id": "a745a6f2"
   },
   "source": [
    "## Estimating the ATE of 401(k) Eligibility on Net Financial Assets"
   ]
  },
  {
   "cell_type": "markdown",
   "id": "10538ad3",
   "metadata": {
    "id": "10538ad3"
   },
   "source": [
    "We are interested in valid estimators of the average treatment effect of `e401` and `p401` on `net_tfa`. We start using ML approaches to estimate the function $g_0$ and $m_0$ in the following PLR model:"
   ]
  },
  {
   "cell_type": "markdown",
   "id": "6fcf3165",
   "metadata": {
    "id": "6fcf3165"
   },
   "source": [
    "\\begin{eqnarray}\n",
    " &  Y = D\\theta_0 + g_0(X) + \\zeta,  &  E[\\zeta \\mid D,X]= 0,\\\\\n",
    " & D = m_0(X) +  V,   &  E[V \\mid X] = 0.\n",
    "\\end{eqnarray}"
   ]
  },
  {
   "cell_type": "markdown",
   "id": "d198da92",
   "metadata": {
    "id": "d198da92"
   },
   "source": [
    "### Double ML in PLR with Cross-Fitting"
   ]
  },
  {
   "cell_type": "markdown",
   "id": "045487a5",
   "metadata": {
    "id": "045487a5"
   },
   "source": [
    "We define a simple dml function that is parameterized by arbitrary ML models and returns the treatment effect and other useful quantities of the analysis"
   ]
  },
  {
   "cell_type": "code",
   "execution_count": 18,
   "id": "1ee13ea8",
   "metadata": {
    "id": "1ee13ea8"
   },
   "outputs": [],
   "source": [
    "def dml(X, D, y, modely, modeld, *, nfolds, classifier=False):\n",
    "    '''\n",
    "    DML for the Partially Linear Model setting with cross-fitting\n",
    "\n",
    "    Input\n",
    "    -----\n",
    "    X: the controls\n",
    "    D: the treatment\n",
    "    y: the outcome\n",
    "    modely: the ML model for predicting the outcome y\n",
    "    modeld: the ML model for predicting the treatment D\n",
    "    nfolds: the number of folds in cross-fitting\n",
    "    classifier: bool, whether the modeld is a classifier or a regressor\n",
    "\n",
    "    Output\n",
    "    ------\n",
    "    point: the point estimate of the treatment effect of D on y\n",
    "    stderr: the standard error of the treatment effect\n",
    "    yhat: the cross-fitted predictions for the outcome y\n",
    "    Dhat: the cross-fitted predictions for the treatment D\n",
    "    resy: the outcome residuals\n",
    "    resD: the treatment residuals\n",
    "    epsilon: the final residual-on-residual OLS regression residual\n",
    "    '''\n",
    "    cv = KFold(n_splits=nfolds, shuffle=True, random_state=123)  # shuffled k-folds\n",
    "    yhat = cross_val_predict(modely, X, y, cv=cv, n_jobs=-1)  # out-of-fold predictions for y\n",
    "    # out-of-fold predictions for D\n",
    "    # use predict or predict_proba dependent on classifier or regressor for D\n",
    "    if classifier:\n",
    "        Dhat = cross_val_predict(modeld, X, D, cv=cv, method='predict_proba', n_jobs=-1)[:, 1]\n",
    "    else:\n",
    "        Dhat = cross_val_predict(modeld, X, D, cv=cv, n_jobs=-1)\n",
    "    # calculate outcome and treatment residuals\n",
    "    resy = y - yhat\n",
    "    resD = D - Dhat\n",
    "\n",
    "    # final stage ols based point estimate and standard error\n",
    "    point = np.mean(resy * resD) / np.mean(resD**2)\n",
    "    epsilon = resy - point * resD\n",
    "    var = np.mean(epsilon**2 * resD**2) / np.mean(resD**2)**2\n",
    "    stderr = np.sqrt(var / X.shape[0])\n",
    "\n",
    "    return point, stderr, yhat, Dhat, resy, resD, epsilon"
   ]
  },
  {
   "cell_type": "code",
   "execution_count": 19,
   "id": "35c70f74",
   "metadata": {
    "id": "35c70f74"
   },
   "outputs": [],
   "source": [
    "def summary(point, stderr, yhat, Dhat, resy, resD, epsilon, X, D, y, *, name):\n",
    "    '''\n",
    "    Convenience summary function that takes the results of the DML function\n",
    "    and summarizes several estimation quantities and performance metrics.\n",
    "    '''\n",
    "    return pd.DataFrame({'estimate': point,  # point estimate\n",
    "                         'stderr': stderr,  # standard error\n",
    "                         'lower': point - 1.96 * stderr,  # lower end of 95% confidence interval\n",
    "                         'upper': point + 1.96 * stderr,  # upper end of 95% confidence interval\n",
    "                         'rmse y': np.sqrt(np.mean(resy**2)),  # RMSE of model that predicts outcome y\n",
    "                         'rmse D': np.sqrt(np.mean(resD**2)),  # RMSE of model that predicts treatment D\n",
    "                         'accuracy D': np.mean(np.abs(resD) < .5),  # binary classification accuracy of model for D\n",
    "                         }, index=[name])"
   ]
  },
  {
   "cell_type": "markdown",
   "id": "b0e6276a",
   "metadata": {
    "id": "b0e6276a"
   },
   "source": [
    "#### Double Lasso with Cross-Fitting"
   ]
  },
  {
   "cell_type": "code",
   "execution_count": 20,
   "id": "21f57b4e",
   "metadata": {
    "id": "21f57b4e"
   },
   "outputs": [],
   "source": [
    "cv = KFold(n_splits=5, shuffle=True, random_state=123)\n",
    "lassoy = make_pipeline(transformer, StandardScaler(), LassoCV(cv=cv))\n",
    "lassod = make_pipeline(transformer, StandardScaler(), LassoCV(cv=cv))\n",
    "result = dml(X, D, y, lassoy, lassod, nfolds=5)"
   ]
  },
  {
   "cell_type": "code",
   "execution_count": 21,
   "id": "265fb305",
   "metadata": {
    "id": "265fb305"
   },
   "outputs": [
    {
     "data": {
      "text/html": [
       "<div>\n",
       "<style scoped>\n",
       "    .dataframe tbody tr th:only-of-type {\n",
       "        vertical-align: middle;\n",
       "    }\n",
       "\n",
       "    .dataframe tbody tr th {\n",
       "        vertical-align: top;\n",
       "    }\n",
       "\n",
       "    .dataframe thead th {\n",
       "        text-align: right;\n",
       "    }\n",
       "</style>\n",
       "<table border=\"1\" class=\"dataframe\">\n",
       "  <thead>\n",
       "    <tr style=\"text-align: right;\">\n",
       "      <th></th>\n",
       "      <th>estimate</th>\n",
       "      <th>stderr</th>\n",
       "      <th>lower</th>\n",
       "      <th>upper</th>\n",
       "      <th>rmse y</th>\n",
       "      <th>rmse D</th>\n",
       "      <th>accuracy D</th>\n",
       "    </tr>\n",
       "  </thead>\n",
       "  <tbody>\n",
       "    <tr>\n",
       "      <th>double lasso</th>\n",
       "      <td>9035.120004</td>\n",
       "      <td>1295.135748</td>\n",
       "      <td>6496.653938</td>\n",
       "      <td>11573.58607</td>\n",
       "      <td>54254.468883</td>\n",
       "      <td>0.443406</td>\n",
       "      <td>0.688553</td>\n",
       "    </tr>\n",
       "  </tbody>\n",
       "</table>\n",
       "</div>"
      ],
      "text/plain": [
       "                 estimate       stderr        lower        upper  \\\n",
       "double lasso  9035.120004  1295.135748  6496.653938  11573.58607   \n",
       "\n",
       "                    rmse y    rmse D  accuracy D  \n",
       "double lasso  54254.468883  0.443406    0.688553  "
      ]
     },
     "execution_count": 21,
     "metadata": {},
     "output_type": "execute_result"
    }
   ],
   "source": [
    "table = summary(*result, X, D, y, name='double lasso')\n",
    "table"
   ]
  },
  {
   "cell_type": "markdown",
   "id": "30cb77e8",
   "metadata": {
    "id": "30cb77e8"
   },
   "source": [
    "#### Using a Penalized Logistic Regression for D\n",
    "\n",
    "Note the default logistic regression uses an $\\ell_2$ penalty. You can use the $\\ell_1$ penalty as well, but computation will take longer."
   ]
  },
  {
   "cell_type": "code",
   "execution_count": 22,
   "id": "ba3ba66e",
   "metadata": {
    "id": "ba3ba66e"
   },
   "outputs": [],
   "source": [
    "cv = KFold(n_splits=5, shuffle=True, random_state=123)\n",
    "lassoy = make_pipeline(transformer, StandardScaler(), LassoCV(cv=cv))\n",
    "lgrd = make_pipeline(transformer, StandardScaler(), LogisticRegressionCV(cv=cv))\n",
    "result = dml(X, D, y, lassoy, lgrd, nfolds=5, classifier=True)"
   ]
  },
  {
   "cell_type": "code",
   "execution_count": 23,
   "id": "WFODGyZX4io9",
   "metadata": {
    "id": "WFODGyZX4io9"
   },
   "outputs": [
    {
     "data": {
      "text/html": [
       "<div>\n",
       "<style scoped>\n",
       "    .dataframe tbody tr th:only-of-type {\n",
       "        vertical-align: middle;\n",
       "    }\n",
       "\n",
       "    .dataframe tbody tr th {\n",
       "        vertical-align: top;\n",
       "    }\n",
       "\n",
       "    .dataframe thead th {\n",
       "        text-align: right;\n",
       "    }\n",
       "</style>\n",
       "<table border=\"1\" class=\"dataframe\">\n",
       "  <thead>\n",
       "    <tr style=\"text-align: right;\">\n",
       "      <th></th>\n",
       "      <th>estimate</th>\n",
       "      <th>stderr</th>\n",
       "      <th>lower</th>\n",
       "      <th>upper</th>\n",
       "      <th>rmse y</th>\n",
       "      <th>rmse D</th>\n",
       "      <th>accuracy D</th>\n",
       "    </tr>\n",
       "  </thead>\n",
       "  <tbody>\n",
       "    <tr>\n",
       "      <th>lasso/logistic</th>\n",
       "      <td>9115.445552</td>\n",
       "      <td>1300.615888</td>\n",
       "      <td>6566.238412</td>\n",
       "      <td>11664.652691</td>\n",
       "      <td>54254.468883</td>\n",
       "      <td>0.444094</td>\n",
       "      <td>0.687242</td>\n",
       "    </tr>\n",
       "  </tbody>\n",
       "</table>\n",
       "</div>"
      ],
      "text/plain": [
       "                   estimate       stderr        lower         upper  \\\n",
       "lasso/logistic  9115.445552  1300.615888  6566.238412  11664.652691   \n",
       "\n",
       "                      rmse y    rmse D  accuracy D  \n",
       "lasso/logistic  54254.468883  0.444094    0.687242  "
      ]
     },
     "execution_count": 23,
     "metadata": {},
     "output_type": "execute_result"
    }
   ],
   "source": [
    "summary(*result, X, D, y, name='lasso/logistic')"
   ]
  },
  {
   "cell_type": "code",
   "execution_count": 24,
   "id": "cbbaa344",
   "metadata": {
    "id": "cbbaa344"
   },
   "outputs": [
    {
     "data": {
      "text/html": [
       "<div>\n",
       "<style scoped>\n",
       "    .dataframe tbody tr th:only-of-type {\n",
       "        vertical-align: middle;\n",
       "    }\n",
       "\n",
       "    .dataframe tbody tr th {\n",
       "        vertical-align: top;\n",
       "    }\n",
       "\n",
       "    .dataframe thead th {\n",
       "        text-align: right;\n",
       "    }\n",
       "</style>\n",
       "<table border=\"1\" class=\"dataframe\">\n",
       "  <thead>\n",
       "    <tr style=\"text-align: right;\">\n",
       "      <th></th>\n",
       "      <th>estimate</th>\n",
       "      <th>stderr</th>\n",
       "      <th>lower</th>\n",
       "      <th>upper</th>\n",
       "      <th>rmse y</th>\n",
       "      <th>rmse D</th>\n",
       "      <th>accuracy D</th>\n",
       "    </tr>\n",
       "  </thead>\n",
       "  <tbody>\n",
       "    <tr>\n",
       "      <th>double lasso</th>\n",
       "      <td>9035.120004</td>\n",
       "      <td>1295.135748</td>\n",
       "      <td>6496.653938</td>\n",
       "      <td>11573.586070</td>\n",
       "      <td>54254.468883</td>\n",
       "      <td>0.443406</td>\n",
       "      <td>0.688553</td>\n",
       "    </tr>\n",
       "    <tr>\n",
       "      <th>lasso/logistic</th>\n",
       "      <td>9115.445552</td>\n",
       "      <td>1300.615888</td>\n",
       "      <td>6566.238412</td>\n",
       "      <td>11664.652691</td>\n",
       "      <td>54254.468883</td>\n",
       "      <td>0.444094</td>\n",
       "      <td>0.687242</td>\n",
       "    </tr>\n",
       "  </tbody>\n",
       "</table>\n",
       "</div>"
      ],
      "text/plain": [
       "                   estimate       stderr        lower         upper  \\\n",
       "double lasso    9035.120004  1295.135748  6496.653938  11573.586070   \n",
       "lasso/logistic  9115.445552  1300.615888  6566.238412  11664.652691   \n",
       "\n",
       "                      rmse y    rmse D  accuracy D  \n",
       "double lasso    54254.468883  0.443406    0.688553  \n",
       "lasso/logistic  54254.468883  0.444094    0.687242  "
      ]
     },
     "execution_count": 24,
     "metadata": {},
     "output_type": "execute_result"
    }
   ],
   "source": [
    "table = pd.concat([table, summary(*result, X, D, y, name='lasso/logistic')])\n",
    "table"
   ]
  },
  {
   "cell_type": "markdown",
   "id": "fluid-gregory",
   "metadata": {
    "id": "fluid-gregory"
   },
   "source": [
    "Then, we repeat this procedure for various machine learning methods."
   ]
  },
  {
   "cell_type": "markdown",
   "id": "c4791084",
   "metadata": {
    "id": "c4791084"
   },
   "source": [
    "### Random Forests"
   ]
  },
  {
   "cell_type": "code",
   "execution_count": 25,
   "id": "de0d4030",
   "metadata": {
    "id": "de0d4030"
   },
   "outputs": [],
   "source": [
    "rfy = make_pipeline(transformer, RandomForestRegressor(n_estimators=100, min_samples_leaf=10, ccp_alpha=.001))\n",
    "rfd = make_pipeline(transformer, RandomForestClassifier(n_estimators=100, min_samples_leaf=10, ccp_alpha=.001))\n",
    "result = dml(X, D, y, rfy, rfd, nfolds=5, classifier=True)"
   ]
  },
  {
   "cell_type": "code",
   "execution_count": 26,
   "id": "e5073e3a",
   "metadata": {
    "id": "e5073e3a"
   },
   "outputs": [
    {
     "data": {
      "text/html": [
       "<div>\n",
       "<style scoped>\n",
       "    .dataframe tbody tr th:only-of-type {\n",
       "        vertical-align: middle;\n",
       "    }\n",
       "\n",
       "    .dataframe tbody tr th {\n",
       "        vertical-align: top;\n",
       "    }\n",
       "\n",
       "    .dataframe thead th {\n",
       "        text-align: right;\n",
       "    }\n",
       "</style>\n",
       "<table border=\"1\" class=\"dataframe\">\n",
       "  <thead>\n",
       "    <tr style=\"text-align: right;\">\n",
       "      <th></th>\n",
       "      <th>estimate</th>\n",
       "      <th>stderr</th>\n",
       "      <th>lower</th>\n",
       "      <th>upper</th>\n",
       "      <th>rmse y</th>\n",
       "      <th>rmse D</th>\n",
       "      <th>accuracy D</th>\n",
       "    </tr>\n",
       "  </thead>\n",
       "  <tbody>\n",
       "    <tr>\n",
       "      <th>double lasso</th>\n",
       "      <td>9035.120004</td>\n",
       "      <td>1295.135748</td>\n",
       "      <td>6496.653938</td>\n",
       "      <td>11573.586070</td>\n",
       "      <td>54254.468883</td>\n",
       "      <td>0.443406</td>\n",
       "      <td>0.688553</td>\n",
       "    </tr>\n",
       "    <tr>\n",
       "      <th>lasso/logistic</th>\n",
       "      <td>9115.445552</td>\n",
       "      <td>1300.615888</td>\n",
       "      <td>6566.238412</td>\n",
       "      <td>11664.652691</td>\n",
       "      <td>54254.468883</td>\n",
       "      <td>0.444094</td>\n",
       "      <td>0.687242</td>\n",
       "    </tr>\n",
       "    <tr>\n",
       "      <th>random forest</th>\n",
       "      <td>8974.192861</td>\n",
       "      <td>1360.282725</td>\n",
       "      <td>6308.038721</td>\n",
       "      <td>11640.347002</td>\n",
       "      <td>55070.184307</td>\n",
       "      <td>0.444545</td>\n",
       "      <td>0.688250</td>\n",
       "    </tr>\n",
       "  </tbody>\n",
       "</table>\n",
       "</div>"
      ],
      "text/plain": [
       "                   estimate       stderr        lower         upper  \\\n",
       "double lasso    9035.120004  1295.135748  6496.653938  11573.586070   \n",
       "lasso/logistic  9115.445552  1300.615888  6566.238412  11664.652691   \n",
       "random forest   8974.192861  1360.282725  6308.038721  11640.347002   \n",
       "\n",
       "                      rmse y    rmse D  accuracy D  \n",
       "double lasso    54254.468883  0.443406    0.688553  \n",
       "lasso/logistic  54254.468883  0.444094    0.687242  \n",
       "random forest   55070.184307  0.444545    0.688250  "
      ]
     },
     "execution_count": 26,
     "metadata": {},
     "output_type": "execute_result"
    }
   ],
   "source": [
    "table = pd.concat([table, summary(*result, X, D, y, name='random forest')])\n",
    "table"
   ]
  },
  {
   "cell_type": "markdown",
   "id": "1adab609",
   "metadata": {
    "id": "1adab609"
   },
   "source": [
    "### Decision Trees"
   ]
  },
  {
   "cell_type": "code",
   "execution_count": 27,
   "id": "e3a3266c",
   "metadata": {
    "id": "e3a3266c"
   },
   "outputs": [],
   "source": [
    "dtry = make_pipeline(transformer, DecisionTreeRegressor(min_samples_leaf=10, ccp_alpha=.001))\n",
    "dtrd = make_pipeline(transformer, DecisionTreeClassifier(min_samples_leaf=10, ccp_alpha=.001))\n",
    "result = dml(X, D, y, dtry, dtrd, nfolds=5, classifier=True)"
   ]
  },
  {
   "cell_type": "code",
   "execution_count": 28,
   "id": "e82ddc9f",
   "metadata": {
    "id": "e82ddc9f"
   },
   "outputs": [
    {
     "data": {
      "text/html": [
       "<div>\n",
       "<style scoped>\n",
       "    .dataframe tbody tr th:only-of-type {\n",
       "        vertical-align: middle;\n",
       "    }\n",
       "\n",
       "    .dataframe tbody tr th {\n",
       "        vertical-align: top;\n",
       "    }\n",
       "\n",
       "    .dataframe thead th {\n",
       "        text-align: right;\n",
       "    }\n",
       "</style>\n",
       "<table border=\"1\" class=\"dataframe\">\n",
       "  <thead>\n",
       "    <tr style=\"text-align: right;\">\n",
       "      <th></th>\n",
       "      <th>estimate</th>\n",
       "      <th>stderr</th>\n",
       "      <th>lower</th>\n",
       "      <th>upper</th>\n",
       "      <th>rmse y</th>\n",
       "      <th>rmse D</th>\n",
       "      <th>accuracy D</th>\n",
       "    </tr>\n",
       "  </thead>\n",
       "  <tbody>\n",
       "    <tr>\n",
       "      <th>double lasso</th>\n",
       "      <td>9035.120004</td>\n",
       "      <td>1295.135748</td>\n",
       "      <td>6496.653938</td>\n",
       "      <td>11573.586070</td>\n",
       "      <td>54254.468883</td>\n",
       "      <td>0.443406</td>\n",
       "      <td>0.688553</td>\n",
       "    </tr>\n",
       "    <tr>\n",
       "      <th>lasso/logistic</th>\n",
       "      <td>9115.445552</td>\n",
       "      <td>1300.615888</td>\n",
       "      <td>6566.238412</td>\n",
       "      <td>11664.652691</td>\n",
       "      <td>54254.468883</td>\n",
       "      <td>0.444094</td>\n",
       "      <td>0.687242</td>\n",
       "    </tr>\n",
       "    <tr>\n",
       "      <th>random forest</th>\n",
       "      <td>8974.192861</td>\n",
       "      <td>1360.282725</td>\n",
       "      <td>6308.038721</td>\n",
       "      <td>11640.347002</td>\n",
       "      <td>55070.184307</td>\n",
       "      <td>0.444545</td>\n",
       "      <td>0.688250</td>\n",
       "    </tr>\n",
       "    <tr>\n",
       "      <th>decision tree</th>\n",
       "      <td>9236.195678</td>\n",
       "      <td>1440.551643</td>\n",
       "      <td>6412.714457</td>\n",
       "      <td>12059.676898</td>\n",
       "      <td>59427.392172</td>\n",
       "      <td>0.446437</td>\n",
       "      <td>0.688048</td>\n",
       "    </tr>\n",
       "  </tbody>\n",
       "</table>\n",
       "</div>"
      ],
      "text/plain": [
       "                   estimate       stderr        lower         upper  \\\n",
       "double lasso    9035.120004  1295.135748  6496.653938  11573.586070   \n",
       "lasso/logistic  9115.445552  1300.615888  6566.238412  11664.652691   \n",
       "random forest   8974.192861  1360.282725  6308.038721  11640.347002   \n",
       "decision tree   9236.195678  1440.551643  6412.714457  12059.676898   \n",
       "\n",
       "                      rmse y    rmse D  accuracy D  \n",
       "double lasso    54254.468883  0.443406    0.688553  \n",
       "lasso/logistic  54254.468883  0.444094    0.687242  \n",
       "random forest   55070.184307  0.444545    0.688250  \n",
       "decision tree   59427.392172  0.446437    0.688048  "
      ]
     },
     "execution_count": 28,
     "metadata": {},
     "output_type": "execute_result"
    }
   ],
   "source": [
    "table = pd.concat([table, summary(*result, X, D, y, name='decision tree')])\n",
    "table"
   ]
  },
  {
   "cell_type": "markdown",
   "id": "415d5b98",
   "metadata": {
    "id": "415d5b98"
   },
   "source": [
    "### Boosted Trees"
   ]
  },
  {
   "cell_type": "code",
   "execution_count": 29,
   "id": "9016b1a8",
   "metadata": {
    "id": "9016b1a8"
   },
   "outputs": [],
   "source": [
    "gbfy = make_pipeline(transformer, GradientBoostingRegressor(max_depth=2, n_iter_no_change=5))\n",
    "gbfd = make_pipeline(transformer, GradientBoostingClassifier(max_depth=2, n_iter_no_change=5))\n",
    "result = dml(X, D, y, gbfy, gbfd, nfolds=5, classifier=True)"
   ]
  },
  {
   "cell_type": "code",
   "execution_count": 30,
   "id": "10f4e992",
   "metadata": {
    "id": "10f4e992"
   },
   "outputs": [
    {
     "data": {
      "text/html": [
       "<div>\n",
       "<style scoped>\n",
       "    .dataframe tbody tr th:only-of-type {\n",
       "        vertical-align: middle;\n",
       "    }\n",
       "\n",
       "    .dataframe tbody tr th {\n",
       "        vertical-align: top;\n",
       "    }\n",
       "\n",
       "    .dataframe thead th {\n",
       "        text-align: right;\n",
       "    }\n",
       "</style>\n",
       "<table border=\"1\" class=\"dataframe\">\n",
       "  <thead>\n",
       "    <tr style=\"text-align: right;\">\n",
       "      <th></th>\n",
       "      <th>estimate</th>\n",
       "      <th>stderr</th>\n",
       "      <th>lower</th>\n",
       "      <th>upper</th>\n",
       "      <th>rmse y</th>\n",
       "      <th>rmse D</th>\n",
       "      <th>accuracy D</th>\n",
       "    </tr>\n",
       "  </thead>\n",
       "  <tbody>\n",
       "    <tr>\n",
       "      <th>double lasso</th>\n",
       "      <td>9035.120004</td>\n",
       "      <td>1295.135748</td>\n",
       "      <td>6496.653938</td>\n",
       "      <td>11573.586070</td>\n",
       "      <td>54254.468883</td>\n",
       "      <td>0.443406</td>\n",
       "      <td>0.688553</td>\n",
       "    </tr>\n",
       "    <tr>\n",
       "      <th>lasso/logistic</th>\n",
       "      <td>9115.445552</td>\n",
       "      <td>1300.615888</td>\n",
       "      <td>6566.238412</td>\n",
       "      <td>11664.652691</td>\n",
       "      <td>54254.468883</td>\n",
       "      <td>0.444094</td>\n",
       "      <td>0.687242</td>\n",
       "    </tr>\n",
       "    <tr>\n",
       "      <th>random forest</th>\n",
       "      <td>8974.192861</td>\n",
       "      <td>1360.282725</td>\n",
       "      <td>6308.038721</td>\n",
       "      <td>11640.347002</td>\n",
       "      <td>55070.184307</td>\n",
       "      <td>0.444545</td>\n",
       "      <td>0.688250</td>\n",
       "    </tr>\n",
       "    <tr>\n",
       "      <th>decision tree</th>\n",
       "      <td>9236.195678</td>\n",
       "      <td>1440.551643</td>\n",
       "      <td>6412.714457</td>\n",
       "      <td>12059.676898</td>\n",
       "      <td>59427.392172</td>\n",
       "      <td>0.446437</td>\n",
       "      <td>0.688048</td>\n",
       "    </tr>\n",
       "    <tr>\n",
       "      <th>boosted forest</th>\n",
       "      <td>9042.328908</td>\n",
       "      <td>1363.010057</td>\n",
       "      <td>6370.829196</td>\n",
       "      <td>11713.828619</td>\n",
       "      <td>56305.804444</td>\n",
       "      <td>0.443464</td>\n",
       "      <td>0.690368</td>\n",
       "    </tr>\n",
       "  </tbody>\n",
       "</table>\n",
       "</div>"
      ],
      "text/plain": [
       "                   estimate       stderr        lower         upper  \\\n",
       "double lasso    9035.120004  1295.135748  6496.653938  11573.586070   \n",
       "lasso/logistic  9115.445552  1300.615888  6566.238412  11664.652691   \n",
       "random forest   8974.192861  1360.282725  6308.038721  11640.347002   \n",
       "decision tree   9236.195678  1440.551643  6412.714457  12059.676898   \n",
       "boosted forest  9042.328908  1363.010057  6370.829196  11713.828619   \n",
       "\n",
       "                      rmse y    rmse D  accuracy D  \n",
       "double lasso    54254.468883  0.443406    0.688553  \n",
       "lasso/logistic  54254.468883  0.444094    0.687242  \n",
       "random forest   55070.184307  0.444545    0.688250  \n",
       "decision tree   59427.392172  0.446437    0.688048  \n",
       "boosted forest  56305.804444  0.443464    0.690368  "
      ]
     },
     "execution_count": 30,
     "metadata": {},
     "output_type": "execute_result"
    }
   ],
   "source": [
    "table = pd.concat([table, summary(*result, X, D, y, name='boosted forest')])\n",
    "table"
   ]
  },
  {
   "cell_type": "markdown",
   "id": "identical-smith",
   "metadata": {
    "id": "identical-smith"
   },
   "source": [
    "The best model with lowest RMSE in both equation is the PLR model estimated via lasso."
   ]
  },
  {
   "cell_type": "markdown",
   "id": "9c8dc0c4",
   "metadata": {
    "id": "9c8dc0c4"
   },
   "source": [
    "### AutoML"
   ]
  },
  {
   "cell_type": "code",
   "execution_count": 31,
   "id": "r_kFRdEyFjQc",
   "metadata": {
    "id": "r_kFRdEyFjQc"
   },
   "outputs": [
    {
     "name": "stdout",
     "output_type": "stream",
     "text": [
      "Defaulting to user installation because normal site-packages is not writeable\n",
      "Collecting flaml\n",
      "  Obtaining dependency information for flaml from https://files.pythonhosted.org/packages/f4/9f/d4c5e02f30fc8842005f9a448316c397eee98c4ee865e403dce9636aa61a/FLAML-2.1.2-py3-none-any.whl.metadata\n",
      "  Downloading FLAML-2.1.2-py3-none-any.whl.metadata (15 kB)\n",
      "Requirement already satisfied: NumPy>=1.17 in c:\\programdata\\anaconda3\\lib\\site-packages (from flaml) (1.24.4)\n",
      "Downloading FLAML-2.1.2-py3-none-any.whl (296 kB)\n",
      "   ---------------------------------------- 0.0/296.7 kB ? eta -:--:--\n",
      "   - -------------------------------------- 10.2/296.7 kB ? eta -:--:--\n",
      "   ----- --------------------------------- 41.0/296.7 kB 495.5 kB/s eta 0:00:01\n",
      "   ---------------- ----------------------- 122.9/296.7 kB 1.0 MB/s eta 0:00:01\n",
      "   ---------------------------------- ----- 256.0/296.7 kB 1.6 MB/s eta 0:00:01\n",
      "   ---------------------------------------- 296.7/296.7 kB 1.4 MB/s eta 0:00:00\n",
      "Installing collected packages: flaml\n",
      "Successfully installed flaml-2.1.2\n"
     ]
    }
   ],
   "source": [
    "!pip install flaml"
   ]
  },
  {
   "cell_type": "code",
   "execution_count": 32,
   "id": "2d0d2b4e",
   "metadata": {
    "id": "2d0d2b4e"
   },
   "outputs": [],
   "source": [
    "from flaml import AutoML\n",
    "flamly = make_pipeline(transformer, AutoML(time_budget=100, task='regression', early_stop=True,\n",
    "                                           eval_method='cv', n_splits=3, metric='r2', verbose=3))\n",
    "flamld = make_pipeline(transformer, AutoML(time_budget=100, task='classification', early_stop=True,\n",
    "                                           eval_method='cv', n_splits=3, metric='r2', verbose=3))\n",
    "result = dml(X, D, y, flamly, flamld, nfolds=5, classifier=True)"
   ]
  },
  {
   "cell_type": "code",
   "execution_count": 33,
   "id": "6e2ba772",
   "metadata": {
    "id": "6e2ba772"
   },
   "outputs": [
    {
     "data": {
      "text/html": [
       "<div>\n",
       "<style scoped>\n",
       "    .dataframe tbody tr th:only-of-type {\n",
       "        vertical-align: middle;\n",
       "    }\n",
       "\n",
       "    .dataframe tbody tr th {\n",
       "        vertical-align: top;\n",
       "    }\n",
       "\n",
       "    .dataframe thead th {\n",
       "        text-align: right;\n",
       "    }\n",
       "</style>\n",
       "<table border=\"1\" class=\"dataframe\">\n",
       "  <thead>\n",
       "    <tr style=\"text-align: right;\">\n",
       "      <th></th>\n",
       "      <th>estimate</th>\n",
       "      <th>stderr</th>\n",
       "      <th>lower</th>\n",
       "      <th>upper</th>\n",
       "      <th>rmse y</th>\n",
       "      <th>rmse D</th>\n",
       "      <th>accuracy D</th>\n",
       "    </tr>\n",
       "  </thead>\n",
       "  <tbody>\n",
       "    <tr>\n",
       "      <th>double lasso</th>\n",
       "      <td>9035.120004</td>\n",
       "      <td>1295.135748</td>\n",
       "      <td>6496.653938</td>\n",
       "      <td>11573.586070</td>\n",
       "      <td>54254.468883</td>\n",
       "      <td>0.443406</td>\n",
       "      <td>0.688553</td>\n",
       "    </tr>\n",
       "    <tr>\n",
       "      <th>lasso/logistic</th>\n",
       "      <td>9115.445552</td>\n",
       "      <td>1300.615888</td>\n",
       "      <td>6566.238412</td>\n",
       "      <td>11664.652691</td>\n",
       "      <td>54254.468883</td>\n",
       "      <td>0.444094</td>\n",
       "      <td>0.687242</td>\n",
       "    </tr>\n",
       "    <tr>\n",
       "      <th>random forest</th>\n",
       "      <td>8974.192861</td>\n",
       "      <td>1360.282725</td>\n",
       "      <td>6308.038721</td>\n",
       "      <td>11640.347002</td>\n",
       "      <td>55070.184307</td>\n",
       "      <td>0.444545</td>\n",
       "      <td>0.688250</td>\n",
       "    </tr>\n",
       "    <tr>\n",
       "      <th>decision tree</th>\n",
       "      <td>9236.195678</td>\n",
       "      <td>1440.551643</td>\n",
       "      <td>6412.714457</td>\n",
       "      <td>12059.676898</td>\n",
       "      <td>59427.392172</td>\n",
       "      <td>0.446437</td>\n",
       "      <td>0.688048</td>\n",
       "    </tr>\n",
       "    <tr>\n",
       "      <th>boosted forest</th>\n",
       "      <td>9042.328908</td>\n",
       "      <td>1363.010057</td>\n",
       "      <td>6370.829196</td>\n",
       "      <td>11713.828619</td>\n",
       "      <td>56305.804444</td>\n",
       "      <td>0.443464</td>\n",
       "      <td>0.690368</td>\n",
       "    </tr>\n",
       "    <tr>\n",
       "      <th>automl</th>\n",
       "      <td>8761.508409</td>\n",
       "      <td>1320.542498</td>\n",
       "      <td>6173.245113</td>\n",
       "      <td>11349.771705</td>\n",
       "      <td>55242.961954</td>\n",
       "      <td>0.450593</td>\n",
       "      <td>0.689965</td>\n",
       "    </tr>\n",
       "  </tbody>\n",
       "</table>\n",
       "</div>"
      ],
      "text/plain": [
       "                   estimate       stderr        lower         upper  \\\n",
       "double lasso    9035.120004  1295.135748  6496.653938  11573.586070   \n",
       "lasso/logistic  9115.445552  1300.615888  6566.238412  11664.652691   \n",
       "random forest   8974.192861  1360.282725  6308.038721  11640.347002   \n",
       "decision tree   9236.195678  1440.551643  6412.714457  12059.676898   \n",
       "boosted forest  9042.328908  1363.010057  6370.829196  11713.828619   \n",
       "automl          8761.508409  1320.542498  6173.245113  11349.771705   \n",
       "\n",
       "                      rmse y    rmse D  accuracy D  \n",
       "double lasso    54254.468883  0.443406    0.688553  \n",
       "lasso/logistic  54254.468883  0.444094    0.687242  \n",
       "random forest   55070.184307  0.444545    0.688250  \n",
       "decision tree   59427.392172  0.446437    0.688048  \n",
       "boosted forest  56305.804444  0.443464    0.690368  \n",
       "automl          55242.961954  0.450593    0.689965  "
      ]
     },
     "execution_count": 33,
     "metadata": {},
     "output_type": "execute_result"
    }
   ],
   "source": [
    "table = pd.concat([table, summary(*result, X, D, y, name='automl')])\n",
    "table"
   ]
  },
  {
   "cell_type": "markdown",
   "id": "9bc171ce",
   "metadata": {
    "id": "9bc171ce"
   },
   "source": [
    "# Semi-Cross-Fitting"
   ]
  },
  {
   "cell_type": "markdown",
   "id": "fe9d4e9e",
   "metadata": {
    "id": "fe9d4e9e"
   },
   "source": [
    "To avoid the computational cost of performing model selection within each fold (assuming that we don't select among an exponential set of hyperparameters/models in the number of samples), it is ok to perform model selection using all the data and then perform cross-fitting with the selected model."
   ]
  },
  {
   "cell_type": "code",
   "execution_count": 34,
   "id": "b6f64eba",
   "metadata": {
    "id": "b6f64eba"
   },
   "outputs": [],
   "source": [
    "flamly = make_pipeline(transformer, AutoML(time_budget=100, task='regression', early_stop=True,\n",
    "                                           eval_method='cv', n_splits=3, metric='r2', verbose=0))\n",
    "flamld = make_pipeline(transformer, AutoML(time_budget=100, task='classification', early_stop=True,\n",
    "                                           eval_method='cv', n_splits=3, metric='r2', verbose=0))"
   ]
  },
  {
   "cell_type": "code",
   "execution_count": 35,
   "id": "2cffa502",
   "metadata": {
    "id": "2cffa502"
   },
   "outputs": [],
   "source": [
    "flamly.fit(X, y)\n",
    "besty = make_pipeline(transformer, clone(flamly[-1].best_model_for_estimator(flamly[-1].best_estimator)))"
   ]
  },
  {
   "cell_type": "code",
   "execution_count": 36,
   "id": "21c2a08a",
   "metadata": {
    "id": "21c2a08a"
   },
   "outputs": [],
   "source": [
    "flamld.fit(X, D)\n",
    "bestd = make_pipeline(transformer, clone(flamld[-1].best_model_for_estimator(flamld[-1].best_estimator)))"
   ]
  },
  {
   "cell_type": "code",
   "execution_count": 37,
   "id": "6b5a1b0b",
   "metadata": {
    "id": "6b5a1b0b"
   },
   "outputs": [],
   "source": [
    "result = dml(X, D, y, besty, bestd, nfolds=5, classifier=True)"
   ]
  },
  {
   "cell_type": "code",
   "execution_count": 38,
   "id": "9855e83e",
   "metadata": {
    "id": "9855e83e"
   },
   "outputs": [
    {
     "data": {
      "text/html": [
       "<div>\n",
       "<style scoped>\n",
       "    .dataframe tbody tr th:only-of-type {\n",
       "        vertical-align: middle;\n",
       "    }\n",
       "\n",
       "    .dataframe tbody tr th {\n",
       "        vertical-align: top;\n",
       "    }\n",
       "\n",
       "    .dataframe thead th {\n",
       "        text-align: right;\n",
       "    }\n",
       "</style>\n",
       "<table border=\"1\" class=\"dataframe\">\n",
       "  <thead>\n",
       "    <tr style=\"text-align: right;\">\n",
       "      <th></th>\n",
       "      <th>estimate</th>\n",
       "      <th>stderr</th>\n",
       "      <th>lower</th>\n",
       "      <th>upper</th>\n",
       "      <th>rmse y</th>\n",
       "      <th>rmse D</th>\n",
       "      <th>accuracy D</th>\n",
       "    </tr>\n",
       "  </thead>\n",
       "  <tbody>\n",
       "    <tr>\n",
       "      <th>double lasso</th>\n",
       "      <td>9035.120004</td>\n",
       "      <td>1295.135748</td>\n",
       "      <td>6496.653938</td>\n",
       "      <td>11573.586070</td>\n",
       "      <td>54254.468883</td>\n",
       "      <td>0.443406</td>\n",
       "      <td>0.688553</td>\n",
       "    </tr>\n",
       "    <tr>\n",
       "      <th>lasso/logistic</th>\n",
       "      <td>9115.445552</td>\n",
       "      <td>1300.615888</td>\n",
       "      <td>6566.238412</td>\n",
       "      <td>11664.652691</td>\n",
       "      <td>54254.468883</td>\n",
       "      <td>0.444094</td>\n",
       "      <td>0.687242</td>\n",
       "    </tr>\n",
       "    <tr>\n",
       "      <th>random forest</th>\n",
       "      <td>8974.192861</td>\n",
       "      <td>1360.282725</td>\n",
       "      <td>6308.038721</td>\n",
       "      <td>11640.347002</td>\n",
       "      <td>55070.184307</td>\n",
       "      <td>0.444545</td>\n",
       "      <td>0.688250</td>\n",
       "    </tr>\n",
       "    <tr>\n",
       "      <th>decision tree</th>\n",
       "      <td>9236.195678</td>\n",
       "      <td>1440.551643</td>\n",
       "      <td>6412.714457</td>\n",
       "      <td>12059.676898</td>\n",
       "      <td>59427.392172</td>\n",
       "      <td>0.446437</td>\n",
       "      <td>0.688048</td>\n",
       "    </tr>\n",
       "    <tr>\n",
       "      <th>boosted forest</th>\n",
       "      <td>9042.328908</td>\n",
       "      <td>1363.010057</td>\n",
       "      <td>6370.829196</td>\n",
       "      <td>11713.828619</td>\n",
       "      <td>56305.804444</td>\n",
       "      <td>0.443464</td>\n",
       "      <td>0.690368</td>\n",
       "    </tr>\n",
       "    <tr>\n",
       "      <th>automl</th>\n",
       "      <td>8761.508409</td>\n",
       "      <td>1320.542498</td>\n",
       "      <td>6173.245113</td>\n",
       "      <td>11349.771705</td>\n",
       "      <td>55242.961954</td>\n",
       "      <td>0.450593</td>\n",
       "      <td>0.689965</td>\n",
       "    </tr>\n",
       "    <tr>\n",
       "      <th>automl (semi-cfit)</th>\n",
       "      <td>8956.447606</td>\n",
       "      <td>1303.309693</td>\n",
       "      <td>6401.960608</td>\n",
       "      <td>11510.934604</td>\n",
       "      <td>53908.841872</td>\n",
       "      <td>0.444680</td>\n",
       "      <td>0.689561</td>\n",
       "    </tr>\n",
       "  </tbody>\n",
       "</table>\n",
       "</div>"
      ],
      "text/plain": [
       "                       estimate       stderr        lower         upper  \\\n",
       "double lasso        9035.120004  1295.135748  6496.653938  11573.586070   \n",
       "lasso/logistic      9115.445552  1300.615888  6566.238412  11664.652691   \n",
       "random forest       8974.192861  1360.282725  6308.038721  11640.347002   \n",
       "decision tree       9236.195678  1440.551643  6412.714457  12059.676898   \n",
       "boosted forest      9042.328908  1363.010057  6370.829196  11713.828619   \n",
       "automl              8761.508409  1320.542498  6173.245113  11349.771705   \n",
       "automl (semi-cfit)  8956.447606  1303.309693  6401.960608  11510.934604   \n",
       "\n",
       "                          rmse y    rmse D  accuracy D  \n",
       "double lasso        54254.468883  0.443406    0.688553  \n",
       "lasso/logistic      54254.468883  0.444094    0.687242  \n",
       "random forest       55070.184307  0.444545    0.688250  \n",
       "decision tree       59427.392172  0.446437    0.688048  \n",
       "boosted forest      56305.804444  0.443464    0.690368  \n",
       "automl              55242.961954  0.450593    0.689965  \n",
       "automl (semi-cfit)  53908.841872  0.444680    0.689561  "
      ]
     },
     "execution_count": 38,
     "metadata": {},
     "output_type": "execute_result"
    }
   ],
   "source": [
    "table = pd.concat([table, summary(*result, X, D, y, name='automl (semi-cfit)')])\n",
    "table"
   ]
  },
  {
   "cell_type": "markdown",
   "id": "b97cb96c",
   "metadata": {
    "id": "b97cb96c"
   },
   "source": [
    "### Semi-Crossfitting with Stacking"
   ]
  },
  {
   "cell_type": "code",
   "execution_count": 39,
   "id": "f5214c9d",
   "metadata": {
    "id": "f5214c9d"
   },
   "outputs": [],
   "source": [
    "def dml_dirty(X, D, y, modely_list, modeld_list, *,\n",
    "              stacker=LinearRegression(), nfolds, classifier=False):\n",
    "    '''\n",
    "    DML for the Partially Linear Model setting with semi-cross-fitting\n",
    "\n",
    "    Input\n",
    "    -----\n",
    "    X: the controls\n",
    "    D: the treatment\n",
    "    y: the outcome\n",
    "    modely: the ML model for predicting the outcome y\n",
    "    modeld: the ML model for predicting the treatment D\n",
    "    stacker: model used to aggregate predictions of each of the base models\n",
    "    nfolds: the number of folds in cross-fitting\n",
    "    classifier: bool, whether the modeld is a classifier or a regressor\n",
    "\n",
    "    Output\n",
    "    ------\n",
    "    point: the point estimate of the treatment effect of D on y\n",
    "    stderr: the standard error of the treatment effect\n",
    "    yhat: the cross-fitted predictions for the outcome y\n",
    "    Dhat: the cross-fitted predictions for the treatment D\n",
    "    resy: the outcome residuals\n",
    "    resD: the treatment residuals\n",
    "    epsilon: the final residual-on-residual OLS regression residual\n",
    "    '''\n",
    "    # construct out-of-fold predictions for each model\n",
    "    cv = KFold(n_splits=nfolds, shuffle=True, random_state=123)\n",
    "    yhats = np.array([cross_val_predict(modely, X, y, cv=cv, n_jobs=-1) for modely in modely_list]).T\n",
    "    if classifier:\n",
    "        Dhats = np.array([cross_val_predict(modeld, X, D, cv=cv, method='predict_proba', n_jobs=-1)[:, 1]\n",
    "                         for modeld in modeld_list]).T\n",
    "    else:\n",
    "        Dhats = np.array([cross_val_predict(modeld, X, D, cv=cv, n_jobs=-1) for modeld in modeld_list]).T\n",
    "    # calculate stacked residuals by finding optimal coefficients\n",
    "    # and weigthing out-of-sample predictions by these coefficients\n",
    "    yhat = stacker.fit(yhats, y).predict(yhats)\n",
    "    Dhat = stacker.fit(Dhats, D).predict(Dhats)\n",
    "    resy = y - yhat\n",
    "    resD = D - Dhat\n",
    "    # go with the stacked residuals\n",
    "    point = np.mean(resy * resD) / np.mean(resD**2)\n",
    "    epsilon = resy - point * resD\n",
    "    var = np.mean(epsilon**2 * resD**2) / np.mean(resD**2)**2\n",
    "    stderr = np.sqrt(var / X.shape[0])\n",
    "    return point, stderr, yhat, Dhat, resy, resD, epsilon"
   ]
  },
  {
   "cell_type": "code",
   "execution_count": 40,
   "id": "6a671f5e",
   "metadata": {
    "id": "6a671f5e"
   },
   "outputs": [],
   "source": [
    "result = dml_dirty(X, D, y, [lassoy, rfy, dtry, gbfy], [lgrd, rfd, dtrd, gbfd],\n",
    "                   nfolds=5, classifier=True)"
   ]
  },
  {
   "cell_type": "code",
   "execution_count": 41,
   "id": "f6bfa361",
   "metadata": {
    "id": "f6bfa361"
   },
   "outputs": [
    {
     "data": {
      "text/html": [
       "<div>\n",
       "<style scoped>\n",
       "    .dataframe tbody tr th:only-of-type {\n",
       "        vertical-align: middle;\n",
       "    }\n",
       "\n",
       "    .dataframe tbody tr th {\n",
       "        vertical-align: top;\n",
       "    }\n",
       "\n",
       "    .dataframe thead th {\n",
       "        text-align: right;\n",
       "    }\n",
       "</style>\n",
       "<table border=\"1\" class=\"dataframe\">\n",
       "  <thead>\n",
       "    <tr style=\"text-align: right;\">\n",
       "      <th></th>\n",
       "      <th>estimate</th>\n",
       "      <th>stderr</th>\n",
       "      <th>lower</th>\n",
       "      <th>upper</th>\n",
       "      <th>rmse y</th>\n",
       "      <th>rmse D</th>\n",
       "      <th>accuracy D</th>\n",
       "    </tr>\n",
       "  </thead>\n",
       "  <tbody>\n",
       "    <tr>\n",
       "      <th>double lasso</th>\n",
       "      <td>9035.120004</td>\n",
       "      <td>1295.135748</td>\n",
       "      <td>6496.653938</td>\n",
       "      <td>11573.586070</td>\n",
       "      <td>54254.468883</td>\n",
       "      <td>0.443406</td>\n",
       "      <td>0.688553</td>\n",
       "    </tr>\n",
       "    <tr>\n",
       "      <th>lasso/logistic</th>\n",
       "      <td>9115.445552</td>\n",
       "      <td>1300.615888</td>\n",
       "      <td>6566.238412</td>\n",
       "      <td>11664.652691</td>\n",
       "      <td>54254.468883</td>\n",
       "      <td>0.444094</td>\n",
       "      <td>0.687242</td>\n",
       "    </tr>\n",
       "    <tr>\n",
       "      <th>random forest</th>\n",
       "      <td>8974.192861</td>\n",
       "      <td>1360.282725</td>\n",
       "      <td>6308.038721</td>\n",
       "      <td>11640.347002</td>\n",
       "      <td>55070.184307</td>\n",
       "      <td>0.444545</td>\n",
       "      <td>0.688250</td>\n",
       "    </tr>\n",
       "    <tr>\n",
       "      <th>decision tree</th>\n",
       "      <td>9236.195678</td>\n",
       "      <td>1440.551643</td>\n",
       "      <td>6412.714457</td>\n",
       "      <td>12059.676898</td>\n",
       "      <td>59427.392172</td>\n",
       "      <td>0.446437</td>\n",
       "      <td>0.688048</td>\n",
       "    </tr>\n",
       "    <tr>\n",
       "      <th>boosted forest</th>\n",
       "      <td>9042.328908</td>\n",
       "      <td>1363.010057</td>\n",
       "      <td>6370.829196</td>\n",
       "      <td>11713.828619</td>\n",
       "      <td>56305.804444</td>\n",
       "      <td>0.443464</td>\n",
       "      <td>0.690368</td>\n",
       "    </tr>\n",
       "    <tr>\n",
       "      <th>automl</th>\n",
       "      <td>8761.508409</td>\n",
       "      <td>1320.542498</td>\n",
       "      <td>6173.245113</td>\n",
       "      <td>11349.771705</td>\n",
       "      <td>55242.961954</td>\n",
       "      <td>0.450593</td>\n",
       "      <td>0.689965</td>\n",
       "    </tr>\n",
       "    <tr>\n",
       "      <th>automl (semi-cfit)</th>\n",
       "      <td>8956.447606</td>\n",
       "      <td>1303.309693</td>\n",
       "      <td>6401.960608</td>\n",
       "      <td>11510.934604</td>\n",
       "      <td>53908.841872</td>\n",
       "      <td>0.444680</td>\n",
       "      <td>0.689561</td>\n",
       "    </tr>\n",
       "    <tr>\n",
       "      <th>stacked (semi-cfit)</th>\n",
       "      <td>8972.658698</td>\n",
       "      <td>1306.026377</td>\n",
       "      <td>6412.846999</td>\n",
       "      <td>11532.470398</td>\n",
       "      <td>54058.947083</td>\n",
       "      <td>0.442879</td>\n",
       "      <td>0.690166</td>\n",
       "    </tr>\n",
       "  </tbody>\n",
       "</table>\n",
       "</div>"
      ],
      "text/plain": [
       "                        estimate       stderr        lower         upper  \\\n",
       "double lasso         9035.120004  1295.135748  6496.653938  11573.586070   \n",
       "lasso/logistic       9115.445552  1300.615888  6566.238412  11664.652691   \n",
       "random forest        8974.192861  1360.282725  6308.038721  11640.347002   \n",
       "decision tree        9236.195678  1440.551643  6412.714457  12059.676898   \n",
       "boosted forest       9042.328908  1363.010057  6370.829196  11713.828619   \n",
       "automl               8761.508409  1320.542498  6173.245113  11349.771705   \n",
       "automl (semi-cfit)   8956.447606  1303.309693  6401.960608  11510.934604   \n",
       "stacked (semi-cfit)  8972.658698  1306.026377  6412.846999  11532.470398   \n",
       "\n",
       "                           rmse y    rmse D  accuracy D  \n",
       "double lasso         54254.468883  0.443406    0.688553  \n",
       "lasso/logistic       54254.468883  0.444094    0.687242  \n",
       "random forest        55070.184307  0.444545    0.688250  \n",
       "decision tree        59427.392172  0.446437    0.688048  \n",
       "boosted forest       56305.804444  0.443464    0.690368  \n",
       "automl               55242.961954  0.450593    0.689965  \n",
       "automl (semi-cfit)   53908.841872  0.444680    0.689561  \n",
       "stacked (semi-cfit)  54058.947083  0.442879    0.690166  "
      ]
     },
     "execution_count": 41,
     "metadata": {},
     "output_type": "execute_result"
    }
   ],
   "source": [
    "table = pd.concat([table, summary(*result, X, D, y, name='stacked (semi-cfit)')])\n",
    "table"
   ]
  },
  {
   "cell_type": "markdown",
   "id": "comprehensive-graphics",
   "metadata": {
    "id": "comprehensive-graphics"
   },
   "source": [
    "## Interactive Regression Model (IRM)"
   ]
  },
  {
   "cell_type": "markdown",
   "id": "square-craps",
   "metadata": {
    "id": "square-craps"
   },
   "source": [
    "Next, we consider estimation of average treatment effects when treatment effects are fully heterogeneous:"
   ]
  },
  {
   "cell_type": "markdown",
   "id": "large-welcome",
   "metadata": {
    "id": "large-welcome"
   },
   "source": [
    " \\begin{eqnarray}\\label{eq: HetPL1}\n",
    " & Y  = g_0(D, X) + U,  &  \\quad E[U \\mid X, D]= 0,\\\\\n",
    "  & D  = m_0(X) + V,  & \\quad  E[V\\mid X] = 0.\n",
    "\\end{eqnarray}"
   ]
  },
  {
   "cell_type": "markdown",
   "id": "perfect-reliance",
   "metadata": {
    "id": "perfect-reliance"
   },
   "source": [
    "To reduce the disproportionate impact of extreme propensity score weights in the interactive model\n",
    "we trim the propensity scores which are below .01 or above .99."
   ]
  },
  {
   "cell_type": "code",
   "execution_count": 42,
   "id": "5a0b5d47",
   "metadata": {
    "id": "5a0b5d47"
   },
   "outputs": [],
   "source": [
    "def dr(X, D, y, modely0, modely1, modeld, *, trimming=0.01, nfolds):\n",
    "    '''\n",
    "    DML for the Interactive Regression Model setting (Doubly Robust Learning)\n",
    "    with cross-fitting\n",
    "\n",
    "    Input\n",
    "    -----\n",
    "    X: the controls\n",
    "    D: the treatment\n",
    "    y: the outcome\n",
    "    modely0: the ML model for predicting the outcome y in the control population\n",
    "    modely1: the ML model for predicting the outcome y in the treated population\n",
    "    modeld: the ML model for predicting the treatment D\n",
    "    trimming: threshold below which to trim propensities\n",
    "    nfolds: the number of folds in cross-fitting\n",
    "\n",
    "    Output\n",
    "    ------\n",
    "    point: the point estimate of the treatment effect of D on y\n",
    "    stderr: the standard error of the treatment effect\n",
    "    yhat: the cross-fitted predictions for the outcome y\n",
    "    Dhat: the cross-fitted predictions for the outcome D\n",
    "    resy: the outcome residuals\n",
    "    resD: the treatment residuals\n",
    "    drhat: the doubly robust quantity for each sample\n",
    "    '''\n",
    "    cv = KFold(n_splits=nfolds, shuffle=True, random_state=123)\n",
    "    yhat0, yhat1 = np.zeros(y.shape), np.zeros(y.shape)\n",
    "    # we will fit a model E[Y| D, X] by fitting a separate model for D==0\n",
    "    # and a separate model for D==1.\n",
    "    for train, test in cv.split(X, y):\n",
    "        # train a model on training data that received treatment zero and predict on all data in test set\n",
    "        yhat0[test] = clone(modely0).fit(X.iloc[train][D[train] == 0], y[train][D[train] == 0]).predict(X.iloc[test])\n",
    "        # train a model on training data that received treatment one and predict on all data in test set\n",
    "        yhat1[test] = clone(modely1).fit(X.iloc[train][D[train] == 1], y[train][D[train] == 1]).predict(X.iloc[test])\n",
    "    # prediction for observed treatment\n",
    "    yhat = yhat0 * (1 - D) + yhat1 * D\n",
    "    # propensity scores\n",
    "    Dhat = cross_val_predict(modeld, X, D, cv=cv, method='predict_proba', n_jobs=-1)[:, 1]\n",
    "    Dhat = np.clip(Dhat, trimming, 1 - trimming)\n",
    "    # doubly robust quantity for every sample\n",
    "    drhat = yhat1 - yhat0 + (y - yhat) * (D / Dhat - (1 - D) / (1 - Dhat))\n",
    "    point = np.mean(drhat)\n",
    "    var = np.var(drhat)\n",
    "    stderr = np.sqrt(var / X.shape[0])\n",
    "    return point, stderr, yhat, Dhat, y - yhat, D - Dhat, drhat"
   ]
  },
  {
   "cell_type": "markdown",
   "id": "MRgN7S5TXlfF",
   "metadata": {
    "id": "MRgN7S5TXlfF"
   },
   "source": [
    "**NB**: There is randomness across the random seed that potentially causes instability in our estimates. In particular, we find that the lasso/logistic specification for the IRM model exhibits great instability across different seeds. To mitigate these differences, we can take an average across seeds. In principle we would do this for all estimates, but for computation and simplicity, we cheat a little bit and do it only for the model specification we know varies significantly."
   ]
  },
  {
   "cell_type": "code",
   "execution_count": null,
   "id": "ZpHWxbk7L7Sl",
   "metadata": {
    "id": "ZpHWxbk7L7Sl"
   },
   "outputs": [],
   "source": [
    "cv = KFold(n_splits=5, shuffle=True, random_state=123)\n",
    "lassoytest = make_pipeline(transformer, StandardScaler(), LassoCV(cv=cv))\n",
    "lgrdtest = make_pipeline(transformer, StandardScaler(), LogisticRegressionCV(cv=cv))\n",
    "result = dr(X, D, y, lassoytest, lassoytest, lgrdtest, nfolds=5)\n",
    "seed_estimates = summary(*result, X, D, y, name='lasso/logistic')\n",
    "\n",
    "for i in range(9):\n",
    "    cv = KFold(n_splits=5, shuffle=True, random_state=i)\n",
    "    lassoytest = make_pipeline(transformer, StandardScaler(), LassoCV(cv=cv))\n",
    "    lgrdtest = make_pipeline(transformer, StandardScaler(), LogisticRegressionCV(cv=cv))\n",
    "    result = dr(X, D, y, lassoytest, lassoytest, lgrdtest, nfolds=5)\n",
    "    seed_estimates = pd.concat([seed_estimates, summary(*result, X, D, y, name='lasso/logistic')])\n",
    "\n",
    "seed_estimates"
   ]
  },
  {
   "cell_type": "markdown",
   "id": "2szrjAObipxP",
   "metadata": {
    "id": "2szrjAObipxP"
   },
   "source": [
    "As we can see, using lasso and logistic regression for $Y$ and $D$ respectively leads to estimates that vary across different seeds. Letting $\\hat{\\theta}_s$ denote the vector of $s=10$ estimates across the seeds, we take $$\\hat{\\theta} := \\text{median}(\\hat{\\theta}_s)$$ and $$SE(\\hat{\\theta}) := \\sqrt{\\text{median}\\left(SE(\\hat{\\theta}_s)^2 + (\\hat{\\theta}_s - \\hat{\\theta})^2\\right)}$$ (Note in the standard error calculation, the operation of de-medianing $\\hat{\\theta}_s - \\hat{\\theta}$ is broadcasted.)"
   ]
  },
  {
   "cell_type": "code",
   "execution_count": null,
   "id": "zQnSP-hDlVPw",
   "metadata": {
    "id": "zQnSP-hDlVPw"
   },
   "outputs": [],
   "source": [
    "med_theta = np.median(seed_estimates.values[:, 0])\n",
    "se_med = np.sqrt(np.median((seed_estimates.values[:, 1])**2 + (seed_estimates.values[:, 0] - med_theta)**2))\n",
    "tabledr = pd.DataFrame({'estimate': med_theta,\n",
    "                        'stderr': se_med,\n",
    "                        'lower': med_theta - 1.96 * se_med,\n",
    "                        'upper': med_theta + 1.96 * se_med,\n",
    "                        'rmse y': np.median(seed_estimates.values[:, 4]),\n",
    "                        'rmse D': np.median(seed_estimates.values[:, 5]),\n",
    "                        'accuracy D': np.median(seed_estimates.values[:, 6]),\n",
    "                        }, index=['lasso/logistic'])"
   ]
  },
  {
   "cell_type": "code",
   "execution_count": null,
   "id": "1b0fe147",
   "metadata": {
    "id": "1b0fe147"
   },
   "outputs": [],
   "source": [
    "rfy = make_pipeline(transformer, RandomForestRegressor(n_estimators=100, min_samples_leaf=10, ccp_alpha=.001))\n",
    "rfd = make_pipeline(transformer, RandomForestClassifier(n_estimators=100, min_samples_leaf=10, ccp_alpha=.001))\n",
    "result = dr(X, D, y, rfy, rfy, rfd, nfolds=5)"
   ]
  },
  {
   "cell_type": "code",
   "execution_count": null,
   "id": "259efb1c",
   "metadata": {
    "id": "259efb1c"
   },
   "outputs": [],
   "source": [
    "tabledr = pd.concat([tabledr, summary(*result, X, D, y, name='random forest')])\n",
    "tabledr"
   ]
  },
  {
   "cell_type": "code",
   "execution_count": null,
   "id": "5335633c",
   "metadata": {
    "id": "5335633c"
   },
   "outputs": [],
   "source": [
    "dtry = make_pipeline(transformer, DecisionTreeRegressor(min_samples_leaf=10, ccp_alpha=.001))\n",
    "dtrd = make_pipeline(transformer, DecisionTreeClassifier(min_samples_leaf=10, ccp_alpha=.001))\n",
    "result = dr(X, D, y, dtry, dtry, dtrd, nfolds=5)"
   ]
  },
  {
   "cell_type": "code",
   "execution_count": null,
   "id": "3c5d5a12",
   "metadata": {
    "id": "3c5d5a12"
   },
   "outputs": [],
   "source": [
    "tabledr = pd.concat([tabledr, summary(*result, X, D, y, name='decision tree')])\n",
    "tabledr"
   ]
  },
  {
   "cell_type": "code",
   "execution_count": null,
   "id": "69f9338c",
   "metadata": {
    "id": "69f9338c"
   },
   "outputs": [],
   "source": [
    "gbfy = make_pipeline(transformer, GradientBoostingRegressor(max_depth=2, n_iter_no_change=5))\n",
    "gbfd = make_pipeline(transformer, GradientBoostingClassifier(max_depth=2, n_iter_no_change=5))\n",
    "result = dr(X, D, y, gbfy, gbfy, gbfd, nfolds=5)"
   ]
  },
  {
   "cell_type": "code",
   "execution_count": null,
   "id": "8d275ed3",
   "metadata": {
    "id": "8d275ed3"
   },
   "outputs": [],
   "source": [
    "tabledr = pd.concat([tabledr, summary(*result, X, D, y, name='boosted forest')])\n",
    "tabledr"
   ]
  },
  {
   "cell_type": "markdown",
   "id": "9a6e0994",
   "metadata": {
    "id": "9a6e0994"
   },
   "source": [
    "These estimates that flexibly account for confounding are substantially attenuated relative to the baseline estimate (19559) that does not account for confounding. They suggest much smaller causal effects of 401(k) eligiblity on financial asset holdings."
   ]
  },
  {
   "cell_type": "markdown",
   "id": "a8eadf06",
   "metadata": {
    "id": "a8eadf06"
   },
   "source": [
    "# Semi-Cross-Fitting"
   ]
  },
  {
   "cell_type": "code",
   "execution_count": null,
   "id": "fee26e18",
   "metadata": {
    "id": "fee26e18"
   },
   "outputs": [],
   "source": [
    "from flaml import AutoML\n",
    "flamly0 = make_pipeline(transformer, AutoML(time_budget=60, task='regression', early_stop=True,\n",
    "                                            eval_method='cv', n_splits=3, metric='r2', verbose=0))\n",
    "flamly1 = make_pipeline(transformer, AutoML(time_budget=60, task='regression', early_stop=True,\n",
    "                                            eval_method='cv', n_splits=3, metric='r2', verbose=0))\n",
    "flamld = make_pipeline(transformer, AutoML(time_budget=60, task='classification', early_stop=True,\n",
    "                                           eval_method='cv', n_splits=3, metric='r2', verbose=0))"
   ]
  },
  {
   "cell_type": "code",
   "execution_count": null,
   "id": "22518880",
   "metadata": {
    "id": "22518880"
   },
   "outputs": [],
   "source": [
    "flamly0.fit(X[D == 0], y[D == 0])\n",
    "besty0 = make_pipeline(transformer, clone(flamly0[-1].best_model_for_estimator(flamly0[-1].best_estimator)))"
   ]
  },
  {
   "cell_type": "code",
   "execution_count": null,
   "id": "dd04a3cd",
   "metadata": {
    "id": "dd04a3cd"
   },
   "outputs": [],
   "source": [
    "flamly1.fit(X[D == 1], y[D == 1])\n",
    "besty1 = make_pipeline(transformer, clone(flamly1[-1].best_model_for_estimator(flamly1[-1].best_estimator)))"
   ]
  },
  {
   "cell_type": "code",
   "execution_count": null,
   "id": "5088756e",
   "metadata": {
    "id": "5088756e"
   },
   "outputs": [],
   "source": [
    "flamld.fit(X, D)\n",
    "bestd = make_pipeline(transformer, clone(flamld[-1].best_model_for_estimator(flamld[-1].best_estimator)))"
   ]
  },
  {
   "cell_type": "code",
   "execution_count": null,
   "id": "9a415bd9",
   "metadata": {
    "id": "9a415bd9"
   },
   "outputs": [],
   "source": [
    "result = dr(X, D, y, besty0, besty1, bestd, nfolds=5)"
   ]
  },
  {
   "cell_type": "code",
   "execution_count": null,
   "id": "30800bbc",
   "metadata": {
    "id": "30800bbc"
   },
   "outputs": [],
   "source": [
    "tabledr = pd.concat([tabledr, summary(*result, X, D, y, name='automl (semi-cfit)')])\n",
    "tabledr"
   ]
  },
  {
   "cell_type": "code",
   "execution_count": null,
   "id": "9325941a",
   "metadata": {
    "id": "9325941a"
   },
   "outputs": [],
   "source": [
    "def dr_dirty(X, D, y, modely0_list, modely1_list, modeld_list, *,\n",
    "             stacker=LinearRegression(), trimming=0.01, nfolds):\n",
    "    '''\n",
    "    DML for the Interactive Regression Model setting (Doubly Robust Learning)\n",
    "    with cross-fitting\n",
    "\n",
    "    Input\n",
    "    -----\n",
    "    X: the controls\n",
    "    D: the treatment\n",
    "    y: the outcome\n",
    "    modely_list: list of ML models for predicting the outcome y\n",
    "    modeld_list: list of ML models for predicting the treatment D\n",
    "    stacker: model used to aggregate predictions of each of the base models\n",
    "    trimming: threshold below which to trim propensities\n",
    "    nfolds: the number of folds in cross-fitting\n",
    "\n",
    "    Output\n",
    "    ------\n",
    "    point: the point estimate of the treatment effect of D on y\n",
    "    stderr: the standard error of the treatment effect\n",
    "    yhat: the cross-fitted predictions for the outcome y\n",
    "    Dhat: the cross-fitted predictions for the outcome D\n",
    "    resy: the outcome residuals\n",
    "    resD: the treatment residuals\n",
    "    drhat: the doubly robust quantity for each sample\n",
    "    '''\n",
    "    cv = KFold(n_splits=nfolds, shuffle=True, random_state=123)\n",
    "\n",
    "    # we will fit a model E[Y| D, X] by fitting a separate model for D==0\n",
    "    # and a separate model for D==1. We do that for each model type in modely_list\n",
    "    yhats0, yhats1 = np.zeros((y.shape[0], len(modely0_list))), np.zeros((y.shape[0], len(modely1_list)))\n",
    "    for train, test in cv.split(X, y):\n",
    "        for it, modely0 in enumerate(modely0_list):\n",
    "            mdl = clone(modely0).fit(X.iloc[train][D[train] == 0], y[train][D[train] == 0])\n",
    "            yhats0[test, it] = mdl.predict(X.iloc[test])\n",
    "        for it, modely1 in enumerate(modely1_list):\n",
    "            mdl = clone(modely1).fit(X.iloc[train][D[train] == 1], y[train][D[train] == 1])\n",
    "            yhats1[test, it] = mdl.predict(X.iloc[test])\n",
    "\n",
    "    # calculate stacking weights for the outcome model for each population\n",
    "    # and combine the outcome model predictions\n",
    "    yhat0 = clone(stacker).fit(yhats0[D == 0], y[D == 0]).predict(yhats0)\n",
    "    yhat1 = clone(stacker).fit(yhats1[D == 1], y[D == 1]).predict(yhats1)\n",
    "\n",
    "    # prediction for observed treatment using the stacked model\n",
    "    yhat = yhat0 * (1 - D) + yhat1 * D\n",
    "\n",
    "    # propensity scores\n",
    "    Dhats = np.array([cross_val_predict(modeld, X, D, cv=cv, method='predict_proba', n_jobs=-1)[:, 1]\n",
    "                     for modeld in modeld_list]).T\n",
    "    # construct coefficients on each model based on stacker\n",
    "    Dhat = clone(stacker).fit(Dhats, D).predict(Dhats)\n",
    "    # trim propensities\n",
    "    Dhat = np.clip(Dhat, trimming, 1 - trimming)\n",
    "\n",
    "    # doubly robust quantity for every sample\n",
    "    drhat = yhat1 - yhat0 + (y - yhat) * (D / Dhat - (1 - D) / (1 - Dhat))\n",
    "    point = np.mean(drhat)\n",
    "    var = np.var(drhat)\n",
    "    stderr = np.sqrt(var / X.shape[0])\n",
    "    return point, stderr, yhat, Dhat, y - yhat, D - Dhat, drhat"
   ]
  },
  {
   "cell_type": "code",
   "execution_count": null,
   "id": "5401f09d",
   "metadata": {
    "id": "5401f09d"
   },
   "outputs": [],
   "source": [
    "result = dr_dirty(X, D, y, [lassoy, rfy, dtry, gbfy], [lassoy, rfy, dtry, gbfy], [lgrd, rfd, dtrd, gbfd], nfolds=5)"
   ]
  },
  {
   "cell_type": "code",
   "execution_count": null,
   "id": "1606f1bb",
   "metadata": {
    "id": "1606f1bb"
   },
   "outputs": [],
   "source": [
    "tabledr = pd.concat([tabledr, summary(*result, X, D, y, name='stacked (semi-cfit)')])\n",
    "tabledr"
   ]
  },
  {
   "cell_type": "markdown",
   "id": "743cde38",
   "metadata": {
    "id": "743cde38"
   },
   "source": [
    "We can compare the results between the PLR model and IRM model. We find that the effect under the IRM model is typically of lower value."
   ]
  },
  {
   "cell_type": "code",
   "execution_count": null,
   "id": "0ce30440",
   "metadata": {
    "id": "0ce30440"
   },
   "outputs": [],
   "source": [
    "table"
   ]
  },
  {
   "cell_type": "code",
   "execution_count": null,
   "id": "93fcee1c",
   "metadata": {
    "id": "93fcee1c"
   },
   "outputs": [],
   "source": [
    "tabledr"
   ]
  },
  {
   "cell_type": "markdown",
   "id": "af5867dc",
   "metadata": {
    "id": "af5867dc"
   },
   "source": [
    "# Using the EconML Library\n",
    "\n"
   ]
  },
  {
   "cell_type": "markdown",
   "id": "MCC8KTmCoLOZ",
   "metadata": {
    "id": "MCC8KTmCoLOZ"
   },
   "source": [
    "We are interested in valid estimators of the average treatment effect of `e401` on `net_tfa`. There exist nice packages out there that can help us do our estimation with the simple call of a function. Such packages include `EconML` (Python), `DoubleML` (Python and R), and `ddml` (Stata and R).\n",
    "\n",
    "We run through PLR and IRM using `EconML` below to illustrate."
   ]
  },
  {
   "cell_type": "code",
   "execution_count": null,
   "id": "401bc6b6",
   "metadata": {
    "id": "401bc6b6"
   },
   "outputs": [],
   "source": [
    "# code verified with this version of econml\n",
    "# If you want to try out the latest econml version remove the version number;\n",
    "# albeit mistakes could potentially be raised due to library updates”\n",
    "!pip install econml==0.14.1"
   ]
  },
  {
   "cell_type": "code",
   "execution_count": null,
   "id": "ebd88f6b",
   "metadata": {
    "id": "ebd88f6b"
   },
   "outputs": [],
   "source": [
    "# for these libraries we will just pre-featurize the controls\n",
    "W = StandardScaler().fit_transform(transformer.fit_transform(X))"
   ]
  },
  {
   "cell_type": "code",
   "execution_count": null,
   "id": "fe3ba9f4",
   "metadata": {
    "id": "fe3ba9f4"
   },
   "outputs": [],
   "source": [
    "from econml.dml import LinearDML\n",
    "cv = KFold(n_splits=5, shuffle=True, random_state=123)\n",
    "ldml = LinearDML(model_y=LassoCV(cv=cv), model_t=LogisticRegressionCV(cv=cv),\n",
    "                 cv=3, discrete_treatment=True, random_state=123).fit(y, D, W=W)"
   ]
  },
  {
   "cell_type": "code",
   "execution_count": null,
   "id": "a52d86c5",
   "metadata": {
    "id": "a52d86c5"
   },
   "outputs": [],
   "source": [
    "ldml.summary()"
   ]
  },
  {
   "cell_type": "code",
   "execution_count": null,
   "id": "4d6c5b24",
   "metadata": {
    "id": "4d6c5b24"
   },
   "outputs": [],
   "source": [
    "# r2scores\n",
    "r2scorey = np.mean(ldml.nuisance_scores_y)\n",
    "r2scored = np.mean(ldml.nuisance_scores_t)\n",
    "r2scorey, r2scored"
   ]
  },
  {
   "cell_type": "code",
   "execution_count": null,
   "id": "473f350b",
   "metadata": {
    "id": "473f350b"
   },
   "outputs": [],
   "source": [
    "from econml.dr import LinearDRLearner\n",
    "\n",
    "# dr learner in econml fits a single regression function of Y from X, D\n",
    "# using all the data\n",
    "dr = LinearDRLearner(model_regression=LassoCV(cv=cv),\n",
    "                     model_propensity=LogisticRegressionCV(cv=cv),\n",
    "                     cv=3, min_propensity=0.01, random_state=123).fit(y, D, W=W)"
   ]
  },
  {
   "cell_type": "code",
   "execution_count": null,
   "id": "ea53e99a",
   "metadata": {
    "id": "ea53e99a"
   },
   "outputs": [],
   "source": [
    "dr.summary(T=1)"
   ]
  },
  {
   "cell_type": "code",
   "execution_count": null,
   "id": "519426af",
   "metadata": {
    "id": "519426af"
   },
   "outputs": [],
   "source": [
    "from econml.dr import LinearDRLearner\n",
    "from econml.utilities import SeparateModel\n",
    "\n",
    "# to implement the separate regression models we need use the separate model wrapper\n",
    "# that splits the data based on the last covariate (in this case D) and fits a separate\n",
    "# model for each group. The input to the wrapper is the model to use for each value\n",
    "# of the last covariate.\n",
    "dr = LinearDRLearner(model_regression=SeparateModel(LassoCV(cv=cv), LassoCV(cv=cv)),\n",
    "                     model_propensity=LogisticRegressionCV(cv=cv),\n",
    "                     cv=3, min_propensity=0.01, random_state=123).fit(y, D, W=W)"
   ]
  },
  {
   "cell_type": "code",
   "execution_count": null,
   "id": "e3794606",
   "metadata": {
    "id": "e3794606"
   },
   "outputs": [],
   "source": [
    "dr.summary(T=1)"
   ]
  },
  {
   "cell_type": "markdown",
   "id": "3ca94a11",
   "metadata": {
    "id": "3ca94a11"
   },
   "source": [
    "# Using the DoubleML library"
   ]
  },
  {
   "cell_type": "markdown",
   "id": "qj9BrMhWpk70",
   "metadata": {
    "id": "qj9BrMhWpk70"
   },
   "source": [
    "We now play with `DoubleML` to illustrate its use."
   ]
  },
  {
   "cell_type": "code",
   "execution_count": null,
   "id": "ea90e4e1",
   "metadata": {
    "id": "ea90e4e1"
   },
   "outputs": [],
   "source": [
    "!pip install doubleml"
   ]
  },
  {
   "cell_type": "code",
   "execution_count": null,
   "id": "9930faf2",
   "metadata": {
    "id": "9930faf2"
   },
   "outputs": [],
   "source": [
    "from doubleml import DoubleMLData\n",
    "dml_data = DoubleMLData.from_arrays(W, y, D)\n",
    "print(dml_data)"
   ]
  },
  {
   "cell_type": "code",
   "execution_count": null,
   "id": "c146dd15",
   "metadata": {
    "id": "c146dd15"
   },
   "outputs": [],
   "source": [
    "import doubleml as dml\n",
    "\n",
    "dml_plr_obj = dml.DoubleMLPLR(dml_data, LassoCV(cv=cv), LogisticRegressionCV(cv=cv), n_folds=3)\n",
    "print(dml_plr_obj.fit())"
   ]
  },
  {
   "cell_type": "code",
   "execution_count": null,
   "id": "9e7b7b7c",
   "metadata": {
    "id": "9e7b7b7c"
   },
   "outputs": [],
   "source": [
    "dml_irm_obj = dml.DoubleMLIRM(dml_data, LassoCV(cv=cv), LogisticRegressionCV(cv=cv), n_folds=3)\n",
    "\n",
    "print(dml_irm_obj.fit())"
   ]
  }
 ],
 "metadata": {
  "colab": {
   "provenance": []
  },
  "kernelspec": {
   "display_name": "Python 3 (ipykernel)",
   "language": "python",
   "name": "python3"
  },
  "language_info": {
   "codemirror_mode": {
    "name": "ipython",
    "version": 3
   },
   "file_extension": ".py",
   "mimetype": "text/x-python",
   "name": "python",
   "nbconvert_exporter": "python",
   "pygments_lexer": "ipython3",
   "version": "3.11.5"
  },
  "papermill": {
   "default_parameters": {},
   "duration": 537.547458,
   "end_time": "2021-03-24T14:22:44.931595",
   "environment_variables": {},
   "exception": null,
   "input_path": "__notebook__.ipynb",
   "output_path": "__notebook__.ipynb",
   "parameters": {},
   "start_time": "2021-03-24T14:13:47.384137",
   "version": "2.3.2"
  }
 },
 "nbformat": 4,
 "nbformat_minor": 5
}
