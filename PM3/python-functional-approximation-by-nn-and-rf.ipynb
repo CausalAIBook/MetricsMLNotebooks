{
 "cells": [
  {
   "cell_type": "code",
   "execution_count": null,
   "id": "90a71fe6",
   "metadata": {},
   "outputs": [],
   "source": [
    "import numpy as np\n",
    "import matplotlib.pyplot as plt\n",
    "from sklearn.tree import DecisionTreeRegressor\n",
    "from sklearn.ensemble import GradientBoostingRegressor, RandomForestRegressor\n",
    "from sklearn.neural_network import MLPRegressor"
   ]
  },
  {
   "cell_type": "markdown",
   "id": "elegant-proxy",
   "metadata": {
    "papermill": {
     "duration": 0.011489,
     "end_time": "2021-03-30T21:54:42.895419",
     "exception": false,
     "start_time": "2021-03-30T21:54:42.883930",
     "status": "completed"
    },
    "tags": []
   },
   "source": [
    "# Functional Approximations by Trees and Neural Networks\n",
    "\n",
    "Here we show how the function\n",
    "$$\n",
    "x \\mapsto exp(4 x)\n",
    "$$\n",
    "can be easily approximated by a tree-based methods (Trees, Random Forest) and a neural network (2 Layered Neural Network)"
   ]
  },
  {
   "cell_type": "code",
   "execution_count": null,
   "id": "376635dd",
   "metadata": {},
   "outputs": [],
   "source": [
    "# noiseless data\n",
    "def gen_data(n):\n",
    "    X = np.random.uniform(0, 1, size=(n, 1))\n",
    "    y = np.exp(4 * X[:, 0])\n",
    "    return X, y"
   ]
  },
  {
   "cell_type": "code",
   "execution_count": null,
   "id": "d608d3dd",
   "metadata": {},
   "outputs": [],
   "source": [
    "np.random.seed(123)\n",
    "X, y = gen_data(1000)"
   ]
  },
  {
   "cell_type": "markdown",
   "id": "widespread-mention",
   "metadata": {
    "papermill": {
     "duration": 0.009467,
     "end_time": "2021-03-30T21:54:42.915858",
     "exception": false,
     "start_time": "2021-03-30T21:54:42.906391",
     "status": "completed"
    },
    "tags": []
   },
   "source": [
    "# Functional Approximation by a Tree\n"
   ]
  },
  {
   "cell_type": "code",
   "execution_count": null,
   "id": "c39fd891",
   "metadata": {},
   "outputs": [],
   "source": [
    "tr = DecisionTreeRegressor(ccp_alpha=0.2).fit(X, y)\n",
    "ypred = tr.predict(X)"
   ]
  },
  {
   "cell_type": "code",
   "execution_count": null,
   "id": "1d16f253",
   "metadata": {},
   "outputs": [],
   "source": [
    "plt.scatter(X[:, 0], y, label='true')\n",
    "plt.scatter(X[:, 0], ypred, label='pred')\n",
    "plt.legend()\n",
    "plt.show()"
   ]
  },
  {
   "cell_type": "code",
   "execution_count": null,
   "id": "0ecd8e8f",
   "metadata": {},
   "outputs": [],
   "source": [
    "tr = DecisionTreeRegressor(ccp_alpha=0.001).fit(X, y)\n",
    "ypred = tr.predict(X)"
   ]
  },
  {
   "cell_type": "code",
   "execution_count": null,
   "id": "d725ab29",
   "metadata": {},
   "outputs": [],
   "source": [
    "plt.scatter(X[:, 0], y, label='true')\n",
    "plt.scatter(X[:, 0], ypred, label='pred')\n",
    "plt.legend()\n",
    "plt.show()"
   ]
  },
  {
   "cell_type": "markdown",
   "id": "local-saturn",
   "metadata": {
    "papermill": {
     "duration": 0.013444,
     "end_time": "2021-03-30T21:54:43.953303",
     "exception": false,
     "start_time": "2021-03-30T21:54:43.939859",
     "status": "completed"
    },
    "tags": []
   },
   "source": [
    "# Functional Approximation by RF"
   ]
  },
  {
   "cell_type": "markdown",
   "id": "international-serum",
   "metadata": {
    "papermill": {
     "duration": 0.01351,
     "end_time": "2021-03-30T21:54:43.980273",
     "exception": false,
     "start_time": "2021-03-30T21:54:43.966763",
     "status": "completed"
    },
    "tags": []
   },
   "source": [
    "Here we show how the function\n",
    "$$\n",
    "x \\mapsto exp(4 x)\n",
    "$$\n",
    "can be easily approximated by a tree-based method (Random Forest) and a neural network (2 Layered Neural Network)"
   ]
  },
  {
   "cell_type": "code",
   "execution_count": null,
   "id": "2c89a0c5",
   "metadata": {},
   "outputs": [],
   "source": [
    "rf = RandomForestRegressor().fit(X, y)\n",
    "ypred = rf.predict(X)"
   ]
  },
  {
   "cell_type": "code",
   "execution_count": null,
   "id": "fcfc51f2",
   "metadata": {},
   "outputs": [],
   "source": [
    "plt.scatter(X[:, 0], y, label='true')\n",
    "plt.scatter(X[:, 0], ypred, label='pred')\n",
    "plt.legend()\n",
    "plt.show()"
   ]
  },
  {
   "cell_type": "markdown",
   "id": "infrared-belgium",
   "metadata": {
    "papermill": {
     "duration": 0.015474,
     "end_time": "2021-03-30T21:54:45.201078",
     "exception": false,
     "start_time": "2021-03-30T21:54:45.185604",
     "status": "completed"
    },
    "tags": []
   },
   "source": [
    "# Boosted Trees"
   ]
  },
  {
   "cell_type": "code",
   "execution_count": null,
   "id": "f5118cea",
   "metadata": {},
   "outputs": [],
   "source": [
    "gbf = GradientBoostingRegressor(n_estimators=100, learning_rate=0.01).fit(X, y)\n",
    "ypred = gbf.predict(X)"
   ]
  },
  {
   "cell_type": "code",
   "execution_count": null,
   "id": "6c4f42fc",
   "metadata": {},
   "outputs": [],
   "source": [
    "plt.scatter(X[:, 0], y, label='true')\n",
    "plt.scatter(X[:, 0], ypred, label='pred')\n",
    "plt.legend()\n",
    "plt.show()"
   ]
  },
  {
   "cell_type": "code",
   "execution_count": null,
   "id": "137e44e0",
   "metadata": {},
   "outputs": [],
   "source": [
    "gbf = GradientBoostingRegressor(n_estimators=1000, learning_rate=0.01).fit(X, y)\n",
    "ypred = gbf.predict(X)"
   ]
  },
  {
   "cell_type": "code",
   "execution_count": null,
   "id": "1649101f",
   "metadata": {},
   "outputs": [],
   "source": [
    "plt.scatter(X[:, 0], y, label='true')\n",
    "plt.scatter(X[:, 0], ypred, label='pred')\n",
    "plt.legend()\n",
    "plt.show()"
   ]
  },
  {
   "cell_type": "markdown",
   "id": "psychological-venice",
   "metadata": {
    "_cell_guid": "b1076dfc-b9ad-4769-8c92-a6c4dae69d19",
    "_uuid": "8f2839f25d086af736a60e9eeb907d3b93b6e0e5",
    "papermill": {
     "duration": 0.018291,
     "end_time": "2021-03-30T21:54:47.087924",
     "exception": false,
     "start_time": "2021-03-30T21:54:47.069633",
     "status": "completed"
    },
    "tags": []
   },
   "source": [
    "# Same Example with a Neural Network"
   ]
  },
  {
   "cell_type": "code",
   "execution_count": null,
   "id": "9c061994",
   "metadata": {},
   "outputs": [],
   "source": [
    "nnet = MLPRegressor((200, 20,), 'relu',\n",
    "                    learning_rate_init=0.01,\n",
    "                    batch_size=10, max_iter=1)\n",
    "nnet"
   ]
  },
  {
   "cell_type": "code",
   "execution_count": null,
   "id": "2a1d7cc0",
   "metadata": {},
   "outputs": [],
   "source": [
    "nnet.fit(X, y)\n",
    "ypred = nnet.predict(X)"
   ]
  },
  {
   "cell_type": "code",
   "execution_count": null,
   "id": "acf2ce5b",
   "metadata": {},
   "outputs": [],
   "source": [
    "plt.scatter(X[:, 0], y, label='true')\n",
    "plt.scatter(X[:, 0], ypred, label='pred')\n",
    "plt.legend()\n",
    "plt.show()"
   ]
  },
  {
   "cell_type": "code",
   "execution_count": null,
   "id": "a9db1d51",
   "metadata": {},
   "outputs": [],
   "source": [
    "nnet.max_iter = 100\n",
    "nnet.fit(X, y)\n",
    "ypred = nnet.predict(X)"
   ]
  },
  {
   "cell_type": "code",
   "execution_count": null,
   "id": "539ebb01",
   "metadata": {},
   "outputs": [],
   "source": [
    "plt.scatter(X[:, 0], y, label='true')\n",
    "plt.scatter(X[:, 0], ypred, label='pred')\n",
    "plt.legend()\n",
    "plt.show()"
   ]
  },
  {
   "cell_type": "markdown",
   "id": "f261e981",
   "metadata": {},
   "source": [
    "### Using the PyTorch Neural Network Library and its Sklearn API Skorch"
   ]
  },
  {
   "cell_type": "code",
   "execution_count": null,
   "id": "49e3b46e",
   "metadata": {},
   "outputs": [],
   "source": [
    "from skorch import NeuralNetRegressor\n",
    "from torch.nn import Sequential\n",
    "import torch.nn as nn"
   ]
  },
  {
   "cell_type": "code",
   "execution_count": null,
   "id": "7defdcf2",
   "metadata": {},
   "outputs": [],
   "source": [
    "arch = nn.Sequential(nn.Linear(X.shape[1], 200), nn.ReLU(),\n",
    "                     nn.Linear(200, 20), nn.ReLU(),\n",
    "                     nn.Linear(20, 1))\n",
    "nnet = NeuralNetRegressor(arch, lr=0.01, batch_size=10, max_epochs=1,\n",
    "                          optimizer=torch.optim.Adam, train_split=None)\n",
    "nnet"
   ]
  },
  {
   "cell_type": "code",
   "execution_count": null,
   "id": "0f25a6ff",
   "metadata": {},
   "outputs": [],
   "source": [
    "nnet.fit(X.astype(np.float32), y.reshape(-1, 1).astype(np.float32))\n",
    "ypred = nnet.predict(X.astype(np.float32))"
   ]
  },
  {
   "cell_type": "code",
   "execution_count": null,
   "id": "d25c8bfe",
   "metadata": {},
   "outputs": [],
   "source": [
    "plt.scatter(X[:, 0], y, label='true')\n",
    "plt.scatter(X[:, 0], ypred, label='pred')\n",
    "plt.legend()\n",
    "plt.show()"
   ]
  },
  {
   "cell_type": "code",
   "execution_count": null,
   "id": "cf4b2ce6",
   "metadata": {},
   "outputs": [],
   "source": [
    "nnet.max_epochs = 100 # training for more\n",
    "nnet.fit(X.astype(np.float32), y.reshape(-1, 1).astype(np.float32))\n",
    "ypred = nnet.predict(X.astype(np.float32))"
   ]
  },
  {
   "cell_type": "code",
   "execution_count": null,
   "id": "74d5b869",
   "metadata": {},
   "outputs": [],
   "source": [
    "plt.scatter(X[:, 0], y, label='true')\n",
    "plt.scatter(X[:, 0], ypred, label='pred')\n",
    "plt.legend()\n",
    "plt.show()"
   ]
  },
  {
   "cell_type": "code",
   "execution_count": null,
   "id": "ff746610",
   "metadata": {},
   "outputs": [],
   "source": [
    "# adding early stopping based on validation set performance\n",
    "nnet.train_split = skorch.dataset.ValidSplit(5) # 20% validation\n",
    "nnet.callbacks = [skorch.callbacks.EarlyStopping()] # early stopping callback"
   ]
  },
  {
   "cell_type": "code",
   "execution_count": null,
   "id": "510bfdb9",
   "metadata": {},
   "outputs": [],
   "source": [
    "nnet.fit(X.astype(np.float32), y.reshape(-1, 1).astype(np.float32))\n",
    "ypred = nnet.predict(X.astype(np.float32))"
   ]
  },
  {
   "cell_type": "code",
   "execution_count": null,
   "id": "8678cba2",
   "metadata": {},
   "outputs": [],
   "source": [
    "plt.scatter(X[:, 0], y, label='true')\n",
    "plt.scatter(X[:, 0], ypred, label='pred')\n",
    "plt.legend()\n",
    "plt.show()"
   ]
  },
  {
   "cell_type": "code",
   "execution_count": null,
   "id": "1907bf04",
   "metadata": {},
   "outputs": [],
   "source": []
  }
 ],
 "metadata": {
  "kernelspec": {
   "display_name": "Python 3 (ipykernel)",
   "language": "python",
   "name": "python3"
  },
  "language_info": {
   "codemirror_mode": {
    "name": "ipython",
    "version": 3
   },
   "file_extension": ".py",
   "mimetype": "text/x-python",
   "name": "python",
   "nbconvert_exporter": "python",
   "pygments_lexer": "ipython3",
   "version": "3.9.13"
  },
  "papermill": {
   "default_parameters": {},
   "duration": 30.682213,
   "end_time": "2021-03-30T21:55:10.531019",
   "environment_variables": {},
   "exception": null,
   "input_path": "__notebook__.ipynb",
   "output_path": "__notebook__.ipynb",
   "parameters": {},
   "start_time": "2021-03-30T21:54:39.848806",
   "version": "2.3.2"
  }
 },
 "nbformat": 4,
 "nbformat_minor": 5
}
