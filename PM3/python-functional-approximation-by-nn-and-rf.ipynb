{
 "cells": [
  {
   "cell_type": "code",
   "execution_count": null,
   "id": "bde96855",
   "metadata": {},
   "outputs": [],
   "source": [
    "import numpy as np\n",
    "import matplotlib.pyplot as plt\n",
    "from sklearn.tree import DecisionTreeRegressor\n",
    "from sklearn.ensemble import GradientBoostingRegressor, RandomForestRegressor"
   ]
  },
  {
   "cell_type": "markdown",
   "id": "elegant-proxy",
   "metadata": {
    "papermill": {
     "duration": 0.011489,
     "end_time": "2021-03-30T21:54:42.895419",
     "exception": false,
     "start_time": "2021-03-30T21:54:42.883930",
     "status": "completed"
    },
    "tags": []
   },
   "source": [
    "# Functional Approximations by Trees and Neural Networks\n",
    "\n",
    "Here we show how the function\n",
    "$$\n",
    "x \\mapsto exp(4 x)\n",
    "$$\n",
    "can be easily approximated by a tree-based methods (Trees, Random Forest) and a neural network (2 Layered Neural Network)"
   ]
  },
  {
   "cell_type": "code",
   "execution_count": null,
   "id": "b53f1c55",
   "metadata": {},
   "outputs": [],
   "source": [
    "# noiseless data\n",
    "def gen_data(n):\n",
    "    X = np.random.uniform(0, 1, size=(n, 1))\n",
    "    y = np.exp(4 * X[:, 0])\n",
    "    return X, y"
   ]
  },
  {
   "cell_type": "code",
   "execution_count": null,
   "id": "389914a6",
   "metadata": {},
   "outputs": [],
   "source": [
    "np.random.seed(123)\n",
    "X, y = gen_data(1000)"
   ]
  },
  {
   "cell_type": "markdown",
   "id": "widespread-mention",
   "metadata": {
    "papermill": {
     "duration": 0.009467,
     "end_time": "2021-03-30T21:54:42.915858",
     "exception": false,
     "start_time": "2021-03-30T21:54:42.906391",
     "status": "completed"
    },
    "tags": []
   },
   "source": [
    "# Functional Approximation by a Tree\n"
   ]
  },
  {
   "cell_type": "code",
   "execution_count": null,
   "id": "7fb5328e",
   "metadata": {},
   "outputs": [],
   "source": [
    "tr = DecisionTreeRegressor(ccp_alpha=0.2).fit(X, y)\n",
    "ypred = tr.predict(X)"
   ]
  },
  {
   "cell_type": "code",
   "execution_count": null,
   "id": "16977c2e",
   "metadata": {},
   "outputs": [],
   "source": [
    "plt.scatter(X[:, 0], y, label='true')\n",
    "plt.scatter(X[:, 0], ypred, label='pred')\n",
    "plt.legend()\n",
    "plt.show()"
   ]
  },
  {
   "cell_type": "code",
   "execution_count": null,
   "id": "2c2e19f7",
   "metadata": {},
   "outputs": [],
   "source": [
    "tr = DecisionTreeRegressor(ccp_alpha=0.001).fit(X, y)\n",
    "ypred = tr.predict(X)"
   ]
  },
  {
   "cell_type": "code",
   "execution_count": null,
   "id": "1126866f",
   "metadata": {},
   "outputs": [],
   "source": [
    "plt.scatter(X[:, 0], y, label='true')\n",
    "plt.scatter(X[:, 0], ypred, label='pred')\n",
    "plt.legend()\n",
    "plt.show()"
   ]
  },
  {
   "cell_type": "markdown",
   "id": "local-saturn",
   "metadata": {
    "papermill": {
     "duration": 0.013444,
     "end_time": "2021-03-30T21:54:43.953303",
     "exception": false,
     "start_time": "2021-03-30T21:54:43.939859",
     "status": "completed"
    },
    "tags": []
   },
   "source": [
    "# Functional Approximation by RF"
   ]
  },
  {
   "cell_type": "markdown",
   "id": "international-serum",
   "metadata": {
    "papermill": {
     "duration": 0.01351,
     "end_time": "2021-03-30T21:54:43.980273",
     "exception": false,
     "start_time": "2021-03-30T21:54:43.966763",
     "status": "completed"
    },
    "tags": []
   },
   "source": [
    "Here we show how the function\n",
    "$$\n",
    "x \\mapsto exp(4 x)\n",
    "$$\n",
    "can be easily approximated by a tree-based method (Random Forest) and a neural network (2 Layered Neural Network)"
   ]
  },
  {
   "cell_type": "code",
   "execution_count": null,
   "id": "cca27eed",
   "metadata": {},
   "outputs": [],
   "source": [
    "rf = RandomForestRegressor().fit(X, y)\n",
    "ypred = rf.predict(X)"
   ]
  },
  {
   "cell_type": "code",
   "execution_count": null,
   "id": "aba531e2",
   "metadata": {},
   "outputs": [],
   "source": [
    "plt.scatter(X[:, 0], y, label='true')\n",
    "plt.scatter(X[:, 0], ypred, label='pred')\n",
    "plt.legend()\n",
    "plt.show()"
   ]
  },
  {
   "cell_type": "markdown",
   "id": "infrared-belgium",
   "metadata": {
    "papermill": {
     "duration": 0.015474,
     "end_time": "2021-03-30T21:54:45.201078",
     "exception": false,
     "start_time": "2021-03-30T21:54:45.185604",
     "status": "completed"
    },
    "tags": []
   },
   "source": [
    "# Boosted Trees"
   ]
  },
  {
   "cell_type": "code",
   "execution_count": null,
   "id": "d450e002",
   "metadata": {},
   "outputs": [],
   "source": [
    "gbf = GradientBoostingRegressor(n_estimators=100, learning_rate=0.01).fit(X, y)\n",
    "ypred = gbf.predict(X)"
   ]
  },
  {
   "cell_type": "code",
   "execution_count": null,
   "id": "9b4d6d95",
   "metadata": {},
   "outputs": [],
   "source": [
    "plt.scatter(X[:, 0], y, label='true')\n",
    "plt.scatter(X[:, 0], ypred, label='pred')\n",
    "plt.legend()\n",
    "plt.show()"
   ]
  },
  {
   "cell_type": "code",
   "execution_count": null,
   "id": "671e9596",
   "metadata": {},
   "outputs": [],
   "source": [
    "gbf = GradientBoostingRegressor(n_estimators=1000, learning_rate=0.01).fit(X, y)\n",
    "ypred = gbf.predict(X)"
   ]
  },
  {
   "cell_type": "code",
   "execution_count": null,
   "id": "519ea97c",
   "metadata": {},
   "outputs": [],
   "source": [
    "plt.scatter(X[:, 0], y, label='true')\n",
    "plt.scatter(X[:, 0], ypred, label='pred')\n",
    "plt.legend()\n",
    "plt.show()"
   ]
  },
  {
   "cell_type": "markdown",
   "id": "psychological-venice",
   "metadata": {
    "_cell_guid": "b1076dfc-b9ad-4769-8c92-a6c4dae69d19",
    "_uuid": "8f2839f25d086af736a60e9eeb907d3b93b6e0e5",
    "papermill": {
     "duration": 0.018291,
     "end_time": "2021-03-30T21:54:47.087924",
     "exception": false,
     "start_time": "2021-03-30T21:54:47.069633",
     "status": "completed"
    },
    "tags": []
   },
   "source": [
    "# Same Example with a Neural Network"
   ]
  },
  {
   "cell_type": "code",
   "execution_count": null,
   "id": "6c888e9c",
   "metadata": {},
   "outputs": [],
   "source": [
    "from sklearn.neural_network import MLPRegressor\n",
    "\n",
    "nnet = MLPRegressor((200, 20,), 'relu',\n",
    "                    learning_rate_init=0.01,\n",
    "                    batch_size=10, max_iter=1)\n",
    "nnet"
   ]
  },
  {
   "cell_type": "code",
   "execution_count": null,
   "id": "b60abcdd",
   "metadata": {},
   "outputs": [],
   "source": [
    "nnet.fit(X, y)\n",
    "ypred = nnet.predict(X)"
   ]
  },
  {
   "cell_type": "code",
   "execution_count": null,
   "id": "d4494cba",
   "metadata": {},
   "outputs": [],
   "source": [
    "plt.scatter(X[:, 0], y, label='true')\n",
    "plt.scatter(X[:, 0], ypred, label='pred')\n",
    "plt.legend()\n",
    "plt.show()"
   ]
  },
  {
   "cell_type": "code",
   "execution_count": null,
   "id": "476bbf36",
   "metadata": {},
   "outputs": [],
   "source": [
    "nnet.max_iter = 100\n",
    "nnet.fit(X, y)\n",
    "ypred = nnet.predict(X)"
   ]
  },
  {
   "cell_type": "code",
   "execution_count": null,
   "id": "108d9c52",
   "metadata": {},
   "outputs": [],
   "source": [
    "plt.scatter(X[:, 0], y, label='true')\n",
    "plt.scatter(X[:, 0], ypred, label='pred')\n",
    "plt.legend()\n",
    "plt.show()"
   ]
  },
  {
   "cell_type": "code",
   "execution_count": null,
   "id": "d9535f3d",
   "metadata": {},
   "outputs": [],
   "source": [
    "from skorch import NeuralNetRegressor\n",
    "from torch.nn import Sequential\n",
    "import torch.nn as nn"
   ]
  },
  {
   "cell_type": "code",
   "execution_count": null,
   "id": "97386d5c",
   "metadata": {},
   "outputs": [],
   "source": [
    "arch = nn.Sequential(nn.Linear(X.shape[1], 200), nn.ReLU(),\n",
    "                     nn.Linear(200, 20), nn.ReLU(),\n",
    "                     nn.Linear(20, 1))\n",
    "nnet = NeuralNetRegressor(arch, lr=0.01, batch_size=10, max_epochs=1,\n",
    "                          optimizer=torch.optim.Adam, train_split=None)"
   ]
  },
  {
   "cell_type": "code",
   "execution_count": null,
   "id": "15d2585d",
   "metadata": {},
   "outputs": [],
   "source": [
    "nnet.fit(X.astype(np.float32), y.reshape(-1, 1).astype(np.float32))\n",
    "ypred = nnet.predict(X.astype(np.float32))"
   ]
  },
  {
   "cell_type": "code",
   "execution_count": null,
   "id": "54d8fe7a",
   "metadata": {},
   "outputs": [],
   "source": [
    "plt.scatter(X[:, 0], y, label='true')\n",
    "plt.scatter(X[:, 0], ypred, label='pred')\n",
    "plt.legend()\n",
    "plt.show()"
   ]
  },
  {
   "cell_type": "code",
   "execution_count": null,
   "id": "77e678fd",
   "metadata": {},
   "outputs": [],
   "source": [
    "nnet.max_epochs = 100 # training for more\n",
    "nnet.fit(X.astype(np.float32), y.reshape(-1, 1).astype(np.float32))\n",
    "ypred = nnet.predict(X.astype(np.float32))"
   ]
  },
  {
   "cell_type": "code",
   "execution_count": null,
   "id": "3b02e45a",
   "metadata": {},
   "outputs": [],
   "source": [
    "plt.scatter(X[:, 0], y, label='true')\n",
    "plt.scatter(X[:, 0], ypred, label='pred')\n",
    "plt.legend()\n",
    "plt.show()"
   ]
  },
  {
   "cell_type": "code",
   "execution_count": null,
   "id": "79ddaaa2",
   "metadata": {},
   "outputs": [],
   "source": [
    "# adding early stopping based on validation set performance\n",
    "nnet.train_split = skorch.dataset.ValidSplit(5) # 20% validation\n",
    "nnet.callbacks = [skorch.callbacks.EarlyStopping()] # early stopping callback"
   ]
  },
  {
   "cell_type": "code",
   "execution_count": null,
   "id": "7a13daed",
   "metadata": {},
   "outputs": [],
   "source": [
    "nnet.fit(X.astype(np.float32), y.reshape(-1, 1).astype(np.float32))\n",
    "ypred = nnet.predict(X.astype(np.float32))"
   ]
  },
  {
   "cell_type": "code",
   "execution_count": null,
   "id": "5ff9a783",
   "metadata": {},
   "outputs": [],
   "source": [
    "plt.scatter(X[:, 0], y, label='true')\n",
    "plt.scatter(X[:, 0], ypred, label='pred')\n",
    "plt.legend()\n",
    "plt.show()"
   ]
  },
  {
   "cell_type": "code",
   "execution_count": null,
   "id": "69e1b56e",
   "metadata": {},
   "outputs": [],
   "source": []
  }
 ],
 "metadata": {
  "kernelspec": {
   "display_name": "Python 3 (ipykernel)",
   "language": "python",
   "name": "python3"
  },
  "language_info": {
   "codemirror_mode": {
    "name": "ipython",
    "version": 3
   },
   "file_extension": ".py",
   "mimetype": "text/x-python",
   "name": "python",
   "nbconvert_exporter": "python",
   "pygments_lexer": "ipython3",
   "version": "3.9.13"
  },
  "papermill": {
   "default_parameters": {},
   "duration": 30.682213,
   "end_time": "2021-03-30T21:55:10.531019",
   "environment_variables": {},
   "exception": null,
   "input_path": "__notebook__.ipynb",
   "output_path": "__notebook__.ipynb",
   "parameters": {},
   "start_time": "2021-03-30T21:54:39.848806",
   "version": "2.3.2"
  }
 },
 "nbformat": 4,
 "nbformat_minor": 5
}
