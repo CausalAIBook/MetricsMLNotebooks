{
 "cells": [
  {
   "cell_type": "markdown",
   "metadata": {
    "papermill": {
     "duration": 0.022263,
     "end_time": "2021-01-20T08:46:44.289888",
     "exception": false,
     "start_time": "2021-01-20T08:46:44.267625",
     "status": "completed"
    },
    "tags": []
   },
   "source": [
    "This notebook contains an example for teaching."
   ]
  },
  {
   "cell_type": "markdown",
   "metadata": {
    "papermill": {
     "duration": 0.02114,
     "end_time": "2021-01-20T08:46:44.333044",
     "exception": false,
     "start_time": "2021-01-20T08:46:44.311904",
     "status": "completed"
    },
    "tags": []
   },
   "source": [
    "# Testing the Convergence Hypothesis"
   ]
  },
  {
   "cell_type": "markdown",
   "metadata": {
    "papermill": {
     "duration": 0.020943,
     "end_time": "2021-01-20T08:46:44.375077",
     "exception": false,
     "start_time": "2021-01-20T08:46:44.354134",
     "status": "completed"
    },
    "tags": []
   },
   "source": [
    "## Introduction"
   ]
  },
  {
   "cell_type": "markdown",
   "metadata": {
    "papermill": {
     "duration": 0.020999,
     "end_time": "2021-01-20T08:46:44.417216",
     "exception": false,
     "start_time": "2021-01-20T08:46:44.396217",
     "status": "completed"
    },
    "tags": []
   },
   "source": [
    "We provide an additional empirical example of partialling-out with Lasso to estimate the regression coefficient $\\beta_1$ in the high-dimensional linear regression model:\n",
    "  $$\n",
    "  Y = \\beta_1 D +  \\beta_2'W + \\epsilon.\n",
    "  $$\n",
    "  \n",
    "Specifically, we are interested in how the rates  at which economies of different countries grow ($Y$) are related to the initial wealth levels in each country ($D$) controlling for country's institutional, educational, and other similar characteristics ($W$).\n",
    "  \n",
    "The relationship is captured by $\\beta_1$, the *speed of convergence/divergence*, which measures the speed at which poor countries catch up $(\\beta_1< 0)$ or fall behind $(\\beta_1> 0)$ rich countries, after controlling for $W$. Our inference question here is: do poor countries grow faster than rich countries, controlling for educational and other characteristics? In other words, is the speed of convergence negative: $ \\beta_1 <0?$ This is the Convergence Hypothesis predicted by the Solow Growth Model. This is a structural economic model. Under some strong assumptions, that we won't state here, the predictive exercise we are doing here can be given causal interpretation.\n"
   ]
  },
  {
   "cell_type": "markdown",
   "metadata": {
    "papermill": {
     "duration": 0.021587,
     "end_time": "2021-01-20T08:46:44.459779",
     "exception": false,
     "start_time": "2021-01-20T08:46:44.438192",
     "status": "completed"
    },
    "tags": []
   },
   "source": [
    "The outcome $Y$ is the realized annual growth rate of a country's wealth  (Gross Domestic Product per capita). The target regressor ($D$) is the initial level of the country's wealth. The target parameter $\\beta_1$ is the speed of convergence, which measures the speed at which poor countries catch up with rich countries. The controls ($W$) include measures of education levels, quality of institutions, trade openness, and political stability in the country."
   ]
  },
  {
   "cell_type": "markdown",
   "metadata": {
    "papermill": {
     "duration": 0.021064,
     "end_time": "2021-01-20T08:46:44.502289",
     "exception": false,
     "start_time": "2021-01-20T08:46:44.481225",
     "status": "completed"
    },
    "tags": []
   },
   "source": [
    "## Data analysis\n"
   ]
  },
  {
   "cell_type": "markdown",
   "metadata": {
    "papermill": {
     "duration": 0.021269,
     "end_time": "2021-01-20T08:46:44.545701",
     "exception": false,
     "start_time": "2021-01-20T08:46:44.524432",
     "status": "completed"
    },
    "tags": []
   },
   "source": [
    "We consider the data set GrowthData which is included in the package *hdm*. First, let us load the data set to get familiar with the data."
   ]
  },
  {
   "cell_type": "code",
   "execution_count": null,
   "metadata": {
    "papermill": {
     "duration": 0.328039,
     "end_time": "2021-01-20T08:46:44.895665",
     "exception": false,
     "start_time": "2021-01-20T08:46:44.567626",
     "status": "completed"
    },
    "tags": []
   },
   "outputs": [],
   "source": [
    "library(hdm)\n",
    "growth <- GrowthData\n",
    "attach(growth)\n",
    "names(growth)\n"
   ]
  },
  {
   "cell_type": "markdown",
   "metadata": {
    "papermill": {
     "duration": 0.022542,
     "end_time": "2021-01-20T08:46:44.941354",
     "exception": false,
     "start_time": "2021-01-20T08:46:44.918812",
     "status": "completed"
    },
    "tags": []
   },
   "source": [
    "We determine the dimension of our data set."
   ]
  },
  {
   "cell_type": "code",
   "execution_count": null,
   "metadata": {
    "papermill": {
     "duration": 0.095528,
     "end_time": "2021-01-20T08:46:45.059972",
     "exception": false,
     "start_time": "2021-01-20T08:46:44.964444",
     "status": "completed"
    },
    "tags": []
   },
   "outputs": [],
   "source": [
    "dim(growth)"
   ]
  },
  {
   "cell_type": "markdown",
   "metadata": {
    "papermill": {
     "duration": 0.025013,
     "end_time": "2021-01-20T08:46:45.109042",
     "exception": false,
     "start_time": "2021-01-20T08:46:45.084029",
     "status": "completed"
    },
    "tags": []
   },
   "source": [
    "The sample contains $90$ countries and $63$ controls. Thus $p \\approx 60$, $n=90$ and $p/n$ is not small. We expect the least squares method to provide a poor estimate of $\\beta_1$.  We expect the method based on partialling-out with Lasso to provide a high quality estimate of $\\beta_1$."
   ]
  },
  {
   "cell_type": "markdown",
   "metadata": {
    "papermill": {
     "duration": 0.024124,
     "end_time": "2021-01-20T08:46:45.157510",
     "exception": false,
     "start_time": "2021-01-20T08:46:45.133386",
     "status": "completed"
    },
    "tags": []
   },
   "source": [
    "To check this hypothesis, we analyze the relation between the output variable $Y$ and the other country's characteristics by running a linear regression in the first step."
   ]
  },
  {
   "cell_type": "code",
   "execution_count": null,
   "metadata": {
    "papermill": {
     "duration": 0.06791,
     "end_time": "2021-01-20T08:46:45.249423",
     "exception": false,
     "start_time": "2021-01-20T08:46:45.181513",
     "status": "completed"
    },
    "tags": []
   },
   "outputs": [],
   "source": [
    "reg.ols <- lm(Outcome~.-1,data=growth)"
   ]
  },
  {
   "cell_type": "markdown",
   "metadata": {
    "papermill": {
     "duration": 0.023954,
     "end_time": "2021-01-20T08:46:45.297880",
     "exception": false,
     "start_time": "2021-01-20T08:46:45.273926",
     "status": "completed"
    },
    "tags": []
   },
   "source": [
    "We determine the regression coefficient $\\beta_1$ of the target regressor *gdpsh465* ($D$), its 95% confidence interval and the standard error."
   ]
  },
  {
   "cell_type": "code",
   "execution_count": null,
   "metadata": {
    "papermill": {
     "duration": 0.087755,
     "end_time": "2021-01-20T08:46:45.411431",
     "exception": false,
     "start_time": "2021-01-20T08:46:45.323676",
     "status": "completed"
    },
    "tags": []
   },
   "outputs": [],
   "source": [
    "est_ols <- summary(reg.ols)$coef[\"gdpsh465\",1]\n",
    "# output: estimated regression coefficient corresponding to the target regressor\n",
    "\n",
    "std_ols <- summary(reg.ols)$coef[\"gdpsh465\",2]\n",
    "# output: std. error\n",
    "\n",
    "ci_ols <- confint(reg.ols)[2,]\n",
    "# output: 95% confidence interval\n",
    "\n",
    "results_ols <- as.data.frame(cbind(est_ols,std_ols,ci_ols[1],ci_ols[2]))\n",
    "colnames(results_ols) <-c(\"estimator\",\"standard error\", \"lower bound CI\", \"upper bound CI\")\n",
    "rownames(results_ols) <-c(\"OLS\")"
   ]
  },
  {
   "cell_type": "code",
   "execution_count": null,
   "metadata": {
    "papermill": {
     "duration": 0.107818,
     "end_time": "2021-01-20T08:46:45.540473",
     "exception": false,
     "start_time": "2021-01-20T08:46:45.432655",
     "status": "completed"
    },
    "tags": []
   },
   "outputs": [],
   "source": [
    "library(xtable)\n",
    "table <- matrix(0, 1, 4)\n",
    "table[1,1:4]   <- c(est_ols,std_ols,ci_ols[1],ci_ols[2])\n",
    "colnames(table) <-c(\"estimator\",\"standard error\", \"lower bound CI\", \"upper bound CI\")\n",
    "rownames(table) <-c(\"OLS\")\n",
    "tab<- xtable(table, digits = 3)\n",
    "print(tab,type=\"html\") # set type=\"latex\" for printing table in LaTeX"
   ]
  },
  {
   "cell_type": "markdown",
   "metadata": {
    "papermill": {
     "duration": 0.024477,
     "end_time": "2021-01-20T08:46:45.590014",
     "exception": false,
     "start_time": "2021-01-20T08:46:45.565537",
     "status": "completed"
    },
    "tags": []
   },
   "source": [
    "<!-- html table generated in R 3.6.3 by xtable 1.8-4 package -->\n",
    "<!-- Tue Jan 19 10:23:32 2021 -->\n",
    "<table border=1>\n",
    "<tr> <th>  </th> <th> estimator </th> <th> standard error </th> <th> lower bound CI </th> <th> upper bound CI </th>  </tr>\n",
    "  <tr> <td align=\"right\"> OLS </td> <td align=\"right\"> -0.009 </td> <td align=\"right\"> 0.030 </td> <td align=\"right\"> -0.071 </td> <td align=\"right\"> 0.052 </td> </tr>\n",
    "   </table>"
   ]
  },
  {
   "cell_type": "markdown",
   "metadata": {
    "papermill": {
     "duration": 0.025116,
     "end_time": "2021-01-20T08:46:45.640216",
     "exception": false,
     "start_time": "2021-01-20T08:46:45.615100",
     "status": "completed"
    },
    "tags": []
   },
   "source": [
    "Least squares provides a rather noisy estimate (high standard error) of the\n",
    "speed of convergence, and does not allow us to answer the question\n",
    "about the convergence hypothesis since the confidence interval includes zero."
   ]
  },
  {
   "cell_type": "markdown",
   "metadata": {
    "papermill": {
     "duration": 0.024882,
     "end_time": "2021-01-20T08:46:45.690232",
     "exception": false,
     "start_time": "2021-01-20T08:46:45.665350",
     "status": "completed"
    },
    "tags": []
   },
   "source": [
    "In contrast, we can use the partialling-out approach based on lasso regression (\"Double Lasso\")."
   ]
  },
  {
   "cell_type": "code",
   "execution_count": null,
   "metadata": {
    "papermill": {
     "duration": 0.599855,
     "end_time": "2021-01-20T08:46:46.314727",
     "exception": false,
     "start_time": "2021-01-20T08:46:45.714872",
     "status": "completed"
    },
    "tags": []
   },
   "outputs": [],
   "source": [
    "Y <- growth[, 1, drop = F] # output variable\n",
    "W <- as.matrix(growth)[, -c(1, 2,3)] # controls\n",
    "D <- growth[, 3, drop = F] # target regressor\n",
    "r.Y <- rlasso(x=W,y=Y)$res # creates the \"residual\" output variable\n",
    "r.D <- rlasso(x=W,y=D)$res # creates the \"residual\" target regressor\n",
    "partial.lasso <- lm(r.Y ~ r.D)\n",
    "est_lasso <- partial.lasso$coef[2]\n",
    "std_lasso <- summary(partial.lasso)$coef[2,2]\n",
    "ci_lasso <- confint(partial.lasso)[2,]\n",
    "\n",
    "library(xtable)\n",
    "table <- matrix(0, 1, 4)\n",
    "table[1,1:4]   <- c(est_lasso,std_lasso,ci_lasso[1],ci_lasso[2])\n",
    "colnames(table) <-c(\"estimator\",\"standard error\", \"lower bound CI\", \"upper bound CI\")\n",
    "rownames(table) <-c(\"Double Lasso\")\n",
    "tab<- xtable(table, digits = 3)\n",
    "print(tab,type=\"html\") # set type=\"latex\" for printing table in LaTeX"
   ]
  },
  {
   "cell_type": "markdown",
   "metadata": {
    "papermill": {
     "duration": 0.016774,
     "end_time": "2021-01-20T08:46:46.348908",
     "exception": false,
     "start_time": "2021-01-20T08:46:46.332134",
     "status": "completed"
    },
    "tags": []
   },
   "source": [
    "<!-- html table generated in R 3.6.3 by xtable 1.8-4 package -->\n",
    "<!-- Tue Jan 19 10:23:51 2021 -->\n",
    "<table border=1>\n",
    "<tr> <th>  </th> <th> estimator </th> <th> standard error </th> <th> lower bound CI </th> <th> upper bound CI </th>  </tr>\n",
    "  <tr> <td align=\"right\"> Double Lasso </td> <td align=\"right\"> -0.050 </td> <td align=\"right\"> 0.014 </td> <td align=\"right\"> -0.078 </td> <td align=\"right\"> -0.022 </td> </tr>\n",
    "   </table>\n"
   ]
  },
  {
   "cell_type": "markdown",
   "metadata": {
    "papermill": {
     "duration": 0.016916,
     "end_time": "2021-01-20T08:46:46.383126",
     "exception": false,
     "start_time": "2021-01-20T08:46:46.366210",
     "status": "completed"
    },
    "tags": []
   },
   "source": [
    "Lasso provides a more precise estimate (lower standard error). The Lasso based\n",
    "point estimate is  about $5\\%$ and the $95\\%$ confidence interval for the\n",
    "(annual) rate of convergence is $7.8\\%$ to $2.2\\%$. This empirical\n",
    "evidence does support the convergence hypothesis."
   ]
  },
  {
   "cell_type": "markdown",
   "metadata": {
    "papermill": {
     "duration": 0.016876,
     "end_time": "2021-01-20T08:46:46.417524",
     "exception": false,
     "start_time": "2021-01-20T08:46:46.400648",
     "status": "completed"
    },
    "tags": []
   },
   "source": [
    "Note: Alternatively, one could also use the *rlassoEffect* funtion from the *hdm* package that directly applies the partialling-out approach."
   ]
  },
  {
   "cell_type": "code",
   "execution_count": null,
   "metadata": {
    "papermill": {
     "duration": 0.474975,
     "end_time": "2021-01-20T08:46:46.909392",
     "exception": false,
     "start_time": "2021-01-20T08:46:46.434417",
     "status": "completed"
    },
    "tags": []
   },
   "outputs": [],
   "source": [
    "lasso.effect = rlassoEffect(x = W, y = Y, d = D, method = \"partialling out\")\n",
    "lasso.effect"
   ]
  },
  {
   "cell_type": "markdown",
   "metadata": {
    "papermill": {
     "duration": 0.026639,
     "end_time": "2021-01-20T08:46:46.963077",
     "exception": false,
     "start_time": "2021-01-20T08:46:46.936438",
     "status": "completed"
    },
    "tags": []
   },
   "source": [
    "## Summary\n"
   ]
  },
  {
   "cell_type": "markdown",
   "metadata": {
    "papermill": {
     "duration": 0.026742,
     "end_time": "2021-01-20T08:46:47.016856",
     "exception": false,
     "start_time": "2021-01-20T08:46:46.990114",
     "status": "completed"
    },
    "tags": []
   },
   "source": [
    "Finally, let us have a look at the results."
   ]
  },
  {
   "cell_type": "code",
   "execution_count": null,
   "metadata": {
    "papermill": {
     "duration": 0.05828,
     "end_time": "2021-01-20T08:46:47.102228",
     "exception": false,
     "start_time": "2021-01-20T08:46:47.043948",
     "status": "completed"
    },
    "tags": []
   },
   "outputs": [],
   "source": [
    "library(xtable)\n",
    "table <- matrix(0, 2, 4)\n",
    "table[1,1:4]   <- c(est_ols,std_ols,ci_ols[1],ci_ols[2])\n",
    "table[2,1:4]   <- c(est_lasso,std_lasso,ci_lasso[1],ci_lasso[2])\n",
    "colnames(table) <-c(\"estimator\",\"standard error\", \"lower bound CI\", \"upper bound CI\")\n",
    "rownames(table) <-c(\"OLS\",\"Double Lasso\")\n",
    "tab<- xtable(table, digits = 3)\n",
    "print(tab,type=\"html\") # set type=\"latex\" for printing table in LaTeX"
   ]
  },
  {
   "cell_type": "markdown",
   "metadata": {
    "papermill": {
     "duration": 0.028298,
     "end_time": "2021-01-20T08:46:47.157901",
     "exception": false,
     "start_time": "2021-01-20T08:46:47.129603",
     "status": "completed"
    },
    "tags": []
   },
   "source": [
    "The least square method provides a rather noisy estimate of the speed of convergence. We can not answer the question if poor countries grow faster than rich countries. The least square method does not work when the ratio $p/n$ is large.\n",
    "\n",
    "In sharp contrast, partialling-out via Lasso provides a more precise estimate. The Lasso based point estimate is $-5\\%$ and the $95\\%$ confidence interval for the (annual) rate of convergence $[-7.8\\%,-2.2\\%]$ only includes negative numbers. This empirical evidence does support the convergence hypothesis.\n"
   ]
  },
  {
   "cell_type": "markdown",
   "metadata": {
    "papermill": {
     "duration": 0.027536,
     "end_time": "2021-01-20T08:46:47.213105",
     "exception": false,
     "start_time": "2021-01-20T08:46:47.185569",
     "status": "completed"
    },
    "tags": []
   },
   "source": [
    "<!-- html table generated in R 3.6.3 by xtable 1.8-4 package -->\n",
    "<!-- Tue Jan 19 10:28:15 2021 -->\n",
    "<table border=1>\n",
    "<tr> <th>  </th> <th> estimator </th> <th> standard error </th> <th> lower bound CI </th> <th> upper bound CI </th>  </tr>\n",
    "  <tr> <td align=\"right\"> OLS </td> <td align=\"right\"> -0.009 </td> <td align=\"right\"> 0.030 </td> <td align=\"right\"> -0.071 </td> <td align=\"right\"> 0.052 </td> </tr>\n",
    "  <tr> <td align=\"right\"> Double Lasso </td> <td align=\"right\"> -0.050 </td> <td align=\"right\"> 0.014 </td> <td align=\"right\"> -0.078 </td> <td align=\"right\"> -0.022 </td> </tr>\n",
    "   </table>\n"
   ]
  }
 ],
 "metadata": {
  "kernelspec": {
   "display_name": "R",
   "language": "R",
   "name": "ir"
  },
  "language_info": {
   "codemirror_mode": "r",
   "file_extension": ".r",
   "mimetype": "text/x-r-source",
   "name": "R",
   "pygments_lexer": "r",
   "version": "3.6.3"
  },
  "papermill": {
   "default_parameters": {},
   "duration": 8.007784,
   "end_time": "2021-01-20T08:46:48.312746",
   "environment_variables": {},
   "exception": null,
   "input_path": "__notebook__.ipynb",
   "output_path": "__notebook__.ipynb",
   "parameters": {},
   "start_time": "2021-01-20T08:46:40.304962",
   "version": "2.2.2"
  }
 },
 "nbformat": 4,
 "nbformat_minor": 4
}
