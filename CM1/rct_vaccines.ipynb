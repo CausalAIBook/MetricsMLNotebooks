{
 "cells": [
  {
   "cell_type": "markdown",
   "metadata": {
    "id": "nTkZ0i6Yzhym",
    "papermill": {
     "duration": 0.007255,
     "end_time": "2021-01-04T05:10:58.373630",
     "exception": false,
     "start_time": "2021-01-04T05:10:58.366375",
     "status": "completed"
    },
    "tags": []
   },
   "source": [
    "# Vaccine RCT Examples\n",
    "\n",
    "Victor Chernozhukov. This notebook contains some RCT examples that I will be using for teaching."
   ]
  },
  {
   "cell_type": "markdown",
   "metadata": {
    "id": "wGGzchhjzhyy",
    "papermill": {
     "duration": 0.006053,
     "end_time": "2021-01-04T05:10:58.386521",
     "exception": false,
     "start_time": "2021-01-04T05:10:58.380468",
     "status": "completed"
    },
    "tags": []
   },
   "source": [
    "  \n",
    "# Polio RCT\n",
    "\n",
    "One of the earliest randomized experiments were the Polio vaccination trias conducted by the Public Health Service in 1954.  The question was whether Salk vaccine prevented polio.  Children in the study were randomly assigned either a treatment (polio vaccine shot) or a placebo (saline solution shot), without knowing which one they received. The doctors in the study, making the diagnosis, did not know whether a child received a vaccine or not. In other words, the trial was a double-blind, randomized control trial.  The trial had to be large, because the rate at which Polio occured in the population was 50 per 100,000.  The treatment group saw 33 polio cases per 200,745; the control group saw 115 cases per 201,229. The estimated avearage treatment effect is about\n",
    "$$\n",
    "-40\n",
    "$$\n",
    "with the 95% confidence band (based on approximate normality of the two sample means and their differences) is:\n",
    "$$[-52, -28].$$\n",
    "The confidence suggests that the Polio vaccine **caused** the reduction in the risk of polio.\n",
    "\n",
    "The interesting thing here is that we don't need the underlying individual data to evaluate the effectivess of the vaccine. This is because the outcomes are Bernoulli random variabales, and we have enough information to compute the estimate of ATE as well as the confidence intervals.\n",
    "\n",
    "\n",
    "We also compute Vaccine Efficacy metric, which (I googled  [CDC](https://www.cdc.gov/csels/dsepd/ss1978/lesson3/section6.html)) refers to the following measure:\n",
    "$$\n",
    "\\operatorname{VE} = \\frac{\\text{Risk for Unvaccianted - Risk for Vaccinated}}{\\text{Risk for Unvaccianted}}.\n",
    "$$\n",
    "It describes the relative reduction in risk caused by vaccination.\n",
    "\n",
    "\n",
    "It is staighborward to get VE estimate by just plugging-in the numbers, but how do we get the approximate variance estimate. I am too lazy to do calculatios for the delta methods, so I will just use a simulation (a form of approximate bootstrap) to obtain the confidence intervals.\n",
    "\n"
   ]
  },
  {
   "cell_type": "code",
   "execution_count": null,
   "metadata": {
    "_cell_guid": "b1076dfc-b9ad-4769-8c92-a6c4dae69d19",
    "_uuid": "8f2839f25d086af736a60e9eeb907d3b93b6e0e5",
    "id": "n0AUYEIczhy2",
    "outputId": "651403dd-4376-4013-dc2b-06ae2656eb14",
    "papermill": {
     "duration": 1.94521,
     "end_time": "2021-01-04T05:11:00.339761",
     "exception": false,
     "start_time": "2021-01-04T05:10:58.394551",
     "status": "completed"
    },
    "tags": []
   },
   "outputs": [],
   "source": [
    "import numpy as np\n",
    "import pandas as pd\n",
    "from sklearn.neighbors import KernelDensity\n",
    "import matplotlib\n",
    "import matplotlib.pyplot as plt\n",
    "from scipy.stats import norm\n",
    "from sklearn.neighbors import KernelDensity\n",
    "from sklearn.utils.fixes import parse_version\n",
    "\n",
    "num_treated = 200745\n",
    "num_controls = 201229\n",
    "outcome_treated = 33/num_treated\n",
    "outcome_controls =115/num_controls\n",
    "\n",
    "print(f\"Incidence per 100000 among treated: {outcome_treated*100000}\")\n",
    "print(f\"Incidence per 100000 among controlled: {outcome_controlled*100000}\")\n",
    "\n",
    "treatment_effect = 100000*(outcome_treated-outcome_controls)\n",
    "\n",
    "print(f\"Estimate TE of occurances per 100,000: {treatment_effect}\")\n",
    "\n",
    "var_treatment_effect = (100000**2)*(outcome_treated*(1-outcome_treated)/num_treated \n",
    "                                    +  outcome_controls*(1-outcome_controls)/num_controls)\n",
    "std_treatment_effect = np.sqrt(var_treatment_effect\n",
    "print(f\"Standard deviation for ATE: {std_treatment_effect}\")\n",
    "# here we are using the fact that outcomes are Bernoulli \n",
    "\n",
    "CI_delta = [treatment_effect - 1.96*std_treatment_effect, \n",
    "            treatment_effect + 1.96*std_treatment_effect]\n",
    "\n",
    "print(f\"95 % confidence interval is [{CI_delta[0])}, {CI_delta[1]}]\")\n",
    "\n",
    "# Here we calculate the overall effectiveness of the vaccine and construct confidence intervals for it\n",
    "\n",
    "NV =  200745;\n",
    "NU =  201229;\n",
    "RV = 33/NV;\n",
    "RU = 115/NU;\n",
    "VE = (RU - RV)/RU;\n",
    "print(\"Overall VE is \"+ str(VE) )\n",
    "\n",
    "# this recovers the number in the table.\n",
    "\n",
    "# we set up a simulation example.\n",
    "\n",
    "# calulate variance of risk estimates:\n",
    "\n",
    "Var_RV = RV*(1-RV)/NV\n",
    "Var_RU = RU*(1-RU)/NU\n",
    "\n",
    "# set-up MC draws:\n",
    "\n",
    "B = 10000\n",
    "RVs = RV  + np.random.normal(0, 1, B)*(Var_RV)**.5\n",
    "RUs = RU  + np.random.normal(0, 1, B)*(Var_RU)**.5\n",
    "VEs= (RUs - RVs)/RUs\n",
    "\n",
    "\n",
    "CI_VE_L = np.quantile(VEs, .025)\n",
    "CI_VE_U = np.quantile(VEs, .975)\n",
    "\n",
    "print(\"95 % confidence interval is [\" + str(CI_VE_L), \",\", \n",
    "            str(CI_VE_U), \"]\"   )\n",
    "\n",
    "X= VEs[:, np.newaxis]\n",
    "X_plot = np.linspace(0, 1, 1000)[:, np.newaxis]\n",
    "kde = KernelDensity(kernel='gaussian', bandwidth=0.02).fit(X)\n",
    "log_dens = kde.score_samples(X_plot)\n",
    "plt.fill_between(X_plot[:, 0], np.exp(log_dens))"
   ]
  },
  {
   "cell_type": "markdown",
   "metadata": {
    "_cell_guid": "79c7e3d0-c299-4dcb-8224-4455121ee9b0",
    "_uuid": "d629ff2d2480ee46fbb7e2d37f6b5fab8052498a",
    "id": "In0Vkgi1zhy4",
    "papermill": {
     "duration": 0.007763,
     "end_time": "2021-01-04T05:11:00.355927",
     "exception": false,
     "start_time": "2021-01-04T05:11:00.348164",
     "status": "completed"
    },
    "tags": []
   },
   "source": [
    "# Pfizer/BNTX Covid-19 RCT\n",
    "\n",
    "Here is a link to the FDA [briefing](https://www.fda.gov/media/144245/download) and an interesting [discussion](\n",
    "https://garycornell.com/2020/12/09/statistics-in-the-pfizer-data-how-good-is-the-vaccine/?fbclid=IwAR282lS0Vl3tWmicQDDhIJAQCMO8NIsCXyWbUWwTtPuKcnuJ2v0VWXRDQac), as well as data.\n",
    "\n",
    "Pfizer/BNTX is the first vaccine approved for emergency use to reduce the risk of Covid-19 decease. Volunteers were randomly assigned to receive either a treatment (2-dose vaccination) or a placebo, without knowing which they recieved. The doctors making the diagnoses did not know now whether a given volunteer received a vaccination or not. The results of the study are given in the following table ![](https://lh6.googleusercontent.com/oiO6gYom1UZyrOhgpFx2iq8ike979u3805JHiVygP-Efh1Yaz2ttyPcgWKlT1AqHDM4v46th3EPIkOvRLyXA0fNUloPL-mL9eOFmSAzfbNOHyCZSQ0DyzMhcFUtQuZ520R5Qd2lj):\n",
    "\n",
    "Here we see both the overall effects and the effects by age group. The confidence intervals for the averal ATE are tight and suggest high effectivness of the vaccine. The confidence intervals for the age group 65-75 are much wider.  We could group 65-75 and >75 groups to evaluate the effectiveness of the vaccine and also narrow down the width of the confidence band. \n",
    "\n",
    "In this case, the reported results are for vaccine effectiveness. We use the same approach as above.\n",
    "\n"
   ]
  },
  {
   "cell_type": "markdown",
   "metadata": {
    "id": "wLulUAGdzhy5",
    "papermill": {
     "duration": 0.007593,
     "end_time": "2021-01-04T05:11:00.371394",
     "exception": false,
     "start_time": "2021-01-04T05:11:00.363801",
     "status": "completed"
    },
    "tags": []
   },
   "source": [
    "In the code cell below  we calculate the overall effectiveness of the vaccie and construct confidence intervals for it."
   ]
  },
  {
   "cell_type": "code",
   "execution_count": null,
   "metadata": {
    "id": "fmNIIhxuzhy9",
    "outputId": "34cc5e18-729b-4edc-f489-96a392068c1a",
    "papermill": {
     "duration": 0.497816,
     "end_time": "2021-01-04T05:11:00.876971",
     "exception": false,
     "start_time": "2021-01-04T05:11:00.379155",
     "status": "completed"
    },
    "tags": []
   },
   "outputs": [],
   "source": [
    "\n",
    "NV =  19965;\n",
    "NU =  20172;\n",
    "RV = 9/NV;\n",
    "RU = 169/NU;\n",
    "VE = (RU - RV)/RU;\n",
    "print(\"Overall VE is \"+ str(VE))\n",
    "Var_RV = RV*(1-RV)/NV\n",
    "Var_RU = RU*(1-RU)/NU\n",
    "\n",
    "# MC draws\n",
    "B = 10000\n",
    "RVs = RV  + np.random.normal(0, 1, B)*(Var_RV)**.5\n",
    "RUs = RU  + np.random.normal(0, 1, B)*(Var_RU)**.5\n",
    "VEs= (RUs - RVs)/RUs\n",
    "CI_VE_L = np.quantile(VEs, .025)\n",
    "CI_VE_U = np.quantile(VEs, .975)\n",
    "print(\"95 % confidence interval is [\" + str(CI_VE_L), \",\", \n",
    "            str(CI_VE_U), \"]\"   )\n",
    "\n",
    "X= VEs[:, np.newaxis]\n",
    "X_plot = np.linspace(0, 1, 1000)[:, np.newaxis]\n",
    "kde = KernelDensity(kernel='gaussian', bandwidth=0.02).fit(X)\n",
    "log_dens = kde.score_samples(X_plot)\n",
    "plt.fill_between(X_plot[:, 0], np.exp(log_dens))"
   ]
  },
  {
   "cell_type": "markdown",
   "metadata": {
    "id": "sgE4OHh5zhy-",
    "papermill": {
     "duration": 0.009208,
     "end_time": "2021-01-04T05:11:00.895842",
     "exception": false,
     "start_time": "2021-01-04T05:11:00.886634",
     "status": "completed"
    },
    "tags": []
   },
   "source": [
    "In the code cell below  we calculate the effectiveness of the vaccine for the two groups that are 65 or older"
   ]
  },
  {
   "cell_type": "code",
   "execution_count": null,
   "metadata": {
    "id": "pvzbZxlAzhy_",
    "outputId": "331589ef-abf0-476b-81af-40540e9c460f",
    "papermill": {
     "duration": 0.477817,
     "end_time": "2021-01-04T05:11:01.383093",
     "exception": false,
     "start_time": "2021-01-04T05:11:00.905276",
     "status": "completed"
    },
    "tags": []
   },
   "outputs": [],
   "source": [
    "NV =  3239+805;\n",
    "NU =  3255+812;\n",
    "RV = 1/NV;\n",
    "RU = (14+5)/NU;\n",
    "VE = (RU - RV)/RU;\n",
    "print(\"Overall VE is \"+ str(VE))\n",
    "Var_RV = RV*(1-RV)/NV\n",
    "Var_RU = RU*(1-RU)/NU\n",
    "\n",
    "# MC draws:\n",
    "B = 10000\n",
    "RVs = RV  + np.random.normal(0, 1, B)*(Var_RV)**.5\n",
    "RUs = RU  + np.random.normal(0, 1, B)*(Var_RU)**.5\n",
    "VEs= (RUs - RVs)/RUs\n",
    "\n",
    "\n",
    "CI_VE_L = np.quantile(VEs, .025)\n",
    "CI_VE_U = np.quantile(VEs, .975)\n",
    "\n",
    "print(\"95 % confidence interval is [\" + str(CI_VE_L), \",\", \n",
    "            str(CI_VE_U), \"]\"   )\n",
    "\n",
    "\n",
    "CI_VE_L = np.quantile(VEs, .05)\n",
    "\n",
    "\n",
    "print(\"95 % confidence interval is [\" + str(CI_VE_L), \",\", \n",
    "            str(1), \"]\"   )\n",
    "\n",
    "\n",
    "from sklearn.neighbors import KernelDensity\n",
    "import matplotlib\n",
    "import matplotlib.pyplot as plt\n",
    "from scipy.stats import norm\n",
    "from sklearn.neighbors import KernelDensity\n",
    "from sklearn.utils.fixes import parse_version\n",
    "\n",
    "\n",
    "# instantiate and fit the KDE model\n",
    "X= VEs[:, np.newaxis]\n",
    "X_plot = np.linspace(0, 1, 1000)[:, np.newaxis]\n",
    "kde = KernelDensity(kernel='gaussian', bandwidth=0.02).fit(X)\n",
    "log_dens = kde.score_samples(X_plot)\n",
    "plt.fill_between(X_plot[:, 0], np.exp(log_dens))"
   ]
  },
  {
   "cell_type": "code",
   "execution_count": null,
   "metadata": {
    "id": "W-nfdQ9UzhzA",
    "outputId": "241c45ab-fbe6-46dc-ad5f-367bc69aa7e4",
    "papermill": {
     "duration": 0.539729,
     "end_time": "2021-01-04T05:11:01.934674",
     "exception": false,
     "start_time": "2021-01-04T05:11:01.394945",
     "status": "completed"
    },
    "tags": []
   },
   "outputs": [],
   "source": [
    "NV =  3239+805;\n",
    "NU =  3255+812;\n",
    "RV = 1/NV;\n",
    "RU = (14+5)/NU;\n",
    "VE = (RU - RV)/RU;\n",
    "\n",
    "print(\"Overall VE is \"+ str(VE))\n",
    "\n",
    "B = 10000 #number of simulation draw\n",
    "RVs = np.random.binomial(NV, RV, B) \n",
    "RUs = np.random.binomial(NU, RU, B)  \n",
    "VEs= (RUs - RVs)/RUs\n",
    "\n",
    "CI_VE_L = np.quantile(VEs, .025)\n",
    "CI_VE_U = np.quantile(VEs, .975)\n",
    "print(f\"95% confidence interval is [{CI_VE_L},{CI_VE_U}]\")\n",
    "CI_VE_L = np.quantile(VEs, .05)\n",
    "print(f\"95 % confidence interval is [{CI_VE_L}, 1]\")\n",
    "X= VEs[:, np.newaxis]\n",
    "X_plot = np.linspace(0, 1.1, 1000)[:, np.newaxis]\n",
    "kde = KernelDensity(kernel='gaussian', bandwidth=0.02).fit(X)\n",
    "log_dens = kde.score_samples(X_plot)\n",
    "plt.fill_between(X_plot[:, 0], np.exp(log_dens))"
   ]
  }
 ],
 "metadata": {
  "colab": {
   "collapsed_sections": [],
   "name": "[tbd]vaccine-rcts.ipynb",
   "provenance": []
  },
  "kernelspec": {
   "display_name": "Python 3",
   "language": "python",
   "name": "python3"
  },
  "language_info": {
   "codemirror_mode": {
    "name": "ipython",
    "version": 3
   },
   "file_extension": ".py",
   "mimetype": "text/x-python",
   "name": "python",
   "nbconvert_exporter": "python",
   "pygments_lexer": "ipython3",
   "version": "3.7.6"
  },
  "papermill": {
   "duration": 8.643307,
   "end_time": "2021-01-04T05:11:02.054671",
   "environment_variables": {},
   "exception": null,
   "input_path": "__notebook__.ipynb",
   "output_path": "__notebook__.ipynb",
   "parameters": {},
   "start_time": "2021-01-04T05:10:53.411364",
   "version": "2.1.0"
  }
 },
 "nbformat": 4,
 "nbformat_minor": 0
}
