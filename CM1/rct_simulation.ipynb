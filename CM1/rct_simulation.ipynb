{
 "cells": [
  {
   "cell_type": "markdown",
   "metadata": {
    "id": "CD2QfkE-OV_q",
    "papermill": {
     "duration": 0.006583,
     "end_time": "2021-02-24T00:00:00.388859",
     "exception": false,
     "start_time": "2021-02-24T00:00:00.382276",
     "status": "completed"
    },
    "tags": []
   },
   "source": [
    "# Analyzing RCT with Precision by Adjusting for Baseline Covariates"
   ]
  },
  {
   "cell_type": "code",
   "execution_count": null,
   "metadata": {
    "colab": {
     "base_uri": "https://localhost:8080/"
    },
    "executionInfo": {
     "elapsed": 1367,
     "status": "ok",
     "timestamp": 1617484454603,
     "user": {
      "displayName": "Andy Haupt",
      "photoUrl": "",
      "userId": "04421689622138798294"
     },
     "user_tz": -120
    },
    "id": "pCj5gpZAOap8",
    "outputId": "ffd01f2c-a401-409d-ac17-258bcc10395b"
   },
   "outputs": [],
   "source": [
    "import pandas as pd\n",
    "import numpy as np\n",
    "import statsmodels.formula.api as smf"
   ]
  },
  {
   "cell_type": "markdown",
   "metadata": {
    "id": "wCK49jmFOV_y",
    "papermill": {
     "duration": 0.005433,
     "end_time": "2021-02-24T00:00:00.399979",
     "exception": false,
     "start_time": "2021-02-24T00:00:00.394546",
     "status": "completed"
    },
    "tags": []
   },
   "source": [
    "# Jonathan Roth's DGP\n",
    "\n",
    "Here we set up a DGP with heterogenous effects. In this example, with is due to Jonathan Roth, we have\n",
    "$$\n",
    "E [Y(0) | Z] = - Z, \\quad E [Y(1) |Z] = Z, \\quad Z \\sim N(0,1).\n",
    "$$\n",
    "The CATE is\n",
    "$$\n",
    "E [Y(1) - Y(0) | Z ]= 2 Z.\n",
    "$$\n",
    "and the ATE is\n",
    "$$\n",
    "2 E Z = 0.\n",
    "$$\n",
    "\n",
    "We would like to estimate ATE as precisely as possible.\n",
    "\n",
    "An economic motivation for this example could be provided as follows: Let D be the treatment of going to college, and $Z$ academic skills.  Suppose that academic skills cause lower earnings Y(0) in jobs that don't require college degree, and cause higher earnings  Y(1) in jobs that require college degrees. This type of scenario is reflected in the DGP set-up above.\n",
    "\n"
   ]
  },
  {
   "cell_type": "code",
   "execution_count": 9,
   "metadata": {
    "id": "2NSMUY6qOV_0",
    "papermill": {
     "duration": 0.182998,
     "end_time": "2021-02-24T00:00:00.589410",
     "exception": false,
     "start_time": "2021-02-24T00:00:00.406412",
     "status": "completed"
    },
    "tags": []
   },
   "outputs": [],
   "source": [
    "np.random.seed(123)\n",
    "n = 1000             # sample size\n",
    "Z = np.random.normal(size=n)         # generate Z\n",
    "Y0 = -Z + np.random.normal(size=n)   # conditional average baseline response is -Z\n",
    "Y1 = Z + np.random.normal(size=n)    # conditional average treatment effect is +Z\n",
    "D = np.random.binomial(1, .2, size=n)    # treatment indicator; only 20% get treated \n",
    "Y = Y1 * D + Y0 * (1 - D)  # observed Y\n",
    "Z = Z - Z.mean()       # demean Z\n",
    "data = pd.DataFrame({\"Y\": Y, \"D\": D, \"Z\": Z})"
   ]
  },
  {
   "cell_type": "markdown",
   "metadata": {
    "id": "IEYPeB5tOV_1",
    "papermill": {
     "duration": 0.005616,
     "end_time": "2021-02-24T00:00:00.601042",
     "exception": false,
     "start_time": "2021-02-24T00:00:00.595426",
     "status": "completed"
    },
    "tags": []
   },
   "source": [
    "# Analyze the RCT data with Precision Adjustment\n",
    "\n",
    "Consider \n",
    "\n",
    "*  classical 2-sample approach, no adjustment (CL)\n",
    "*  classical linear regression adjustment (CRA)\n",
    "*  interactive regression adjusment (IRA)\n",
    "\n",
    "Carry out inference using robust inference, using the sandwich formulas (Eicker-Huber-White).  \n",
    "\n",
    "Observe that CRA delivers estimates that are less efficient than CL (pointed out by Freedman), whereas IRA delivers more efficient approach (pointed out by Lin). In order for CRA to be more efficient than CL, we need the CRA to be a correct model of the conditional expectation function of Y given D and X, which is not the case here."
   ]
  },
  {
   "cell_type": "code",
   "execution_count": 10,
   "metadata": {
    "colab": {
     "base_uri": "https://localhost:8080/"
    },
    "executionInfo": {
     "elapsed": 515,
     "status": "ok",
     "timestamp": 1617484460691,
     "user": {
      "displayName": "Andy Haupt",
      "photoUrl": "",
      "userId": "04421689622138798294"
     },
     "user_tz": -120
    },
    "id": "xfV4PjpzOV_1",
    "outputId": "e4cd79bf-bae8-4812-ca70-83c4376a49da",
    "papermill": {
     "duration": 0.28228,
     "end_time": "2021-02-24T00:00:00.888966",
     "exception": false,
     "start_time": "2021-02-24T00:00:00.606686",
     "status": "completed"
    },
    "tags": []
   },
   "outputs": [
    {
     "name": "stdout",
     "output_type": "stream",
     "text": [
      "                            OLS Regression Results                            \n",
      "==============================================================================\n",
      "Dep. Variable:                      Y   R-squared:                       0.001\n",
      "Model:                            OLS   Adj. R-squared:                  0.000\n",
      "Method:                 Least Squares   F-statistic:                     1.568\n",
      "Date:                Tue, 03 Jan 2023   Prob (F-statistic):              0.211\n",
      "Time:                        19:59:09   Log-Likelihood:                -1753.3\n",
      "No. Observations:                1000   AIC:                             3511.\n",
      "Df Residuals:                     998   BIC:                             3520.\n",
      "Df Model:                           1                                         \n",
      "Covariance Type:                  HC1                                         \n",
      "==============================================================================\n",
      "                 coef    std err          t      P>|t|      [0.025      0.975]\n",
      "------------------------------------------------------------------------------\n",
      "Intercept      0.0145      0.050      0.290      0.772      -0.084       0.113\n",
      "D             -0.1330      0.106     -1.252      0.211      -0.341       0.075\n",
      "==============================================================================\n",
      "Omnibus:                        2.550   Durbin-Watson:                   2.153\n",
      "Prob(Omnibus):                  0.279   Jarque-Bera (JB):                2.419\n",
      "Skew:                          -0.094   Prob(JB):                        0.298\n",
      "Kurtosis:                       3.150   Cond. No.                         2.67\n",
      "==============================================================================\n",
      "\n",
      "Notes:\n",
      "[1] Standard Errors are heteroscedasticity robust (HC1)\n",
      "                            OLS Regression Results                            \n",
      "==============================================================================\n",
      "Dep. Variable:                      Y   R-squared:                       0.253\n",
      "Model:                            OLS   Adj. R-squared:                  0.252\n",
      "Method:                 Least Squares   F-statistic:                     100.0\n",
      "Date:                Tue, 03 Jan 2023   Prob (F-statistic):           2.64e-40\n",
      "Time:                        19:59:09   Log-Likelihood:                -1608.1\n",
      "No. Observations:                1000   AIC:                             3222.\n",
      "Df Residuals:                     997   BIC:                             3237.\n",
      "Df Model:                           2                                         \n",
      "Covariance Type:                  HC1                                         \n",
      "==============================================================================\n",
      "                 coef    std err          t      P>|t|      [0.025      0.975]\n",
      "------------------------------------------------------------------------------\n",
      "Intercept      0.0298      0.036      0.837      0.403      -0.040       0.100\n",
      "D             -0.2146      0.138     -1.556      0.120      -0.485       0.056\n",
      "Z             -0.7015      0.050    -14.123      0.000      -0.799      -0.604\n",
      "==============================================================================\n",
      "Omnibus:                       19.609   Durbin-Watson:                   2.128\n",
      "Prob(Omnibus):                  0.000   Jarque-Bera (JB):               37.651\n",
      "Skew:                           0.006   Prob(JB):                     6.67e-09\n",
      "Kurtosis:                       3.951   Cond. No.                         2.67\n",
      "==============================================================================\n",
      "\n",
      "Notes:\n",
      "[1] Standard Errors are heteroscedasticity robust (HC1)\n",
      "                            OLS Regression Results                            \n",
      "==============================================================================\n",
      "Dep. Variable:                      Y   R-squared:                       0.532\n",
      "Model:                            OLS   Adj. R-squared:                  0.531\n",
      "Method:                 Least Squares   F-statistic:                     388.7\n",
      "Date:                Tue, 03 Jan 2023   Prob (F-statistic):          4.25e-167\n",
      "Time:                        19:59:09   Log-Likelihood:                -1373.9\n",
      "No. Observations:                1000   AIC:                             2756.\n",
      "Df Residuals:                     996   BIC:                             2775.\n",
      "Df Model:                           3                                         \n",
      "Covariance Type:                  HC1                                         \n",
      "==============================================================================\n",
      "                 coef    std err          t      P>|t|      [0.025      0.975]\n",
      "------------------------------------------------------------------------------\n",
      "Intercept      0.0377      0.033      1.128      0.259      -0.028       0.103\n",
      "D             -0.0783      0.080     -0.983      0.326      -0.234       0.078\n",
      "Z             -1.0594      0.033    -31.727      0.000      -1.125      -0.994\n",
      "Z:D            1.8839      0.075     25.081      0.000       1.737       2.031\n",
      "==============================================================================\n",
      "Omnibus:                        1.179   Durbin-Watson:                   2.047\n",
      "Prob(Omnibus):                  0.555   Jarque-Bera (JB):                1.052\n",
      "Skew:                          -0.066   Prob(JB):                        0.591\n",
      "Kurtosis:                       3.087   Cond. No.                         2.76\n",
      "==============================================================================\n",
      "\n",
      "Notes:\n",
      "[1] Standard Errors are heteroscedasticity robust (HC1)\n"
     ]
    }
   ],
   "source": [
    "CL = smf.ols(\"Y ~ D\", data=data).fit()          \n",
    "CRA = smf.ols(\"Y ~ D + Z\", data=data).fit()      #classical\n",
    "IRA = smf.ols(\"Y ~ D + Z + Z*D\", data=data).fit() #interactive approach\n",
    "# we are interested in the coefficients on variable \"D\".\n",
    "print(CL.get_robustcov_results(cov_type=\"HC1\").summary())\n",
    "print(CRA.get_robustcov_results(cov_type=\"HC1\").summary())\n",
    "print(IRA.get_robustcov_results(cov_type=\"HC1\").summary())"
   ]
  },
  {
   "cell_type": "markdown",
   "metadata": {
    "id": "2wHiWkMXOV_3",
    "papermill": {
     "duration": 0.007983,
     "end_time": "2021-02-24T00:00:00.905362",
     "exception": false,
     "start_time": "2021-02-24T00:00:00.897379",
     "status": "completed"
    },
    "tags": []
   },
   "source": [
    "# Using classical standard errors (non-robust) is misleading here.\n",
    "\n",
    "We don't teach non-robust standard errors in econometrics courses, but the default statistical inference for the `fit` procedure in python, `smf.ols()`, still uses 100 year old concepts, perhaps in part due to historical legacy.  \n",
    "\n",
    "Here the non-robust standard errors suggest that there is not much difference between the different approaches, contrary to the conclusions reached using the robust standard errors.\n"
   ]
  },
  {
   "cell_type": "code",
   "execution_count": 11,
   "metadata": {
    "colab": {
     "base_uri": "https://localhost:8080/"
    },
    "executionInfo": {
     "elapsed": 632,
     "status": "ok",
     "timestamp": 1617539918260,
     "user": {
      "displayName": "Andy Haupt",
      "photoUrl": "",
      "userId": "04421689622138798294"
     },
     "user_tz": -120
    },
    "id": "Ukoh8YM9OV_3",
    "outputId": "c20b6541-1de8-42ae-b9ee-8efeb5c4218c",
    "papermill": {
     "duration": 0.041385,
     "end_time": "2021-02-24T00:00:00.954907",
     "exception": false,
     "start_time": "2021-02-24T00:00:00.913522",
     "status": "completed"
    },
    "tags": []
   },
   "outputs": [
    {
     "name": "stdout",
     "output_type": "stream",
     "text": [
      "                            OLS Regression Results                            \n",
      "==============================================================================\n",
      "Dep. Variable:                      Y   R-squared:                       0.001\n",
      "Model:                            OLS   Adj. R-squared:                  0.000\n",
      "Method:                 Least Squares   F-statistic:                     1.381\n",
      "Date:                Tue, 03 Jan 2023   Prob (F-statistic):              0.240\n",
      "Time:                        19:59:11   Log-Likelihood:                -1753.3\n",
      "No. Observations:                1000   AIC:                             3511.\n",
      "Df Residuals:                     998   BIC:                             3520.\n",
      "Df Model:                           1                                         \n",
      "Covariance Type:            nonrobust                                         \n",
      "==============================================================================\n",
      "                 coef    std err          t      P>|t|      [0.025      0.975]\n",
      "------------------------------------------------------------------------------\n",
      "Intercept      0.0145      0.049      0.295      0.768      -0.082       0.111\n",
      "D             -0.1330      0.113     -1.175      0.240      -0.355       0.089\n",
      "==============================================================================\n",
      "Omnibus:                        2.550   Durbin-Watson:                   2.153\n",
      "Prob(Omnibus):                  0.279   Jarque-Bera (JB):                2.419\n",
      "Skew:                          -0.094   Prob(JB):                        0.298\n",
      "Kurtosis:                       3.150   Cond. No.                         2.67\n",
      "==============================================================================\n",
      "\n",
      "Notes:\n",
      "[1] Standard Errors assume that the covariance matrix of the errors is correctly specified.\n",
      "                            OLS Regression Results                            \n",
      "==============================================================================\n",
      "Dep. Variable:                      Y   R-squared:                       0.253\n",
      "Model:                            OLS   Adj. R-squared:                  0.252\n",
      "Method:                 Least Squares   F-statistic:                     168.9\n",
      "Date:                Tue, 03 Jan 2023   Prob (F-statistic):           6.83e-64\n",
      "Time:                        19:59:12   Log-Likelihood:                -1608.1\n",
      "No. Observations:                1000   AIC:                             3222.\n",
      "Df Residuals:                     997   BIC:                             3237.\n",
      "Df Model:                           2                                         \n",
      "Covariance Type:            nonrobust                                         \n",
      "==============================================================================\n",
      "                 coef    std err          t      P>|t|      [0.025      0.975]\n",
      "------------------------------------------------------------------------------\n",
      "Intercept      0.0298      0.042      0.702      0.483      -0.054       0.113\n",
      "D             -0.2146      0.098     -2.189      0.029      -0.407      -0.022\n",
      "Z             -0.7015      0.038    -18.328      0.000      -0.777      -0.626\n",
      "==============================================================================\n",
      "Omnibus:                       19.609   Durbin-Watson:                   2.128\n",
      "Prob(Omnibus):                  0.000   Jarque-Bera (JB):               37.651\n",
      "Skew:                           0.006   Prob(JB):                     6.67e-09\n",
      "Kurtosis:                       3.951   Cond. No.                         2.67\n",
      "==============================================================================\n",
      "\n",
      "Notes:\n",
      "[1] Standard Errors assume that the covariance matrix of the errors is correctly specified.\n",
      "                            OLS Regression Results                            \n",
      "==============================================================================\n",
      "Dep. Variable:                      Y   R-squared:                       0.532\n",
      "Model:                            OLS   Adj. R-squared:                  0.531\n",
      "Method:                 Least Squares   F-statistic:                     378.0\n",
      "Date:                Tue, 03 Jan 2023   Prob (F-statistic):          7.16e-164\n",
      "Time:                        19:59:12   Log-Likelihood:                -1373.9\n",
      "No. Observations:                1000   AIC:                             2756.\n",
      "Df Residuals:                     996   BIC:                             2775.\n",
      "Df Model:                           3                                         \n",
      "Covariance Type:            nonrobust                                         \n",
      "==============================================================================\n",
      "                 coef    std err          t      P>|t|      [0.025      0.975]\n",
      "------------------------------------------------------------------------------\n",
      "Intercept      0.0377      0.034      1.120      0.263      -0.028       0.104\n",
      "D             -0.0783      0.078     -1.006      0.315      -0.231       0.074\n",
      "Z             -1.0594      0.034    -31.471      0.000      -1.125      -0.993\n",
      "Z:D            1.8839      0.077     24.394      0.000       1.732       2.035\n",
      "==============================================================================\n",
      "Omnibus:                        1.179   Durbin-Watson:                   2.047\n",
      "Prob(Omnibus):                  0.555   Jarque-Bera (JB):                1.052\n",
      "Skew:                          -0.066   Prob(JB):                        0.591\n",
      "Kurtosis:                       3.087   Cond. No.                         2.76\n",
      "==============================================================================\n",
      "\n",
      "Notes:\n",
      "[1] Standard Errors assume that the covariance matrix of the errors is correctly specified.\n"
     ]
    }
   ],
   "source": [
    "print(smf.ols(\"Y ~ D\", data).fit().summary())         \n",
    "print(smf.ols(\"Y ~ D + Z\", data).fit().summary())\n",
    "print(smf.ols(\"Y ~ D + Z + Z*D\", data).fit().summary())"
   ]
  },
  {
   "cell_type": "markdown",
   "metadata": {
    "id": "hoT263l7OV_4",
    "papermill": {
     "duration": 0.010058,
     "end_time": "2021-02-24T00:00:00.974929",
     "exception": false,
     "start_time": "2021-02-24T00:00:00.964871",
     "status": "completed"
    },
    "tags": []
   },
   "source": [
    "# Verify Asymptotic Approximations Hold in Finite-Sample Simulation Experiment"
   ]
  },
  {
   "cell_type": "code",
   "execution_count": 14,
   "metadata": {
    "_execution_state": "idle",
    "_uuid": "051d70d956493feee0c6d64651c6a088724dca2a",
    "colab": {
     "base_uri": "https://localhost:8080/"
    },
    "executionInfo": {
     "elapsed": 19916,
     "status": "ok",
     "timestamp": 1615754191853,
     "user": {
      "displayName": "Andy Haupt",
      "photoUrl": "",
      "userId": "04421689622138798294"
     },
     "user_tz": -60
    },
    "id": "QQZG7z_kOV_4",
    "outputId": "e3d0a6fc-2133-4f1d-ca75-33160d59246f",
    "papermill": {
     "duration": 3.55396,
     "end_time": "2021-02-24T00:00:04.538599",
     "exception": false,
     "start_time": "2021-02-24T00:00:00.984639",
     "status": "completed"
    },
    "tags": []
   },
   "outputs": [
    {
     "name": "stderr",
     "output_type": "stream",
     "text": [
      "[Parallel(n_jobs=-1)]: Using backend LokyBackend with 8 concurrent workers.\n",
      "[Parallel(n_jobs=-1)]: Done  16 tasks      | elapsed:    0.2s\n",
      "[Parallel(n_jobs=-1)]: Done 368 tasks      | elapsed:    2.7s\n",
      "[Parallel(n_jobs=-1)]: Done 984 tasks      | elapsed:    7.2s\n",
      "[Parallel(n_jobs=-1)]: Done 1000 out of 1000 | elapsed:    7.3s finished\n"
     ]
    }
   ],
   "source": [
    "from joblib import Parallel, delayed\n",
    "\n",
    "np.random.seed(123)\n",
    "\n",
    "def exp(it, n):\n",
    "    np.random.seed(it)\n",
    "    Z = np.random.normal(size=n)\n",
    "    Y0 = -Z + np.random.normal(size=n)\n",
    "    Y1 =  Z + np.random.normal(size=n)\n",
    "    D = np.random.binomial(1, .1, size=n)\n",
    "    Y = Y1 * D + Y0 * (1-D)\n",
    "\n",
    "    Z = Z - Z.mean()\n",
    "    data = pd.DataFrame({\"Z\": Z, \"D\": D, \"Y\": Y})\n",
    "    CL = smf.ols(\"Y ~ D\", data).fit().params[\"D\"]\n",
    "    CRA = smf.ols(\"Y ~ D + Z\", data).fit().params[\"D\"]\n",
    "    IRA = smf.ols(\"Y ~ D + Z+ Z*D\", data).fit().params[\"D\"]\n",
    "    return CL, CRA, IRA\n",
    "\n",
    "n = 1000\n",
    "B = 1000\n",
    "res = Parallel(n_jobs=-1, verbose=3)(delayed(exp)(it, n) for it in range(B))"
   ]
  },
  {
   "cell_type": "code",
   "execution_count": 16,
   "metadata": {
    "id": "mLfkZGwCdBWj"
   },
   "outputs": [
    {
     "name": "stdout",
     "output_type": "stream",
     "text": [
      "Standard deviations for estimators\n",
      "0.15076284032547677\n",
      "0.21504479694677825\n",
      "0.12181270853968282\n"
     ]
    }
   ],
   "source": [
    "res = np.array(res)\n",
    "CLs, CRAs, IRAs = res[:, 0], res[:, 1], res[:, 2]\n",
    "print(\"Standard deviations for estimators\")\n",
    "print(np.sqrt((CLs**2).mean()))\n",
    "print(np.sqrt((CRAs**2).mean()))\n",
    "print(np.sqrt((IRAs**2).mean()))"
   ]
  },
  {
   "cell_type": "code",
   "execution_count": null,
   "metadata": {},
   "outputs": [],
   "source": []
  }
 ],
 "metadata": {
  "colab": {
   "collapsed_sections": [],
   "name": "DONE_analyzing-rct-with-precision.ipynb",
   "provenance": []
  },
  "kernelspec": {
   "display_name": "Python 3",
   "language": "python",
   "name": "python3"
  },
  "language_info": {
   "codemirror_mode": {
    "name": "ipython",
    "version": 3
   },
   "file_extension": ".py",
   "mimetype": "text/x-python",
   "name": "python",
   "nbconvert_exporter": "python",
   "pygments_lexer": "ipython3",
   "version": "3.6.10"
  },
  "papermill": {
   "default_parameters": {},
   "duration": 7.390855,
   "end_time": "2021-02-24T00:00:04.661485",
   "environment_variables": {},
   "exception": null,
   "input_path": "__notebook__.ipynb",
   "output_path": "__notebook__.ipynb",
   "parameters": {},
   "start_time": "2021-02-23T23:59:57.270630",
   "version": "2.2.2"
  }
 },
 "nbformat": 4,
 "nbformat_minor": 4
}
