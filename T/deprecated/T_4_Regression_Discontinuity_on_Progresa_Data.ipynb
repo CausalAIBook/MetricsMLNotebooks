{
 "cells": [
  {
   "cell_type": "markdown",
   "metadata": {
    "id": "-VRZnOBNA6o7"
   },
   "source": [
    "# Regression Discontinuity\n",
    "This notebook illustrates the use of Regression Discontinuity in an empirical study. We analyze the effect of the antipoverty program *Progresa/Oportunidades* on the consumption behavior of families in Mexico in the early 2000s.\n",
    "\n",
    "The program was intended for families in extreme poverty and included financial incentives for participation in measures that improved the family's health, nutrition and children's education. The effect of this program is a widely studied problem in social and economic sciences and, according to the WHO, was a very successful measure in terms of reducing extreme poverty in Mexico.\n",
    "\n",
    "Eligibility for the program was determined based on a pre-intervention household poverty-index. Individuals above a certain threshold received the treatment (participation in the program) while individuals below the threshold were excluded and recorded as a control group. All observations above the threshold participated in the program, which makes the analysis fall into the standard (sharp) regression discontinuity design.\n",
    "\n",
    "First, we need to install and load some packages."
   ]
  },
  {
   "cell_type": "code",
   "execution_count": 1,
   "metadata": {
    "id": "1Yr5aL2yAgYN"
   },
   "outputs": [
    {
     "name": "stdout",
     "output_type": "stream",
     "text": [
      "Defaulting to user installation because normal site-packages is not writeable\n",
      "Requirement already satisfied: rdd in c:\\users\\vasilis\\appdata\\roaming\\python\\python311\\site-packages (0.0.3)\n",
      "Requirement already satisfied: rdrobust in c:\\users\\vasilis\\appdata\\roaming\\python\\python311\\site-packages (1.2.1)\n",
      "Requirement already satisfied: pandas in c:\\users\\vasilis\\appdata\\roaming\\python\\python311\\site-packages (from rdd) (2.2.2)\n",
      "Requirement already satisfied: numpy in c:\\programdata\\anaconda3\\lib\\site-packages (from rdd) (1.24.4)\n",
      "Requirement already satisfied: statsmodels in c:\\programdata\\anaconda3\\lib\\site-packages (from rdd) (0.14.0)\n",
      "Requirement already satisfied: scipy in c:\\programdata\\anaconda3\\lib\\site-packages (from rdrobust) (1.11.1)\n",
      "Requirement already satisfied: scikit-learn>=1.2.0 in c:\\programdata\\anaconda3\\lib\\site-packages (from rdrobust) (1.2.2)\n",
      "Requirement already satisfied: plotnine in c:\\users\\vasilis\\appdata\\roaming\\python\\python311\\site-packages (from rdrobust) (0.13.6)\n",
      "Requirement already satisfied: python-dateutil>=2.8.2 in c:\\programdata\\anaconda3\\lib\\site-packages (from pandas->rdd) (2.8.2)\n",
      "Requirement already satisfied: pytz>=2020.1 in c:\\programdata\\anaconda3\\lib\\site-packages (from pandas->rdd) (2023.3.post1)\n",
      "Requirement already satisfied: tzdata>=2022.7 in c:\\programdata\\anaconda3\\lib\\site-packages (from pandas->rdd) (2023.3)\n",
      "Requirement already satisfied: joblib>=1.1.1 in c:\\programdata\\anaconda3\\lib\\site-packages (from scikit-learn>=1.2.0->rdrobust) (1.2.0)\n",
      "Requirement already satisfied: threadpoolctl>=2.0.0 in c:\\programdata\\anaconda3\\lib\\site-packages (from scikit-learn>=1.2.0->rdrobust) (2.2.0)\n",
      "Requirement already satisfied: matplotlib>=3.7.0 in c:\\programdata\\anaconda3\\lib\\site-packages (from plotnine->rdrobust) (3.7.2)\n",
      "Requirement already satisfied: mizani~=0.11.0 in c:\\users\\vasilis\\appdata\\roaming\\python\\python311\\site-packages (from plotnine->rdrobust) (0.11.4)\n",
      "Requirement already satisfied: patsy>=0.5.2 in c:\\programdata\\anaconda3\\lib\\site-packages (from statsmodels->rdd) (0.5.3)\n",
      "Requirement already satisfied: packaging>=21.3 in c:\\programdata\\anaconda3\\lib\\site-packages (from statsmodels->rdd) (23.1)\n",
      "Requirement already satisfied: contourpy>=1.0.1 in c:\\programdata\\anaconda3\\lib\\site-packages (from matplotlib>=3.7.0->plotnine->rdrobust) (1.0.5)\n",
      "Requirement already satisfied: cycler>=0.10 in c:\\programdata\\anaconda3\\lib\\site-packages (from matplotlib>=3.7.0->plotnine->rdrobust) (0.11.0)\n",
      "Requirement already satisfied: fonttools>=4.22.0 in c:\\programdata\\anaconda3\\lib\\site-packages (from matplotlib>=3.7.0->plotnine->rdrobust) (4.25.0)\n",
      "Requirement already satisfied: kiwisolver>=1.0.1 in c:\\programdata\\anaconda3\\lib\\site-packages (from matplotlib>=3.7.0->plotnine->rdrobust) (1.4.4)\n",
      "Requirement already satisfied: pillow>=6.2.0 in c:\\programdata\\anaconda3\\lib\\site-packages (from matplotlib>=3.7.0->plotnine->rdrobust) (9.4.0)\n",
      "Requirement already satisfied: pyparsing<3.1,>=2.3.1 in c:\\programdata\\anaconda3\\lib\\site-packages (from matplotlib>=3.7.0->plotnine->rdrobust) (3.0.9)\n",
      "Requirement already satisfied: six in c:\\programdata\\anaconda3\\lib\\site-packages (from patsy>=0.5.2->statsmodels->rdd) (1.16.0)\n"
     ]
    },
    {
     "name": "stderr",
     "output_type": "stream",
     "text": [
      "C:\\Users\\vasilis\\AppData\\Roaming\\Python\\Python311\\site-packages\\pandas\\core\\arrays\\masked.py:60: UserWarning: Pandas requires version '1.3.6' or newer of 'bottleneck' (version '1.3.5' currently installed).\n",
      "  from pandas.core import (\n"
     ]
    }
   ],
   "source": [
    "!pip install rdd rdrobust\n",
    "import pandas as pd\n",
    "from sklearn.linear_model import LinearRegression, LassoCV\n",
    "from sklearn.ensemble import RandomForestRegressor\n",
    "from lightgbm import LGBMRegressor\n",
    "import matplotlib.pyplot as plt\n",
    "import numpy as np\n",
    "import patsy\n",
    "import math\n",
    "from rdd.rdd import optimal_bandwidth\n",
    "from rdrobust import rdrobust"
   ]
  },
  {
   "cell_type": "markdown",
   "metadata": {
    "id": "GH0wFmHSxnen"
   },
   "source": [
    "We use a dataset assembled by [Calonico et al. (2014)](https://rdpackages.github.io/references/Calonico-Cattaneo-Titiunik_2014_ECMA--Supplemental.pdf) and follow the analysis in [Noack et al. (2023)](https://arxiv.org/pdf/2107.07942.pdf).\n",
    "\n",
    "First, we open the data and remove any observations that have NaN values."
   ]
  },
  {
   "cell_type": "code",
   "execution_count": 2,
   "metadata": {
    "id": "Rzbv0XXCxxJt"
   },
   "outputs": [
    {
     "name": "stdout",
     "output_type": "stream",
     "text": [
      "Shape of Data:\n",
      "(1944, 27)\n",
      "Variable Names:\n",
      "Index(['hhpiso', 'hhrooms', 'hhwater', 'hhwaterin', 'hhbano', 'hhownhouse',\n",
      "       'hhsize', 'hhelect', 'clus', 'headmale', 'headage', 'heademp',\n",
      "       'wifeage', 'wifeeduc', 'headeduc', 'child_0to5', 'boy_0to5',\n",
      "       'pov_index', 'conspcfood_t0', 'conspcfood_t1', 'conspcfood_t2',\n",
      "       'conspcnonfood_t0', 'conspcnonfood_t1', 'conspcnonfood_t2', 'conspc_t0',\n",
      "       'conspc_t1', 'conspc_t2'],\n",
      "      dtype='object')\n"
     ]
    },
    {
     "data": {
      "text/html": [
       "<div>\n",
       "<style scoped>\n",
       "    .dataframe tbody tr th:only-of-type {\n",
       "        vertical-align: middle;\n",
       "    }\n",
       "\n",
       "    .dataframe tbody tr th {\n",
       "        vertical-align: top;\n",
       "    }\n",
       "\n",
       "    .dataframe thead th {\n",
       "        text-align: right;\n",
       "    }\n",
       "</style>\n",
       "<table border=\"1\" class=\"dataframe\">\n",
       "  <thead>\n",
       "    <tr style=\"text-align: right;\">\n",
       "      <th></th>\n",
       "      <th>hhpiso</th>\n",
       "      <th>hhrooms</th>\n",
       "      <th>hhwater</th>\n",
       "      <th>hhwaterin</th>\n",
       "      <th>hhbano</th>\n",
       "      <th>hhownhouse</th>\n",
       "      <th>hhsize</th>\n",
       "      <th>hhelect</th>\n",
       "      <th>clus</th>\n",
       "      <th>headmale</th>\n",
       "      <th>...</th>\n",
       "      <th>pov_index</th>\n",
       "      <th>conspcfood_t0</th>\n",
       "      <th>conspcfood_t1</th>\n",
       "      <th>conspcfood_t2</th>\n",
       "      <th>conspcnonfood_t0</th>\n",
       "      <th>conspcnonfood_t1</th>\n",
       "      <th>conspcnonfood_t2</th>\n",
       "      <th>conspc_t0</th>\n",
       "      <th>conspc_t1</th>\n",
       "      <th>conspc_t2</th>\n",
       "    </tr>\n",
       "  </thead>\n",
       "  <tbody>\n",
       "    <tr>\n",
       "      <th>1</th>\n",
       "      <td>1.0</td>\n",
       "      <td>1.0</td>\n",
       "      <td>1.0</td>\n",
       "      <td>1.0</td>\n",
       "      <td>1.0</td>\n",
       "      <td>0.0</td>\n",
       "      <td>5</td>\n",
       "      <td>1</td>\n",
       "      <td>1</td>\n",
       "      <td>1</td>\n",
       "      <td>...</td>\n",
       "      <td>1.5410</td>\n",
       "      <td>260.223999</td>\n",
       "      <td>374.071991</td>\n",
       "      <td>379.208008</td>\n",
       "      <td>106.186668</td>\n",
       "      <td>183.149323</td>\n",
       "      <td>57.127998</td>\n",
       "      <td>366.410675</td>\n",
       "      <td>557.221313</td>\n",
       "      <td>436.335999</td>\n",
       "    </tr>\n",
       "    <tr>\n",
       "      <th>2</th>\n",
       "      <td>1.0</td>\n",
       "      <td>1.0</td>\n",
       "      <td>1.0</td>\n",
       "      <td>0.0</td>\n",
       "      <td>0.0</td>\n",
       "      <td>1.0</td>\n",
       "      <td>5</td>\n",
       "      <td>1</td>\n",
       "      <td>1</td>\n",
       "      <td>1</td>\n",
       "      <td>...</td>\n",
       "      <td>-0.6615</td>\n",
       "      <td>265.359985</td>\n",
       "      <td>574.375977</td>\n",
       "      <td>195.167999</td>\n",
       "      <td>87.266663</td>\n",
       "      <td>160.013336</td>\n",
       "      <td>112.136002</td>\n",
       "      <td>352.626648</td>\n",
       "      <td>734.389282</td>\n",
       "      <td>307.304016</td>\n",
       "    </tr>\n",
       "    <tr>\n",
       "      <th>3</th>\n",
       "      <td>1.0</td>\n",
       "      <td>1.0</td>\n",
       "      <td>0.0</td>\n",
       "      <td>0.0</td>\n",
       "      <td>1.0</td>\n",
       "      <td>1.0</td>\n",
       "      <td>4</td>\n",
       "      <td>1</td>\n",
       "      <td>1</td>\n",
       "      <td>1</td>\n",
       "      <td>...</td>\n",
       "      <td>-0.3240</td>\n",
       "      <td>604.549988</td>\n",
       "      <td>433.350006</td>\n",
       "      <td>367.010010</td>\n",
       "      <td>348.813324</td>\n",
       "      <td>263.083344</td>\n",
       "      <td>123.323334</td>\n",
       "      <td>953.363281</td>\n",
       "      <td>696.433350</td>\n",
       "      <td>490.333344</td>\n",
       "    </tr>\n",
       "    <tr>\n",
       "      <th>4</th>\n",
       "      <td>0.0</td>\n",
       "      <td>1.0</td>\n",
       "      <td>0.0</td>\n",
       "      <td>0.0</td>\n",
       "      <td>1.0</td>\n",
       "      <td>0.0</td>\n",
       "      <td>6</td>\n",
       "      <td>1</td>\n",
       "      <td>1</td>\n",
       "      <td>1</td>\n",
       "      <td>...</td>\n",
       "      <td>1.1500</td>\n",
       "      <td>233.259995</td>\n",
       "      <td>281.766663</td>\n",
       "      <td>260.468567</td>\n",
       "      <td>100.877777</td>\n",
       "      <td>140.233337</td>\n",
       "      <td>36.325714</td>\n",
       "      <td>334.137756</td>\n",
       "      <td>422.000000</td>\n",
       "      <td>296.794281</td>\n",
       "    </tr>\n",
       "    <tr>\n",
       "      <th>6</th>\n",
       "      <td>1.0</td>\n",
       "      <td>1.0</td>\n",
       "      <td>1.0</td>\n",
       "      <td>0.0</td>\n",
       "      <td>1.0</td>\n",
       "      <td>1.0</td>\n",
       "      <td>4</td>\n",
       "      <td>1</td>\n",
       "      <td>1</td>\n",
       "      <td>1</td>\n",
       "      <td>...</td>\n",
       "      <td>-0.8260</td>\n",
       "      <td>280.339996</td>\n",
       "      <td>185.110001</td>\n",
       "      <td>364.869995</td>\n",
       "      <td>158.416656</td>\n",
       "      <td>201.183334</td>\n",
       "      <td>68.000000</td>\n",
       "      <td>438.756653</td>\n",
       "      <td>386.293335</td>\n",
       "      <td>432.869995</td>\n",
       "    </tr>\n",
       "  </tbody>\n",
       "</table>\n",
       "<p>5 rows × 27 columns</p>\n",
       "</div>"
      ],
      "text/plain": [
       "   hhpiso  hhrooms  hhwater  hhwaterin  hhbano  hhownhouse  hhsize  hhelect  \\\n",
       "1     1.0      1.0      1.0        1.0     1.0         0.0       5        1   \n",
       "2     1.0      1.0      1.0        0.0     0.0         1.0       5        1   \n",
       "3     1.0      1.0      0.0        0.0     1.0         1.0       4        1   \n",
       "4     0.0      1.0      0.0        0.0     1.0         0.0       6        1   \n",
       "6     1.0      1.0      1.0        0.0     1.0         1.0       4        1   \n",
       "\n",
       "   clus  headmale  ...  pov_index  conspcfood_t0  conspcfood_t1  \\\n",
       "1     1         1  ...     1.5410     260.223999     374.071991   \n",
       "2     1         1  ...    -0.6615     265.359985     574.375977   \n",
       "3     1         1  ...    -0.3240     604.549988     433.350006   \n",
       "4     1         1  ...     1.1500     233.259995     281.766663   \n",
       "6     1         1  ...    -0.8260     280.339996     185.110001   \n",
       "\n",
       "   conspcfood_t2  conspcnonfood_t0  conspcnonfood_t1  conspcnonfood_t2  \\\n",
       "1     379.208008        106.186668        183.149323         57.127998   \n",
       "2     195.167999         87.266663        160.013336        112.136002   \n",
       "3     367.010010        348.813324        263.083344        123.323334   \n",
       "4     260.468567        100.877777        140.233337         36.325714   \n",
       "6     364.869995        158.416656        201.183334         68.000000   \n",
       "\n",
       "    conspc_t0   conspc_t1   conspc_t2  \n",
       "1  366.410675  557.221313  436.335999  \n",
       "2  352.626648  734.389282  307.304016  \n",
       "3  953.363281  696.433350  490.333344  \n",
       "4  334.137756  422.000000  296.794281  \n",
       "6  438.756653  386.293335  432.869995  \n",
       "\n",
       "[5 rows x 27 columns]"
      ]
     },
     "execution_count": 2,
     "metadata": {},
     "output_type": "execute_result"
    }
   ],
   "source": [
    "df = pd.read_csv(\"https://raw.githubusercontent.com/CausalAIBook/MetricsMLNotebooks/main/data/progresa.csv\",\n",
    "                 index_col=0)\n",
    "df = df.dropna()\n",
    "df.rename(columns={\"index\": \"pov_index\"}, inplace=True)\n",
    "print(\"Shape of Data:\")\n",
    "print(df.shape)\n",
    "print(\"Variable Names:\")\n",
    "print(df.columns)\n",
    "df.head()"
   ]
  },
  {
   "cell_type": "markdown",
   "metadata": {
    "id": "vGbvqQmpmoqV"
   },
   "source": [
    "The data set contains 1,944 observations for which full covariate information of 27 variables is available.\n",
    "\n",
    "We want to measure the local average treatment effect of program participation on four outcome variables. The outcome variables are food and non-food consumption of the recorded families at two points in time, one year and two years after the implementation of the program.\n",
    "\n",
    "The baseline covariates, recorded prior to program implementation, include the household's size; household head's age, sex, years of education and employment status; spouse's age and years of education; number of children not older than five years and their sex, and physical characteristics of the house: whether the house has cement floors, water connection, water connection inside the house, a bathroom, electricity, number of rooms, pre-intervention consumption, and an identifier of the urban locality in which the house is located.\n",
    "\n",
    "The data fits to the pattern of a sharp RD design, namely, all individuals that were below the cut-off index received no intervention, and all individuals above the cut-off were eligible to join the *progresa* program and thus participated."
   ]
  },
  {
   "cell_type": "markdown",
   "metadata": {
    "id": "9yvX75wy98g9"
   },
   "source": [
    "## Estimation without Covariates"
   ]
  },
  {
   "cell_type": "markdown",
   "metadata": {
    "id": "bCueRzpuqNXn"
   },
   "source": [
    "First, we will perform a very simple RD estimation with a weighted linear regression. We use a triangular kernel, which assigns weights to observations based on their distance from the cutoff point. The weights decrease linearly as the distance from the cutoff point increases."
   ]
  },
  {
   "cell_type": "code",
   "execution_count": 3,
   "metadata": {
    "id": "1LAMZP540pLn"
   },
   "outputs": [],
   "source": [
    "def triangular_kernel(index, h):\n",
    "    weights = 1 - np.abs(index) / h\n",
    "    weights[weights < 0] = 0\n",
    "    return weights"
   ]
  },
  {
   "cell_type": "markdown",
   "metadata": {
    "id": "N-I-EBps0ubO"
   },
   "source": [
    "The parameter `h` is the bandwidth that controls the range of observations that receive non-zero weights. We use the `IKbandwidth` function from the `rdd` package that implements the *Imbens-Kalyanaraman* method. Another standard approach would be to use the standard deviation of `index`."
   ]
  },
  {
   "cell_type": "code",
   "execution_count": 4,
   "metadata": {
    "id": "bFuzAouP04lO"
   },
   "outputs": [],
   "source": [
    "h = optimal_bandwidth(X=df.pov_index, Y=df.conspcfood_t1, cut=0)"
   ]
  },
  {
   "cell_type": "markdown",
   "metadata": {
    "id": "J9kU7tQ207A3"
   },
   "source": [
    "We use the triangular kernel function to calculate weights for each observation. After that, we can fit two seperate linear regressions for both treatment and control groups."
   ]
  },
  {
   "cell_type": "code",
   "execution_count": 5,
   "metadata": {
    "id": "cjc7f7F6qM36"
   },
   "outputs": [
    {
     "data": {
      "text/html": [
       "<style>#sk-container-id-1 {color: black;background-color: white;}#sk-container-id-1 pre{padding: 0;}#sk-container-id-1 div.sk-toggleable {background-color: white;}#sk-container-id-1 label.sk-toggleable__label {cursor: pointer;display: block;width: 100%;margin-bottom: 0;padding: 0.3em;box-sizing: border-box;text-align: center;}#sk-container-id-1 label.sk-toggleable__label-arrow:before {content: \"▸\";float: left;margin-right: 0.25em;color: #696969;}#sk-container-id-1 label.sk-toggleable__label-arrow:hover:before {color: black;}#sk-container-id-1 div.sk-estimator:hover label.sk-toggleable__label-arrow:before {color: black;}#sk-container-id-1 div.sk-toggleable__content {max-height: 0;max-width: 0;overflow: hidden;text-align: left;background-color: #f0f8ff;}#sk-container-id-1 div.sk-toggleable__content pre {margin: 0.2em;color: black;border-radius: 0.25em;background-color: #f0f8ff;}#sk-container-id-1 input.sk-toggleable__control:checked~div.sk-toggleable__content {max-height: 200px;max-width: 100%;overflow: auto;}#sk-container-id-1 input.sk-toggleable__control:checked~label.sk-toggleable__label-arrow:before {content: \"▾\";}#sk-container-id-1 div.sk-estimator input.sk-toggleable__control:checked~label.sk-toggleable__label {background-color: #d4ebff;}#sk-container-id-1 div.sk-label input.sk-toggleable__control:checked~label.sk-toggleable__label {background-color: #d4ebff;}#sk-container-id-1 input.sk-hidden--visually {border: 0;clip: rect(1px 1px 1px 1px);clip: rect(1px, 1px, 1px, 1px);height: 1px;margin: -1px;overflow: hidden;padding: 0;position: absolute;width: 1px;}#sk-container-id-1 div.sk-estimator {font-family: monospace;background-color: #f0f8ff;border: 1px dotted black;border-radius: 0.25em;box-sizing: border-box;margin-bottom: 0.5em;}#sk-container-id-1 div.sk-estimator:hover {background-color: #d4ebff;}#sk-container-id-1 div.sk-parallel-item::after {content: \"\";width: 100%;border-bottom: 1px solid gray;flex-grow: 1;}#sk-container-id-1 div.sk-label:hover label.sk-toggleable__label {background-color: #d4ebff;}#sk-container-id-1 div.sk-serial::before {content: \"\";position: absolute;border-left: 1px solid gray;box-sizing: border-box;top: 0;bottom: 0;left: 50%;z-index: 0;}#sk-container-id-1 div.sk-serial {display: flex;flex-direction: column;align-items: center;background-color: white;padding-right: 0.2em;padding-left: 0.2em;position: relative;}#sk-container-id-1 div.sk-item {position: relative;z-index: 1;}#sk-container-id-1 div.sk-parallel {display: flex;align-items: stretch;justify-content: center;background-color: white;position: relative;}#sk-container-id-1 div.sk-item::before, #sk-container-id-1 div.sk-parallel-item::before {content: \"\";position: absolute;border-left: 1px solid gray;box-sizing: border-box;top: 0;bottom: 0;left: 50%;z-index: -1;}#sk-container-id-1 div.sk-parallel-item {display: flex;flex-direction: column;z-index: 1;position: relative;background-color: white;}#sk-container-id-1 div.sk-parallel-item:first-child::after {align-self: flex-end;width: 50%;}#sk-container-id-1 div.sk-parallel-item:last-child::after {align-self: flex-start;width: 50%;}#sk-container-id-1 div.sk-parallel-item:only-child::after {width: 0;}#sk-container-id-1 div.sk-dashed-wrapped {border: 1px dashed gray;margin: 0 0.4em 0.5em 0.4em;box-sizing: border-box;padding-bottom: 0.4em;background-color: white;}#sk-container-id-1 div.sk-label label {font-family: monospace;font-weight: bold;display: inline-block;line-height: 1.2em;}#sk-container-id-1 div.sk-label-container {text-align: center;}#sk-container-id-1 div.sk-container {/* jupyter's `normalize.less` sets `[hidden] { display: none; }` but bootstrap.min.css set `[hidden] { display: none !important; }` so we also need the `!important` here to be able to override the default hidden behavior on the sphinx rendered scikit-learn.org. See: https://github.com/scikit-learn/scikit-learn/issues/21755 */display: inline-block !important;position: relative;}#sk-container-id-1 div.sk-text-repr-fallback {display: none;}</style><div id=\"sk-container-id-1\" class=\"sk-top-container\"><div class=\"sk-text-repr-fallback\"><pre>LinearRegression()</pre><b>In a Jupyter environment, please rerun this cell to show the HTML representation or trust the notebook. <br />On GitHub, the HTML representation is unable to render, please try loading this page with nbviewer.org.</b></div><div class=\"sk-container\" hidden><div class=\"sk-item\"><div class=\"sk-estimator sk-toggleable\"><input class=\"sk-toggleable__control sk-hidden--visually\" id=\"sk-estimator-id-1\" type=\"checkbox\" checked><label for=\"sk-estimator-id-1\" class=\"sk-toggleable__label sk-toggleable__label-arrow\">LinearRegression</label><div class=\"sk-toggleable__content\"><pre>LinearRegression()</pre></div></div></div></div></div>"
      ],
      "text/plain": [
       "LinearRegression()"
      ]
     },
     "execution_count": 5,
     "metadata": {},
     "output_type": "execute_result"
    }
   ],
   "source": [
    "weights = triangular_kernel(df.pov_index, h)\n",
    "model_treated, model_control = LinearRegression(), LinearRegression()\n",
    "model_treated.fit(y=df.loc[df.pov_index > 0, \"conspcfood_t1\"].values.reshape(-1, 1),\n",
    "                  X=df.loc[df.pov_index > 0, \"pov_index\"].values.reshape(-1, 1),\n",
    "                  sample_weight=weights[df.pov_index > 0])\n",
    "model_control.fit(y=df.loc[df.pov_index < 0, \"conspcfood_t1\"].values.reshape(-1, 1),\n",
    "                  X=df.loc[df.pov_index < 0, \"pov_index\"].values.reshape(-1, 1),\n",
    "                  sample_weight=weights[df.pov_index < 0])"
   ]
  },
  {
   "cell_type": "markdown",
   "metadata": {
    "id": "MC5vPB-I1jeH"
   },
   "source": [
    "The treatment effect at the cutoff point is estimated as the difference between the predictions of the two models at the cutoff point."
   ]
  },
  {
   "cell_type": "code",
   "execution_count": 6,
   "metadata": {
    "id": "279my1C8o9a3"
   },
   "outputs": [
    {
     "data": {
      "text/plain": [
       "-22.105321594809766"
      ]
     },
     "execution_count": 6,
     "metadata": {},
     "output_type": "execute_result"
    }
   ],
   "source": [
    "cutoff = 0\n",
    "treatment_effect = model_treated.predict(np.array([cutoff]).reshape(-1, 1))\n",
    "treatment_effect -= model_control.predict(np.array([cutoff]).reshape(-1, 1))\n",
    "treatment_effect[0, 0]"
   ]
  },
  {
   "cell_type": "markdown",
   "metadata": {
    "id": "uW6PYdz-BESB"
   },
   "source": [
    "We estimate that the participation in the program reduced food consumption by $22.1$ units in the year following the intervention.The following plot visualizes the two weighted regressions at the cut-off for the last outcome variable (for food consumption in `t1`). We can clearly see the \"jump\" at the cut-off, which is our LATE."
   ]
  },
  {
   "cell_type": "code",
   "execution_count": 7,
   "metadata": {
    "id": "uvONPb44A56z"
   },
   "outputs": [
    {
     "data": {
      "image/png": "[encoded data removed]",
      "text/plain": [
       "<Figure size 640x480 with 1 Axes>"
      ]
     },
     "metadata": {},
     "output_type": "display_data"
    }
   ],
   "source": [
    "plt.scatter(df.pov_index, df.conspcfood_t1, s=10, color='black')  # s controls the size\n",
    "neg_xval = np.linspace(-0.1, 0, 100)\n",
    "neg_line = model_control.predict(neg_xval.reshape(-1, 1))\n",
    "pos_xval = np.linspace(0, 0.1, 100)\n",
    "pos_line = model_treated.predict(pos_xval.reshape(-1, 1))\n",
    "plt.plot(neg_xval, neg_line, linewidth=3, label=\"Control Regression\")\n",
    "plt.plot(pos_xval, pos_line, linewidth=3, label=\"Treated Regression\")\n",
    "plt.axvline(x=0, color='red', linestyle='--', label=\"Cut-Off\")\n",
    "plt.legend()\n",
    "plt.xlim(-0.1, 0.1)\n",
    "plt.ylim(250, 350)\n",
    "plt.show()"
   ]
  },
  {
   "cell_type": "markdown",
   "metadata": {
    "id": "W6MN7zBmAxn9"
   },
   "source": [
    "We can repeat the estimation using the `rdd` package, which yields us an estimate as well as a confidence band calculated according to the formulas presented in the book. We look at all four targets."
   ]
  },
  {
   "cell_type": "code",
   "execution_count": 8,
   "metadata": {
    "id": "Xkqz2Bk_56v4"
   },
   "outputs": [
    {
     "data": {
      "text/plain": [
       "289"
      ]
     },
     "execution_count": 8,
     "metadata": {},
     "output_type": "execute_result"
    }
   ],
   "source": [
    "df.pov_index.duplicated().sum()"
   ]
  },
  {
   "cell_type": "code",
   "execution_count": 9,
   "metadata": {
    "id": "6rLo9c_YGWIq"
   },
   "outputs": [
    {
     "data": {
      "text/html": [
       "<div>\n",
       "<style scoped>\n",
       "    .dataframe tbody tr th:only-of-type {\n",
       "        vertical-align: middle;\n",
       "    }\n",
       "\n",
       "    .dataframe tbody tr th {\n",
       "        vertical-align: top;\n",
       "    }\n",
       "\n",
       "    .dataframe thead th {\n",
       "        text-align: right;\n",
       "    }\n",
       "</style>\n",
       "<table border=\"1\" class=\"dataframe\">\n",
       "  <thead>\n",
       "    <tr style=\"text-align: right;\">\n",
       "      <th></th>\n",
       "      <th>LATE</th>\n",
       "      <th>s.e.</th>\n",
       "    </tr>\n",
       "  </thead>\n",
       "  <tbody>\n",
       "    <tr>\n",
       "      <th>Food T_1</th>\n",
       "      <td>-22.161738</td>\n",
       "      <td>27.456747</td>\n",
       "    </tr>\n",
       "    <tr>\n",
       "      <th>Non-Food T_1</th>\n",
       "      <td>-9.135265</td>\n",
       "      <td>21.932340</td>\n",
       "    </tr>\n",
       "    <tr>\n",
       "      <th>Food T_2</th>\n",
       "      <td>54.956943</td>\n",
       "      <td>48.120411</td>\n",
       "    </tr>\n",
       "    <tr>\n",
       "      <th>Non-Food T_2</th>\n",
       "      <td>43.806595</td>\n",
       "      <td>32.352294</td>\n",
       "    </tr>\n",
       "  </tbody>\n",
       "</table>\n",
       "</div>"
      ],
      "text/plain": [
       "                   LATE       s.e.\n",
       "Food T_1     -22.161738  27.456747\n",
       "Non-Food T_1  -9.135265  21.932340\n",
       "Food T_2      54.956943  48.120411\n",
       "Non-Food T_2  43.806595  32.352294"
      ]
     },
     "execution_count": 9,
     "metadata": {},
     "output_type": "execute_result"
    }
   ],
   "source": [
    "result = []\n",
    "for outcome in [\"conspcfood_t1\", \"conspcnonfood_t1\", \"conspcfood_t2\", \"conspcnonfood_t2\"]:\n",
    "    rdd_result = rdrobust(x=df.pov_index, y=df[outcome], rho=1, masspoints=\"off\")\n",
    "    result.append([rdd_result.coef.iloc[0].values[0], rdd_result.se.iloc[2].values[0]])\n",
    "res_dataframe = pd.DataFrame(result, columns=[\"LATE\", \"s.e.\"],\n",
    "                             index=[\"Food T_1\", \"Non-Food T_1\", \"Food T_2\", \"Non-Food T_2\"])\n",
    "res_dataframe"
   ]
  },
  {
   "cell_type": "markdown",
   "metadata": {
    "id": "BzzCc3oWZycJ"
   },
   "source": [
    "While the effects in the first year after the intervention are negative, we observe significant positive effects in the second year after an individual or household was accepted in the *Progresa* program. This is in accordance to the previous analysis of this dataset. One possible explanation for this is that the program households have more money and can thus afford more. This was the desired effect of the program to combat hunger and extreme poverty."
   ]
  },
  {
   "cell_type": "markdown",
   "metadata": {
    "id": "hDEf53bE-Aki"
   },
   "source": [
    "## Estimation with Covariates\n",
    "\n",
    "For the identification and estimation of the average treatment effect at the cutoff value no covariate information is required except the running variable, but nevertheless in many applications additional covariates are collected which might be exploited for the analysis to improve the efficiency of the estimates.\n",
    "\n",
    "The standard approach is simply to take up the regressors in the weighted least squares regression."
   ]
  },
  {
   "cell_type": "code",
   "execution_count": 10,
   "metadata": {
    "id": "JRdUQ8gcsGCg"
   },
   "outputs": [
    {
     "data": {
      "text/plain": [
       "-23.781010315693663"
      ]
     },
     "execution_count": 10,
     "metadata": {},
     "output_type": "execute_result"
    }
   ],
   "source": [
    "model_treated, model_control = LinearRegression(), LinearRegression()\n",
    "model_treated.fit(y=df.loc[df.pov_index > 0, \"conspcfood_t1\"].values.reshape(-1, 1),\n",
    "                  X=df.loc[df.pov_index > 0, [\"pov_index\", \"hhownhouse\", \"headage\", \"heademp\", \"headeduc\"]],\n",
    "                  sample_weight=weights[df.pov_index > 0])\n",
    "model_control.fit(y=df.loc[df.pov_index < 0, \"conspcfood_t1\"].values.reshape(-1, 1),\n",
    "                  X=df.loc[df.pov_index < 0, [\"pov_index\", \"hhownhouse\", \"headage\", \"heademp\", \"headeduc\"]],\n",
    "                  sample_weight=weights[df.pov_index < 0])\n",
    "pred_t = model_treated.predict(pd.DataFrame({\"pov_index\": cutoff,\n",
    "                                             \"hhownhouse\": np.average(df.loc[df.pov_index > 0, \"hhownhouse\"],\n",
    "                                                                      weights=weights[df.pov_index > 0]),\n",
    "                                             \"headage\": np.average(df.loc[df.pov_index > 0, \"headage\"],\n",
    "                                                                   weights=weights[df.pov_index > 0]),\n",
    "                                             \"heademp\": np.average(df.loc[df.pov_index > 0, \"heademp\"],\n",
    "                                                                   weights=weights[df.pov_index > 0]),\n",
    "                                             \"headeduc\": np.average(df.loc[df.pov_index > 0, \"headeduc\"],\n",
    "                                                                    weights=weights[df.pov_index > 0])},\n",
    "                                            index=[0]))\n",
    "pred_c = model_control.predict(pd.DataFrame({\"pov_index\": cutoff,\n",
    "                                             \"hhownhouse\": np.average(df.loc[df.pov_index < 0, \"hhownhouse\"],\n",
    "                                                                      weights=weights[df.pov_index < 0]),\n",
    "                                             \"headage\": np.average(df.loc[df.pov_index < 0, \"headage\"],\n",
    "                                                                   weights=weights[df.pov_index < 0]),\n",
    "                                             \"heademp\": np.average(df.loc[df.pov_index < 0, \"heademp\"],\n",
    "                                                                   weights=weights[df.pov_index < 0]),\n",
    "                                             \"headeduc\": np.average(df.loc[df.pov_index < 0, \"headeduc\"],\n",
    "                                                                    weights=weights[df.pov_index < 0])},\n",
    "                                            index=[0]))\n",
    "treatment_effect = pred_t - pred_c\n",
    "treatment_effect[0][0]"
   ]
  },
  {
   "cell_type": "markdown",
   "metadata": {
    "id": "Mlc6ZqDuMfl8"
   },
   "source": [
    "Including these selected covariates does not have a significant impact on the LATE estimation. Again, we can also use `rdd` to repeat the estimation with all other outcomes.\n"
   ]
  },
  {
   "cell_type": "code",
   "execution_count": 11,
   "metadata": {
    "id": "GZdzDHEdOt-j"
   },
   "outputs": [
    {
     "data": {
      "text/html": [
       "<div>\n",
       "<style scoped>\n",
       "    .dataframe tbody tr th:only-of-type {\n",
       "        vertical-align: middle;\n",
       "    }\n",
       "\n",
       "    .dataframe tbody tr th {\n",
       "        vertical-align: top;\n",
       "    }\n",
       "\n",
       "    .dataframe thead th {\n",
       "        text-align: right;\n",
       "    }\n",
       "</style>\n",
       "<table border=\"1\" class=\"dataframe\">\n",
       "  <thead>\n",
       "    <tr style=\"text-align: right;\">\n",
       "      <th></th>\n",
       "      <th>LATE</th>\n",
       "      <th>s.e.</th>\n",
       "    </tr>\n",
       "  </thead>\n",
       "  <tbody>\n",
       "    <tr>\n",
       "      <th>Food T_1</th>\n",
       "      <td>-22.161738</td>\n",
       "      <td>27.456747</td>\n",
       "    </tr>\n",
       "    <tr>\n",
       "      <th>Non-Food T_1</th>\n",
       "      <td>-9.135265</td>\n",
       "      <td>21.932340</td>\n",
       "    </tr>\n",
       "    <tr>\n",
       "      <th>Food T_2</th>\n",
       "      <td>54.956943</td>\n",
       "      <td>48.120411</td>\n",
       "    </tr>\n",
       "    <tr>\n",
       "      <th>Non-Food T_2</th>\n",
       "      <td>43.806595</td>\n",
       "      <td>32.352294</td>\n",
       "    </tr>\n",
       "  </tbody>\n",
       "</table>\n",
       "</div>"
      ],
      "text/plain": [
       "                   LATE       s.e.\n",
       "Food T_1     -22.161738  27.456747\n",
       "Non-Food T_1  -9.135265  21.932340\n",
       "Food T_2      54.956943  48.120411\n",
       "Non-Food T_2  43.806595  32.352294"
      ]
     },
     "execution_count": 11,
     "metadata": {},
     "output_type": "execute_result"
    }
   ],
   "source": [
    "res_dataframe"
   ]
  },
  {
   "cell_type": "code",
   "execution_count": 12,
   "metadata": {
    "id": "OYQuZcvjyYx6"
   },
   "outputs": [
    {
     "data": {
      "text/html": [
       "<div>\n",
       "<style scoped>\n",
       "    .dataframe tbody tr th:only-of-type {\n",
       "        vertical-align: middle;\n",
       "    }\n",
       "\n",
       "    .dataframe tbody tr th {\n",
       "        vertical-align: top;\n",
       "    }\n",
       "\n",
       "    .dataframe thead th {\n",
       "        text-align: right;\n",
       "    }\n",
       "</style>\n",
       "<table border=\"1\" class=\"dataframe\">\n",
       "  <thead>\n",
       "    <tr style=\"text-align: right;\">\n",
       "      <th></th>\n",
       "      <th>LATE</th>\n",
       "      <th>s.e.</th>\n",
       "      <th>% reduction</th>\n",
       "    </tr>\n",
       "  </thead>\n",
       "  <tbody>\n",
       "    <tr>\n",
       "      <th>Food T_1</th>\n",
       "      <td>-27.137309</td>\n",
       "      <td>21.871141</td>\n",
       "      <td>-20.343291</td>\n",
       "    </tr>\n",
       "    <tr>\n",
       "      <th>Non-Food T_1</th>\n",
       "      <td>-5.068397</td>\n",
       "      <td>20.534658</td>\n",
       "      <td>-6.372699</td>\n",
       "    </tr>\n",
       "    <tr>\n",
       "      <th>Food T_2</th>\n",
       "      <td>57.286722</td>\n",
       "      <td>44.369975</td>\n",
       "      <td>-7.793856</td>\n",
       "    </tr>\n",
       "    <tr>\n",
       "      <th>Non-Food T_2</th>\n",
       "      <td>47.665945</td>\n",
       "      <td>29.601985</td>\n",
       "      <td>-8.501124</td>\n",
       "    </tr>\n",
       "  </tbody>\n",
       "</table>\n",
       "</div>"
      ],
      "text/plain": [
       "                   LATE       s.e.  % reduction\n",
       "Food T_1     -27.137309  21.871141   -20.343291\n",
       "Non-Food T_1  -5.068397  20.534658    -6.372699\n",
       "Food T_2      57.286722  44.369975    -7.793856\n",
       "Non-Food T_2  47.665945  29.601985    -8.501124"
      ]
     },
     "execution_count": 12,
     "metadata": {},
     "output_type": "execute_result"
    }
   ],
   "source": [
    "result = []\n",
    "for outcome in [\"conspcfood_t1\", \"conspcnonfood_t1\", \"conspcfood_t2\", \"conspcnonfood_t2\"]:\n",
    "    rdd_result = rdrobust(x=df.pov_index, y=df[outcome], rho=1, masspoints=\"off\",\n",
    "                          covs=df.iloc[:, [0, 1, 2, 3, 4, 5, 6, 7, 10, 11, 12, 13, 14, 15, 16, 18, 21]])\n",
    "    result.append([rdd_result.coef.iloc[0].values[0], rdd_result.se.iloc[2].values[0]])\n",
    "res_dataframe_adj = pd.DataFrame(result, columns=[\"LATE\", \"s.e.\"],\n",
    "                                 index=[\"Food T_1\", \"Non-Food T_1\", \"Food T_2\", \"Non-Food T_2\"])\n",
    "res_dataframe_adj[\"% reduction\"] = (res_dataframe_adj[\"s.e.\"] - res_dataframe[\"s.e.\"]) * 100 / res_dataframe[\"s.e.\"]\n",
    "res_dataframe_adj"
   ]
  },
  {
   "cell_type": "markdown",
   "metadata": {
    "id": "5q8S0wNhabWy"
   },
   "source": [
    "Overall, the adjustment by only a few covariates has not changed the estimated coefficient much from the result without covariates. However, including covariates does reduce the standard deviation of the estimation."
   ]
  },
  {
   "cell_type": "markdown",
   "metadata": {
    "id": "9U8UkHmv-D-0"
   },
   "source": [
    "## Estimation using ML"
   ]
  },
  {
   "cell_type": "markdown",
   "metadata": {
    "id": "NiYSglH9E0Er"
   },
   "source": [
    "As discussed in the book, including many covariates in RDD estimation can be beneficial for multiple reasons:\n",
    "1. **Efficiency and power improvements**: As in randomized control trials, using covariates can increase efficiency and improve power.\n",
    "2. **Auxiliary information**: In RDD the score determines the treatment assignment and measurement errors in the running variable can distort the results. Additional covariates can be exploited to overcome these issues or to deal with missing data problems.\n",
    "3. **Treatment effect heterogeneity**: Covariates can be used to define subgroups in which the treatment effects differ.\n",
    "4. **Other parameters of interest and extrapolation**: As the identified treatment effect in RDD is local at the cutoff, additional covariates might help for extrapolation of the treatment effects or identify other causal parameters.\n",
    "\n",
    "However, including a high number of covariates also comes with additional challenges, such as variables selection, non-linearities or interactions between covariates. The best way to overcome these is the use of modern ML methods.\n",
    "\n",
    "There are multiple ways to implement the estimators presented in the book, we will closely follow the analysis of [Noack et al. (2023)](https://arxiv.org/pdf/2107.07942.pdf). We set up running variable and outcome as above. The baseline covariates will be all the other variables in the data."
   ]
  },
  {
   "cell_type": "code",
   "execution_count": 13,
   "metadata": {
    "id": "n2uoMwzkCq4P"
   },
   "outputs": [],
   "source": [
    "# Running Variable and Outcome\n",
    "investigated_outcome = \"conspcfood_t1\"\n",
    "df_ml = df.rename(columns={\"pov_index\": \"X\", investigated_outcome: \"Y\"})\n",
    "\n",
    "# Baseline covariates including consumption\n",
    "b_covs = df_ml.columns[[0, 1, 2, 3, 4, 5, 6, 7, 10, 11, 12, 13, 14, 15, 16, 18, 21]]\n",
    "\n",
    "# Fixed effects for localities\n",
    "i_fe = pd.get_dummies(df_ml['clus'], drop_first=True)\n",
    "\n",
    "# Flexible covariates including localities indicators\n",
    "f_covs = patsy.dmatrix('~ (' + ' + '.join(b_covs) + ')**2', data=df_ml, return_type='dataframe')\n",
    "\n",
    "# Dropping the intercept column that is automatically added by patsy\n",
    "f_covs = f_covs.iloc[:, 1:]\n",
    "\n",
    "Z_lasso = pd.concat([i_fe, f_covs], axis=1)"
   ]
  },
  {
   "cell_type": "markdown",
   "metadata": {
    "id": "2n8yvua4Ns_A"
   },
   "source": [
    "We will use the package `rdrobust` for the RD estimation. Before starting the DML procedure, we have to estimate a bandwidth to restrict the samples in the first stage estimation."
   ]
  },
  {
   "cell_type": "code",
   "execution_count": 14,
   "metadata": {
    "id": "VIO-PQEtOKob"
   },
   "outputs": [],
   "source": [
    "h_fs = rdrobust(y=df_ml.Y, x=df_ml.X, masspoints=\"off\").bws.values[1, 0]"
   ]
  },
  {
   "cell_type": "markdown",
   "metadata": {
    "id": "nm8BC6JTQnV7"
   },
   "source": [
    "The next chunk sets up the crossfitting and estimates the function $\\eta(Z)$, which we will use to adjust $Y$ for the second stage. We use Random Forest, a Boosting implementation, Linear Regression and Lasso with both a baseline and flexible covariate structure."
   ]
  },
  {
   "cell_type": "code",
   "execution_count": 15,
   "metadata": {
    "id": "y-tGMe5iQhVd"
   },
   "outputs": [],
   "source": [
    "def first_stage():\n",
    "    # Set up the cross-fitting\n",
    "    n = df_ml.shape[0]\n",
    "    Kf = 5  # Number of folds\n",
    "    sampleframe = np.repeat(range(0, Kf), math.ceil(n / Kf))\n",
    "    cfgroup = np.random.choice(sampleframe, size=n, replace=False)\n",
    "\n",
    "    # Matrix to store eta predictions\n",
    "    eta_fit = np.empty((n, 5))\n",
    "\n",
    "    # Create vector of observations to be considered in the first stage model\n",
    "    weights = np.abs(df_ml.X) < h_fs\n",
    "\n",
    "    for k in range(Kf):\n",
    "        fold = (cfgroup == k)\n",
    "\n",
    "        data_treated = df_ml.loc[(df_ml.X > 0) & ~fold & (weights > 0)]\n",
    "        data_control = df_ml.loc[(df_ml.X < 0) & ~fold & (weights > 0)]\n",
    "\n",
    "        data_fold = df_ml.loc[fold]\n",
    "\n",
    "        rf1 = RandomForestRegressor(max_features=4, n_estimators=1000)\n",
    "        rf1.fit(y=data_treated.Y, X=data_treated[b_covs])\n",
    "        rf0 = RandomForestRegressor(max_features=4, n_estimators=1000)\n",
    "        rf0.fit(y=data_control.Y, X=data_control[b_covs])\n",
    "        eta_fit[fold, 0] = (rf1.predict(data_fold[b_covs]) + rf0.predict(data_fold[b_covs])) / 2\n",
    "\n",
    "        lgbm1 = LGBMRegressor(verbosity=-1)\n",
    "        lgbm1.fit(y=data_treated.Y, X=data_treated[b_covs])\n",
    "        lgbm0 = LGBMRegressor(verbosity=-1)\n",
    "        lgbm0.fit(y=data_control.Y, X=data_control[b_covs])\n",
    "        eta_fit[fold, 1] = (lgbm1.predict(data_fold[b_covs]) + lgbm0.predict(data_fold[b_covs])) / 2\n",
    "\n",
    "        lm1 = LinearRegression()\n",
    "        lm1.fit(y=data_treated.Y, X=data_treated[b_covs])\n",
    "        lm0 = LinearRegression()\n",
    "        lm0.fit(y=data_control.Y, X=data_control[b_covs])\n",
    "        eta_fit[fold, 2] = (lm1.predict(data_fold[b_covs]) + lm0.predict(data_fold[b_covs])) / 2\n",
    "\n",
    "        las_base1 = LassoCV()\n",
    "        las_base1.fit(y=data_treated.Y, X=data_treated[b_covs])\n",
    "        las_base0 = LassoCV()\n",
    "        las_base0.fit(y=data_control.Y, X=data_control[b_covs])\n",
    "        eta_fit[fold, 3] = (las_base1.predict(data_fold[b_covs]) + las_base0.predict(data_fold[b_covs])) / 2\n",
    "\n",
    "        X_flex_treated = pd.concat([Z_lasso.loc[data_treated.index], data_treated[b_covs]], axis=1)\n",
    "        X_flex_control = pd.concat([Z_lasso.loc[data_control.index], data_control[b_covs]], axis=1)\n",
    "        X_flex_fold = pd.concat([Z_lasso.loc[data_fold.index], data_fold[b_covs]], axis=1)\n",
    "        X_flex_treated.columns = X_flex_treated.columns.astype(str)\n",
    "        X_flex_control.columns = X_flex_control.columns.astype(str)\n",
    "        X_flex_fold.columns = X_flex_fold.columns.astype(str)\n",
    "        las_flex1 = LassoCV()\n",
    "        las_flex1.fit(y=data_treated.Y, X=X_flex_treated)\n",
    "        las_flex0 = LassoCV()\n",
    "        las_flex0.fit(y=data_control.Y, X=X_flex_control)\n",
    "        eta_fit[fold, 4] = (las_flex1.predict(X_flex_fold) + las_flex0.predict(X_flex_fold)) / 2\n",
    "\n",
    "    return eta_fit\n",
    "\n",
    "\n",
    "eta_fit = first_stage()"
   ]
  },
  {
   "cell_type": "markdown",
   "metadata": {
    "id": "ybTRUohWi_xE"
   },
   "source": [
    "With the estimated $\\hat{\\eta}(Z)$ we can correct for confounding in $Y$ and now run the RD estimation as second stage again."
   ]
  },
  {
   "cell_type": "code",
   "execution_count": 16,
   "metadata": {
    "id": "WdJkfePmx4iN"
   },
   "outputs": [
    {
     "data": {
      "text/html": [
       "<div>\n",
       "<style scoped>\n",
       "    .dataframe tbody tr th:only-of-type {\n",
       "        vertical-align: middle;\n",
       "    }\n",
       "\n",
       "    .dataframe tbody tr th {\n",
       "        vertical-align: top;\n",
       "    }\n",
       "\n",
       "    .dataframe thead th {\n",
       "        text-align: right;\n",
       "    }\n",
       "</style>\n",
       "<table border=\"1\" class=\"dataframe\">\n",
       "  <thead>\n",
       "    <tr style=\"text-align: right;\">\n",
       "      <th></th>\n",
       "      <th>LATE</th>\n",
       "      <th>s.e.</th>\n",
       "    </tr>\n",
       "  </thead>\n",
       "  <tbody>\n",
       "    <tr>\n",
       "      <th>Random Forest</th>\n",
       "      <td>-17.290232</td>\n",
       "      <td>20.260055</td>\n",
       "    </tr>\n",
       "    <tr>\n",
       "      <th>Gradient Boosting</th>\n",
       "      <td>-18.029527</td>\n",
       "      <td>21.068436</td>\n",
       "    </tr>\n",
       "    <tr>\n",
       "      <th>Linear Regression</th>\n",
       "      <td>-24.438212</td>\n",
       "      <td>20.175355</td>\n",
       "    </tr>\n",
       "    <tr>\n",
       "      <th>Lasso Baseline</th>\n",
       "      <td>-18.652900</td>\n",
       "      <td>19.925989</td>\n",
       "    </tr>\n",
       "    <tr>\n",
       "      <th>Lasso Flexible</th>\n",
       "      <td>-20.075361</td>\n",
       "      <td>19.858670</td>\n",
       "    </tr>\n",
       "  </tbody>\n",
       "</table>\n",
       "</div>"
      ],
      "text/plain": [
       "                        LATE       s.e.\n",
       "Random Forest     -17.290232  20.260055\n",
       "Gradient Boosting -18.029527  21.068436\n",
       "Linear Regression -24.438212  20.175355\n",
       "Lasso Baseline    -18.652900  19.925989\n",
       "Lasso Flexible    -20.075361  19.858670"
      ]
     },
     "execution_count": 16,
     "metadata": {},
     "output_type": "execute_result"
    }
   ],
   "source": [
    "methods = [\"Random Forest\", \"Gradient Boosting\", \"Linear Regression\",\n",
    "           \"Lasso Baseline\", \"Lasso Flexible\"]\n",
    "\n",
    "\n",
    "def second_stage(eta_fit):\n",
    "    adj_results = []\n",
    "    for i in range(len(methods)):\n",
    "        M_Y = df_ml.Y - eta_fit[:, i]\n",
    "        rd_call = rdrobust(y=M_Y, x=df_ml.X, masspoints=\"off\")\n",
    "        adj_results.append([rd_call.coef.iloc[0].values[0],\n",
    "                            rd_call.se.iloc[2].values[0]])\n",
    "    return adj_results\n",
    "\n",
    "\n",
    "adj_frame = pd.DataFrame(second_stage(eta_fit), columns=[\"LATE\", \"s.e.\"],\n",
    "                         index=methods)\n",
    "adj_frame"
   ]
  },
  {
   "cell_type": "markdown",
   "metadata": {
    "id": "dWRrjcieIKwk"
   },
   "source": [
    "Finally, we create a small simulation study with only $R=20$ repetitions to show the variance reducing effect of the inclusion of ML-based estimators for the covariates. The next block runs up to ten minutes."
   ]
  },
  {
   "cell_type": "code",
   "execution_count": 17,
   "metadata": {
    "id": "3DxmPT9LIJ3E"
   },
   "outputs": [],
   "source": [
    "estimates = [adj_frame[\"LATE\"].values]\n",
    "std_err = [adj_frame[\"s.e.\"].values]\n",
    "R = 19\n",
    "\n",
    "for i in range(R):\n",
    "    eta_fit = first_stage()\n",
    "    adj_results = np.array(second_stage(eta_fit))\n",
    "    estimates.append(adj_results[:, 0])\n",
    "    std_err.append(adj_results[:, 1])"
   ]
  },
  {
   "cell_type": "markdown",
   "metadata": {
    "id": "W_ybpwiMS1MH"
   },
   "source": [
    "We aggregate the median of the estimates, the mean of the standard errors and also calculate the mean reduction of standard error compared to the \"no covariates\" estimation. We see, that including covariates can reduce the standard error of estimation around 15-20%."
   ]
  },
  {
   "cell_type": "code",
   "execution_count": 18,
   "metadata": {
    "id": "bzp90cR4I6RL"
   },
   "outputs": [
    {
     "data": {
      "text/html": [
       "<div>\n",
       "<style scoped>\n",
       "    .dataframe tbody tr th:only-of-type {\n",
       "        vertical-align: middle;\n",
       "    }\n",
       "\n",
       "    .dataframe tbody tr th {\n",
       "        vertical-align: top;\n",
       "    }\n",
       "\n",
       "    .dataframe thead th {\n",
       "        text-align: right;\n",
       "    }\n",
       "</style>\n",
       "<table border=\"1\" class=\"dataframe\">\n",
       "  <thead>\n",
       "    <tr style=\"text-align: right;\">\n",
       "      <th></th>\n",
       "      <th>LATE</th>\n",
       "      <th>s.e.</th>\n",
       "      <th>% reduction</th>\n",
       "    </tr>\n",
       "  </thead>\n",
       "  <tbody>\n",
       "    <tr>\n",
       "      <th>Random Forest</th>\n",
       "      <td>-19.591159</td>\n",
       "      <td>20.252981</td>\n",
       "      <td>-26.236779</td>\n",
       "    </tr>\n",
       "    <tr>\n",
       "      <th>Gradient Boosting</th>\n",
       "      <td>-21.473448</td>\n",
       "      <td>21.536645</td>\n",
       "      <td>-21.561559</td>\n",
       "    </tr>\n",
       "    <tr>\n",
       "      <th>Linear Regression</th>\n",
       "      <td>-27.272582</td>\n",
       "      <td>20.229335</td>\n",
       "      <td>-26.322902</td>\n",
       "    </tr>\n",
       "    <tr>\n",
       "      <th>Lasso Baseline</th>\n",
       "      <td>-22.005207</td>\n",
       "      <td>19.987330</td>\n",
       "      <td>-27.204305</td>\n",
       "    </tr>\n",
       "    <tr>\n",
       "      <th>Lasso Flexible</th>\n",
       "      <td>-23.095745</td>\n",
       "      <td>19.954674</td>\n",
       "      <td>-27.323241</td>\n",
       "    </tr>\n",
       "    <tr>\n",
       "      <th>Linear Adjusted (no cross-fit)</th>\n",
       "      <td>-27.137309</td>\n",
       "      <td>21.871141</td>\n",
       "      <td>-20.343291</td>\n",
       "    </tr>\n",
       "  </tbody>\n",
       "</table>\n",
       "</div>"
      ],
      "text/plain": [
       "                                     LATE       s.e.  % reduction\n",
       "Random Forest                  -19.591159  20.252981   -26.236779\n",
       "Gradient Boosting              -21.473448  21.536645   -21.561559\n",
       "Linear Regression              -27.272582  20.229335   -26.322902\n",
       "Lasso Baseline                 -22.005207  19.987330   -27.204305\n",
       "Lasso Flexible                 -23.095745  19.954674   -27.323241\n",
       "Linear Adjusted (no cross-fit) -27.137309  21.871141   -20.343291"
      ]
     },
     "execution_count": 18,
     "metadata": {},
     "output_type": "execute_result"
    }
   ],
   "source": [
    "med_est = np.median(np.array(estimates), axis=0)\n",
    "mean_se = np.array(std_err).mean(axis=0)\n",
    "adj_frame = pd.DataFrame(np.c_[med_est, mean_se], index=methods, columns=[\"LATE\", \"s.e.\"])\n",
    "adj_frame[\"% reduction\"] = (adj_frame[\"s.e.\"] - res_dataframe.loc[\"Food T_1\", \"s.e.\"]) * 100\n",
    "adj_frame[\"% reduction\"] /= res_dataframe.loc[\"Food T_1\", \"s.e.\"]\n",
    "adj_frame.loc[\"Linear Adjusted (no cross-fit)\"] = res_dataframe_adj.loc[\"Food T_1\"]\n",
    "adj_frame"
   ]
  },
  {
   "cell_type": "markdown",
   "metadata": {
    "id": "0ioABDq3TK_o"
   },
   "source": [
    "## We now repeat the exercise for the other outcomes (excluding the simulation)."
   ]
  },
  {
   "cell_type": "markdown",
   "metadata": {
    "id": "g-dLrCgrTm3n"
   },
   "source": [
    "Non-Food Consumption (Year 1)"
   ]
  },
  {
   "cell_type": "code",
   "execution_count": 23,
   "metadata": {
    "id": "zcKoNbJeTpSg"
   },
   "outputs": [
    {
     "data": {
      "text/html": [
       "<div>\n",
       "<style scoped>\n",
       "    .dataframe tbody tr th:only-of-type {\n",
       "        vertical-align: middle;\n",
       "    }\n",
       "\n",
       "    .dataframe tbody tr th {\n",
       "        vertical-align: top;\n",
       "    }\n",
       "\n",
       "    .dataframe thead th {\n",
       "        text-align: right;\n",
       "    }\n",
       "</style>\n",
       "<table border=\"1\" class=\"dataframe\">\n",
       "  <thead>\n",
       "    <tr style=\"text-align: right;\">\n",
       "      <th></th>\n",
       "      <th>LATE</th>\n",
       "      <th>s.e.</th>\n",
       "    </tr>\n",
       "  </thead>\n",
       "  <tbody>\n",
       "    <tr>\n",
       "      <th>Random Forest</th>\n",
       "      <td>-3.262580</td>\n",
       "      <td>19.200077</td>\n",
       "    </tr>\n",
       "    <tr>\n",
       "      <th>Gradient Boosting</th>\n",
       "      <td>-2.543165</td>\n",
       "      <td>20.288621</td>\n",
       "    </tr>\n",
       "    <tr>\n",
       "      <th>Linear Regression</th>\n",
       "      <td>-5.154475</td>\n",
       "      <td>19.383861</td>\n",
       "    </tr>\n",
       "    <tr>\n",
       "      <th>Lasso Baseline</th>\n",
       "      <td>-5.334120</td>\n",
       "      <td>19.471454</td>\n",
       "    </tr>\n",
       "    <tr>\n",
       "      <th>Lasso Flexible</th>\n",
       "      <td>-6.341323</td>\n",
       "      <td>19.577609</td>\n",
       "    </tr>\n",
       "  </tbody>\n",
       "</table>\n",
       "</div>"
      ],
      "text/plain": [
       "                       LATE       s.e.\n",
       "Random Forest     -3.262580  19.200077\n",
       "Gradient Boosting -2.543165  20.288621\n",
       "Linear Regression -5.154475  19.383861\n",
       "Lasso Baseline    -5.334120  19.471454\n",
       "Lasso Flexible    -6.341323  19.577609"
      ]
     },
     "execution_count": 23,
     "metadata": {},
     "output_type": "execute_result"
    }
   ],
   "source": [
    "# Running Variable and Outcome\n",
    "investigated_outcome = \"conspcnonfood_t1\"\n",
    "df_ml = df.rename(columns={\"pov_index\": \"X\", investigated_outcome: \"Y\"})\n",
    "\n",
    "# Baseline covariates including consumption\n",
    "b_covs = df_ml.columns[[0, 1, 2, 3, 4, 5, 6, 7, 10, 11, 12, 13, 14, 15, 16, 18, 21]]\n",
    "\n",
    "# Fixed effects for localities\n",
    "i_fe = pd.get_dummies(df_ml['clus'], drop_first=True)\n",
    "\n",
    "# Flexible covariates including localities indicators\n",
    "f_covs = patsy.dmatrix('~ (' + ' + '.join(b_covs) + ')**2', data=df_ml, return_type='dataframe')\n",
    "\n",
    "# Dropping the intercept column that is automatically added by patsy\n",
    "f_covs = f_covs.iloc[:, 1:]\n",
    "\n",
    "Z_lasso = pd.concat([i_fe, f_covs], axis=1)\n",
    "\n",
    "h_fs = rdrobust(y=df_ml.Y, x=df_ml.X, masspoints=\"off\").bws.values[1, 0]\n",
    "\n",
    "\n",
    "def first_stage():\n",
    "    # Set up the cross-fitting\n",
    "    n = df_ml.shape[0]\n",
    "    Kf = 5  # Number of folds\n",
    "    sampleframe = np.repeat(range(0, Kf), math.ceil(n / Kf))\n",
    "    cfgroup = np.random.choice(sampleframe, size=n, replace=False)\n",
    "\n",
    "    # Matrix to store eta predictions\n",
    "    eta_fit = np.empty((n, 5))\n",
    "\n",
    "    # Create vector of observations to be considered in the first stage model\n",
    "    weights = np.abs(df_ml.X) < h_fs\n",
    "\n",
    "    for k in range(Kf):\n",
    "        fold = (cfgroup == k)\n",
    "\n",
    "        data_treated = df_ml.loc[(df_ml.X > 0) & ~fold & (weights > 0)]\n",
    "        data_control = df_ml.loc[(df_ml.X < 0) & ~fold & (weights > 0)]\n",
    "\n",
    "        data_fold = df_ml.loc[fold]\n",
    "\n",
    "        rf1 = RandomForestRegressor(max_features=4, n_estimators=1000)\n",
    "        rf1.fit(y=data_treated.Y, X=data_treated[b_covs])\n",
    "        rf0 = RandomForestRegressor(max_features=4, n_estimators=1000)\n",
    "        rf0.fit(y=data_control.Y, X=data_control[b_covs])\n",
    "        eta_fit[fold, 0] = (rf1.predict(data_fold[b_covs]) + rf0.predict(data_fold[b_covs])) / 2\n",
    "\n",
    "        lgbm1 = LGBMRegressor(verbosity=-1)\n",
    "        lgbm1.fit(y=data_treated.Y, X=data_treated[b_covs])\n",
    "        lgbm0 = LGBMRegressor(verbosity=-1)\n",
    "        lgbm0.fit(y=data_control.Y, X=data_control[b_covs])\n",
    "        eta_fit[fold, 1] = (lgbm1.predict(data_fold[b_covs]) + lgbm0.predict(data_fold[b_covs])) / 2\n",
    "\n",
    "        lm1 = LinearRegression()\n",
    "        lm1.fit(y=data_treated.Y, X=data_treated[b_covs])\n",
    "        lm0 = LinearRegression()\n",
    "        lm0.fit(y=data_control.Y, X=data_control[b_covs])\n",
    "        eta_fit[fold, 2] = (lm1.predict(data_fold[b_covs]) + lm0.predict(data_fold[b_covs])) / 2\n",
    "\n",
    "        las_base1 = LassoCV()\n",
    "        las_base1.fit(y=data_treated.Y, X=data_treated[b_covs])\n",
    "        las_base0 = LassoCV()\n",
    "        las_base0.fit(y=data_control.Y, X=data_control[b_covs])\n",
    "        eta_fit[fold, 3] = (las_base1.predict(data_fold[b_covs]) + las_base0.predict(data_fold[b_covs])) / 2\n",
    "\n",
    "        X_flex_treated = pd.concat([Z_lasso.loc[data_treated.index], data_treated[b_covs]], axis=1)\n",
    "        X_flex_control = pd.concat([Z_lasso.loc[data_control.index], data_control[b_covs]], axis=1)\n",
    "        X_flex_fold = pd.concat([Z_lasso.loc[data_fold.index], data_fold[b_covs]], axis=1)\n",
    "        X_flex_treated.columns = X_flex_treated.columns.astype(str)\n",
    "        X_flex_control.columns = X_flex_control.columns.astype(str)\n",
    "        X_flex_fold.columns = X_flex_fold.columns.astype(str)\n",
    "        las_flex1 = LassoCV()\n",
    "        las_flex1.fit(y=data_treated.Y, X=X_flex_treated)\n",
    "        las_flex0 = LassoCV()\n",
    "        las_flex0.fit(y=data_control.Y, X=X_flex_control)\n",
    "        eta_fit[fold, 4] = (las_flex1.predict(X_flex_fold) + las_flex0.predict(X_flex_fold)) / 2\n",
    "\n",
    "    return eta_fit\n",
    "\n",
    "\n",
    "eta_fit = first_stage()\n",
    "\n",
    "methods = [\"Random Forest\", \"Gradient Boosting\", \"Linear Regression\",\n",
    "           \"Lasso Baseline\", \"Lasso Flexible\"]\n",
    "\n",
    "\n",
    "def second_stage(eta_fit):\n",
    "    adj_results = []\n",
    "    for i in range(len(methods)):\n",
    "        M_Y = df_ml.Y - eta_fit[:, i]\n",
    "        rd_call = rdrobust(y=M_Y, x=df_ml.X, masspoints=\"off\")\n",
    "        adj_results.append([rd_call.coef.iloc[0].values[0],\n",
    "                            rd_call.se.iloc[2].values[0]])\n",
    "    return adj_results\n",
    "\n",
    "\n",
    "adj_frame = pd.DataFrame(second_stage(eta_fit), columns=[\"LATE\", \"s.e.\"],\n",
    "                         index=methods)\n",
    "adj_frame"
   ]
  },
  {
   "cell_type": "markdown",
   "metadata": {
    "id": "4AR3BRv7Tp2D"
   },
   "source": [
    "Food Consumption (Year 2)"
   ]
  },
  {
   "cell_type": "code",
   "execution_count": 22,
   "metadata": {
    "id": "aoFEC4l-TsIV"
   },
   "outputs": [
    {
     "data": {
      "text/html": [
       "<div>\n",
       "<style scoped>\n",
       "    .dataframe tbody tr th:only-of-type {\n",
       "        vertical-align: middle;\n",
       "    }\n",
       "\n",
       "    .dataframe tbody tr th {\n",
       "        vertical-align: top;\n",
       "    }\n",
       "\n",
       "    .dataframe thead th {\n",
       "        text-align: right;\n",
       "    }\n",
       "</style>\n",
       "<table border=\"1\" class=\"dataframe\">\n",
       "  <thead>\n",
       "    <tr style=\"text-align: right;\">\n",
       "      <th></th>\n",
       "      <th>LATE</th>\n",
       "      <th>s.e.</th>\n",
       "    </tr>\n",
       "  </thead>\n",
       "  <tbody>\n",
       "    <tr>\n",
       "      <th>Random Forest</th>\n",
       "      <td>62.169538</td>\n",
       "      <td>44.462430</td>\n",
       "    </tr>\n",
       "    <tr>\n",
       "      <th>Gradient Boosting</th>\n",
       "      <td>66.854620</td>\n",
       "      <td>45.057171</td>\n",
       "    </tr>\n",
       "    <tr>\n",
       "      <th>Linear Regression</th>\n",
       "      <td>53.339545</td>\n",
       "      <td>45.131263</td>\n",
       "    </tr>\n",
       "    <tr>\n",
       "      <th>Lasso Baseline</th>\n",
       "      <td>50.049116</td>\n",
       "      <td>45.546159</td>\n",
       "    </tr>\n",
       "    <tr>\n",
       "      <th>Lasso Flexible</th>\n",
       "      <td>54.287738</td>\n",
       "      <td>45.596947</td>\n",
       "    </tr>\n",
       "  </tbody>\n",
       "</table>\n",
       "</div>"
      ],
      "text/plain": [
       "                        LATE       s.e.\n",
       "Random Forest      62.169538  44.462430\n",
       "Gradient Boosting  66.854620  45.057171\n",
       "Linear Regression  53.339545  45.131263\n",
       "Lasso Baseline     50.049116  45.546159\n",
       "Lasso Flexible     54.287738  45.596947"
      ]
     },
     "execution_count": 22,
     "metadata": {},
     "output_type": "execute_result"
    }
   ],
   "source": [
    "# Running Variable and Outcome\n",
    "investigated_outcome = \"conspcfood_t2\"\n",
    "df_ml = df.rename(columns={\"pov_index\": \"X\", investigated_outcome: \"Y\"})\n",
    "\n",
    "# Baseline covariates including consumption\n",
    "b_covs = df_ml.columns[[0, 1, 2, 3, 4, 5, 6, 7, 10, 11, 12, 13, 14, 15, 16, 18, 21]]\n",
    "\n",
    "# Fixed effects for localities\n",
    "i_fe = pd.get_dummies(df_ml['clus'], drop_first=True)\n",
    "\n",
    "# Flexible covariates including localities indicators\n",
    "f_covs = patsy.dmatrix('~ (' + ' + '.join(b_covs) + ')**2', data=df_ml, return_type='dataframe')\n",
    "\n",
    "# Dropping the intercept column that is automatically added by patsy\n",
    "f_covs = f_covs.iloc[:, 1:]\n",
    "\n",
    "Z_lasso = pd.concat([i_fe, f_covs], axis=1)\n",
    "\n",
    "h_fs = rdrobust(y=df_ml.Y, x=df_ml.X, masspoints=\"off\").bws.values[1, 0]\n",
    "\n",
    "\n",
    "def first_stage():\n",
    "    # Set up the cross-fitting\n",
    "    n = df_ml.shape[0]\n",
    "    Kf = 5  # Number of folds\n",
    "    sampleframe = np.repeat(range(0, Kf), math.ceil(n / Kf))\n",
    "    cfgroup = np.random.choice(sampleframe, size=n, replace=False)\n",
    "\n",
    "    # Matrix to store eta predictions\n",
    "    eta_fit = np.empty((n, 5))\n",
    "\n",
    "    # Create vector of observations to be considered in the first stage model\n",
    "    weights = np.abs(df_ml.X) < h_fs\n",
    "\n",
    "    for k in range(Kf):\n",
    "        fold = (cfgroup == k)\n",
    "\n",
    "        data_treated = df_ml.loc[(df_ml.X > 0) & ~fold & (weights > 0)]\n",
    "        data_control = df_ml.loc[(df_ml.X < 0) & ~fold & (weights > 0)]\n",
    "\n",
    "        data_fold = df_ml.loc[fold]\n",
    "\n",
    "        rf1 = RandomForestRegressor(max_features=4, n_estimators=1000)\n",
    "        rf1.fit(y=data_treated.Y, X=data_treated[b_covs])\n",
    "        rf0 = RandomForestRegressor(max_features=4, n_estimators=1000)\n",
    "        rf0.fit(y=data_control.Y, X=data_control[b_covs])\n",
    "        eta_fit[fold, 0] = (rf1.predict(data_fold[b_covs]) + rf0.predict(data_fold[b_covs])) / 2\n",
    "\n",
    "        lgbm1 = LGBMRegressor(verbosity=-1)\n",
    "        lgbm1.fit(y=data_treated.Y, X=data_treated[b_covs])\n",
    "        lgbm0 = LGBMRegressor(verbosity=-1)\n",
    "        lgbm0.fit(y=data_control.Y, X=data_control[b_covs])\n",
    "        eta_fit[fold, 1] = (lgbm1.predict(data_fold[b_covs]) + lgbm0.predict(data_fold[b_covs])) / 2\n",
    "\n",
    "        lm1 = LinearRegression()\n",
    "        lm1.fit(y=data_treated.Y, X=data_treated[b_covs])\n",
    "        lm0 = LinearRegression()\n",
    "        lm0.fit(y=data_control.Y, X=data_control[b_covs])\n",
    "        eta_fit[fold, 2] = (lm1.predict(data_fold[b_covs]) + lm0.predict(data_fold[b_covs])) / 2\n",
    "\n",
    "        las_base1 = LassoCV()\n",
    "        las_base1.fit(y=data_treated.Y, X=data_treated[b_covs])\n",
    "        las_base0 = LassoCV()\n",
    "        las_base0.fit(y=data_control.Y, X=data_control[b_covs])\n",
    "        eta_fit[fold, 3] = (las_base1.predict(data_fold[b_covs]) + las_base0.predict(data_fold[b_covs])) / 2\n",
    "\n",
    "        X_flex_treated = pd.concat([Z_lasso.loc[data_treated.index], data_treated[b_covs]], axis=1)\n",
    "        X_flex_control = pd.concat([Z_lasso.loc[data_control.index], data_control[b_covs]], axis=1)\n",
    "        X_flex_fold = pd.concat([Z_lasso.loc[data_fold.index], data_fold[b_covs]], axis=1)\n",
    "        X_flex_treated.columns = X_flex_treated.columns.astype(str)\n",
    "        X_flex_control.columns = X_flex_control.columns.astype(str)\n",
    "        X_flex_fold.columns = X_flex_fold.columns.astype(str)\n",
    "        las_flex1 = LassoCV()\n",
    "        las_flex1.fit(y=data_treated.Y, X=X_flex_treated)\n",
    "        las_flex0 = LassoCV()\n",
    "        las_flex0.fit(y=data_control.Y, X=X_flex_control)\n",
    "        eta_fit[fold, 4] = (las_flex1.predict(X_flex_fold) + las_flex0.predict(X_flex_fold)) / 2\n",
    "\n",
    "    return eta_fit\n",
    "\n",
    "\n",
    "eta_fit = first_stage()\n",
    "\n",
    "methods = [\"Random Forest\", \"Gradient Boosting\", \"Linear Regression\",\n",
    "           \"Lasso Baseline\", \"Lasso Flexible\"]\n",
    "\n",
    "\n",
    "def second_stage(eta_fit):\n",
    "    adj_results = []\n",
    "    for i in range(len(methods)):\n",
    "        M_Y = df_ml.Y - eta_fit[:, i]\n",
    "        rd_call = rdrobust(y=M_Y, x=df_ml.X, masspoints=\"off\")\n",
    "        adj_results.append([rd_call.coef.iloc[0].values[0],\n",
    "                            rd_call.se.iloc[2].values[0]])\n",
    "    return adj_results\n",
    "\n",
    "\n",
    "adj_frame = pd.DataFrame(second_stage(eta_fit), columns=[\"LATE\", \"s.e.\"],\n",
    "                         index=methods)\n",
    "adj_frame"
   ]
  },
  {
   "cell_type": "markdown",
   "metadata": {
    "id": "jGG6Nb_gTsdu"
   },
   "source": [
    "Non-Food Consumption (Year 2)"
   ]
  },
  {
   "cell_type": "code",
   "execution_count": 21,
   "metadata": {
    "id": "B9lCmaP1TvVz"
   },
   "outputs": [
    {
     "data": {
      "text/html": [
       "<div>\n",
       "<style scoped>\n",
       "    .dataframe tbody tr th:only-of-type {\n",
       "        vertical-align: middle;\n",
       "    }\n",
       "\n",
       "    .dataframe tbody tr th {\n",
       "        vertical-align: top;\n",
       "    }\n",
       "\n",
       "    .dataframe thead th {\n",
       "        text-align: right;\n",
       "    }\n",
       "</style>\n",
       "<table border=\"1\" class=\"dataframe\">\n",
       "  <thead>\n",
       "    <tr style=\"text-align: right;\">\n",
       "      <th></th>\n",
       "      <th>LATE</th>\n",
       "      <th>s.e.</th>\n",
       "    </tr>\n",
       "  </thead>\n",
       "  <tbody>\n",
       "    <tr>\n",
       "      <th>Random Forest</th>\n",
       "      <td>47.496187</td>\n",
       "      <td>29.875396</td>\n",
       "    </tr>\n",
       "    <tr>\n",
       "      <th>Gradient Boosting</th>\n",
       "      <td>46.015727</td>\n",
       "      <td>30.694663</td>\n",
       "    </tr>\n",
       "    <tr>\n",
       "      <th>Linear Regression</th>\n",
       "      <td>47.021684</td>\n",
       "      <td>29.760011</td>\n",
       "    </tr>\n",
       "    <tr>\n",
       "      <th>Lasso Baseline</th>\n",
       "      <td>46.433691</td>\n",
       "      <td>30.207670</td>\n",
       "    </tr>\n",
       "    <tr>\n",
       "      <th>Lasso Flexible</th>\n",
       "      <td>49.486267</td>\n",
       "      <td>30.457168</td>\n",
       "    </tr>\n",
       "  </tbody>\n",
       "</table>\n",
       "</div>"
      ],
      "text/plain": [
       "                        LATE       s.e.\n",
       "Random Forest      47.496187  29.875396\n",
       "Gradient Boosting  46.015727  30.694663\n",
       "Linear Regression  47.021684  29.760011\n",
       "Lasso Baseline     46.433691  30.207670\n",
       "Lasso Flexible     49.486267  30.457168"
      ]
     },
     "execution_count": 21,
     "metadata": {},
     "output_type": "execute_result"
    }
   ],
   "source": [
    "# Running Variable and Outcome\n",
    "investigated_outcome = \"conspcnonfood_t2\"\n",
    "df_ml = df.rename(columns={\"pov_index\": \"X\", investigated_outcome: \"Y\"})\n",
    "\n",
    "# Baseline covariates including consumption\n",
    "b_covs = df_ml.columns[[0, 1, 2, 3, 4, 5, 6, 7, 10, 11, 12, 13, 14, 15, 16, 18, 21]]\n",
    "\n",
    "# Fixed effects for localities\n",
    "i_fe = pd.get_dummies(df_ml['clus'], drop_first=True)\n",
    "\n",
    "# Flexible covariates including localities indicators\n",
    "f_covs = patsy.dmatrix('~ (' + ' + '.join(b_covs) + ')**2', data=df_ml, return_type='dataframe')\n",
    "\n",
    "# Dropping the intercept column that is automatically added by patsy\n",
    "f_covs = f_covs.iloc[:, 1:]\n",
    "\n",
    "Z_lasso = pd.concat([i_fe, f_covs], axis=1)\n",
    "\n",
    "h_fs = rdrobust(y=df_ml.Y, x=df_ml.X, masspoints=\"off\").bws.values[1, 0]\n",
    "\n",
    "\n",
    "def first_stage():\n",
    "    # Set up the cross-fitting\n",
    "    n = df_ml.shape[0]\n",
    "    Kf = 5  # Number of folds\n",
    "    sampleframe = np.repeat(range(0, Kf), math.ceil(n / Kf))\n",
    "    cfgroup = np.random.choice(sampleframe, size=n, replace=False)\n",
    "\n",
    "    # Matrix to store eta predictions\n",
    "    eta_fit = np.empty((n, 5))\n",
    "\n",
    "    # Create vector of observations to be considered in the first stage model\n",
    "    weights = np.abs(df_ml.X) < h_fs\n",
    "\n",
    "    for k in range(Kf):\n",
    "        fold = (cfgroup == k)\n",
    "\n",
    "        data_treated = df_ml.loc[(df_ml.X > 0) & ~fold & (weights > 0)]\n",
    "        data_control = df_ml.loc[(df_ml.X < 0) & ~fold & (weights > 0)]\n",
    "\n",
    "        data_fold = df_ml.loc[fold]\n",
    "\n",
    "        rf1 = RandomForestRegressor(max_features=4, n_estimators=1000)\n",
    "        rf1.fit(y=data_treated.Y, X=data_treated[b_covs])\n",
    "        rf0 = RandomForestRegressor(max_features=4, n_estimators=1000)\n",
    "        rf0.fit(y=data_control.Y, X=data_control[b_covs])\n",
    "        eta_fit[fold, 0] = (rf1.predict(data_fold[b_covs]) + rf0.predict(data_fold[b_covs])) / 2\n",
    "\n",
    "        lgbm1 = LGBMRegressor(verbosity=-1)\n",
    "        lgbm1.fit(y=data_treated.Y, X=data_treated[b_covs])\n",
    "        lgbm0 = LGBMRegressor(verbosity=-1)\n",
    "        lgbm0.fit(y=data_control.Y, X=data_control[b_covs])\n",
    "        eta_fit[fold, 1] = (lgbm1.predict(data_fold[b_covs]) + lgbm0.predict(data_fold[b_covs])) / 2\n",
    "\n",
    "        lm1 = LinearRegression()\n",
    "        lm1.fit(y=data_treated.Y, X=data_treated[b_covs])\n",
    "        lm0 = LinearRegression()\n",
    "        lm0.fit(y=data_control.Y, X=data_control[b_covs])\n",
    "        eta_fit[fold, 2] = (lm1.predict(data_fold[b_covs]) + lm0.predict(data_fold[b_covs])) / 2\n",
    "\n",
    "        las_base1 = LassoCV()\n",
    "        las_base1.fit(y=data_treated.Y, X=data_treated[b_covs])\n",
    "        las_base0 = LassoCV()\n",
    "        las_base0.fit(y=data_control.Y, X=data_control[b_covs])\n",
    "        eta_fit[fold, 3] = (las_base1.predict(data_fold[b_covs]) + las_base0.predict(data_fold[b_covs])) / 2\n",
    "\n",
    "        X_flex_treated = pd.concat([Z_lasso.loc[data_treated.index], data_treated[b_covs]], axis=1)\n",
    "        X_flex_control = pd.concat([Z_lasso.loc[data_control.index], data_control[b_covs]], axis=1)\n",
    "        X_flex_fold = pd.concat([Z_lasso.loc[data_fold.index], data_fold[b_covs]], axis=1)\n",
    "        X_flex_treated.columns = X_flex_treated.columns.astype(str)\n",
    "        X_flex_control.columns = X_flex_control.columns.astype(str)\n",
    "        X_flex_fold.columns = X_flex_fold.columns.astype(str)\n",
    "        las_flex1 = LassoCV()\n",
    "        las_flex1.fit(y=data_treated.Y, X=X_flex_treated)\n",
    "        las_flex0 = LassoCV()\n",
    "        las_flex0.fit(y=data_control.Y, X=X_flex_control)\n",
    "        eta_fit[fold, 4] = (las_flex1.predict(X_flex_fold) + las_flex0.predict(X_flex_fold)) / 2\n",
    "\n",
    "    return eta_fit\n",
    "\n",
    "\n",
    "eta_fit = first_stage()\n",
    "\n",
    "methods = [\"Random Forest\", \"Gradient Boosting\", \"Linear Regression\",\n",
    "           \"Lasso Baseline\", \"Lasso Flexible\"]\n",
    "\n",
    "\n",
    "def second_stage(eta_fit):\n",
    "    adj_results = []\n",
    "    for i in range(len(methods)):\n",
    "        M_Y = df_ml.Y - eta_fit[:, i]\n",
    "        rd_call = rdrobust(y=M_Y, x=df_ml.X, masspoints=\"off\")\n",
    "        adj_results.append([rd_call.coef.iloc[0].values[0],\n",
    "                            rd_call.se.iloc[2].values[0]])\n",
    "    return adj_results\n",
    "\n",
    "\n",
    "adj_frame = pd.DataFrame(second_stage(eta_fit), columns=[\"LATE\", \"s.e.\"],\n",
    "                         index=methods)\n",
    "adj_frame"
   ]
  }
 ],
 "metadata": {
  "colab": {
   "provenance": []
  },
  "kernelspec": {
   "display_name": "Python 3 (ipykernel)",
   "language": "python",
   "name": "python3"
  },
  "language_info": {
   "codemirror_mode": {
    "name": "ipython",
    "version": 3
   },
   "file_extension": ".py",
   "mimetype": "text/x-python",
   "name": "python",
   "nbconvert_exporter": "python",
   "pygments_lexer": "ipython3",
   "version": "3.11.5"
  }
 },
 "nbformat": 4,
 "nbformat_minor": 1
}
