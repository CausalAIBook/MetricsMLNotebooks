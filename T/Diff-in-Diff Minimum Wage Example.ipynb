{
  "nbformat": 4,
  "nbformat_minor": 0,
  "metadata": {
    "colab": {
      "provenance": []
    },
    "kernelspec": {
      "name": "python3",
      "display_name": "Python 3"
    },
    "language_info": {
      "name": "python"
    }
  },
  "cells": [
    {
      "cell_type": "markdown",
      "source": [
        "# Minimum Wage Example Notebook\n",
        "This notebook implements Difference-in-Differences in an application on the effect of minimum wage changes on teen employment. We use data from [Callaway (2022)](https://bcallaway11.github.io/files/Callaway-Chapter-2022/main.pdf), for further details on the analysis, please read his paper. The observations are US counties, with the outcome being county-level teen employment. Data was collected in a time period from 2001-2007 where the federal minimum wage was constant.\n",
        "\n",
        "Counties that have minimum wages above the federal minimum wage are classified as being treated. 27 Additional county characteristics come from IPUMS National Historical GIS (county population) and QCEW County Employment and Wages (county average annual pay) and will be used as covariates. The dataset ultimately includes a balanced panel of counties from 42 states from 2001-2007. See [Callaway and Sant'Anna (2021)](https://www.sciencedirect.com/science/article/abs/pii/S0304407620303948) for additional details on the data.\n",
        "\n",
        "First, we will load some libraries.\n"
      ],
      "metadata": {
        "id": "6Ee9pDrc98kr"
      }
    },
    {
      "cell_type": "code",
      "source": [
        "!pip install differences\n",
        "\n",
        "import pandas as pd\n",
        "import differences as did"
      ],
      "metadata": {
        "id": "n0B9i4ZN-EfE"
      },
      "execution_count": null,
      "outputs": []
    },
    {
      "cell_type": "markdown",
      "source": [
        "We load the data, in which preprocessing analogously to [Callaway (2022)](https://bcallaway11.github.io/files/Callaway-Chapter-2022/main.pdf) is already done."
      ],
      "metadata": {
        "id": "dJJNXQZ9DDLG"
      }
    },
    {
      "cell_type": "code",
      "source": [
        "data = pd.read_csv(\"callaway2022.csv\")"
      ],
      "metadata": {
        "colab": {
          "base_uri": "https://localhost:8080/",
          "height": 176
        },
        "id": "EL5ryqokDNQ3",
        "outputId": "5a814bf3-9199-4c5d-960c-a272b08c2649"
      },
      "execution_count": null,
      "outputs": [
        {
          "output_type": "error",
          "ename": "NameError",
          "evalue": "ignored",
          "traceback": [
            "\u001b[0;31m---------------------------------------------------------------------------\u001b[0m",
            "\u001b[0;31mNameError\u001b[0m                                 Traceback (most recent call last)",
            "\u001b[0;32m<ipython-input-1-f5bae0ba9fec>\u001b[0m in \u001b[0;36m<cell line: 1>\u001b[0;34m()\u001b[0m\n\u001b[0;32m----> 1\u001b[0;31m \u001b[0mdata\u001b[0m \u001b[0;34m=\u001b[0m \u001b[0mpd\u001b[0m\u001b[0;34m.\u001b[0m\u001b[0mread_csv\u001b[0m\u001b[0;34m(\u001b[0m\u001b[0;34m\"callaway2022.csv\"\u001b[0m\u001b[0;34m)\u001b[0m\u001b[0;34m\u001b[0m\u001b[0;34m\u001b[0m\u001b[0m\n\u001b[0m",
            "\u001b[0;31mNameError\u001b[0m: name 'pd' is not defined"
          ]
        }
      ]
    },
    {
      "cell_type": "markdown",
      "source": [
        "### Summary Statistics\n",
        "\n",
        "We are going to compare the groups of treated and untreated counties in some summary statistics. Treated refers to counties that had a minimum wage higher than the ferderal minimum wage in any period from 2002-2007. The comparison will be for 2001, as this is pre-treatment for all observations. It is evident, that counties in the treated group had already before treatment a significantly higher teen employment. Also, they tend to have higher population. The average pay shows no mayor deviation between treated and non-treated group. Counties that are not treated are more likely in region 3, which is the south. Meanwhile in region 1, referring to the northeast, there is not a single observation of a county without treatment.\n"
      ],
      "metadata": {
        "id": "pPHUSa2pE3w1"
      }
    },
    {
      "cell_type": "code",
      "source": [],
      "metadata": {
        "id": "36eb7kK8E9xE"
      },
      "execution_count": null,
      "outputs": []
    }
  ]
}